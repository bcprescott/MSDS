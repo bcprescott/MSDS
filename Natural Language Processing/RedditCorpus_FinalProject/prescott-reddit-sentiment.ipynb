{
 "cells": [
  {
   "cell_type": "code",
   "execution_count": 1336,
   "metadata": {
    "tags": []
   },
   "outputs": [
    {
     "name": "stderr",
     "output_type": "stream",
     "text": [
      "[nltk_data] Downloading package vader_lexicon to\n",
      "[nltk_data]     C:\\Users\\ben.prescott\\AppData\\Roaming\\nltk_data...\n",
      "[nltk_data]   Package vader_lexicon is already up-to-date!\n"
     ]
    },
    {
     "data": {
      "text/plain": [
       "True"
      ]
     },
     "execution_count": 1336,
     "metadata": {},
     "output_type": "execute_result"
    }
   ],
   "source": [
    "import gc\n",
    "import pandas as pd\n",
    "import numpy as np\n",
    "import matplotlib.pyplot as plt\n",
    "from tensorflow.keras import Model, optimizers, Sequential\n",
    "from tensorflow.keras.callbacks import EarlyStopping\n",
    "from tensorflow.keras.preprocessing.text import Tokenizer\n",
    "from tensorflow.keras.preprocessing.sequence import pad_sequences\n",
    "from tensorflow.keras.layers import (Input, Embedding, Bidirectional, LSTM, \n",
    "                                     Dense, RepeatVector, Flatten, BatchNormalization, \n",
    "                                     LeakyReLU, Dropout)\n",
    "from sklearn.metrics import confusion_matrix, roc_curve, auc\n",
    "from sklearn.model_selection import train_test_split\n",
    "from nltk.sentiment.vader import SentimentIntensityAnalyzer\n",
    "import nltk\n",
    "import seaborn as sns\n",
    "nltk.download('vader_lexicon')"
   ]
  },
  {
   "cell_type": "markdown",
   "metadata": {
    "id": "RNRA71IC22RB"
   },
   "source": [
    "## Importing Full Corpus"
   ]
  },
  {
   "cell_type": "code",
   "execution_count": 4,
   "metadata": {},
   "outputs": [],
   "source": [
    "# Load JSON lines file for the full corpus\n",
    "corpus = []\n",
    "with open('redditjson.jl', encoding='utf8') as f:\n",
    "    for line in f:\n",
    "        corpus.append(json.loads(line))"
   ]
  },
  {
   "cell_type": "code",
   "execution_count": 1255,
   "metadata": {},
   "outputs": [
    {
     "data": {
      "text/plain": [
       "array(['singapore', 'tifu', 'cringepics', 'motorcycles',\n",
       "       'TwoXChromosomes', 'hockey', 'sex', 'Christianity', 'conspiracy',\n",
       "       'canada', 'pokemontrades', 'Guildwars2', 'askscience', 'IAmA',\n",
       "       'australia', 'relationships', 'Bitcoin', 'business',\n",
       "       'electronic_cigarette', 'MMA', 'DebateReligion', 'skyrim',\n",
       "       'movies', 'WTF', 'Android', 'OkCupid', 'Frugal', 'anime',\n",
       "       'todayilearned', 'Fitness', 'SquaredCircle', 'photography',\n",
       "       'hiphopheads', 'POLITIC', 'apple', 'science', 'AskMen', 'pokemon',\n",
       "       'offbeat', 'Games', 'Minecraft', 'guns', 'AskWomen', 'politics',\n",
       "       'technology', 'wow', 'Music', 'tf2', 'cringe', 'techsupport',\n",
       "       'news', 'cars', 'MensRights', 'malefashionadvice', 'buildapc',\n",
       "       'worldnews', 'gifs', 'soccer', 'asoiaf', 'explainlikeimfive',\n",
       "       'dayz', 'books', 'relationship_advice', 'aww', 'gonewild',\n",
       "       'fantasyfootball', 'unitedkingdom', 'AmItheAsshole',\n",
       "       'MovieDetails', 'nfl', 'AdviceAnimals', 'programming', 'Drugs',\n",
       "       'ShingekiNoKyojin', 'DotA2', 'Diablo', 'Random_Acts_Of_Amazon',\n",
       "       'Naruto', 'Marvel', 'starcraft', 'gaming', 'rupaulsdragrace',\n",
       "       'NoFap', 'travel', 'LifeProTips', 'teenagers', 'pics',\n",
       "       'leagueoflegends', 'atheism', 'trees', 'CFB', 'magicTCG',\n",
       "       'Economics', 'MakeupAddiction', 'nba', 'videos', 'baseball',\n",
       "       'funny', 'AskReddit', 'Libertarian'], dtype=object)"
      ]
     },
     "execution_count": 1255,
     "metadata": {},
     "output_type": "execute_result"
    }
   ],
   "source": [
    "corpusDF.subreddit.unique()"
   ]
  },
  {
   "cell_type": "markdown",
   "metadata": {},
   "source": [
    "## Select Only Games Subreddit"
   ]
  },
  {
   "cell_type": "code",
   "execution_count": 1350,
   "metadata": {},
   "outputs": [],
   "source": [
    "corpusDF = pd.DataFrame(corpus) # Assign corpus to dataframe for ease of review \n",
    "\n",
    "reddits = ['Games'] # Subreddits I want to include in my analysis \n",
    "\n",
    "reducedDF = corpusDF[corpusDF['subreddit'].isin(reddits)] # Creating a new dataframe consisting of only Games subreddit"
   ]
  },
  {
   "cell_type": "code",
   "execution_count": 1351,
   "metadata": {},
   "outputs": [],
   "source": [
    "# Removing empty, deleted, removed, and automoderate utterances\n",
    "reducedDF = reducedDF[~(reducedDF['text'] == '') & \n",
    "                      ~(reducedDF['text'] == '[deleted]') & \n",
    "                      ~(reducedDF['text'] == '[removed]') &\n",
    "                      ~(reducedDF['speaker'] == 'AutoModerator')\n",
    "                     ]"
   ]
  },
  {
   "cell_type": "markdown",
   "metadata": {},
   "source": [
    "## VADER"
   ]
  },
  {
   "cell_type": "code",
   "execution_count": 1352,
   "metadata": {},
   "outputs": [],
   "source": [
    "# Loading the VADER model \n",
    "analyzer = SentimentIntensityAnalyzer()"
   ]
  },
  {
   "cell_type": "code",
   "execution_count": 1353,
   "metadata": {},
   "outputs": [],
   "source": [
    "# Creating a copy of the Games dataframe and assigning a new column all values of zero\n",
    "reducedScored = reducedDF.copy()\n",
    "reducedScored['sentiment'] = 0\n",
    "comments = reducedScored.text.tolist()"
   ]
  },
  {
   "cell_type": "code",
   "execution_count": 1354,
   "metadata": {},
   "outputs": [
    {
     "data": {
      "text/plain": [
       "3542"
      ]
     },
     "execution_count": 1354,
     "metadata": {},
     "output_type": "execute_result"
    }
   ],
   "source": [
    "len(comments)"
   ]
  },
  {
   "cell_type": "code",
   "execution_count": 1355,
   "metadata": {},
   "outputs": [],
   "source": [
    "# Performing sentiment analysis on each utterance and updating the 'sentiment' column score\n",
    "reducedScored = reducedDF.copy()\n",
    "reducedScored.reset_index(inplace=True)\n",
    "reducedScored['sentiment'] = 0\n",
    "comments = reducedScored.text.tolist()\n",
    "count = 0\n",
    "for comment in comments:\n",
    "    score = analyzer.polarity_scores(comment)\n",
    "    if score['compound'] > 0.05:\n",
    "        reducedScored.at[count, 'sentiment'] = 1\n",
    "    else:\n",
    "        reducedScored.at[count, 'sentiment'] = 0\n",
    "    count += 1"
   ]
  },
  {
   "cell_type": "code",
   "execution_count": 1357,
   "metadata": {},
   "outputs": [
    {
     "data": {
      "image/png": "[encoded data removed]",
      "text/plain": [
       "<Figure size 432x288 with 1 Axes>"
      ]
     },
     "metadata": {},
     "output_type": "display_data"
    }
   ],
   "source": [
    "# Visualizing the sentiment score counts\n",
    "plt.hist(reducedScored.sentiment)\n",
    "plt.title('Games Subreddit Sentiment Score Counts')\n",
    "plt.show()"
   ]
  },
  {
   "cell_type": "markdown",
   "metadata": {},
   "source": [
    "## Tokenization and Padding"
   ]
  },
  {
   "cell_type": "code",
   "execution_count": 1316,
   "metadata": {},
   "outputs": [],
   "source": [
    "# Converting the utterances and their VADER sentiment labels to lists\n",
    "sentences = reducedScored.text.tolist()\n",
    "labels = np.array(reducedScored.sentiment.tolist())"
   ]
  },
  {
   "cell_type": "code",
   "execution_count": 1317,
   "metadata": {},
   "outputs": [
    {
     "data": {
      "text/plain": [
       "count    3542.000000\n",
       "mean       50.200169\n",
       "std       128.529918\n",
       "min         1.000000\n",
       "25%        16.000000\n",
       "50%        29.000000\n",
       "75%        55.000000\n",
       "max      5203.000000\n",
       "Name: text, dtype: float64"
      ]
     },
     "execution_count": 1317,
     "metadata": {},
     "output_type": "execute_result"
    }
   ],
   "source": [
    "# Reviewing the max sequence lengths to use for variables later\n",
    "# Some look to be outliers - possibly long URLs. Majority seem to be under 55 words long.\n",
    "seq_lengths = reducedScored.text.apply(lambda x: len(x.split(' ')))\n",
    "seq_lengths.describe()"
   ]
  },
  {
   "cell_type": "code",
   "execution_count": 1318,
   "metadata": {},
   "outputs": [],
   "source": [
    "# Selecting some values for tokenization and word embeddings.\n",
    "num_words = 300\n",
    "max_len = 200\n",
    "embed_dim = 10"
   ]
  },
  {
   "cell_type": "code",
   "execution_count": 1319,
   "metadata": {},
   "outputs": [],
   "source": [
    "# Tokenizing and zero-padding the sequences\n",
    "tokenizer = Tokenizer(num_words = num_words,\n",
    "                      split=' ')\n",
    "tokenizer.fit_on_texts(sentences)\n",
    "seqs = tokenizer.texts_to_sequences(sentences)\n",
    "pad_seqs = pad_sequences(seqs, max_len)"
   ]
  },
  {
   "cell_type": "code",
   "execution_count": 1320,
   "metadata": {},
   "outputs": [
    {
     "data": {
      "text/plain": [
       "200"
      ]
     },
     "execution_count": 1320,
     "metadata": {},
     "output_type": "execute_result"
    }
   ],
   "source": [
    "len(pad_seqs[1])"
   ]
  },
  {
   "cell_type": "markdown",
   "metadata": {},
   "source": [
    "## Word Embeddings Using AutoEncoder"
   ]
  },
  {
   "cell_type": "code",
   "execution_count": 1321,
   "metadata": {},
   "outputs": [],
   "source": [
    "# Tripartite splitting of the datasets\n",
    "X, y = pad_seqs, labels\n",
    "\n",
    "X_train, X_test, y_train, y_test = train_test_split(X, y, test_size=0.10, random_state=1)\n",
    "X_train, X_val, y_train, y_val = train_test_split(X_train, y_train, test_size=0.25, random_state=1)"
   ]
  },
  {
   "cell_type": "code",
   "execution_count": 1322,
   "metadata": {},
   "outputs": [
    {
     "name": "stdout",
     "output_type": "stream",
     "text": [
      "X_train: (2390, 200) \n",
      " X_test: (355, 200) \n",
      " X_val: (797, 200)\n"
     ]
    }
   ],
   "source": [
    "print('X_train:',X_train.shape,'\\n','X_test:',X_test.shape,'\\n','X_val:',X_val.shape)"
   ]
  },
  {
   "cell_type": "code",
   "execution_count": 1323,
   "metadata": {
    "tags": []
   },
   "outputs": [
    {
     "name": "stdout",
     "output_type": "stream",
     "text": [
      "Model: \"model_47\"\n",
      "_________________________________________________________________\n",
      "Layer (type)                 Output Shape              Param #   \n",
      "=================================================================\n",
      "input_29 (InputLayer)        [(None, 200)]             0         \n",
      "_________________________________________________________________\n",
      "dense_564 (Dense)            (None, 400)               80400     \n",
      "_________________________________________________________________\n",
      "batch_normalization_93 (Batc (None, 400)               1600      \n",
      "_________________________________________________________________\n",
      "leaky_re_lu_114 (LeakyReLU)  (None, 400)               0         \n",
      "_________________________________________________________________\n",
      "dense_565 (Dense)            (None, 200)               80200     \n",
      "_________________________________________________________________\n",
      "batch_normalization_94 (Batc (None, 200)               800       \n",
      "_________________________________________________________________\n",
      "leaky_re_lu_115 (LeakyReLU)  (None, 200)               0         \n",
      "_________________________________________________________________\n",
      "dense_566 (Dense)            (None, 200)               40200     \n",
      "_________________________________________________________________\n",
      "dense_567 (Dense)            (None, 200)               40200     \n",
      "_________________________________________________________________\n",
      "batch_normalization_95 (Batc (None, 200)               800       \n",
      "_________________________________________________________________\n",
      "leaky_re_lu_116 (LeakyReLU)  (None, 200)               0         \n",
      "_________________________________________________________________\n",
      "dense_568 (Dense)            (None, 400)               80400     \n",
      "_________________________________________________________________\n",
      "batch_normalization_96 (Batc (None, 400)               1600      \n",
      "_________________________________________________________________\n",
      "leaky_re_lu_117 (LeakyReLU)  (None, 400)               0         \n",
      "_________________________________________________________________\n",
      "dense_569 (Dense)            (None, 200)               80200     \n",
      "=================================================================\n",
      "Total params: 406,400\n",
      "Trainable params: 404,000\n",
      "Non-trainable params: 2,400\n",
      "_________________________________________________________________\n",
      "Epoch 1/100\n",
      "75/75 [==============================] - 2s 8ms/step - loss: 1294.4224 - val_loss: 1100.6772\n",
      "Epoch 2/100\n",
      "75/75 [==============================] - 0s 6ms/step - loss: 1035.9602 - val_loss: 926.6536\n",
      "Epoch 3/100\n",
      "75/75 [==============================] - 1s 7ms/step - loss: 951.2483 - val_loss: 868.7836\n",
      "Epoch 4/100\n",
      "75/75 [==============================] - 0s 6ms/step - loss: 838.7691 - val_loss: 804.7761\n",
      "Epoch 5/100\n",
      "75/75 [==============================] - 0s 6ms/step - loss: 792.4944 - val_loss: 749.7614\n",
      "Epoch 6/100\n",
      "75/75 [==============================] - 0s 6ms/step - loss: 747.7604 - val_loss: 700.8227\n",
      "Epoch 7/100\n",
      "75/75 [==============================] - 0s 6ms/step - loss: 661.4807 - val_loss: 663.1226\n",
      "Epoch 8/100\n",
      "75/75 [==============================] - 0s 7ms/step - loss: 663.1271 - val_loss: 606.9332\n",
      "Epoch 9/100\n",
      "75/75 [==============================] - 1s 7ms/step - loss: 603.3059 - val_loss: 568.9296\n",
      "Epoch 10/100\n",
      "75/75 [==============================] - 0s 6ms/step - loss: 538.8212 - val_loss: 533.3268\n",
      "Epoch 11/100\n",
      "75/75 [==============================] - 0s 6ms/step - loss: 519.6249 - val_loss: 503.1592\n",
      "Epoch 12/100\n",
      "75/75 [==============================] - 0s 6ms/step - loss: 457.9767 - val_loss: 477.5060\n",
      "Epoch 13/100\n",
      "75/75 [==============================] - 0s 6ms/step - loss: 451.2704 - val_loss: 451.7427\n",
      "Epoch 14/100\n",
      "75/75 [==============================] - 0s 6ms/step - loss: 434.7517 - val_loss: 421.1268\n",
      "Epoch 15/100\n",
      "75/75 [==============================] - 0s 6ms/step - loss: 413.4992 - val_loss: 401.2543\n",
      "Epoch 16/100\n",
      "75/75 [==============================] - 1s 7ms/step - loss: 382.1207 - val_loss: 387.2730\n",
      "Epoch 17/100\n",
      "75/75 [==============================] - 0s 6ms/step - loss: 374.2231 - val_loss: 374.1621\n",
      "Epoch 18/100\n",
      "75/75 [==============================] - 0s 6ms/step - loss: 342.5318 - val_loss: 366.4953\n",
      "Epoch 19/100\n",
      "75/75 [==============================] - 0s 6ms/step - loss: 350.8727 - val_loss: 351.3207\n",
      "Epoch 20/100\n",
      "75/75 [==============================] - 0s 6ms/step - loss: 349.1638 - val_loss: 351.4081\n",
      "Epoch 21/100\n",
      "75/75 [==============================] - 1s 7ms/step - loss: 346.2325 - val_loss: 337.5947\n",
      "Epoch 22/100\n",
      "75/75 [==============================] - 1s 7ms/step - loss: 301.2316 - val_loss: 332.6908\n",
      "Epoch 23/100\n",
      "75/75 [==============================] - 0s 6ms/step - loss: 306.0987 - val_loss: 321.3126\n",
      "Epoch 24/100\n",
      "75/75 [==============================] - 0s 6ms/step - loss: 302.7002 - val_loss: 318.5075\n",
      "Epoch 25/100\n",
      "75/75 [==============================] - 0s 7ms/step - loss: 289.7082 - val_loss: 309.7708\n",
      "Epoch 26/100\n",
      "75/75 [==============================] - 0s 7ms/step - loss: 298.8308 - val_loss: 312.4869\n",
      "Epoch 27/100\n",
      "75/75 [==============================] - 0s 7ms/step - loss: 267.2656 - val_loss: 306.2052\n",
      "Epoch 28/100\n",
      "75/75 [==============================] - 0s 7ms/step - loss: 264.3420 - val_loss: 299.5679\n",
      "Epoch 29/100\n",
      "75/75 [==============================] - 1s 7ms/step - loss: 261.7489 - val_loss: 295.8536\n",
      "Epoch 30/100\n",
      "75/75 [==============================] - 1s 7ms/step - loss: 258.9780 - val_loss: 291.6603\n",
      "Epoch 31/100\n",
      "75/75 [==============================] - 1s 7ms/step - loss: 233.5054 - val_loss: 293.7874\n",
      "Epoch 32/100\n",
      "75/75 [==============================] - 0s 7ms/step - loss: 252.1711 - val_loss: 290.7465\n",
      "Epoch 33/100\n",
      "75/75 [==============================] - 1s 7ms/step - loss: 248.1560 - val_loss: 288.5827\n",
      "Epoch 34/100\n",
      "75/75 [==============================] - 1s 7ms/step - loss: 252.3236 - val_loss: 285.0919\n",
      "Epoch 35/100\n",
      "75/75 [==============================] - 0s 7ms/step - loss: 237.7858 - val_loss: 283.1170\n",
      "Epoch 36/100\n",
      "75/75 [==============================] - 1s 7ms/step - loss: 256.1667 - val_loss: 279.2074\n",
      "Epoch 37/100\n",
      "75/75 [==============================] - 0s 6ms/step - loss: 221.2220 - val_loss: 275.9750\n",
      "Epoch 38/100\n",
      "75/75 [==============================] - 1s 7ms/step - loss: 241.3310 - val_loss: 274.8022\n",
      "Epoch 39/100\n",
      "75/75 [==============================] - 1s 7ms/step - loss: 220.3791 - val_loss: 278.4431\n",
      "Epoch 40/100\n",
      "75/75 [==============================] - 1s 7ms/step - loss: 231.9716 - val_loss: 271.4637\n",
      "Epoch 41/100\n",
      "75/75 [==============================] - 0s 7ms/step - loss: 216.0918 - val_loss: 270.3765\n",
      "Epoch 42/100\n",
      "75/75 [==============================] - 1s 7ms/step - loss: 228.6897 - val_loss: 269.4066\n",
      "Epoch 43/100\n",
      "75/75 [==============================] - 1s 7ms/step - loss: 229.3343 - val_loss: 270.7491\n",
      "Epoch 44/100\n",
      "75/75 [==============================] - 0s 6ms/step - loss: 229.2695 - val_loss: 268.6453\n",
      "Epoch 45/100\n",
      "75/75 [==============================] - 0s 7ms/step - loss: 229.1844 - val_loss: 266.7638\n",
      "Epoch 46/100\n",
      "75/75 [==============================] - 0s 7ms/step - loss: 226.6756 - val_loss: 265.0619\n",
      "Epoch 47/100\n",
      "75/75 [==============================] - 0s 7ms/step - loss: 224.8547 - val_loss: 265.6024\n",
      "Epoch 48/100\n",
      "75/75 [==============================] - 1s 7ms/step - loss: 216.1346 - val_loss: 264.6800\n",
      "Epoch 49/100\n",
      "75/75 [==============================] - 1s 7ms/step - loss: 201.6066 - val_loss: 263.7982\n",
      "Epoch 50/100\n",
      "75/75 [==============================] - ETA: 0s - loss: 210.805 - 1s 7ms/step - loss: 210.8446 - val_loss: 261.7806\n",
      "Epoch 51/100\n",
      "75/75 [==============================] - 1s 7ms/step - loss: 196.9283 - val_loss: 260.5047\n",
      "Epoch 52/100\n",
      "75/75 [==============================] - 0s 6ms/step - loss: 212.4988 - val_loss: 258.0635\n",
      "Epoch 53/100\n",
      "75/75 [==============================] - 0s 6ms/step - loss: 196.6521 - val_loss: 259.1991\n",
      "Epoch 54/100\n",
      "75/75 [==============================] - 1s 7ms/step - loss: 195.9304 - val_loss: 256.1610\n",
      "Epoch 55/100\n",
      "75/75 [==============================] - 0s 7ms/step - loss: 196.5669 - val_loss: 257.0411\n",
      "Epoch 56/100\n",
      "75/75 [==============================] - 1s 8ms/step - loss: 201.9419 - val_loss: 255.4944\n",
      "Epoch 57/100\n",
      "75/75 [==============================] - 0s 6ms/step - loss: 231.2992 - val_loss: 253.1422\n",
      "Epoch 58/100\n",
      "75/75 [==============================] - 0s 7ms/step - loss: 190.3491 - val_loss: 251.3075\n",
      "Epoch 59/100\n",
      "75/75 [==============================] - 1s 7ms/step - loss: 182.1631 - val_loss: 252.4967\n",
      "Epoch 60/100\n",
      "75/75 [==============================] - 1s 7ms/step - loss: 201.8449 - val_loss: 254.8852\n",
      "Epoch 61/100\n",
      "75/75 [==============================] - 1s 7ms/step - loss: 179.7725 - val_loss: 247.3277\n",
      "Epoch 62/100\n",
      "75/75 [==============================] - 1s 7ms/step - loss: 192.0672 - val_loss: 248.2090\n",
      "Epoch 63/100\n",
      "75/75 [==============================] - 0s 6ms/step - loss: 194.0441 - val_loss: 249.8560\n",
      "Epoch 64/100\n",
      "75/75 [==============================] - 1s 7ms/step - loss: 187.5333 - val_loss: 249.3679\n"
     ]
    }
   ],
   "source": [
    "# define encoder/decoder\n",
    "visible = Input(shape=(max_len,))\n",
    "# encoder layer 1\n",
    "encoder = Dense(max_len*2)(visible)\n",
    "encoder = BatchNormalization()(encoder)\n",
    "encoder = LeakyReLU()(encoder)\n",
    "# encoder layer 2\n",
    "encoder = Dense(max_len)(encoder)\n",
    "encoder = BatchNormalization()(encoder)\n",
    "encoder = LeakyReLU()(encoder)\n",
    "# reduction\n",
    "n_bottleneck = max_len\n",
    "bottleneck = Dense(n_bottleneck)(encoder)\n",
    "\n",
    "# decoder layer 1\n",
    "decoder = Dense(max_len)(bottleneck)\n",
    "decoder = BatchNormalization()(decoder)\n",
    "decoder = LeakyReLU()(decoder)\n",
    "# decoder layer 2\n",
    "decoder = Dense(max_len*2)(decoder)\n",
    "decoder = BatchNormalization()(decoder)\n",
    "decoder = LeakyReLU()(decoder)\n",
    "# output layer\n",
    "output = Dense(max_len, activation='linear')(decoder)\n",
    "\n",
    "gc.collect()\n",
    "\n",
    "escallback = EarlyStopping(monitor='val_loss', patience=3)\n",
    "\n",
    "model = Model(inputs=visible, outputs=output)\n",
    "model.summary()\n",
    "model.compile(optimizer='adam', loss='mse')\n",
    "model.fit(X_train, \n",
    "          X_train, \n",
    "          epochs=100, \n",
    "          validation_data=(X_val,X_val), \n",
    "          callbacks=[escallback])\n",
    "\n",
    "encoder = Model(inputs=visible, outputs=bottleneck)\n",
    "encoder.save('encoder.h5')"
   ]
  },
  {
   "cell_type": "code",
   "execution_count": 1324,
   "metadata": {},
   "outputs": [],
   "source": [
    "# Predicting the word embeddings for the X value train/test/validation data\n",
    "X_train_encode = encoder.predict(X_train)\n",
    "X_test_encode = encoder.predict(X_test)\n",
    "X_val_encode = encoder.predict(X_val)"
   ]
  },
  {
   "cell_type": "markdown",
   "metadata": {},
   "source": [
    "## Classification Network"
   ]
  },
  {
   "cell_type": "code",
   "execution_count": 1346,
   "metadata": {},
   "outputs": [
    {
     "name": "stdout",
     "output_type": "stream",
     "text": [
      "Epoch 1/50\n",
      "75/75 [==============================] - 1s 4ms/step - loss: 0.7406 - accuracy: 0.5183 - val_loss: 0.6920 - val_accuracy: 0.5471\n",
      "Epoch 2/50\n",
      "75/75 [==============================] - 0s 2ms/step - loss: 0.6621 - accuracy: 0.5811 - val_loss: 0.7089 - val_accuracy: 0.5684\n",
      "Epoch 3/50\n",
      "75/75 [==============================] - 0s 3ms/step - loss: 0.6250 - accuracy: 0.6424 - val_loss: 0.7306 - val_accuracy: 0.5521\n",
      "Epoch 4/50\n",
      "75/75 [==============================] - 0s 3ms/step - loss: 0.6011 - accuracy: 0.6726 - val_loss: 0.7424 - val_accuracy: 0.5646\n",
      "Epoch 5/50\n",
      "75/75 [==============================] - 0s 3ms/step - loss: 0.5609 - accuracy: 0.6947 - val_loss: 0.7634 - val_accuracy: 0.5634\n",
      "Epoch 6/50\n",
      "75/75 [==============================] - 0s 3ms/step - loss: 0.5384 - accuracy: 0.7181 - val_loss: 0.7946 - val_accuracy: 0.5445\n"
     ]
    },
    {
     "data": {
      "text/plain": [
       "<tensorflow.python.keras.callbacks.History at 0x1d1f456ae08>"
      ]
     },
     "execution_count": 1346,
     "metadata": {},
     "output_type": "execute_result"
    }
   ],
   "source": [
    "# Model used to predict the sentiment scores using the learned word embeddings\n",
    "model = Sequential()\n",
    "model.add(Dense(128, input_dim=max_len, activation='relu'))\n",
    "model.add(Dense(12, activation='relu'))\n",
    "\n",
    "model.add(Dense(1, activation='sigmoid'))\n",
    "\n",
    "model.compile(loss='binary_crossentropy', optimizer='adam', metrics=['accuracy'])\n",
    "escallback = EarlyStopping(monitor='val_loss', patience=5)\n",
    "\n",
    "gc.collect()\n",
    "model.fit(X_train_encode, \n",
    "          y_train,\n",
    "          validation_data = (X_val_encode,y_val),\n",
    "          callbacks=[escallback],\n",
    "          epochs=50)"
   ]
  },
  {
   "cell_type": "markdown",
   "metadata": {},
   "source": [
    "## Sentiment Predictions & Performance"
   ]
  },
  {
   "cell_type": "code",
   "execution_count": 1347,
   "metadata": {},
   "outputs": [
    {
     "data": {
      "text/html": [
       "<div>\n",
       "<style scoped>\n",
       "    .dataframe tbody tr th:only-of-type {\n",
       "        vertical-align: middle;\n",
       "    }\n",
       "\n",
       "    .dataframe tbody tr th {\n",
       "        vertical-align: top;\n",
       "    }\n",
       "\n",
       "    .dataframe thead th {\n",
       "        text-align: right;\n",
       "    }\n",
       "</style>\n",
       "<table border=\"1\" class=\"dataframe\">\n",
       "  <thead>\n",
       "    <tr style=\"text-align: right;\">\n",
       "      <th></th>\n",
       "      <th>actual</th>\n",
       "      <th>predicted</th>\n",
       "    </tr>\n",
       "  </thead>\n",
       "  <tbody>\n",
       "    <tr>\n",
       "      <th>0</th>\n",
       "      <td>1</td>\n",
       "      <td>1</td>\n",
       "    </tr>\n",
       "    <tr>\n",
       "      <th>1</th>\n",
       "      <td>1</td>\n",
       "      <td>1</td>\n",
       "    </tr>\n",
       "    <tr>\n",
       "      <th>2</th>\n",
       "      <td>0</td>\n",
       "      <td>1</td>\n",
       "    </tr>\n",
       "    <tr>\n",
       "      <th>3</th>\n",
       "      <td>0</td>\n",
       "      <td>0</td>\n",
       "    </tr>\n",
       "    <tr>\n",
       "      <th>4</th>\n",
       "      <td>1</td>\n",
       "      <td>1</td>\n",
       "    </tr>\n",
       "    <tr>\n",
       "      <th>...</th>\n",
       "      <td>...</td>\n",
       "      <td>...</td>\n",
       "    </tr>\n",
       "    <tr>\n",
       "      <th>350</th>\n",
       "      <td>0</td>\n",
       "      <td>1</td>\n",
       "    </tr>\n",
       "    <tr>\n",
       "      <th>351</th>\n",
       "      <td>1</td>\n",
       "      <td>1</td>\n",
       "    </tr>\n",
       "    <tr>\n",
       "      <th>352</th>\n",
       "      <td>0</td>\n",
       "      <td>0</td>\n",
       "    </tr>\n",
       "    <tr>\n",
       "      <th>353</th>\n",
       "      <td>1</td>\n",
       "      <td>1</td>\n",
       "    </tr>\n",
       "    <tr>\n",
       "      <th>354</th>\n",
       "      <td>0</td>\n",
       "      <td>1</td>\n",
       "    </tr>\n",
       "  </tbody>\n",
       "</table>\n",
       "<p>355 rows × 2 columns</p>\n",
       "</div>"
      ],
      "text/plain": [
       "     actual  predicted\n",
       "0         1          1\n",
       "1         1          1\n",
       "2         0          1\n",
       "3         0          0\n",
       "4         1          1\n",
       "..      ...        ...\n",
       "350       0          1\n",
       "351       1          1\n",
       "352       0          0\n",
       "353       1          1\n",
       "354       0          1\n",
       "\n",
       "[355 rows x 2 columns]"
      ]
     },
     "execution_count": 1347,
     "metadata": {},
     "output_type": "execute_result"
    }
   ],
   "source": [
    "# Predicting sentiment scores for the X_Test word embeddings\n",
    "pred = (model.predict(X_test_encode) > 0.5).astype(\"int32\")\n",
    "predDF = pd.DataFrame({'actual':y_test.tolist(),'predicted':[item for sublist in pred for item in sublist]})\n",
    "predDF"
   ]
  },
  {
   "cell_type": "markdown",
   "metadata": {},
   "source": [
    "### ROC Curve"
   ]
  },
  {
   "cell_type": "code",
   "execution_count": 1348,
   "metadata": {},
   "outputs": [
    {
     "data": {
      "image/png": "[encoded data removed]",
      "text/plain": [
       "<Figure size 432x288 with 1 Axes>"
      ]
     },
     "metadata": {},
     "output_type": "display_data"
    }
   ],
   "source": [
    "# Reviewing ROC AUC score\n",
    "\n",
    "fpr, tpr, threshold = roc_curve(y_test, pred)\n",
    "roc_auc = auc(fpr,tpr)\n",
    "\n",
    "plt.title('Receiver Operating Characteristic')\n",
    "plt.plot(fpr, tpr, label = 'AUC = %0.2f' % roc_auc)\n",
    "plt.legend(loc = 'lower right')\n",
    "plt.plot([0, 1], [0, 1],'r--')\n",
    "plt.xlim([0, 1])\n",
    "plt.ylim([0, 1])\n",
    "plt.ylabel('True Positive Rate')\n",
    "plt.xlabel('False Positive Rate')\n",
    "plt.show()"
   ]
  },
  {
   "cell_type": "markdown",
   "metadata": {},
   "source": [
    "### Confusion Matrix"
   ]
  },
  {
   "cell_type": "code",
   "execution_count": 1349,
   "metadata": {},
   "outputs": [
    {
     "data": {
      "image/png": "[encoded data removed]",
      "text/plain": [
       "<Figure size 720x576 with 2 Axes>"
      ]
     },
     "metadata": {},
     "output_type": "display_data"
    }
   ],
   "source": [
    "# Reviewing the confusion matrix of correctly and incorrectly classified data\n",
    "\n",
    "cm = confusion_matrix(predDF.actual,predDF.predicted)\n",
    "plt.figure(figsize=(10,8))\n",
    "sns.set(font_scale=1.4)\n",
    "sns.heatmap(cm, annot=True,cmap='Blues',fmt='d')\n",
    "plt.title('Test Data Sentiment Confusion Matrix', fontsize=20)\n",
    "plt.show()"
   ]
  }
 ],
 "metadata": {
  "accelerator": "GPU",
  "colab": {
   "collapsed_sections": [],
   "name": "Reddit_3.ipynb",
   "provenance": [],
   "toc_visible": true
  },
  "kernelspec": {
   "display_name": "Python 3",
   "language": "python",
   "name": "python3"
  },
  "language_info": {
   "codemirror_mode": {
    "name": "ipython",
    "version": 3
   },
   "file_extension": ".py",
   "mimetype": "text/x-python",
   "name": "python",
   "nbconvert_exporter": "python",
   "pygments_lexer": "ipython3",
   "version": "3.7.9"
  }
 },
 "nbformat": 4,
 "nbformat_minor": 4
}
