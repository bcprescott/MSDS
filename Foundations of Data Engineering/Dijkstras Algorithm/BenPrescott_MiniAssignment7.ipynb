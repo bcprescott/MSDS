{
 "cells": [
  {
   "cell_type": "markdown",
   "id": "639aa7f6-eb53-4605-8c30-15a427ca21e3",
   "metadata": {},
   "source": [
    "# Mini Programming Assignment: Implement Dijkstra's Algorithm\n",
    "\n",
    "**Name:** Ben Prescott\n",
    "\n",
    "**Date:** 08/06/2021\n",
    "\n",
    "**Course:** MSDS432 Summer 2021"
   ]
  },
  {
   "cell_type": "markdown",
   "id": "5cad4a55-4a91-4ee8-b9af-e6c2d08e5b1c",
   "metadata": {},
   "source": [
    "#### Executive Summary\n",
    "\n",
    "**Description:**\n",
    "\n",
    "This assignment includes the creation of a graph with possible routes between 18 major cities, then using breadth first search and Dijkstra's algorithm to determine the shortest paths between two cities. The graph is a weighted graph, with drive time (in hours) describes on the edges of each city to the next. \n",
    "\n",
    "Once the graph is created, both algorithms are used to find the shortest path from New York City to Los Angeles. The execution time of each algorithm is logged, as well as the number of cities (nodes) each algorithm determines passing through, as well as the total drive time it will take to get from NYC to LA using the graph's edge weights.\n",
    "\n",
    "The graph used for this assignment is seen below:\n",
    "\n",
    "<div>\n",
    "<img src=\"https://canvas.northwestern.edu/courses/142827/files/11650582/download?wrap=1\" width=\"1000\"/>\n",
    "</div>\n",
    "\n",
    "**Algorithm Explanations**\n",
    "\n",
    "Breadth first search (BFS) and Dijkstra's algorithm both approach this problem differently. BFS does not use edge weights to determine the shortest route, but rather looks for the path with the lead amount of nodes to traverse to reach the end point. In this context, the shortest path would include visiting the least amount of cities, not necessarily looking for the shortest drive time. The time complexity of BFS is $O(V+E)$.\n",
    "\n",
    "On the other hand, Dijkstra's algorithm does use edge weights to determine the recommended path. In this case, Dijkstra's algorithm would be searching for the path that includes the shortest overall drive time, using the edge weights to determine the output. Dijkstra's algorithm works on finding the 'lowest cost' to neighboring nodes at each step in a graph. Once it has moved to the next node, it again checks for the shortest path available to the new node's neighbors, updating the neighbor's costs if it finds a shorter path. This process is repeated until the destination is reached. The worst case time complexity of Dijkstra's algorithm in this example is $O((V+E)logV)$, which indicates this algorithm is likely to be slower than BFS.\n",
    "\n",
    "**Approach**\n",
    "\n",
    "To start this assignment I created a graph using a Python dictionary type. The graph was modeled against the image above, creating the nodes (cities) and their connections to other nodes, and the travel times to each. This creates keys in the dictionary that represent the nodes, and values for each key that describes the connected cities and the travel time (in hours) to get to them. \n",
    "\n",
    "Two additional dictionaries were required for the costs and the parents of the starting point node's connections, named 'costs' and 'parents'. These two dictionaries are used by Dijkstra's algorithm to update neighboring node's costs as it progresses through the graph, and the new node's parent node (where we traveled from). With NYC being the starting point, the three neighboring nodes (DC, Indianapolis, Pittsburg) have identified weights that were provided in the costs table, and DC, Indianapolis, and Pittsburg all had their parent set as NYC. Every other weight was set as infinity and parent set as 'None', allowing the algorithm to update costs and parent nodes as it progresses. \n",
    "\n",
    "**Results**\n",
    "\n",
    "The results showed what was to be expected of algorithm execution times - dijkstra's algorithm is noticably slower than breadth first search. However, as mentioned earlier, BFS is looking for the shortest path as it relates to nodes/edges to traverse. This resulted in BFS taking a different path from NYC to LA, going through Indianapolis and with a total of 6 stops. Considering BFS does not use weighted edges to determine the path, I calculated what the travel time would be using this path, resulting in a total drive time of 46 hours. \n",
    "\n",
    "Dijkstra's algorithm found a different path from NYC to LA, traveling through the DC node and using a total of 9 stops. While this is 3 additional cities to hit in order to travel to Las Angeles, the total drive time is only 18 hours. This is significantly shorter in travel time, showing the value of a weighted graph and using an algorithm meant for weighted graphs. "
   ]
  },
  {
   "cell_type": "code",
   "execution_count": 22,
   "id": "a521bfc7-33f4-44c0-b036-e381a920b231",
   "metadata": {},
   "outputs": [],
   "source": [
    "import numpy as np\n",
    "import pandas as pd\n",
    "import matplotlib.pyplot as plt\n",
    "import seaborn as sns\n",
    "from timeit import default_timer as timer\n",
    "from IPython.core.interactiveshell import InteractiveShell\n",
    "InteractiveShell.ast_node_interactivity = \"all\"\n",
    "np.set_printoptions(suppress=True)"
   ]
  },
  {
   "cell_type": "markdown",
   "id": "f3929e36-858f-4da6-a6d8-2879c88a2384",
   "metadata": {},
   "source": [
    "## Creating Connections Graph"
   ]
  },
  {
   "cell_type": "code",
   "execution_count": 12,
   "id": "5b0ffbaf-3f60-4954-a996-d1822591b0e6",
   "metadata": {
    "tags": []
   },
   "outputs": [],
   "source": [
    "graph = {}\n",
    "\n",
    "# Defining Nodes\n",
    "graph['NYC'] = {}\n",
    "graph['DC'] = {}\n",
    "graph['Pittsburg'] = {}\n",
    "graph['Indianapolis'] = {}\n",
    "graph['Atlanta'] = {}\n",
    "graph['Kansas City'] = {}\n",
    "graph['Cincinnati'] = {}\n",
    "graph['New Orleans'] = {}\n",
    "graph['Denver'] = {}\n",
    "graph['St Louis'] = {}\n",
    "graph['Oklahoma City'] = {}\n",
    "graph['Dallas'] = {}\n",
    "graph['Albuquerque'] = {}\n",
    "graph['Salt Lake City'] = {}\n",
    "graph['Phoenix'] = {}\n",
    "graph['Las Vegas'] = {}\n",
    "graph['San Diego'] = {}\n",
    "graph['Los Angeles'] = {}\n",
    "\n",
    "# Defining Connections And Weights\n",
    "\n",
    "# Top Path\n",
    "graph['NYC']['DC'] = 2\n",
    "graph['DC']['Atlanta'] = 2\n",
    "graph['Atlanta']['New Orleans'] = 2\n",
    "graph['New Orleans']['Dallas'] = 2\n",
    "graph['Dallas']['Albuquerque'] = 2\n",
    "graph['Albuquerque']['Phoenix'] = 2\n",
    "graph['Phoenix']['Las Vegas'] = 2\n",
    "graph['Phoenix']['San Diego'] = 5\n",
    "graph['Las Vegas']['San Diego'] = 2\n",
    "graph['Las Vegas']['Los Angeles'] = 5\n",
    "graph['San Diego']['Los Angeles'] = 2\n",
    "\n",
    "# Middle Path\n",
    "graph['NYC']['Indianapolis'] = 11\n",
    "graph['Indianapolis']['Kansas City'] = 8\n",
    "graph['Kansas City']['Denver'] = 7\n",
    "graph['Denver']['Salt Lake City'] = 6\n",
    "graph['Salt Lake City']['Las Vegas'] = 9\n",
    "graph['NYC']['Indianapolis'] = 11\n",
    "\n",
    "# Bottom Path\n",
    "graph['NYC']['Pittsburg'] = 7\n",
    "graph['Pittsburg']['Cincinnati'] = 6\n",
    "graph['Cincinnati']['St Louis'] = 8\n",
    "graph['St Louis']['Oklahoma City'] = 7\n",
    "graph['Oklahoma City']['Albuquerque'] = 9\n",
    "\n",
    "# Creating Costs Table\n",
    "\n",
    "infinity = float('inf')\n",
    "costs = {}\n",
    "costs['DC'] = 2\n",
    "costs['Indianapolis'] = 11\n",
    "costs['Pittsburg'] = 7\n",
    "costs['Atlanta'] = infinity\n",
    "costs['Kansas City'] = infinity\n",
    "costs['Cincinnati'] = infinity\n",
    "costs['New Orleans'] = infinity\n",
    "costs['Denver'] = infinity\n",
    "costs['St Louis'] = infinity\n",
    "costs['Oklahoma City'] = infinity\n",
    "costs['Dallas'] = infinity\n",
    "costs['Albuquerque'] = infinity\n",
    "costs['Salt Lake City'] = infinity\n",
    "costs['Phoenix'] = infinity\n",
    "costs['Las Vegas'] = infinity\n",
    "costs['San Diego'] = infinity\n",
    "costs['Los Angeles'] = infinity\n",
    "\n",
    "# Creating Parents Table\n",
    "\n",
    "parents = {}\n",
    "parents['DC'] = 'NYC'\n",
    "parents['Indianapolis'] = 'NYC'\n",
    "parents['Pittsburg'] = 'NYC'\n",
    "parents['Atlanta'] = None\n",
    "parents['Kansas City'] = None\n",
    "parents['Cincinnati'] = None\n",
    "parents['New Orleans'] = None\n",
    "parents['Denver'] = None\n",
    "parents['St Louis'] = None\n",
    "parents['Oklahoma City'] = None\n",
    "parents['Dallas'] = None\n",
    "parents['Albuquerque'] = None\n",
    "parents['Salt Lake City'] = None\n",
    "parents['Phoenix'] = None\n",
    "parents['Las Vegas'] = None\n",
    "parents['San Diego'] = None\n",
    "parents['Los Angeles'] = None\n",
    "\n",
    "# Array to keep track of processed nodes\n",
    "processed = []"
   ]
  },
  {
   "cell_type": "markdown",
   "id": "d7156746-ac78-4def-948f-de9347536697",
   "metadata": {},
   "source": [
    "## Breadth First Search Route "
   ]
  },
  {
   "cell_type": "code",
   "execution_count": 9,
   "id": "f40a5740-7242-492b-90e8-929ddd838ab9",
   "metadata": {},
   "outputs": [],
   "source": [
    "# Defining a BFS algorithm\n",
    "\n",
    "def bfs(graph, start, end):\n",
    "    # maintain a queue of paths\n",
    "    queue = []\n",
    "    # push the first path into the queue\n",
    "    queue.append([start])\n",
    "    while queue:\n",
    "        # get the first path from the queue\n",
    "        path = queue.pop(0)\n",
    "        # get the last node from the path\n",
    "        node = path[-1]\n",
    "        # path found\n",
    "        if node == end:\n",
    "            return path\n",
    "        # enumerate all adjacent nodes, construct a new path and push it into the queue\n",
    "        for adjacent in graph.get(node, []):\n",
    "            new_path = list(path)\n",
    "            new_path.append(adjacent)\n",
    "            queue.append(new_path)\n",
    "            \n",
    "# Using breadth first search to find the path from NYC to LA, recording the execution time\n",
    "start = timer()\n",
    "bfs_path = bfs(graph, 'NYC', 'Los Angeles')\n",
    "end = timer()\n",
    "\n",
    "bfstime = end-start"
   ]
  },
  {
   "cell_type": "code",
   "execution_count": 10,
   "id": "1105dfd1-073c-4ed6-bc30-c96f60573c3f",
   "metadata": {},
   "outputs": [
    {
     "name": "stdout",
     "output_type": "stream",
     "text": [
      "NYC --> Indianapolis --> Kansas City --> Denver --> Salt Lake City --> Las Vegas --> Los Angeles \n",
      "\n",
      "The time the drive will take is 46 hours\n"
     ]
    }
   ],
   "source": [
    "prevnum = 0\n",
    "nextnum = 1\n",
    "bfs_total = 0\n",
    "\n",
    "for n in range(len(bfs_path)-1):\n",
    "    num = graph[bfs_path[prevnum]][bfs_path[nextnum]]\n",
    "    prevnum += 1\n",
    "    nextnum += 1\n",
    "    bfs_total += num\n",
    "print(' --> '.join(bfs_path),'\\n')\n",
    "print(\"The time the drive will take is\",bfs_total,\"hours\")"
   ]
  },
  {
   "cell_type": "markdown",
   "id": "638226fa-b136-482c-b5a1-e3c001bbd898",
   "metadata": {},
   "source": [
    "## Dijkstra's Algorithm"
   ]
  },
  {
   "cell_type": "code",
   "execution_count": 13,
   "id": "be24361f-1f34-4234-9bda-c34bda6a2bd1",
   "metadata": {},
   "outputs": [
    {
     "name": "stdout",
     "output_type": "stream",
     "text": [
      "Cost from the start to each node:\n",
      "{'DC': 2, 'Indianapolis': 11, 'Pittsburg': 7, 'Atlanta': 4, 'Kansas City': 19, 'Cincinnati': 13, 'New Orleans': 6, 'Denver': 26, 'St Louis': 21, 'Oklahoma City': 28, 'Dallas': 8, 'Albuquerque': 10, 'Salt Lake City': 32, 'Phoenix': 12, 'Las Vegas': 14, 'San Diego': 16, 'Los Angeles': 18}\n"
     ]
    }
   ],
   "source": [
    "# Defining dijkstra's algorithm\n",
    "def find_lowest_cost_node(costs):\n",
    "    lowest_cost = float(\"inf\")\n",
    "    lowest_cost_node = None\n",
    "    # Go through each node.\n",
    "    for node in costs:\n",
    "        cost = costs[node]\n",
    "        # If it's the lowest cost so far and hasn't been processed yet...\n",
    "        if cost < lowest_cost and node not in processed:\n",
    "            # ... set it as the new lowest-cost node.\n",
    "            lowest_cost = cost\n",
    "            lowest_cost_node = node\n",
    "    return lowest_cost_node\n",
    "\n",
    "# Find the lowest-cost node that you haven't processed yet.\n",
    "node = find_lowest_cost_node(costs)\n",
    "# If you've processed all the nodes, this while loop is done.\n",
    "\n",
    "start = timer()\n",
    "\n",
    "while node is not None:\n",
    "    cost = costs[node]\n",
    "    # Go through all the neighbors of this node.\n",
    "    neighbors = graph[node]\n",
    "    for n in neighbors.keys():\n",
    "        new_cost = cost + neighbors[n]\n",
    "        # If it's cheaper to get to this neighbor by going through this node...\n",
    "        if costs[n] > new_cost:\n",
    "            # ... update the cost for this node.\n",
    "            costs[n] = new_cost\n",
    "            # This node becomes the new parent for this neighbor.\n",
    "            parents[n] = node\n",
    "    # Mark the node as processed.\n",
    "    processed.append(node)\n",
    "    # Find the next node to process, and loop.\n",
    "    node = find_lowest_cost_node(costs)\n",
    "    \n",
    "end = timer()\n",
    "\n",
    "dijkstratime = end-start\n",
    "\n",
    "print(\"Cost from the start to each node:\")\n",
    "print(costs)"
   ]
  },
  {
   "cell_type": "code",
   "execution_count": 14,
   "id": "4f03d0ed-e408-4934-88af-c5c85cfd7cf6",
   "metadata": {},
   "outputs": [],
   "source": [
    "# Find the path from NYC to LA\n",
    "current_node , start_node = 'Los Angeles', 'NYC'\n",
    "\n",
    "dijkstra_path = [current_node]\n",
    "\n",
    "while current_node != start_node:\n",
    "    last_loc = parents[current_node]\n",
    "    current_node = last_loc\n",
    "    dijkstra_path.append(last_loc)"
   ]
  },
  {
   "cell_type": "code",
   "execution_count": 15,
   "id": "743524bc-b5b6-4b89-aa34-bba8ffa8ba25",
   "metadata": {},
   "outputs": [
    {
     "name": "stdout",
     "output_type": "stream",
     "text": [
      "NYC --> DC --> Atlanta --> New Orleans --> Dallas --> Albuquerque --> Phoenix --> Las Vegas --> San Diego --> Los Angeles \n",
      "\n",
      "The time the drive will take is 18 hours\n"
     ]
    }
   ],
   "source": [
    "# Find the total drive time hours for the path\n",
    "\n",
    "prevnum = 0\n",
    "nextnum = 1\n",
    "dijkstra_total = 0\n",
    "\n",
    "for n in range(len(dijkstra_path[::-1])-1):\n",
    "    num = graph[dijkstra_path[::-1][prevnum]][dijkstra_path[::-1][nextnum]]\n",
    "    prevnum += 1\n",
    "    nextnum += 1\n",
    "    dijkstra_total += num\n",
    "print(' --> '.join(dijkstra_path[::-1]),'\\n')\n",
    "print(\"The time the drive will take is\",dijkstra_total,\"hours\")"
   ]
  },
  {
   "cell_type": "markdown",
   "id": "7b166ae1-69d6-4da8-a8a6-85f1883edcfc",
   "metadata": {},
   "source": [
    "## Comparison Table & Graphs"
   ]
  },
  {
   "cell_type": "code",
   "execution_count": 20,
   "id": "df40d84c-3eb2-4528-814a-d6f2b2156e1e",
   "metadata": {},
   "outputs": [
    {
     "data": {
      "text/html": [
       "<div>\n",
       "<style scoped>\n",
       "    .dataframe tbody tr th:only-of-type {\n",
       "        vertical-align: middle;\n",
       "    }\n",
       "\n",
       "    .dataframe tbody tr th {\n",
       "        vertical-align: top;\n",
       "    }\n",
       "\n",
       "    .dataframe thead th {\n",
       "        text-align: right;\n",
       "    }\n",
       "</style>\n",
       "<table border=\"1\" class=\"dataframe\">\n",
       "  <thead>\n",
       "    <tr style=\"text-align: right;\">\n",
       "      <th></th>\n",
       "      <th>Algorithm</th>\n",
       "      <th>Trip Time (hours)</th>\n",
       "      <th>Execution Times</th>\n",
       "      <th>Path</th>\n",
       "      <th>Number of Stops</th>\n",
       "    </tr>\n",
       "  </thead>\n",
       "  <tbody>\n",
       "    <tr>\n",
       "      <th>0</th>\n",
       "      <td>Dijkstras Algorithm</td>\n",
       "      <td>18</td>\n",
       "      <td>0.0002532</td>\n",
       "      <td>NYC --&gt; DC --&gt; Atlanta --&gt; New Orleans --&gt; Dal...</td>\n",
       "      <td>9</td>\n",
       "    </tr>\n",
       "    <tr>\n",
       "      <th>1</th>\n",
       "      <td>Breadth First Search</td>\n",
       "      <td>46</td>\n",
       "      <td>0.0000721</td>\n",
       "      <td>NYC --&gt; Indianapolis --&gt; Kansas City --&gt; Denve...</td>\n",
       "      <td>6</td>\n",
       "    </tr>\n",
       "  </tbody>\n",
       "</table>\n",
       "</div>"
      ],
      "text/plain": [
       "              Algorithm  Trip Time (hours)  Execution Times  \\\n",
       "0   Dijkstras Algorithm                 18        0.0002532   \n",
       "1  Breadth First Search                 46        0.0000721   \n",
       "\n",
       "                                                Path  Number of Stops  \n",
       "0  NYC --> DC --> Atlanta --> New Orleans --> Dal...                9  \n",
       "1  NYC --> Indianapolis --> Kansas City --> Denve...                6  "
      ]
     },
     "execution_count": 20,
     "metadata": {},
     "output_type": "execute_result"
    }
   ],
   "source": [
    "# Creating a Pandas DataFrame for table reference\n",
    "pd.set_option(\"display.precision\", 10)\n",
    "results = pd.DataFrame()\n",
    "results['Algorithm'] = ['Dijkstras Algorithm','Breadth First Search']\n",
    "results['Trip Time (hours)'] = [dijkstra_total,bfs_total]\n",
    "results['Execution Times'] = [dijkstratime,bfstime] \n",
    "results['Path'] = [' --> '.join(dijkstra_path[::-1]), ' --> '.join(bfs_path)]\n",
    "results['Number of Stops'] = [len(dijkstra_path)-1, len(bfs_path)-1]\n",
    "results"
   ]
  },
  {
   "cell_type": "markdown",
   "id": "2985adec-4db4-431c-9b8c-1669a4252e0b",
   "metadata": {},
   "source": [
    "## Visualize Results"
   ]
  },
  {
   "cell_type": "code",
   "execution_count": 21,
   "id": "a789725d-9adc-4b82-a061-b6a48b32d8b0",
   "metadata": {},
   "outputs": [
    {
     "data": {
      "text/plain": [
       "<Figure size 864x576 with 0 Axes>"
      ]
     },
     "metadata": {},
     "output_type": "display_data"
    },
    {
     "data": {
      "image/png": "[encoded data removed]",
      "text/plain": [
       "<Figure size 1152x576 with 3 Axes>"
      ]
     },
     "metadata": {},
     "output_type": "display_data"
    }
   ],
   "source": [
    "plt.figure(figsize=(12,8))\n",
    "\n",
    "fig, axes = plt.subplots(1, 3, sharex=True, figsize=(16,8))\n",
    "sns.set_style('darkgrid')\n",
    "fig.suptitle('Algorithm Performance - Dijkstra vs Breadth First')\n",
    "\n",
    "# Execution Times\n",
    "sns.barplot(ax=axes[0], x=results['Algorithm'], y=results['Execution Times'])\n",
    "axes[0].set_title('Execution Times')\n",
    "\n",
    "# Trip Time\n",
    "sns.barplot(ax=axes[1], x=results['Algorithm'], y=results['Trip Time (hours)'])\n",
    "axes[1].set_title('Trip Time (hours)')\n",
    "\n",
    "# Number Stops\n",
    "sns.barplot(ax=axes[2], x=results['Algorithm'], y=results['Number of Stops'])\n",
    "axes[2].set_title('Number of Stops')\n",
    "\n",
    "plt.plot();"
   ]
  }
 ],
 "metadata": {
  "kernelspec": {
   "display_name": "Python 3",
   "language": "python",
   "name": "python3"
  },
  "language_info": {
   "codemirror_mode": {
    "name": "ipython",
    "version": 3
   },
   "file_extension": ".py",
   "mimetype": "text/x-python",
   "name": "python",
   "nbconvert_exporter": "python",
   "pygments_lexer": "ipython3",
   "version": "3.8.8"
  }
 },
 "nbformat": 4,
 "nbformat_minor": 5
}
