{
 "cells": [
  {
   "cell_type": "markdown",
   "id": "639aa7f6-eb53-4605-8c30-15a427ca21e3",
   "metadata": {},
   "source": [
    "# Mini Programming Assignment: Implement a Quicksort Algorithm\n",
    "\n",
    "**Name:** Ben Prescott\n",
    "\n",
    "**Date:** 07/17/2021\n",
    "\n",
    "**Course:** MSDS432 Summer 2021"
   ]
  },
  {
   "cell_type": "markdown",
   "id": "5cad4a55-4a91-4ee8-b9af-e6c2d08e5b1c",
   "metadata": {},
   "source": [
    "#### Executive Summary\n",
    "\n",
    "**Description:**\n",
    "\n",
    "This notebook provides a comparison of execution speeds of three different sorting algorithms: quicksort, bubble sort, and insertion sort. Five different lists are created to contain a number of unique strings containing 50 characters each. The unique string counts for each list were 200, 400, 600, 800, and 1000, respectively. The reults of the execution times were then visualized with a bar and line chart. \n",
    "\n",
    "**Algorithm Explanation**\n",
    "\n",
    "The algorithms used in this assignment were quicksort, bubble sort, and insertion sort. The three algorithms use \"divide and conquer\" methods, meaning that each break down the list or array into smaller and smaller problems until they can be solved without further breaking down. These results are then merged into the original problem to provide the desired output. \n",
    "\n",
    "Quicksort works by using a pivot value, which provides a partition point for values larger and smaller than the pivot. The larger/smaller values are then split out and a new pivot in each group is determined, further splitting the initial split pairs. This continues until no additional splits are needed, resulting in the necessary order of values to be merged back into the original problem. The worst case time complexity of quicksort is O($n^{2}$)\n",
    "\n",
    "Insertion sort involves comparing the second value with the first, and if the second value is larger it shifts the first value up to make room for swapping the second value into the first value position. This process continues linearly through the values, comparing the next value with the previous values and moving larger values up to make room for inserting the smaller value, until the entire group is sorted. The time complexity of insertion sort is O($n^{2}$). \n",
    "\n",
    "Bubble sort works by (potentially) doing multiple sweeps over the elements, only reviewing two elements at a time and swapping them if they are in the incorrect order. This means that it wont look at previous elements to move a newly inspected element before, requiring it to review the elements multiple times. Bubble sort's worst case is O($n^{2}$), resulting from an array that would be reverse sorted, causing many sweeps over the elements to move them to the correct order. \n",
    "\n",
    "**Approach**\n",
    "\n",
    "Five lists of randomly generated strings were created, with each string being 50 characters in length. The arrays were named strings_200, strings_400, strings_600, strings_800, and strings_1000 to describe the count of 50-character long strings - 200, 400, 600, 800, and 1000 strings respectively. These lists were then passed through a basic for loop to verify no strings were duplicates. \n",
    "\n",
    "Each list of strings was then sorted using the three different sorting algorithms, recording the time taken to sort for later review. The quicksort algorithm used in this assignment does not modify the list passed to the algorithm, but returns a sorted version of it. However, both bubble sort and insertion sort do modify the passed list, which required copies of the original lists to be created to ensure the algorithms weren't given an already sorted list. \n",
    "\n",
    "The logged execution times were then plotted on a bar chart and line chart, to help visualize each algorithm's execution time by list size. \n",
    "\n",
    "**Results**\n",
    "\n",
    "All three algorithms have a worst case time complexity of O($n^{2}$); however, quicksort shows negligible increases in execution time in comparison to bubble sort and insertion sort. However, quicksort's average case is O($n log(n)$), which helps to explain why the algorithm is noticably faster than the other two. Both bubble sort and insertion sort are still O($n^{2}$) on an average case.\n",
    "\n",
    "The results for our specific lists show that insertion sort is about twice as fast as bubble sort across all list lengths. Quicksort is shown to be about seven times faster than bubble sort on the list of 200 strings, and nearly 53 times faster on the list of 1,000 strings. This indicates that quicksort is still significantly faster than the other two algorithms compared in this assignment. "
   ]
  },
  {
   "cell_type": "code",
   "execution_count": 1,
   "id": "a521bfc7-33f4-44c0-b036-e381a920b231",
   "metadata": {},
   "outputs": [],
   "source": [
    "import numpy as np\n",
    "import pandas as pd\n",
    "import string\n",
    "import random\n",
    "import gc\n",
    "import matplotlib.pyplot as plt\n",
    "from timeit import default_timer as timer\n",
    "from IPython.core.interactiveshell import InteractiveShell\n",
    "InteractiveShell.ast_node_interactivity = \"all\""
   ]
  },
  {
   "cell_type": "markdown",
   "id": "f3929e36-858f-4da6-a6d8-2879c88a2384",
   "metadata": {},
   "source": [
    "## Generating Lists of Strings & Checking Duplicates"
   ]
  },
  {
   "cell_type": "code",
   "execution_count": 3,
   "id": "5b0ffbaf-3f60-4954-a996-d1822591b0e6",
   "metadata": {
    "tags": []
   },
   "outputs": [],
   "source": [
    "# Creating five lists of randomly generated strings of length 50\n",
    "strings_200 = [''.join(random.choices(string.ascii_letters, k = 50)) for i in range(200)]\n",
    "strings_400 = [''.join(random.choices(string.ascii_letters, k = 50)) for i in range(400)]\n",
    "strings_600 = [''.join(random.choices(string.ascii_letters, k = 50)) for i in range(600)]\n",
    "strings_800 = [''.join(random.choices(string.ascii_letters, k = 50)) for i in range(800)]\n",
    "strings_1000 = [''.join(random.choices(string.ascii_letters, k = 50)) for i in range(1000)]"
   ]
  },
  {
   "cell_type": "code",
   "execution_count": 4,
   "id": "859789af-0813-4ada-b325-081145d1c8a9",
   "metadata": {},
   "outputs": [
    {
     "name": "stdout",
     "output_type": "stream",
     "text": [
      "no duplicates found\n",
      "no duplicates found\n",
      "no duplicates found\n",
      "no duplicates found\n",
      "no duplicates found\n"
     ]
    }
   ],
   "source": [
    "# Checking if duplicates exist in each list\n",
    "for l in [strings_200, strings_400, strings_600, strings_800, strings_1000]:\n",
    "    if len(l) == len(set(l)):\n",
    "        print('no duplicates found')\n",
    "    else:\n",
    "        print('duplicates found!')"
   ]
  },
  {
   "cell_type": "markdown",
   "id": "37f06c91-7f21-44be-9261-3eb96aa688b4",
   "metadata": {},
   "source": [
    "## Quicksort Execution Times"
   ]
  },
  {
   "cell_type": "code",
   "execution_count": 5,
   "id": "fc9c0942-bd03-4c5a-b787-10010b3b6a12",
   "metadata": {},
   "outputs": [
    {
     "name": "stdout",
     "output_type": "stream",
     "text": [
      "[2, 3, 5, 10]\n"
     ]
    }
   ],
   "source": [
    "def quicksort(array):\n",
    "    if len(array) < 2:\n",
    "        # base case, arrays with 0 or 1 element are already \"sorted\"\n",
    "        return array\n",
    "    else:\n",
    "        # recursive case\n",
    "        pivot = array[0]\n",
    "        # sub-array of all the elements less than the pivot\n",
    "        less = [i for i in array[1:] if i <= pivot]\n",
    "        # sub-array of all the elements greater than the pivot\n",
    "        greater = [i for i in array[1:] if i > pivot]\n",
    "        return quicksort(less) + [pivot] + quicksort(greater)\n",
    "\n",
    "print(quicksort([10, 5, 2, 3]))"
   ]
  },
  {
   "cell_type": "code",
   "execution_count": 6,
   "id": "ac93150c-8246-411d-8b2f-ef673ee1f840",
   "metadata": {},
   "outputs": [
    {
     "data": {
      "text/plain": [
       "70"
      ]
     },
     "execution_count": 6,
     "metadata": {},
     "output_type": "execute_result"
    }
   ],
   "source": [
    "# Creating an empty list to store values for quicksort execution times\n",
    "quicksort_times = [] \n",
    "gc.collect() # Freeing variables from memory to provide clean slate for performance"
   ]
  },
  {
   "cell_type": "code",
   "execution_count": 7,
   "id": "bce7f133-204d-49d7-84f7-2b0d0d15fcfa",
   "metadata": {
    "tags": []
   },
   "outputs": [],
   "source": [
    "# Sorting the lists and recording their sort times\n",
    "\n",
    "start = timer()\n",
    "out = quicksort(strings_200)\n",
    "end = timer()\n",
    "quicksort_times.append(end-start)\n",
    "\n",
    "start = timer()\n",
    "out = quicksort(strings_400)\n",
    "end = timer()\n",
    "quicksort_times.append(end-start)\n",
    "\n",
    "start = timer()\n",
    "out = quicksort(strings_600)\n",
    "end = timer()\n",
    "quicksort_times.append(end-start)\n",
    "\n",
    "start = timer()\n",
    "out = quicksort(strings_800)\n",
    "end = timer()\n",
    "quicksort_times.append(end-start)\n",
    "\n",
    "start = timer()\n",
    "out = quicksort(strings_1000)\n",
    "end = timer()\n",
    "quicksort_times.append(end-start)"
   ]
  },
  {
   "cell_type": "code",
   "execution_count": 8,
   "id": "33e8375d-48e9-4ced-b73c-203ab22ec453",
   "metadata": {},
   "outputs": [
    {
     "data": {
      "text/plain": [
       "[0.0008407999999988647,\n",
       " 0.0017101999999979967,\n",
       " 0.002338999999999203,\n",
       " 0.0030978000000061456,\n",
       " 0.00389820000000185]"
      ]
     },
     "execution_count": 8,
     "metadata": {},
     "output_type": "execute_result"
    }
   ],
   "source": [
    "quicksort_times"
   ]
  },
  {
   "cell_type": "markdown",
   "id": "8a163f91-574a-41a1-a8bc-fdfeb4fd4487",
   "metadata": {},
   "source": [
    "## Bubble Sort Execution Times"
   ]
  },
  {
   "cell_type": "code",
   "execution_count": 9,
   "id": "d0f28464-d907-4c1a-b9e5-2d521ec07e7a",
   "metadata": {},
   "outputs": [],
   "source": [
    "def bubbleSort(arr):\n",
    "    n = len(arr)\n",
    " \n",
    "    # Traverse through all array elements\n",
    "    for i in range(n):\n",
    "        # Last i elements are already in place\n",
    "        for j in range(0, n-i-1):\n",
    "            # traverse the array from 0 to n-i-1\n",
    "            # Swap if the element found is greater\n",
    "            # than the next element\n",
    "            if arr[j] > arr[j+1] :\n",
    "                arr[j], arr[j+1] = arr[j+1], arr[j]"
   ]
  },
  {
   "cell_type": "code",
   "execution_count": 18,
   "id": "1846c355-d2f0-46dc-9d5b-0b3f806df57a",
   "metadata": {},
   "outputs": [
    {
     "data": {
      "text/plain": [
       "1450"
      ]
     },
     "execution_count": 18,
     "metadata": {},
     "output_type": "execute_result"
    }
   ],
   "source": [
    "# Creating an empty list to store values for bubble sort execution times\n",
    "bubblesort_times = []\n",
    "gc.collect()"
   ]
  },
  {
   "cell_type": "code",
   "execution_count": 19,
   "id": "2b7dc6e6-eed8-4a91-891a-2f4ff0aec8af",
   "metadata": {},
   "outputs": [],
   "source": [
    "# Making copies of the original lists as bubble sort will modify the input list\n",
    "strings_200_bubble = strings_200.copy()\n",
    "strings_400_bubble = strings_400.copy()\n",
    "strings_600_bubble = strings_600.copy()\n",
    "strings_800_bubble = strings_800.copy()\n",
    "strings_1000_bubble = strings_1000.copy()"
   ]
  },
  {
   "cell_type": "code",
   "execution_count": 20,
   "id": "07ee5eae-a164-489a-8a2a-fcea56eddb7b",
   "metadata": {
    "tags": []
   },
   "outputs": [],
   "source": [
    "# Sorting the lists and recording their sort times\n",
    "start = timer()\n",
    "out = bubbleSort(strings_200_bubble)\n",
    "end = timer()\n",
    "bubblesort_times.append(end-start)\n",
    "\n",
    "start = timer()\n",
    "out = bubbleSort(strings_400_bubble)\n",
    "end = timer()\n",
    "bubblesort_times.append(end-start)\n",
    "\n",
    "start = timer()\n",
    "out = bubbleSort(strings_600_bubble)\n",
    "end = timer()\n",
    "bubblesort_times.append(end-start)\n",
    "\n",
    "start = timer()\n",
    "out = bubbleSort(strings_800_bubble)\n",
    "end = timer()\n",
    "bubblesort_times.append(end-start)\n",
    "\n",
    "start = timer()\n",
    "out = bubbleSort(strings_1000_bubble)\n",
    "end = timer()\n",
    "bubblesort_times.append(end-start)"
   ]
  },
  {
   "cell_type": "code",
   "execution_count": 21,
   "id": "b9d8aab1-561a-409f-ab82-292766b0456d",
   "metadata": {},
   "outputs": [
    {
     "data": {
      "text/plain": [
       "[0.005875599999995984,\n",
       " 0.03105160000001206,\n",
       " 0.0729825999999889,\n",
       " 0.10860450000001265,\n",
       " 0.20509839999999713]"
      ]
     },
     "execution_count": 21,
     "metadata": {},
     "output_type": "execute_result"
    }
   ],
   "source": [
    "bubblesort_times"
   ]
  },
  {
   "cell_type": "markdown",
   "id": "4f6b9e02-4e2b-4ee7-ad8a-b74b5de57023",
   "metadata": {},
   "source": [
    "## Insertion Sort Execution Times"
   ]
  },
  {
   "cell_type": "code",
   "execution_count": 25,
   "id": "39dfa368-e535-42d8-a1a2-1390126d2f82",
   "metadata": {},
   "outputs": [],
   "source": [
    "def insertionSort(arr):\n",
    "    # Traverse through 1 to len(arr)\n",
    "    for i in range(1, len(arr)):\n",
    "\n",
    "        key = arr[i]\n",
    " \n",
    "        # Move elements of arr[0..i-1], that are\n",
    "        # greater than key, to one position ahead\n",
    "        # of their current position\n",
    "        j = i-1\n",
    "        while j >= 0 and key < arr[j] :\n",
    "                arr[j + 1] = arr[j]\n",
    "                j -= 1\n",
    "        arr[j + 1] = key"
   ]
  },
  {
   "cell_type": "code",
   "execution_count": 32,
   "id": "7355d750-ac17-4860-a43b-64688a00b8b5",
   "metadata": {},
   "outputs": [
    {
     "data": {
      "text/plain": [
       "4277"
      ]
     },
     "execution_count": 32,
     "metadata": {},
     "output_type": "execute_result"
    }
   ],
   "source": [
    "# Creating an empty list to store values for insertion sort execution times\n",
    "insertionsort_times = []\n",
    "gc.collect()"
   ]
  },
  {
   "cell_type": "code",
   "execution_count": 33,
   "id": "bc253a2b-d7c3-420a-9717-8b38b1274b32",
   "metadata": {},
   "outputs": [],
   "source": [
    "# Making copies of the original lists as insertion sort will modify the input list\n",
    "strings_200_insertion = strings_200.copy()\n",
    "strings_400_insertion = strings_400.copy()\n",
    "strings_600_insertion = strings_600.copy()\n",
    "strings_800_insertion = strings_800.copy()\n",
    "strings_1000_insertion = strings_1000.copy()"
   ]
  },
  {
   "cell_type": "code",
   "execution_count": 34,
   "id": "2a8efe20-b0b4-4cf4-af93-45dc3f1625bf",
   "metadata": {},
   "outputs": [],
   "source": [
    "# Sorting the lists and recording their sort times\n",
    "start = timer()\n",
    "out = insertionSort(strings_200_insertion)\n",
    "end = timer()\n",
    "insertionsort_times.append(end-start)\n",
    "\n",
    "start = timer()\n",
    "out = insertionSort(strings_400_insertion)\n",
    "end = timer()\n",
    "insertionsort_times.append(end-start)\n",
    "\n",
    "start = timer()\n",
    "out = insertionSort(strings_600_insertion)\n",
    "end = timer()\n",
    "insertionsort_times.append(end-start)\n",
    "\n",
    "start = timer()\n",
    "out = insertionSort(strings_800_insertion)\n",
    "end = timer()\n",
    "insertionsort_times.append(end-start)\n",
    "\n",
    "start = timer()\n",
    "out = insertionSort(strings_1000_insertion)\n",
    "end = timer()\n",
    "insertionsort_times.append(end-start)"
   ]
  },
  {
   "cell_type": "code",
   "execution_count": 35,
   "id": "68a9bf15-9cc2-4854-a2a4-29a1653ebc7b",
   "metadata": {},
   "outputs": [
    {
     "data": {
      "text/plain": [
       "[0.0027414999999564316,\n",
       " 0.011269599999991442,\n",
       " 0.03126129999998284,\n",
       " 0.05599610000001576,\n",
       " 0.09991009999998823]"
      ]
     },
     "execution_count": 35,
     "metadata": {},
     "output_type": "execute_result"
    }
   ],
   "source": [
    "insertionsort_times"
   ]
  },
  {
   "cell_type": "markdown",
   "id": "8c918783-9342-4672-a791-aad8c28f0059",
   "metadata": {},
   "source": [
    "## Comparison Table & Graphs"
   ]
  },
  {
   "cell_type": "code",
   "execution_count": 41,
   "id": "2b4d4572-13b1-401b-9c3c-68be7d8ea96b",
   "metadata": {},
   "outputs": [
    {
     "data": {
      "text/html": [
       "<div>\n",
       "<style scoped>\n",
       "    .dataframe tbody tr th:only-of-type {\n",
       "        vertical-align: middle;\n",
       "    }\n",
       "\n",
       "    .dataframe tbody tr th {\n",
       "        vertical-align: top;\n",
       "    }\n",
       "\n",
       "    .dataframe thead th {\n",
       "        text-align: right;\n",
       "    }\n",
       "</style>\n",
       "<table border=\"1\" class=\"dataframe\">\n",
       "  <thead>\n",
       "    <tr style=\"text-align: right;\">\n",
       "      <th></th>\n",
       "      <th>list_length</th>\n",
       "      <th>quicksort_times</th>\n",
       "      <th>insertionsort_times</th>\n",
       "      <th>bubblesort_times</th>\n",
       "    </tr>\n",
       "    <tr>\n",
       "      <th>list_name</th>\n",
       "      <th></th>\n",
       "      <th></th>\n",
       "      <th></th>\n",
       "      <th></th>\n",
       "    </tr>\n",
       "  </thead>\n",
       "  <tbody>\n",
       "    <tr>\n",
       "      <th>strings_200</th>\n",
       "      <td>200</td>\n",
       "      <td>0.0008408</td>\n",
       "      <td>0.0027415</td>\n",
       "      <td>0.0058756</td>\n",
       "    </tr>\n",
       "    <tr>\n",
       "      <th>strings_400</th>\n",
       "      <td>400</td>\n",
       "      <td>0.0017102</td>\n",
       "      <td>0.0112696</td>\n",
       "      <td>0.0310516</td>\n",
       "    </tr>\n",
       "    <tr>\n",
       "      <th>strings_600</th>\n",
       "      <td>600</td>\n",
       "      <td>0.0023390</td>\n",
       "      <td>0.0312613</td>\n",
       "      <td>0.0729826</td>\n",
       "    </tr>\n",
       "    <tr>\n",
       "      <th>strings_800</th>\n",
       "      <td>800</td>\n",
       "      <td>0.0030978</td>\n",
       "      <td>0.0559961</td>\n",
       "      <td>0.1086045</td>\n",
       "    </tr>\n",
       "    <tr>\n",
       "      <th>strings_1000</th>\n",
       "      <td>1000</td>\n",
       "      <td>0.0038982</td>\n",
       "      <td>0.0999101</td>\n",
       "      <td>0.2050984</td>\n",
       "    </tr>\n",
       "  </tbody>\n",
       "</table>\n",
       "</div>"
      ],
      "text/plain": [
       "              list_length  quicksort_times  insertionsort_times  \\\n",
       "list_name                                                         \n",
       "strings_200           200        0.0008408            0.0027415   \n",
       "strings_400           400        0.0017102            0.0112696   \n",
       "strings_600           600        0.0023390            0.0312613   \n",
       "strings_800           800        0.0030978            0.0559961   \n",
       "strings_1000         1000        0.0038982            0.0999101   \n",
       "\n",
       "              bubblesort_times  \n",
       "list_name                       \n",
       "strings_200          0.0058756  \n",
       "strings_400          0.0310516  \n",
       "strings_600          0.0729826  \n",
       "strings_800          0.1086045  \n",
       "strings_1000         0.2050984  "
      ]
     },
     "execution_count": 41,
     "metadata": {},
     "output_type": "execute_result"
    }
   ],
   "source": [
    "# Creating a Pandas DataFrame for table reference\n",
    "pd.set_option(\"display.precision\", 10)\n",
    "results = pd.DataFrame(index=['strings_200','strings_400','strings_600','strings_800','strings_1000'])\n",
    "results.index.rename('list_name', inplace=True)\n",
    "results['list_length'] = [len(i) for i in [strings_200,strings_400,strings_600,strings_800,strings_1000]]\n",
    "results['quicksort_times'] = quicksort_times\n",
    "results['insertionsort_times'] = insertionsort_times\n",
    "results['bubblesort_times'] = bubblesort_times\n",
    "results"
   ]
  },
  {
   "cell_type": "code",
   "execution_count": 43,
   "id": "cffd8150-0ae1-4f83-a81d-3e8167bfe7a2",
   "metadata": {},
   "outputs": [
    {
     "data": {
      "text/plain": [
       "[Text(0, 0, '200'),\n",
       " Text(1, 0, '400'),\n",
       " Text(2, 0, '600'),\n",
       " Text(3, 0, '800'),\n",
       " Text(4, 0, '1000')]"
      ]
     },
     "execution_count": 43,
     "metadata": {},
     "output_type": "execute_result"
    },
    {
     "data": {
      "text/plain": [
       "<Figure size 1152x576 with 0 Axes>"
      ]
     },
     "execution_count": 43,
     "metadata": {},
     "output_type": "execute_result"
    },
    {
     "data": {
      "text/plain": [
       "[<matplotlib.lines.Line2D at 0x2101117eaf0>]"
      ]
     },
     "execution_count": 43,
     "metadata": {},
     "output_type": "execute_result"
    },
    {
     "data": {
      "text/plain": [
       "<matplotlib.collections.PathCollection at 0x2101117ed30>"
      ]
     },
     "execution_count": 43,
     "metadata": {},
     "output_type": "execute_result"
    },
    {
     "data": {
      "text/plain": [
       "[<matplotlib.lines.Line2D at 0x2101118d340>]"
      ]
     },
     "execution_count": 43,
     "metadata": {},
     "output_type": "execute_result"
    },
    {
     "data": {
      "text/plain": [
       "<matplotlib.collections.PathCollection at 0x2101118d580>"
      ]
     },
     "execution_count": 43,
     "metadata": {},
     "output_type": "execute_result"
    },
    {
     "data": {
      "text/plain": [
       "[<matplotlib.lines.Line2D at 0x2101118db20>]"
      ]
     },
     "execution_count": 43,
     "metadata": {},
     "output_type": "execute_result"
    },
    {
     "data": {
      "text/plain": [
       "<matplotlib.collections.PathCollection at 0x2101118dd60>"
      ]
     },
     "execution_count": 43,
     "metadata": {},
     "output_type": "execute_result"
    },
    {
     "data": {
      "text/plain": [
       "Text(0.5, 0, 'List Length')"
      ]
     },
     "execution_count": 43,
     "metadata": {},
     "output_type": "execute_result"
    },
    {
     "data": {
      "text/plain": [
       "Text(0, 0.5, 'Execution Time')"
      ]
     },
     "execution_count": 43,
     "metadata": {},
     "output_type": "execute_result"
    },
    {
     "data": {
      "text/plain": [
       "([<matplotlib.axis.XTick at 0x2101115e4f0>,\n",
       "  <matplotlib.axis.XTick at 0x2101115e4c0>,\n",
       "  <matplotlib.axis.XTick at 0x210117a0fd0>,\n",
       "  <matplotlib.axis.XTick at 0x2101118dd90>,\n",
       "  <matplotlib.axis.XTick at 0x210113e6490>],\n",
       " [Text(0, 0, ''),\n",
       "  Text(0, 0, ''),\n",
       "  Text(0, 0, ''),\n",
       "  Text(0, 0, ''),\n",
       "  Text(0, 0, '')])"
      ]
     },
     "execution_count": 43,
     "metadata": {},
     "output_type": "execute_result"
    },
    {
     "data": {
      "text/plain": [
       "Text(0.5, 1.0, 'Sorting Algorithm Execution Times - Line Chart')"
      ]
     },
     "execution_count": 43,
     "metadata": {},
     "output_type": "execute_result"
    },
    {
     "data": {
      "text/plain": [
       "<matplotlib.legend.Legend at 0x210113e6a30>"
      ]
     },
     "execution_count": 43,
     "metadata": {},
     "output_type": "execute_result"
    },
    {
     "data": {
      "text/plain": [
       "[]"
      ]
     },
     "execution_count": 43,
     "metadata": {},
     "output_type": "execute_result"
    },
    {
     "data": {
      "image/png": "[encoded data removed]",
      "text/plain": [
       "<Figure size 1152x576 with 1 Axes>"
      ]
     },
     "metadata": {},
     "output_type": "display_data"
    },
    {
     "data": {
      "image/png": "[encoded data removed]",
      "text/plain": [
       "<Figure size 1152x576 with 1 Axes>"
      ]
     },
     "metadata": {},
     "output_type": "display_data"
    }
   ],
   "source": [
    "# Creating two plots for different views/perspectives: 1 - bar graph, 2 - line graph. \n",
    "plt.style.use('ggplot')\n",
    "plt.rcParams.update({'font.size': 14})\n",
    "\n",
    "results.iloc[:,1:].plot(kind='bar',\n",
    "                        xlabel='List Length',\n",
    "                        ylabel='Execution Time',\n",
    "                        figsize=(16,8),\n",
    "                        fontsize=14,\n",
    "                        title='Sorting Algorithm Execution Times - Bar Chart',\n",
    "                        rot=0).set_xticklabels(results.list_length)\n",
    "\n",
    "plt.figure(figsize=(16,8))\n",
    "plt.plot(results.list_length, results.quicksort_times, label='Quicksort Times')\n",
    "plt.scatter(results.list_length, results.quicksort_times)\n",
    "plt.plot(results.list_length, results.insertionsort_times, label='Insertion Sort Times')\n",
    "plt.scatter(results.list_length, results.insertionsort_times)\n",
    "plt.plot(results.list_length, results.bubblesort_times, label='Bubble Sort Times')\n",
    "plt.scatter(results.list_length, results.bubblesort_times)\n",
    "plt.xlabel('List Length')\n",
    "plt.ylabel('Execution Time')\n",
    "plt.xticks(results.list_length)\n",
    "plt.title('Sorting Algorithm Execution Times - Line Chart')\n",
    "plt.legend()\n",
    "plt.plot()"
   ]
  }
 ],
 "metadata": {
  "kernelspec": {
   "display_name": "Python 3",
   "language": "python",
   "name": "python3"
  },
  "language_info": {
   "codemirror_mode": {
    "name": "ipython",
    "version": 3
   },
   "file_extension": ".py",
   "mimetype": "text/x-python",
   "name": "python",
   "nbconvert_exporter": "python",
   "pygments_lexer": "ipython3",
   "version": "3.8.8"
  }
 },
 "nbformat": 4,
 "nbformat_minor": 5
}
