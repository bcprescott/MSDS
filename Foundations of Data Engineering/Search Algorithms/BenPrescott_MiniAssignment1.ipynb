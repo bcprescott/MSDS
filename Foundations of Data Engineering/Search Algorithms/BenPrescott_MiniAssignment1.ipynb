{
 "cells": [
  {
   "cell_type": "markdown",
   "id": "639aa7f6-eb53-4605-8c30-15a427ca21e3",
   "metadata": {},
   "source": [
    "# Mini Programming Assignment: Comparing Search Algorithm Performance\n",
    "\n",
    "**Name:** Ben Prescott\n",
    "\n",
    "**Date:** 6/25/2021\n",
    "\n",
    "**Course:** MSDS432 Summer 2021"
   ]
  },
  {
   "cell_type": "markdown",
   "id": "5cad4a55-4a91-4ee8-b9af-e6c2d08e5b1c",
   "metadata": {},
   "source": [
    "#### Executive Summary\n",
    "\n",
    "**Description:**\n",
    "\n",
    "This notebook provides a comparison of execution speeds between linear search and binary search algorithms. Both algorithms may be leveraged for finding and returning a result, such as a search engine (ex: Google) or finding a product in an app on your phone. The methods of how linear search and binary search identify and return a result differ.\n",
    "\n",
    "**Algorithm Explanations**\n",
    "\n",
    "Binary search is an algorithm that leverages a sorted list and starts guessing near the middle. For example, if a sorted list were items that a store sells, we would order the list (possibly by item ID) and use binary search to find an item we're looking for. Binary search would start in the middle and if the item ID were lower (or higher) than the middle number, it would only focus on the lower (or upper) half of the list. It would do the same thing again, starting at the new middle of the shortened list and guessing until it finds the item ID we're looking for.\n",
    "\n",
    "Linear search works in more of a sequential manner, where it may start somewhere within the list, then use a \"guess is too high\" or \"guess is too low\" approach to move one number higher or lower. Where binary search requires our list of store items to be sorted first, linear search does not. \n",
    "\n",
    "**Approach**\n",
    "\n",
    "I started by creating five buckets of numbers, each containing numbers from 0 to 10,000. The total count of numbers in each array was 512, 1024, 2048, 4096, and 8192 respectively. This would mean that not every number 0 to 10,000 were included, so I randomly generated numbers from 0 to 10,000 and ensured they were generated evenly (uniformly). Each bucket of numbers was then sent through the binary search algorithm and linear search algorithm to find where in the bucket the largest number existed. Due to both algorithms operating differently, the time it took for each of them to find the largest number varied. It also took time to sort the list to support binary search. These times were recorded and compared. \n",
    "\n",
    "Algorithm execution times were measured in fractions of a second and follow what is known as \"Big O\" notation. Big O notation describes the slowest possible execution time for an algorithm based on the number of operations. Linear search follows O(n), or linear time, where n is the number of operations it may take to find the answer. In the case of a bucket with 4096 items, it may take 4096 operations. Binary search follows O(log n) time, or logarithmic time. In the case of the bucket with 4096, the most operations binary search may take to find the answer is 12. \n",
    "\n",
    "**Results**\n",
    "\n",
    "The results of binary vs linear search show that binary search is significantly faster, once the list of numbers has been pre-sorted. For the first bucket of 512 numbers, binary search is approximately 5 times faster than linear search. The next following buckets are approximately 6 - 7 times faster in execution times. \n",
    "\n",
    "However, as binary search needs the list to be sorted first, we can add the time it takes to sort the list to the binary execution times. Sorting the list is actually a lengthy process, especially with the larger buckets of numbers, slowing down the overall sorting plus binary execution times. Considering the binary search algorithm follows O(log n) time, the performance degredation will be lessened in comparison to linear search with larger numbered lists. "
   ]
  },
  {
   "cell_type": "code",
   "execution_count": 632,
   "id": "16eddf35-30d3-4676-b62a-c9e5769043ba",
   "metadata": {},
   "outputs": [],
   "source": [
    "import numpy as np\n",
    "import pandas as pd\n",
    "import matplotlib.pyplot as plt\n",
    "from timeit import default_timer as timer\n",
    "from IPython.core.interactiveshell import InteractiveShell\n",
    "InteractiveShell.ast_node_interactivity = \"all\""
   ]
  },
  {
   "cell_type": "code",
   "execution_count": 622,
   "id": "80d3795b-7051-4de3-85de-680398bacbaf",
   "metadata": {},
   "outputs": [],
   "source": [
    "# Define the BinarySearch class\n",
    "# Used the base code and added functions for number generation and array sorting\n",
    "# Also added time tracking and additional output context to binary/linear search\n",
    "\n",
    "class BinarySearch():\n",
    "\n",
    "    def search_iterative(self, list, item):\n",
    "    # low and high keep track of which part of the list you'll search in.\n",
    "        np.random.seed(10)\n",
    "        start = timer()\n",
    "        low = 0\n",
    "        high = len(list) - 1\n",
    "\n",
    "        # While you haven't narrowed it down to one element ...\n",
    "        while low <= high:\n",
    "          # ... check the middle element\n",
    "          mid = (low + high) // 2\n",
    "          guess = list[mid]\n",
    "          # Found the item.\n",
    "          if guess == item:\n",
    "            end = timer()\n",
    "            itertime = \"{:.8f}\".format(float(end-start))\n",
    "            print('Number {} found at position {} in {:.20f} seconds'.format(item, mid,end-start))\n",
    "            return itertime\n",
    "          # The guess was too high.\n",
    "          if guess > item:\n",
    "            high = mid - 1\n",
    "          # The guess was too low.\n",
    "          else:\n",
    "            low = mid + 1\n",
    "\n",
    "    # Item doesn't exist\n",
    "        end = timer()\n",
    "        itertime = \"{:.8f}\".format(float(end-start))\n",
    "        print('Number not found and it took {0:.20f} seconds'.format(end-start))\n",
    "        return None, itertime\n",
    "\n",
    "    def search_recursive(self, list, low, high, item):\n",
    "        # Check base case\n",
    "        np.random.seed(10)\n",
    "        start = timer()\n",
    "\n",
    "        if high >= low: \n",
    "\n",
    "            mid = (high + low) // 2\n",
    "            guess = list[mid]\n",
    "\n",
    "            # If element is present at the middle itself \n",
    "            if guess == item:\n",
    "                end = timer()\n",
    "                bintime = \"{:.8f}\".format(float(end-start))\n",
    "                print('Number {} found at position {} in {:.20f} seconds'.format(item, mid,end-start))\n",
    "                return bintime\n",
    "\n",
    "            # If element is smaller than mid, then it can only \n",
    "            # be present in left subarray \n",
    "            elif guess > item: \n",
    "                return self.search_recursive(list, low, mid - 1, item) \n",
    "\n",
    "            # Else the element can only be present in right subarray \n",
    "            else: \n",
    "                return self.search_recursive(list, mid + 1, high, item) \n",
    "\n",
    "        else: \n",
    "            end = timer()\n",
    "            bintime = \"{:.8f}\".format(float(end-start))\n",
    "            print('Number not found and it took {0:.20f} seconds'.format(end-start))\n",
    "        # Element is not present in the array \n",
    "        return None, bintime\n",
    "    \n",
    "\n",
    "    def numGen(self, firstNum, lastNum, arraysize1, arraysize2, arraysize3, arraysize4, arraysize5):\n",
    "        np.random.seed(10)\n",
    "        array1 = np.random.randint(firstNum, lastNum, arraysize1)\n",
    "        array2 = np.random.randint(firstNum, lastNum, arraysize2)\n",
    "        array3 = np.random.randint(firstNum, lastNum, arraysize3)\n",
    "        array4 = np.random.randint(firstNum, lastNum, arraysize4)\n",
    "        array5 = np.random.randint(firstNum, lastNum, arraysize5)\n",
    "        return array1, array2, array3, array4, array5\n",
    "\n",
    "    def sortArray(self, array):\n",
    "        np.random.seed(10)\n",
    "        start = timer()\n",
    "        array.sort()\n",
    "        end = timer()\n",
    "        outtime = \"{:.8f}\".format(float(end-start))\n",
    "        arlen = len(array)\n",
    "        print('Array sorted in {0:.20f} seconds'.format(end-start))\n",
    "        return outtime, arlen"
   ]
  },
  {
   "cell_type": "code",
   "execution_count": 705,
   "id": "da0f48da-61ad-41c4-8c97-81a6647b2aa7",
   "metadata": {
    "tags": []
   },
   "outputs": [],
   "source": [
    "bs = BinarySearch() # Define binary search as a variable\n",
    "\n",
    "array512, array1024, array2048, array4096, array8192 = bs.numGen(0, 10000, 512, 1024, 2048, 4096, 8192) # Generate the five arrays\n",
    "\n",
    "arrayList = [array512,array1024,array2048,array4096,array8192] # Creating a list of the array for future use\n",
    "\n",
    "arrayNames = ['array512','array1024','array2048','array4096','array8192'] # Creating a list of names for Pandas index naming"
   ]
  },
  {
   "cell_type": "code",
   "execution_count": 706,
   "id": "9742392e-16bc-45ef-976b-cc19b10c36df",
   "metadata": {},
   "outputs": [
    {
     "name": "stdout",
     "output_type": "stream",
     "text": [
      "Array sorted in 0.00003200001083314419 seconds\n",
      "Number 9977 found at position 511 in 0.00000130000989884138 seconds\n",
      "Number 9977 found at position 511 in 0.00000700000964570791 seconds\n",
      "Array sorted in 0.00022519999765790999 seconds\n",
      "Number 9985 found at position 1023 in 0.00000200000067707151 seconds\n",
      "Number 9985 found at position 1023 in 0.00001360000169370323 seconds\n",
      "Array sorted in 0.00011730000551324338 seconds\n",
      "Number 9977 found at position 2047 in 0.00000230000296141952 seconds\n",
      "Number 9977 found at position 2047 in 0.00001380000321660191 seconds\n",
      "Array sorted in 0.00127380000776611269 seconds\n",
      "Number 9998 found at position 4095 in 0.00000230000296141952 seconds\n",
      "Number 9998 found at position 4095 in 0.00001509999856352806 seconds\n",
      "Array sorted in 0.00053830000979360193 seconds\n",
      "Number 9999 found at position 8191 in 0.00000189999991562217 seconds\n",
      "Number 9999 found at position 8191 in 0.00001679999695625156 seconds\n"
     ]
    }
   ],
   "source": [
    "bs = BinarySearch() # Re-defining the search class just for sanity sake\n",
    "\n",
    "linear_list = [] # List for linear search times \n",
    "binary_list = [] # List for binary search times\n",
    "sorted_times_list = [] # List for sorting times\n",
    "array_length_list = [] # List for tracking the array lengths for plotting\n",
    "bin_plus_sorted_times = [] # List for binary + sorting times\n",
    "\n",
    "for array in arrayList:\n",
    "    sortedTime, arrayLength = bs.sortArray(array)\n",
    "    binary = bs.search_recursive(array,min(array),len(array),max(array))\n",
    "    linear = bs.search_iterative(array,max(array))\n",
    "    bin_sorted = float(binary) + float(sortedTime)\n",
    "    binary_list.append(binary)\n",
    "    linear_list.append(linear)\n",
    "    sorted_times_list.append(sortedTime)\n",
    "    array_length_list.append(arrayLength)\n",
    "    bin_plus_sorted_times.append(bin_sorted)"
   ]
  },
  {
   "cell_type": "code",
   "execution_count": 707,
   "id": "333bdf76-1963-4bf8-873c-e685455d807b",
   "metadata": {},
   "outputs": [
    {
     "data": {
      "text/html": [
       "<div>\n",
       "<style scoped>\n",
       "    .dataframe tbody tr th:only-of-type {\n",
       "        vertical-align: middle;\n",
       "    }\n",
       "\n",
       "    .dataframe tbody tr th {\n",
       "        vertical-align: top;\n",
       "    }\n",
       "\n",
       "    .dataframe thead th {\n",
       "        text-align: right;\n",
       "    }\n",
       "</style>\n",
       "<table border=\"1\" class=\"dataframe\">\n",
       "  <thead>\n",
       "    <tr style=\"text-align: right;\">\n",
       "      <th></th>\n",
       "      <th>array_length</th>\n",
       "      <th>sort_time</th>\n",
       "      <th>linear_time</th>\n",
       "      <th>binary_time</th>\n",
       "      <th>binary_plus_sorted</th>\n",
       "    </tr>\n",
       "    <tr>\n",
       "      <th>array_name</th>\n",
       "      <th></th>\n",
       "      <th></th>\n",
       "      <th></th>\n",
       "      <th></th>\n",
       "      <th></th>\n",
       "    </tr>\n",
       "  </thead>\n",
       "  <tbody>\n",
       "    <tr>\n",
       "      <th>array512</th>\n",
       "      <td>512</td>\n",
       "      <td>0.00003200</td>\n",
       "      <td>0.00000700</td>\n",
       "      <td>0.00000130</td>\n",
       "      <td>0.000033</td>\n",
       "    </tr>\n",
       "    <tr>\n",
       "      <th>array1024</th>\n",
       "      <td>1024</td>\n",
       "      <td>0.00022520</td>\n",
       "      <td>0.00001360</td>\n",
       "      <td>0.00000200</td>\n",
       "      <td>0.000227</td>\n",
       "    </tr>\n",
       "    <tr>\n",
       "      <th>array2048</th>\n",
       "      <td>2048</td>\n",
       "      <td>0.00011730</td>\n",
       "      <td>0.00001380</td>\n",
       "      <td>0.00000230</td>\n",
       "      <td>0.000120</td>\n",
       "    </tr>\n",
       "    <tr>\n",
       "      <th>array4096</th>\n",
       "      <td>4096</td>\n",
       "      <td>0.00127380</td>\n",
       "      <td>0.00001510</td>\n",
       "      <td>0.00000230</td>\n",
       "      <td>0.001276</td>\n",
       "    </tr>\n",
       "    <tr>\n",
       "      <th>array8192</th>\n",
       "      <td>8192</td>\n",
       "      <td>0.00053830</td>\n",
       "      <td>0.00001680</td>\n",
       "      <td>0.00000190</td>\n",
       "      <td>0.000540</td>\n",
       "    </tr>\n",
       "  </tbody>\n",
       "</table>\n",
       "</div>"
      ],
      "text/plain": [
       "            array_length   sort_time linear_time binary_time  \\\n",
       "array_name                                                     \n",
       "array512             512  0.00003200  0.00000700  0.00000130   \n",
       "array1024           1024  0.00022520  0.00001360  0.00000200   \n",
       "array2048           2048  0.00011730  0.00001380  0.00000230   \n",
       "array4096           4096  0.00127380  0.00001510  0.00000230   \n",
       "array8192           8192  0.00053830  0.00001680  0.00000190   \n",
       "\n",
       "            binary_plus_sorted  \n",
       "array_name                      \n",
       "array512              0.000033  \n",
       "array1024             0.000227  \n",
       "array2048             0.000120  \n",
       "array4096             0.001276  \n",
       "array8192             0.000540  "
      ]
     },
     "execution_count": 707,
     "metadata": {},
     "output_type": "execute_result"
    }
   ],
   "source": [
    "# Creating a pandas dataframe with the array name, length, and excution times\n",
    "data = {'array_name':arrayNames,'array_length':array_length_list, 'sort_time':sorted_times_list,'linear_time':linear_list,'binary_time':binary_list,'binary_plus_sorted':bin_plus_sorted_times}\n",
    "df = pd.DataFrame(data).set_index('array_name')\n",
    "df.iloc[:,1:] = round(df.iloc[:,1:], 20)\n",
    "df"
   ]
  },
  {
   "cell_type": "code",
   "execution_count": 703,
   "id": "375a6085-5a8a-4bab-ae00-e1a439f5e0d7",
   "metadata": {},
   "outputs": [
    {
     "data": {
      "text/plain": [
       "<Figure size 1152x576 with 0 Axes>"
      ]
     },
     "execution_count": 703,
     "metadata": {},
     "output_type": "execute_result"
    },
    {
     "data": {
      "text/plain": [
       "Text(0.5, 1.0, 'Algorithm Execution Times - Slowest to Fastest')"
      ]
     },
     "execution_count": 703,
     "metadata": {},
     "output_type": "execute_result"
    },
    {
     "data": {
      "text/plain": [
       "[<matplotlib.lines.Line2D at 0x28f8e338f08>]"
      ]
     },
     "execution_count": 703,
     "metadata": {},
     "output_type": "execute_result"
    },
    {
     "data": {
      "text/plain": [
       "[<matplotlib.lines.Line2D at 0x28f8e22fa48>]"
      ]
     },
     "execution_count": 703,
     "metadata": {},
     "output_type": "execute_result"
    },
    {
     "data": {
      "text/plain": [
       "[<matplotlib.lines.Line2D at 0x28f98ecefc8>]"
      ]
     },
     "execution_count": 703,
     "metadata": {},
     "output_type": "execute_result"
    },
    {
     "data": {
      "text/plain": [
       "Text(0.5, 0, 'Array Length')"
      ]
     },
     "execution_count": 703,
     "metadata": {},
     "output_type": "execute_result"
    },
    {
     "data": {
      "text/plain": [
       "Text(0, 0.5, 'Execution Time')"
      ]
     },
     "execution_count": 703,
     "metadata": {},
     "output_type": "execute_result"
    },
    {
     "data": {
      "text/plain": [
       "<matplotlib.legend.Legend at 0x28f98cf4ac8>"
      ]
     },
     "execution_count": 703,
     "metadata": {},
     "output_type": "execute_result"
    },
    {
     "data": {
      "image/png": "[encoded data removed]",
      "text/plain": [
       "<Figure size 1152x576 with 1 Axes>"
      ]
     },
     "metadata": {
      "needs_background": "light"
     },
     "output_type": "display_data"
    }
   ],
   "source": [
    "# Plotting linear times, binary times, and binary + sorted times for visualization\n",
    "plt.figure(figsize=(16,8))\n",
    "plt.title('Algorithm Execution Times - Slowest to Fastest')\n",
    "plt.plot(df.array_length, df.linear_time, label='Linear Search Time')\n",
    "plt.plot(df.array_length, df.binary_time, label='Binary Search Time')\n",
    "plt.plot(df.array_length, df.binary_plus_sorted, label='Binary + Sorted')\n",
    "plt.xlabel('Array Length')\n",
    "plt.ylabel('Execution Time')\n",
    "plt.legend()\n",
    "plt.show()"
   ]
  }
 ],
 "metadata": {
  "kernelspec": {
   "display_name": "Python 3",
   "language": "python",
   "name": "python3"
  },
  "language_info": {
   "codemirror_mode": {
    "name": "ipython",
    "version": 3
   },
   "file_extension": ".py",
   "mimetype": "text/x-python",
   "name": "python",
   "nbconvert_exporter": "python",
   "pygments_lexer": "ipython3",
   "version": "3.7.9"
  }
 },
 "nbformat": 4,
 "nbformat_minor": 5
}
