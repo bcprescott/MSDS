{
 "cells": [
  {
   "cell_type": "markdown",
   "id": "639aa7f6-eb53-4605-8c30-15a427ca21e3",
   "metadata": {},
   "source": [
    "# Mini Programming Assignment: Implement a Recursive Algorithm\n",
    "\n",
    "**Name:** Ben Prescott\n",
    "\n",
    "**Date:** 07/09/2021\n",
    "\n",
    "**Course:** MSDS432 Summer 2021"
   ]
  },
  {
   "cell_type": "markdown",
   "id": "5cad4a55-4a91-4ee8-b9af-e6c2d08e5b1c",
   "metadata": {},
   "source": [
    "#### Executive Summary\n",
    "\n",
    "**Description:**\n",
    "\n",
    "This notebook provides a comparison of execution speeds for finding the factorial of ten randomly generated numbers, using both a recursive algorithm and an iterative 'for loop'. The results are compared in a table and plotted on a visual graph. \n",
    "\n",
    "**Algorithm Explanation**\n",
    "\n",
    "The two algorithms used in this scenario are a recursive algorithm and an iterative algorithm (using a for loop). The iterative algorithm leverages an internal loop to check if conditions have been met. If not, the loop within the function will continue until conditions have been satisfied. A single call is made to the function that runs the iterative loop.\n",
    "\n",
    "With a recursive algorithm, the loop that occurs is a new call made back to itself with a new value, known as the algorithm's 'recursive case'. The function continues to check against some conditions, known as the 'base case', repeating the calling of itself until the base case has been satisfied. The base case ensures that the recursive algorithm does not continue into an infinite loop.    \n",
    "\n",
    "**Approach**\n",
    "\n",
    "I started by creating a single array, 'array10', made up of ten random integers between the numbers 100 and 900. I expanded the initial range of 100-500 to emphasize the changes in execution times with larger values. I then created two dictionaries that will hold each random number from the generator as the dictionary key, and the execution times and factorials each key's values. I leveraged the 'decimal' library to help with converting factorial values that can be added to a Pandas DataFrame, as some factorial values were too large for the DataFrame.\n",
    "\n",
    "Each of the numbers from the array were then sent to the recursive algorithm to determine the number's factorial, as well as the iterative algorithm. The execution times were tracked for both algorithms and added to the dictionaries. For easier use, both the recursive and iterative algorithm's outputs were added to separate DataFrames, then merged using their matching index values. An additional column was added to the DataFrame to show the difference between the recursive and iterative algorithm execution times.\n",
    "\n",
    "Once the DataFrame was populated, it was then sorted in ascending order based on the random numbers, then plotted for a visual comparison of execution times. \n",
    "\n",
    "**Results**\n",
    "\n",
    "Both algorithms displayed a decrease in execution speed as the number increased, alluding to a longer loop to determine the number's factorial. The smaller the number the smaller the gap between the recursive and iterative execution times, with the difference between the algorithms growing as the number grew larger. This was most noticeable after the number 600, showing that recursive execution times can become noticeably slower.\n",
    "\n",
    "Based on the results of this test, the iterative algorithm (for loop) displays execution speeds twice as fast as the recursive algorithm, making the iterative algorithm more efficient. However, the recursive algorithm is much simpler and easier to read from a code perspective, creating the argument of code simplicity vs execution time."
   ]
  },
  {
   "cell_type": "code",
   "execution_count": 579,
   "id": "a521bfc7-33f4-44c0-b036-e381a920b231",
   "metadata": {},
   "outputs": [],
   "source": [
    "import numpy as np\n",
    "import pandas as pd\n",
    "import matplotlib.pyplot as plt\n",
    "from decimal import Decimal\n",
    "from timeit import default_timer as timer\n",
    "from IPython.core.interactiveshell import InteractiveShell\n",
    "InteractiveShell.ast_node_interactivity = \"all\""
   ]
  },
  {
   "cell_type": "code",
   "execution_count": 244,
   "id": "a27c15ed-6f8c-42e8-a311-6fe5fab5664c",
   "metadata": {},
   "outputs": [
    {
     "name": "stdout",
     "output_type": "stream",
     "text": [
      "120\n"
     ]
    }
   ],
   "source": [
    "def fact(x):\n",
    "    if x == 1:\n",
    "        return 1\n",
    "    else:\n",
    "        return x * fact(x-1)\n",
    "\n",
    "print(fact(5))\n",
    "\n",
    "def fact_iter(x):\n",
    "    ans = 1    \n",
    "    for i in range(1,x+1):\n",
    "        ans = ans * i\n",
    "    return ans"
   ]
  },
  {
   "cell_type": "code",
   "execution_count": 567,
   "id": "5b0ffbaf-3f60-4954-a996-d1822591b0e6",
   "metadata": {
    "tags": []
   },
   "outputs": [],
   "source": [
    "np.random.seed(10) # Setting random seed for repeatable array creation\n",
    "array10 = list(np.random.randint(100,900,10)) # Creating a random 10-number array with numbers between 100-900 "
   ]
  },
  {
   "cell_type": "code",
   "execution_count": 574,
   "id": "6966248f-d20d-4bee-a98e-c3a2c8316d1c",
   "metadata": {},
   "outputs": [],
   "source": [
    "# Looping over the numbers in the array and retrieving the factorial for each using the iterative loop\n",
    "# Storing just the execution time, as the factorial used in the final table will be retrieved from the recursive algorithm\n",
    "loop_dict = {}\n",
    "for num in array10:\n",
    "    start = timer()\n",
    "    factor = fact_iter(num)\n",
    "    stop = timer()\n",
    "    loop_dict[num] = (stop-start)"
   ]
  },
  {
   "cell_type": "code",
   "execution_count": 575,
   "id": "e6f7d34e-e4b8-48ea-a1f3-346c2484c36c",
   "metadata": {},
   "outputs": [],
   "source": [
    "# Looping over the numbers in the array and retrieving the factorial and execution time using the recursive algorithm\n",
    "# Using the Decimal library to help with a data type that can provide the entire factorial in a Pandas DataFrame\n",
    "recur_dict = {}\n",
    "for num in array10:\n",
    "    n = num.item()\n",
    "    start = timer()\n",
    "    factor = fact(n)\n",
    "    stop = timer()\n",
    "    recur_dict[n] = Decimal(factor), (stop-start)"
   ]
  },
  {
   "cell_type": "code",
   "execution_count": 576,
   "id": "7dfb03da-5622-490f-a170-ff5fa4428e5e",
   "metadata": {},
   "outputs": [
    {
     "data": {
      "text/html": [
       "<div>\n",
       "<style scoped>\n",
       "    .dataframe tbody tr th:only-of-type {\n",
       "        vertical-align: middle;\n",
       "    }\n",
       "\n",
       "    .dataframe tbody tr th {\n",
       "        vertical-align: top;\n",
       "    }\n",
       "\n",
       "    .dataframe thead th {\n",
       "        text-align: right;\n",
       "    }\n",
       "</style>\n",
       "<table border=\"1\" class=\"dataframe\">\n",
       "  <thead>\n",
       "    <tr style=\"text-align: right;\">\n",
       "      <th></th>\n",
       "      <th>Factorial</th>\n",
       "      <th>Recursion Times</th>\n",
       "      <th>Loop Times</th>\n",
       "      <th>Time Differences</th>\n",
       "    </tr>\n",
       "  </thead>\n",
       "  <tbody>\n",
       "    <tr>\n",
       "      <th>108</th>\n",
       "      <td>1324641819451828974499891837121832599810209360...</td>\n",
       "      <td>0.00003329999890411273</td>\n",
       "      <td>0.00001599999995960388</td>\n",
       "      <td>0.00001729999894450884</td>\n",
       "    </tr>\n",
       "    <tr>\n",
       "      <th>223</th>\n",
       "      <td>2498731854354364303776989870596633623950866289...</td>\n",
       "      <td>0.00007759999971312936</td>\n",
       "      <td>0.00003780000042752363</td>\n",
       "      <td>0.00003979999928560574</td>\n",
       "    </tr>\n",
       "    <tr>\n",
       "      <th>225</th>\n",
       "      <td>1259360854594599609103602894780703346471236610...</td>\n",
       "      <td>0.00007989999903657008</td>\n",
       "      <td>0.00004099999932805076</td>\n",
       "      <td>0.00003889999970851932</td>\n",
       "    </tr>\n",
       "    <tr>\n",
       "      <th>256</th>\n",
       "      <td>8578177753428426541190822716812326251577815202...</td>\n",
       "      <td>0.00009109999882639386</td>\n",
       "      <td>0.00004570000055537093</td>\n",
       "      <td>0.00004539999827102292</td>\n",
       "    </tr>\n",
       "    <tr>\n",
       "      <th>365</th>\n",
       "      <td>2510412867555873229292944374881202770516552026...</td>\n",
       "      <td>0.00019330000031914096</td>\n",
       "      <td>0.00010130000009667128</td>\n",
       "      <td>0.00009200000022246968</td>\n",
       "    </tr>\n",
       "    <tr>\n",
       "      <th>420</th>\n",
       "      <td>1179832395293178259148587778443982767423908163...</td>\n",
       "      <td>0.00018689999888010789</td>\n",
       "      <td>0.00010010000005422626</td>\n",
       "      <td>0.00008679999882588163</td>\n",
       "    </tr>\n",
       "    <tr>\n",
       "      <th>469</th>\n",
       "      <td>6771809666814951090078098205921092630097304291...</td>\n",
       "      <td>0.00021019999985583127</td>\n",
       "      <td>0.00011509999967529438</td>\n",
       "      <td>0.00009510000018053688</td>\n",
       "    </tr>\n",
       "    <tr>\n",
       "      <th>596</th>\n",
       "      <td>9863552906103574591278174425939831505001979645...</td>\n",
       "      <td>0.00032550000105402432</td>\n",
       "      <td>0.00019249999968451448</td>\n",
       "      <td>0.00013300000136950985</td>\n",
       "    </tr>\n",
       "    <tr>\n",
       "      <th>627</th>\n",
       "      <td>2409291638126018016049747953956434843784516403...</td>\n",
       "      <td>0.00056179999955929816</td>\n",
       "      <td>0.00023719999990134966</td>\n",
       "      <td>0.00032459999965794850</td>\n",
       "    </tr>\n",
       "    <tr>\n",
       "      <th>833</th>\n",
       "      <td>9759748538709431268777250937530762690468490994...</td>\n",
       "      <td>0.00062630000138597097</td>\n",
       "      <td>0.00040629999966768082</td>\n",
       "      <td>0.00022000000171829015</td>\n",
       "    </tr>\n",
       "  </tbody>\n",
       "</table>\n",
       "</div>"
      ],
      "text/plain": [
       "                                             Factorial  \\\n",
       "108  1324641819451828974499891837121832599810209360...   \n",
       "223  2498731854354364303776989870596633623950866289...   \n",
       "225  1259360854594599609103602894780703346471236610...   \n",
       "256  8578177753428426541190822716812326251577815202...   \n",
       "365  2510412867555873229292944374881202770516552026...   \n",
       "420  1179832395293178259148587778443982767423908163...   \n",
       "469  6771809666814951090078098205921092630097304291...   \n",
       "596  9863552906103574591278174425939831505001979645...   \n",
       "627  2409291638126018016049747953956434843784516403...   \n",
       "833  9759748538709431268777250937530762690468490994...   \n",
       "\n",
       "            Recursion Times              Loop Times        Time Differences  \n",
       "108  0.00003329999890411273  0.00001599999995960388  0.00001729999894450884  \n",
       "223  0.00007759999971312936  0.00003780000042752363  0.00003979999928560574  \n",
       "225  0.00007989999903657008  0.00004099999932805076  0.00003889999970851932  \n",
       "256  0.00009109999882639386  0.00004570000055537093  0.00004539999827102292  \n",
       "365  0.00019330000031914096  0.00010130000009667128  0.00009200000022246968  \n",
       "420  0.00018689999888010789  0.00010010000005422626  0.00008679999882588163  \n",
       "469  0.00021019999985583127  0.00011509999967529438  0.00009510000018053688  \n",
       "596  0.00032550000105402432  0.00019249999968451448  0.00013300000136950985  \n",
       "627  0.00056179999955929816  0.00023719999990134966  0.00032459999965794850  \n",
       "833  0.00062630000138597097  0.00040629999966768082  0.00022000000171829015  "
      ]
     },
     "execution_count": 576,
     "metadata": {},
     "output_type": "execute_result"
    }
   ],
   "source": [
    "# Creating a Pandas DataFrame with the factorial, recursion times, iterative loop times, and the difference between both algorithms\n",
    "pd.set_option(\"display.precision\", 20)\n",
    "recur_table = pd.DataFrame.from_dict(recur_dict, orient='index', columns=['Factorial','Recursion Times'])\n",
    "loop_table = pd.DataFrame.from_dict(loop_dict, orient='index', columns=['Loop Times'])\n",
    "merged_table = recur_table.merge(loop_table, left_index=True, right_index=True)\n",
    "merged_table['Time Differences'] = merged_table['Recursion Times'] - merged_table['Loop Times']\n",
    "merged_table.sort_index(inplace=True)\n",
    "merged_table"
   ]
  },
  {
   "cell_type": "code",
   "execution_count": 584,
   "id": "1b88ad5b-b325-45e4-a97d-eb5aab0f304a",
   "metadata": {},
   "outputs": [
    {
     "data": {
      "text/plain": [
       "<Figure size 1152x576 with 0 Axes>"
      ]
     },
     "execution_count": 584,
     "metadata": {},
     "output_type": "execute_result"
    },
    {
     "data": {
      "text/plain": [
       "[<matplotlib.lines.Line2D at 0x2d66b885508>]"
      ]
     },
     "execution_count": 584,
     "metadata": {},
     "output_type": "execute_result"
    },
    {
     "data": {
      "text/plain": [
       "<matplotlib.collections.PathCollection at 0x2d66b305208>"
      ]
     },
     "execution_count": 584,
     "metadata": {},
     "output_type": "execute_result"
    },
    {
     "data": {
      "text/plain": [
       "[<matplotlib.lines.Line2D at 0x2d66b235248>]"
      ]
     },
     "execution_count": 584,
     "metadata": {},
     "output_type": "execute_result"
    },
    {
     "data": {
      "text/plain": [
       "<matplotlib.collections.PathCollection at 0x2d66b3054c8>"
      ]
     },
     "execution_count": 584,
     "metadata": {},
     "output_type": "execute_result"
    },
    {
     "data": {
      "text/plain": [
       "Text(0.5, 1.0, 'Recursive vs Iterative Algorithm - Execution Times')"
      ]
     },
     "execution_count": 584,
     "metadata": {},
     "output_type": "execute_result"
    },
    {
     "data": {
      "text/plain": [
       "Text(0.5, 0, 'Number')"
      ]
     },
     "execution_count": 584,
     "metadata": {},
     "output_type": "execute_result"
    },
    {
     "data": {
      "text/plain": [
       "Text(0, 0.5, 'Execution Time')"
      ]
     },
     "execution_count": 584,
     "metadata": {},
     "output_type": "execute_result"
    },
    {
     "data": {
      "text/plain": [
       "<matplotlib.legend.Legend at 0x2d668acd408>"
      ]
     },
     "execution_count": 584,
     "metadata": {},
     "output_type": "execute_result"
    },
    {
     "data": {
      "text/plain": [
       "[]"
      ]
     },
     "execution_count": 584,
     "metadata": {},
     "output_type": "execute_result"
    },
    {
     "data": {
      "image/png": "[encoded data removed]",
      "text/plain": [
       "<Figure size 1152x576 with 1 Axes>"
      ]
     },
     "metadata": {
      "needs_background": "light"
     },
     "output_type": "display_data"
    }
   ],
   "source": [
    "# Plotting the execution times by algorithm for each number in the array\n",
    "plt.figure(figsize=(16,8))\n",
    "plt.plot(merged_table['Recursion Times'], label='Recursive TImes')\n",
    "plt.scatter(merged_table.index, merged_table['Recursion Times'])\n",
    "plt.plot(merged_table['Loop Times'], label='Iterative Loop Times')\n",
    "plt.scatter(merged_table.index, merged_table['Loop Times'])\n",
    "plt.title('Recursive vs Iterative Algorithm - Execution Times')\n",
    "plt.xlabel('Number')\n",
    "plt.ylabel('Execution Time')\n",
    "plt.legend()\n",
    "plt.plot()"
   ]
  },
  {
   "cell_type": "code",
   "execution_count": null,
   "id": "589a5ee7-3c00-41eb-bf06-470bfd34564a",
   "metadata": {},
   "outputs": [],
   "source": []
  }
 ],
 "metadata": {
  "kernelspec": {
   "display_name": "Python 3",
   "language": "python",
   "name": "python3"
  },
  "language_info": {
   "codemirror_mode": {
    "name": "ipython",
    "version": 3
   },
   "file_extension": ".py",
   "mimetype": "text/x-python",
   "name": "python",
   "nbconvert_exporter": "python",
   "pygments_lexer": "ipython3",
   "version": "3.7.9"
  }
 },
 "nbformat": 4,
 "nbformat_minor": 5
}
