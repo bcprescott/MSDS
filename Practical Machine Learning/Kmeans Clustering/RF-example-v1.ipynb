{
 "cells": [
  {
   "cell_type": "markdown",
   "metadata": {},
   "source": [
    "Creative Commons CC BY 4.0 Lynd Bacon & Associates, Ltd. Not warranted to be suitable for any particular purpose. (You're on your own!)"
   ]
  },
  {
   "cell_type": "code",
   "execution_count": null,
   "metadata": {},
   "outputs": [],
   "source": [
    "from IPython.core.interactiveshell import InteractiveShell\n",
    "InteractiveShell.ast_node_interactivity = \"all\""
   ]
  },
  {
   "cell_type": "markdown",
   "metadata": {},
   "source": [
    "<h1 align='center'>Assignment 2: Random Forest Regression Example</h1>"
   ]
  },
  {
   "cell_type": "markdown",
   "metadata": {},
   "source": [
    "In what follows we'll train a Random Forest (RF) regressor to predict the _Sale_Price_ target variable.  We'll use a selection of unscaled (e.g., not minmax or standardized rescaled) features.  We'll do a _grid search_ to examine the effects of different hyperparameter values.   We'll apply \"dummy,\" or \"one hot,\" encoding of a categorical variable as an example of encoding a discrete feature.\n",
    "\n",
    "Note that it's up to you to choose the features used to train your models."
   ]
  },
  {
   "cell_type": "markdown",
   "metadata": {},
   "source": [
    "## Packages\n",
    "\n",
    "Stuff you may need."
   ]
  },
  {
   "cell_type": "code",
   "execution_count": 2,
   "metadata": {},
   "outputs": [],
   "source": [
    "import numpy as np\n",
    "import pandas as pd\n",
    "import os\n",
    "from pickleshare import *\n",
    "import re\n",
    "from sklearn.ensemble import RandomForestRegressor\n",
    "from sklearn.model_selection import train_test_split\n",
    "from sklearn.metrics import r2_score"
   ]
  },
  {
   "cell_type": "markdown",
   "metadata": {},
   "source": [
    "## Data\n",
    "\n",
    "The data are a subset of of the assignment data."
   ]
  },
  {
   "cell_type": "code",
   "execution_count": 3,
   "metadata": {},
   "outputs": [
    {
     "data": {
      "text/plain": [
       "['.ipynb_checkpoints',\n",
       " '2-Assignment-2-Guide-v1.ipynb',\n",
       " 'ames-data-info.zip',\n",
       " 'amesDF.pickle',\n",
       " 'amesNumDFclean.pickle',\n",
       " 'amesSelDF.pickle',\n",
       " 'BenPrescott_Assignment2.ipynb',\n",
       " 'data-input-select-ex-assignment-2-v1.ipynb',\n",
       " 'DataDocumentation.txt',\n",
       " 'decock.pdf',\n",
       " 'kmeans-assignment-2-ex-v2.ipynb',\n",
       " 'NAME.docx',\n",
       " 'rescaling-PCA-ex-assignment-2-v1.ipynb',\n",
       " 'RF-example-v1.ipynb',\n",
       " 'saved_notebook.db']"
      ]
     },
     "execution_count": 3,
     "metadata": {},
     "output_type": "execute_result"
    }
   ],
   "source": [
    "os.listdir()"
   ]
  },
  {
   "cell_type": "code",
   "execution_count": 4,
   "metadata": {},
   "outputs": [],
   "source": [
    "aDF=pd.read_pickle('amesNumDFclean.pickle')"
   ]
  },
  {
   "cell_type": "code",
   "execution_count": 5,
   "metadata": {},
   "outputs": [
    {
     "name": "stdout",
     "output_type": "stream",
     "text": [
      "       Lot_Frontage       Lot_Area   Year_Built  Year_Remod_Add  Mas_Vnr_Area  \\\n",
      "count   2930.000000    2930.000000  2930.000000     2930.000000   2930.000000   \n",
      "mean      57.647782   10147.921843  1971.356314     1984.266553    101.096928   \n",
      "std       33.499441    7880.017759    30.245361       20.860286    178.634545   \n",
      "min        0.000000    1300.000000  1872.000000     1950.000000      0.000000   \n",
      "25%       43.000000    7440.250000  1954.000000     1965.000000      0.000000   \n",
      "50%       63.000000    9436.500000  1973.000000     1993.000000      0.000000   \n",
      "75%       78.000000   11555.250000  2001.000000     2004.000000    162.750000   \n",
      "max      313.000000  215245.000000  2010.000000     2010.000000   1600.000000   \n",
      "\n",
      "       BsmtFin_SF_1  BsmtFin_SF_2  Bsmt_Unf_SF  Total_Bsmt_SF  First_Flr_SF  \\\n",
      "count   2930.000000   2930.000000  2930.000000    2930.000000   2930.000000   \n",
      "mean       4.177474     49.705461   559.071672    1051.255631   1159.557679   \n",
      "std        2.233372    169.142089   439.540571     440.968018    391.890885   \n",
      "min        0.000000      0.000000     0.000000       0.000000    334.000000   \n",
      "25%        3.000000      0.000000   219.000000     793.000000    876.250000   \n",
      "50%        3.000000      0.000000   465.500000     990.000000   1084.000000   \n",
      "75%        7.000000      0.000000   801.750000    1301.500000   1384.000000   \n",
      "max        7.000000   1526.000000  2336.000000    6110.000000   5095.000000   \n",
      "\n",
      "       ...  Enclosed_Porch  Three_season_porch  Screen_Porch    Pool_Area  \\\n",
      "count  ...     2930.000000         2930.000000   2930.000000  2930.000000   \n",
      "mean   ...       23.011604            2.592491     16.002048     2.243345   \n",
      "std    ...       64.139059           25.141331     56.087370    35.597181   \n",
      "min    ...        0.000000            0.000000      0.000000     0.000000   \n",
      "25%    ...        0.000000            0.000000      0.000000     0.000000   \n",
      "50%    ...        0.000000            0.000000      0.000000     0.000000   \n",
      "75%    ...        0.000000            0.000000      0.000000     0.000000   \n",
      "max    ...     1012.000000          508.000000    576.000000   800.000000   \n",
      "\n",
      "           Misc_Val      Mo_Sold    Year_Sold     Sale_Price    Longitude  \\\n",
      "count   2930.000000  2930.000000  2930.000000    2930.000000  2930.000000   \n",
      "mean      50.635154     6.216041  2007.790444  180796.060068   -93.642897   \n",
      "std      566.344288     2.714492     1.316613   79886.692357     0.025700   \n",
      "min        0.000000     1.000000  2006.000000   12789.000000   -93.693153   \n",
      "25%        0.000000     4.000000  2007.000000  129500.000000   -93.660217   \n",
      "50%        0.000000     6.000000  2008.000000  160000.000000   -93.641806   \n",
      "75%        0.000000     8.000000  2009.000000  213500.000000   -93.622113   \n",
      "max    17000.000000    12.000000  2010.000000  755000.000000   -93.577427   \n",
      "\n",
      "          Latitude  \n",
      "count  2930.000000  \n",
      "mean     42.034482  \n",
      "std       0.018410  \n",
      "min      41.986498  \n",
      "25%      42.022088  \n",
      "50%      42.034662  \n",
      "75%      42.049853  \n",
      "max      42.063388  \n",
      "\n",
      "[8 rows x 34 columns]\n"
     ]
    }
   ],
   "source": [
    "print(aDF.describe())"
   ]
  },
  {
   "cell_type": "code",
   "execution_count": 6,
   "metadata": {},
   "outputs": [
    {
     "data": {
      "text/plain": [
       "0"
      ]
     },
     "execution_count": 6,
     "metadata": {},
     "output_type": "execute_result"
    }
   ],
   "source": [
    "# Missing values?\n",
    "\n",
    "aDF.isna().sum().sum()"
   ]
  },
  {
   "cell_type": "markdown",
   "metadata": {},
   "source": [
    "## Scrubbing, Feature Selection, Transformation\n",
    "\n",
    "As per the data documentation, we're going to remove all data for homes with > 4,000 SQ FT.\n",
    "\n",
    "A ubiquitous ML task.  Here there are a couple of interesting questions to be addressed.  One is how should the _year_ features be dealt with?  The data are up through 2010.  We could subtract each year value from 2010, which would change them to years since 2010.  Note that for the _year_ features to make sense, they should be logically related to each other.  For example, _Year_Built_ not be \"later\" than _Year_Sold_ or \"later\" than _Year_Remod_Add_.  It's reasonable to expect than any of these features my be predictive of _Sale_Price_, but they need to be expressed in a valid way.\n",
    "\n",
    "The same goes for features that are essentially categorical, like _Mo_Sold_.  This feature needs to be recoded.  We'll do that. But first we'll do some checks on the _years_ features."
   ]
  },
  {
   "cell_type": "code",
   "execution_count": 7,
   "metadata": {},
   "outputs": [
    {
     "data": {
      "text/plain": [
       "(2925, 34)"
      ]
     },
     "execution_count": 7,
     "metadata": {},
     "output_type": "execute_result"
    }
   ],
   "source": [
    "# As per the recommendation in the data documentation\n",
    "\n",
    "aDF2=aDF[aDF.Gr_Liv_Area<4000].copy()    #What's the copy(), for?\n",
    "aDF2.shape"
   ]
  },
  {
   "cell_type": "markdown",
   "metadata": {},
   "source": [
    "### Weird Years"
   ]
  },
  {
   "cell_type": "code",
   "execution_count": 8,
   "metadata": {},
   "outputs": [
    {
     "data": {
      "text/plain": [
       "False    2925\n",
       "dtype: int64"
      ]
     },
     "execution_count": 8,
     "metadata": {},
     "output_type": "execute_result"
    }
   ],
   "source": [
    "# Any homes sold before they are built?\n",
    "\n",
    "((aDF2.Year_Built-aDF2.Year_Sold)>0.00).value_counts()"
   ]
  },
  {
   "cell_type": "code",
   "execution_count": 9,
   "metadata": {},
   "outputs": [
    {
     "data": {
      "text/plain": [
       "False    2924\n",
       "True        1\n",
       "dtype: int64"
      ]
     },
     "execution_count": 9,
     "metadata": {},
     "output_type": "execute_result"
    }
   ],
   "source": [
    "# Any homes remodelled before they are built?  One?\n",
    "\n",
    "((aDF2.Year_Built-aDF2.Year_Remod_Add)>0.00).value_counts()"
   ]
  },
  {
   "cell_type": "code",
   "execution_count": 10,
   "metadata": {},
   "outputs": [
    {
     "data": {
      "text/plain": [
       "False    2924\n",
       "True        1\n",
       "dtype: int64"
      ]
     },
     "execution_count": 10,
     "metadata": {},
     "output_type": "execute_result"
    }
   ],
   "source": [
    "# Any remodels after sold?  One\n",
    "\n",
    "((aDF2.Year_Remod_Add-aDF2.Year_Sold)>0.00).value_counts()"
   ]
  },
  {
   "cell_type": "markdown",
   "metadata": {},
   "source": [
    "Let's get rid of the two (maybe just one) records with the anomalous year values."
   ]
  },
  {
   "cell_type": "code",
   "execution_count": 11,
   "metadata": {},
   "outputs": [
    {
     "data": {
      "text/plain": [
       "(2924, 34)"
      ]
     },
     "execution_count": 11,
     "metadata": {},
     "output_type": "execute_result"
    }
   ],
   "source": [
    "aDF3=aDF2.loc[~((aDF2.Year_Built-aDF2.Year_Remod_Add)>0.00),:].copy()\n",
    "aDF3.shape"
   ]
  },
  {
   "cell_type": "code",
   "execution_count": 12,
   "metadata": {},
   "outputs": [
    {
     "data": {
      "text/plain": [
       "(2923, 34)"
      ]
     },
     "execution_count": 12,
     "metadata": {},
     "output_type": "execute_result"
    }
   ],
   "source": [
    "aDF4=aDF3.loc[~((aDF2.Year_Remod_Add-aDF2.Year_Sold)>0.00),:].copy()\n",
    "aDF4.shape"
   ]
  },
  {
   "cell_type": "markdown",
   "metadata": {},
   "source": [
    "### Note\n",
    "\n",
    "The \"cleanliness\" of the data you train your models on is your responsibility.  Data \"hygiene\" is in your hands!"
   ]
  },
  {
   "cell_type": "markdown",
   "metadata": {},
   "source": [
    "### Recoding the _Mo_Sold_ feature\n",
    "\n",
    "This feature is coded 1 through 12, but it's not _numeric_ per se, in the sense that the digits are values on a continuous metric.  Well, maybe it's a ranking.  In any case, here we're going to recoded it by dummy coding, or \"one hot\" encoding.  This will give use 12 features that are each coded in 0's and 1's.  You can do this using .get_dummies() in Pandas, or with the OneHotEncoder in scikit-learn.  We'll use the former, here."
   ]
  },
  {
   "cell_type": "code",
   "execution_count": 13,
   "metadata": {},
   "outputs": [
    {
     "data": {
      "text/plain": [
       "Index(['sales_mo_1.0', 'sales_mo_2.0', 'sales_mo_3.0', 'sales_mo_4.0',\n",
       "       'sales_mo_5.0', 'sales_mo_6.0', 'sales_mo_7.0', 'sales_mo_8.0',\n",
       "       'sales_mo_9.0', 'sales_mo_10.0', 'sales_mo_11.0', 'sales_mo_12.0'],\n",
       "      dtype='object')"
      ]
     },
     "execution_count": 13,
     "metadata": {},
     "output_type": "execute_result"
    }
   ],
   "source": [
    "moDummies=pd.get_dummies(aDF4.Mo_Sold,prefix=\"sales_mo\").astype(int)\n",
    "moDummies.columns"
   ]
  },
  {
   "cell_type": "markdown",
   "metadata": {},
   "source": [
    "Next we'll remove _Sales_Month_ from our DataFrame, and then we'll add moDummies."
   ]
  },
  {
   "cell_type": "code",
   "execution_count": 14,
   "metadata": {},
   "outputs": [
    {
     "data": {
      "text/plain": [
       "Index(['Lot_Frontage', 'Lot_Area', 'Year_Built', 'Year_Remod_Add',\n",
       "       'Mas_Vnr_Area', 'BsmtFin_SF_1', 'BsmtFin_SF_2', 'Bsmt_Unf_SF',\n",
       "       'Total_Bsmt_SF', 'First_Flr_SF', 'Second_Flr_SF', 'Gr_Liv_Area',\n",
       "       'Bsmt_Full_Bath', 'Bsmt_Half_Bath', 'Full_Bath', 'Half_Bath',\n",
       "       'Bedroom_AbvGr', 'Kitchen_AbvGr', 'TotRms_AbvGrd', 'Fireplaces',\n",
       "       'Garage_Cars', 'Garage_Area', 'Wood_Deck_SF', 'Open_Porch_SF',\n",
       "       'Enclosed_Porch', 'Three_season_porch', 'Screen_Porch', 'Pool_Area',\n",
       "       'Misc_Val', 'Mo_Sold', 'Year_Sold', 'Sale_Price', 'Longitude',\n",
       "       'Latitude', 'sales_mo_1.0', 'sales_mo_2.0', 'sales_mo_3.0',\n",
       "       'sales_mo_4.0', 'sales_mo_5.0', 'sales_mo_6.0', 'sales_mo_7.0',\n",
       "       'sales_mo_8.0', 'sales_mo_9.0', 'sales_mo_10.0', 'sales_mo_11.0',\n",
       "       'sales_mo_12.0'],\n",
       "      dtype='object')"
      ]
     },
     "execution_count": 14,
     "metadata": {},
     "output_type": "execute_result"
    }
   ],
   "source": [
    "aDF5=aDF4.loc[:,~(aDF4.columns.isin(['Sale_Month']))]\n",
    "aDF6=pd.concat([aDF5,moDummies],axis=1,ignore_index=False)\n",
    "aDF6.columns"
   ]
  },
  {
   "cell_type": "code",
   "execution_count": 15,
   "metadata": {},
   "outputs": [
    {
     "data": {
      "text/html": [
       "<div>\n",
       "<style scoped>\n",
       "    .dataframe tbody tr th:only-of-type {\n",
       "        vertical-align: middle;\n",
       "    }\n",
       "\n",
       "    .dataframe tbody tr th {\n",
       "        vertical-align: top;\n",
       "    }\n",
       "\n",
       "    .dataframe thead th {\n",
       "        text-align: right;\n",
       "    }\n",
       "</style>\n",
       "<table border=\"1\" class=\"dataframe\">\n",
       "  <thead>\n",
       "    <tr style=\"text-align: right;\">\n",
       "      <th></th>\n",
       "      <th>Lot_Frontage</th>\n",
       "      <th>Lot_Area</th>\n",
       "      <th>Year_Built</th>\n",
       "      <th>Year_Remod_Add</th>\n",
       "      <th>Mas_Vnr_Area</th>\n",
       "      <th>BsmtFin_SF_1</th>\n",
       "      <th>BsmtFin_SF_2</th>\n",
       "      <th>Bsmt_Unf_SF</th>\n",
       "      <th>Total_Bsmt_SF</th>\n",
       "      <th>First_Flr_SF</th>\n",
       "      <th>...</th>\n",
       "      <th>sales_mo_3.0</th>\n",
       "      <th>sales_mo_4.0</th>\n",
       "      <th>sales_mo_5.0</th>\n",
       "      <th>sales_mo_6.0</th>\n",
       "      <th>sales_mo_7.0</th>\n",
       "      <th>sales_mo_8.0</th>\n",
       "      <th>sales_mo_9.0</th>\n",
       "      <th>sales_mo_10.0</th>\n",
       "      <th>sales_mo_11.0</th>\n",
       "      <th>sales_mo_12.0</th>\n",
       "    </tr>\n",
       "  </thead>\n",
       "  <tbody>\n",
       "    <tr>\n",
       "      <th>0</th>\n",
       "      <td>141.0</td>\n",
       "      <td>31770.0</td>\n",
       "      <td>1960.0</td>\n",
       "      <td>1960.0</td>\n",
       "      <td>112.0</td>\n",
       "      <td>2.0</td>\n",
       "      <td>0.0</td>\n",
       "      <td>441.0</td>\n",
       "      <td>1080.0</td>\n",
       "      <td>1656.0</td>\n",
       "      <td>...</td>\n",
       "      <td>0</td>\n",
       "      <td>0</td>\n",
       "      <td>1</td>\n",
       "      <td>0</td>\n",
       "      <td>0</td>\n",
       "      <td>0</td>\n",
       "      <td>0</td>\n",
       "      <td>0</td>\n",
       "      <td>0</td>\n",
       "      <td>0</td>\n",
       "    </tr>\n",
       "    <tr>\n",
       "      <th>1</th>\n",
       "      <td>80.0</td>\n",
       "      <td>11622.0</td>\n",
       "      <td>1961.0</td>\n",
       "      <td>1961.0</td>\n",
       "      <td>0.0</td>\n",
       "      <td>6.0</td>\n",
       "      <td>144.0</td>\n",
       "      <td>270.0</td>\n",
       "      <td>882.0</td>\n",
       "      <td>896.0</td>\n",
       "      <td>...</td>\n",
       "      <td>0</td>\n",
       "      <td>0</td>\n",
       "      <td>0</td>\n",
       "      <td>1</td>\n",
       "      <td>0</td>\n",
       "      <td>0</td>\n",
       "      <td>0</td>\n",
       "      <td>0</td>\n",
       "      <td>0</td>\n",
       "      <td>0</td>\n",
       "    </tr>\n",
       "    <tr>\n",
       "      <th>2</th>\n",
       "      <td>81.0</td>\n",
       "      <td>14267.0</td>\n",
       "      <td>1958.0</td>\n",
       "      <td>1958.0</td>\n",
       "      <td>108.0</td>\n",
       "      <td>1.0</td>\n",
       "      <td>0.0</td>\n",
       "      <td>406.0</td>\n",
       "      <td>1329.0</td>\n",
       "      <td>1329.0</td>\n",
       "      <td>...</td>\n",
       "      <td>0</td>\n",
       "      <td>0</td>\n",
       "      <td>0</td>\n",
       "      <td>1</td>\n",
       "      <td>0</td>\n",
       "      <td>0</td>\n",
       "      <td>0</td>\n",
       "      <td>0</td>\n",
       "      <td>0</td>\n",
       "      <td>0</td>\n",
       "    </tr>\n",
       "    <tr>\n",
       "      <th>3</th>\n",
       "      <td>93.0</td>\n",
       "      <td>11160.0</td>\n",
       "      <td>1968.0</td>\n",
       "      <td>1968.0</td>\n",
       "      <td>0.0</td>\n",
       "      <td>1.0</td>\n",
       "      <td>0.0</td>\n",
       "      <td>1045.0</td>\n",
       "      <td>2110.0</td>\n",
       "      <td>2110.0</td>\n",
       "      <td>...</td>\n",
       "      <td>0</td>\n",
       "      <td>1</td>\n",
       "      <td>0</td>\n",
       "      <td>0</td>\n",
       "      <td>0</td>\n",
       "      <td>0</td>\n",
       "      <td>0</td>\n",
       "      <td>0</td>\n",
       "      <td>0</td>\n",
       "      <td>0</td>\n",
       "    </tr>\n",
       "    <tr>\n",
       "      <th>4</th>\n",
       "      <td>74.0</td>\n",
       "      <td>13830.0</td>\n",
       "      <td>1997.0</td>\n",
       "      <td>1998.0</td>\n",
       "      <td>0.0</td>\n",
       "      <td>3.0</td>\n",
       "      <td>0.0</td>\n",
       "      <td>137.0</td>\n",
       "      <td>928.0</td>\n",
       "      <td>928.0</td>\n",
       "      <td>...</td>\n",
       "      <td>1</td>\n",
       "      <td>0</td>\n",
       "      <td>0</td>\n",
       "      <td>0</td>\n",
       "      <td>0</td>\n",
       "      <td>0</td>\n",
       "      <td>0</td>\n",
       "      <td>0</td>\n",
       "      <td>0</td>\n",
       "      <td>0</td>\n",
       "    </tr>\n",
       "    <tr>\n",
       "      <th>...</th>\n",
       "      <td>...</td>\n",
       "      <td>...</td>\n",
       "      <td>...</td>\n",
       "      <td>...</td>\n",
       "      <td>...</td>\n",
       "      <td>...</td>\n",
       "      <td>...</td>\n",
       "      <td>...</td>\n",
       "      <td>...</td>\n",
       "      <td>...</td>\n",
       "      <td>...</td>\n",
       "      <td>...</td>\n",
       "      <td>...</td>\n",
       "      <td>...</td>\n",
       "      <td>...</td>\n",
       "      <td>...</td>\n",
       "      <td>...</td>\n",
       "      <td>...</td>\n",
       "      <td>...</td>\n",
       "      <td>...</td>\n",
       "      <td>...</td>\n",
       "    </tr>\n",
       "    <tr>\n",
       "      <th>2925</th>\n",
       "      <td>37.0</td>\n",
       "      <td>7937.0</td>\n",
       "      <td>1984.0</td>\n",
       "      <td>1984.0</td>\n",
       "      <td>0.0</td>\n",
       "      <td>3.0</td>\n",
       "      <td>0.0</td>\n",
       "      <td>184.0</td>\n",
       "      <td>1003.0</td>\n",
       "      <td>1003.0</td>\n",
       "      <td>...</td>\n",
       "      <td>1</td>\n",
       "      <td>0</td>\n",
       "      <td>0</td>\n",
       "      <td>0</td>\n",
       "      <td>0</td>\n",
       "      <td>0</td>\n",
       "      <td>0</td>\n",
       "      <td>0</td>\n",
       "      <td>0</td>\n",
       "      <td>0</td>\n",
       "    </tr>\n",
       "    <tr>\n",
       "      <th>2926</th>\n",
       "      <td>0.0</td>\n",
       "      <td>8885.0</td>\n",
       "      <td>1983.0</td>\n",
       "      <td>1983.0</td>\n",
       "      <td>0.0</td>\n",
       "      <td>2.0</td>\n",
       "      <td>324.0</td>\n",
       "      <td>239.0</td>\n",
       "      <td>864.0</td>\n",
       "      <td>902.0</td>\n",
       "      <td>...</td>\n",
       "      <td>0</td>\n",
       "      <td>0</td>\n",
       "      <td>0</td>\n",
       "      <td>1</td>\n",
       "      <td>0</td>\n",
       "      <td>0</td>\n",
       "      <td>0</td>\n",
       "      <td>0</td>\n",
       "      <td>0</td>\n",
       "      <td>0</td>\n",
       "    </tr>\n",
       "    <tr>\n",
       "      <th>2927</th>\n",
       "      <td>62.0</td>\n",
       "      <td>10441.0</td>\n",
       "      <td>1992.0</td>\n",
       "      <td>1992.0</td>\n",
       "      <td>0.0</td>\n",
       "      <td>3.0</td>\n",
       "      <td>0.0</td>\n",
       "      <td>575.0</td>\n",
       "      <td>912.0</td>\n",
       "      <td>970.0</td>\n",
       "      <td>...</td>\n",
       "      <td>0</td>\n",
       "      <td>0</td>\n",
       "      <td>0</td>\n",
       "      <td>0</td>\n",
       "      <td>1</td>\n",
       "      <td>0</td>\n",
       "      <td>0</td>\n",
       "      <td>0</td>\n",
       "      <td>0</td>\n",
       "      <td>0</td>\n",
       "    </tr>\n",
       "    <tr>\n",
       "      <th>2928</th>\n",
       "      <td>77.0</td>\n",
       "      <td>10010.0</td>\n",
       "      <td>1974.0</td>\n",
       "      <td>1975.0</td>\n",
       "      <td>0.0</td>\n",
       "      <td>1.0</td>\n",
       "      <td>123.0</td>\n",
       "      <td>195.0</td>\n",
       "      <td>1389.0</td>\n",
       "      <td>1389.0</td>\n",
       "      <td>...</td>\n",
       "      <td>0</td>\n",
       "      <td>1</td>\n",
       "      <td>0</td>\n",
       "      <td>0</td>\n",
       "      <td>0</td>\n",
       "      <td>0</td>\n",
       "      <td>0</td>\n",
       "      <td>0</td>\n",
       "      <td>0</td>\n",
       "      <td>0</td>\n",
       "    </tr>\n",
       "    <tr>\n",
       "      <th>2929</th>\n",
       "      <td>74.0</td>\n",
       "      <td>9627.0</td>\n",
       "      <td>1993.0</td>\n",
       "      <td>1994.0</td>\n",
       "      <td>94.0</td>\n",
       "      <td>4.0</td>\n",
       "      <td>0.0</td>\n",
       "      <td>238.0</td>\n",
       "      <td>996.0</td>\n",
       "      <td>996.0</td>\n",
       "      <td>...</td>\n",
       "      <td>0</td>\n",
       "      <td>0</td>\n",
       "      <td>0</td>\n",
       "      <td>0</td>\n",
       "      <td>0</td>\n",
       "      <td>0</td>\n",
       "      <td>0</td>\n",
       "      <td>0</td>\n",
       "      <td>1</td>\n",
       "      <td>0</td>\n",
       "    </tr>\n",
       "  </tbody>\n",
       "</table>\n",
       "<p>2923 rows × 46 columns</p>\n",
       "</div>"
      ],
      "text/plain": [
       "      Lot_Frontage  Lot_Area  Year_Built  Year_Remod_Add  Mas_Vnr_Area  \\\n",
       "0            141.0   31770.0      1960.0          1960.0         112.0   \n",
       "1             80.0   11622.0      1961.0          1961.0           0.0   \n",
       "2             81.0   14267.0      1958.0          1958.0         108.0   \n",
       "3             93.0   11160.0      1968.0          1968.0           0.0   \n",
       "4             74.0   13830.0      1997.0          1998.0           0.0   \n",
       "...            ...       ...         ...             ...           ...   \n",
       "2925          37.0    7937.0      1984.0          1984.0           0.0   \n",
       "2926           0.0    8885.0      1983.0          1983.0           0.0   \n",
       "2927          62.0   10441.0      1992.0          1992.0           0.0   \n",
       "2928          77.0   10010.0      1974.0          1975.0           0.0   \n",
       "2929          74.0    9627.0      1993.0          1994.0          94.0   \n",
       "\n",
       "      BsmtFin_SF_1  BsmtFin_SF_2  Bsmt_Unf_SF  Total_Bsmt_SF  First_Flr_SF  \\\n",
       "0              2.0           0.0        441.0         1080.0        1656.0   \n",
       "1              6.0         144.0        270.0          882.0         896.0   \n",
       "2              1.0           0.0        406.0         1329.0        1329.0   \n",
       "3              1.0           0.0       1045.0         2110.0        2110.0   \n",
       "4              3.0           0.0        137.0          928.0         928.0   \n",
       "...            ...           ...          ...            ...           ...   \n",
       "2925           3.0           0.0        184.0         1003.0        1003.0   \n",
       "2926           2.0         324.0        239.0          864.0         902.0   \n",
       "2927           3.0           0.0        575.0          912.0         970.0   \n",
       "2928           1.0         123.0        195.0         1389.0        1389.0   \n",
       "2929           4.0           0.0        238.0          996.0         996.0   \n",
       "\n",
       "      ...  sales_mo_3.0  sales_mo_4.0  sales_mo_5.0  sales_mo_6.0  \\\n",
       "0     ...             0             0             1             0   \n",
       "1     ...             0             0             0             1   \n",
       "2     ...             0             0             0             1   \n",
       "3     ...             0             1             0             0   \n",
       "4     ...             1             0             0             0   \n",
       "...   ...           ...           ...           ...           ...   \n",
       "2925  ...             1             0             0             0   \n",
       "2926  ...             0             0             0             1   \n",
       "2927  ...             0             0             0             0   \n",
       "2928  ...             0             1             0             0   \n",
       "2929  ...             0             0             0             0   \n",
       "\n",
       "      sales_mo_7.0  sales_mo_8.0  sales_mo_9.0  sales_mo_10.0  sales_mo_11.0  \\\n",
       "0                0             0             0              0              0   \n",
       "1                0             0             0              0              0   \n",
       "2                0             0             0              0              0   \n",
       "3                0             0             0              0              0   \n",
       "4                0             0             0              0              0   \n",
       "...            ...           ...           ...            ...            ...   \n",
       "2925             0             0             0              0              0   \n",
       "2926             0             0             0              0              0   \n",
       "2927             1             0             0              0              0   \n",
       "2928             0             0             0              0              0   \n",
       "2929             0             0             0              0              1   \n",
       "\n",
       "      sales_mo_12.0  \n",
       "0                 0  \n",
       "1                 0  \n",
       "2                 0  \n",
       "3                 0  \n",
       "4                 0  \n",
       "...             ...  \n",
       "2925              0  \n",
       "2926              0  \n",
       "2927              0  \n",
       "2928              0  \n",
       "2929              0  \n",
       "\n",
       "[2923 rows x 46 columns]"
      ]
     },
     "execution_count": 15,
     "metadata": {},
     "output_type": "execute_result"
    }
   ],
   "source": [
    "aDF6"
   ]
  },
  {
   "cell_type": "code",
   "execution_count": 16,
   "metadata": {},
   "outputs": [
    {
     "data": {
      "text/plain": [
       "float64    34\n",
       "int32      12\n",
       "dtype: int64"
      ]
     },
     "execution_count": 16,
     "metadata": {},
     "output_type": "execute_result"
    }
   ],
   "source": [
    "#checking final data types\n",
    "\n",
    "aDF6.dtypes.value_counts()"
   ]
  },
  {
   "cell_type": "markdown",
   "metadata": {},
   "source": [
    "### Transforming year features\n",
    "\n",
    "Let's change each year feature so that it indicates years before 2010.  For ease of exposition, we'll first put the year features into a separate DataFrame, removing them from where they are in aDF6.  We'll transform them, and then put them back into a new DataFrame."
   ]
  },
  {
   "cell_type": "code",
   "execution_count": 17,
   "metadata": {},
   "outputs": [],
   "source": [
    "years=['Year_Built','Year_Remod_Add','Year_Sold']\n",
    "yearsDF=aDF6.loc[:,years]\n",
    "aDF7=aDF6.loc[:,~(aDF6.columns.isin(years))]"
   ]
  },
  {
   "cell_type": "code",
   "execution_count": 18,
   "metadata": {},
   "outputs": [
    {
     "data": {
      "text/html": [
       "<div>\n",
       "<style scoped>\n",
       "    .dataframe tbody tr th:only-of-type {\n",
       "        vertical-align: middle;\n",
       "    }\n",
       "\n",
       "    .dataframe tbody tr th {\n",
       "        vertical-align: top;\n",
       "    }\n",
       "\n",
       "    .dataframe thead th {\n",
       "        text-align: right;\n",
       "    }\n",
       "</style>\n",
       "<table border=\"1\" class=\"dataframe\">\n",
       "  <thead>\n",
       "    <tr style=\"text-align: right;\">\n",
       "      <th></th>\n",
       "      <th>Lot_Frontage</th>\n",
       "      <th>Lot_Area</th>\n",
       "      <th>Mas_Vnr_Area</th>\n",
       "      <th>BsmtFin_SF_1</th>\n",
       "      <th>BsmtFin_SF_2</th>\n",
       "      <th>Bsmt_Unf_SF</th>\n",
       "      <th>Total_Bsmt_SF</th>\n",
       "      <th>First_Flr_SF</th>\n",
       "      <th>Second_Flr_SF</th>\n",
       "      <th>Gr_Liv_Area</th>\n",
       "      <th>...</th>\n",
       "      <th>sales_mo_3.0</th>\n",
       "      <th>sales_mo_4.0</th>\n",
       "      <th>sales_mo_5.0</th>\n",
       "      <th>sales_mo_6.0</th>\n",
       "      <th>sales_mo_7.0</th>\n",
       "      <th>sales_mo_8.0</th>\n",
       "      <th>sales_mo_9.0</th>\n",
       "      <th>sales_mo_10.0</th>\n",
       "      <th>sales_mo_11.0</th>\n",
       "      <th>sales_mo_12.0</th>\n",
       "    </tr>\n",
       "  </thead>\n",
       "  <tbody>\n",
       "    <tr>\n",
       "      <th>0</th>\n",
       "      <td>141.0</td>\n",
       "      <td>31770.0</td>\n",
       "      <td>112.0</td>\n",
       "      <td>2.0</td>\n",
       "      <td>0.0</td>\n",
       "      <td>441.0</td>\n",
       "      <td>1080.0</td>\n",
       "      <td>1656.0</td>\n",
       "      <td>0.0</td>\n",
       "      <td>1656.0</td>\n",
       "      <td>...</td>\n",
       "      <td>0</td>\n",
       "      <td>0</td>\n",
       "      <td>1</td>\n",
       "      <td>0</td>\n",
       "      <td>0</td>\n",
       "      <td>0</td>\n",
       "      <td>0</td>\n",
       "      <td>0</td>\n",
       "      <td>0</td>\n",
       "      <td>0</td>\n",
       "    </tr>\n",
       "    <tr>\n",
       "      <th>1</th>\n",
       "      <td>80.0</td>\n",
       "      <td>11622.0</td>\n",
       "      <td>0.0</td>\n",
       "      <td>6.0</td>\n",
       "      <td>144.0</td>\n",
       "      <td>270.0</td>\n",
       "      <td>882.0</td>\n",
       "      <td>896.0</td>\n",
       "      <td>0.0</td>\n",
       "      <td>896.0</td>\n",
       "      <td>...</td>\n",
       "      <td>0</td>\n",
       "      <td>0</td>\n",
       "      <td>0</td>\n",
       "      <td>1</td>\n",
       "      <td>0</td>\n",
       "      <td>0</td>\n",
       "      <td>0</td>\n",
       "      <td>0</td>\n",
       "      <td>0</td>\n",
       "      <td>0</td>\n",
       "    </tr>\n",
       "    <tr>\n",
       "      <th>2</th>\n",
       "      <td>81.0</td>\n",
       "      <td>14267.0</td>\n",
       "      <td>108.0</td>\n",
       "      <td>1.0</td>\n",
       "      <td>0.0</td>\n",
       "      <td>406.0</td>\n",
       "      <td>1329.0</td>\n",
       "      <td>1329.0</td>\n",
       "      <td>0.0</td>\n",
       "      <td>1329.0</td>\n",
       "      <td>...</td>\n",
       "      <td>0</td>\n",
       "      <td>0</td>\n",
       "      <td>0</td>\n",
       "      <td>1</td>\n",
       "      <td>0</td>\n",
       "      <td>0</td>\n",
       "      <td>0</td>\n",
       "      <td>0</td>\n",
       "      <td>0</td>\n",
       "      <td>0</td>\n",
       "    </tr>\n",
       "    <tr>\n",
       "      <th>3</th>\n",
       "      <td>93.0</td>\n",
       "      <td>11160.0</td>\n",
       "      <td>0.0</td>\n",
       "      <td>1.0</td>\n",
       "      <td>0.0</td>\n",
       "      <td>1045.0</td>\n",
       "      <td>2110.0</td>\n",
       "      <td>2110.0</td>\n",
       "      <td>0.0</td>\n",
       "      <td>2110.0</td>\n",
       "      <td>...</td>\n",
       "      <td>0</td>\n",
       "      <td>1</td>\n",
       "      <td>0</td>\n",
       "      <td>0</td>\n",
       "      <td>0</td>\n",
       "      <td>0</td>\n",
       "      <td>0</td>\n",
       "      <td>0</td>\n",
       "      <td>0</td>\n",
       "      <td>0</td>\n",
       "    </tr>\n",
       "    <tr>\n",
       "      <th>4</th>\n",
       "      <td>74.0</td>\n",
       "      <td>13830.0</td>\n",
       "      <td>0.0</td>\n",
       "      <td>3.0</td>\n",
       "      <td>0.0</td>\n",
       "      <td>137.0</td>\n",
       "      <td>928.0</td>\n",
       "      <td>928.0</td>\n",
       "      <td>701.0</td>\n",
       "      <td>1629.0</td>\n",
       "      <td>...</td>\n",
       "      <td>1</td>\n",
       "      <td>0</td>\n",
       "      <td>0</td>\n",
       "      <td>0</td>\n",
       "      <td>0</td>\n",
       "      <td>0</td>\n",
       "      <td>0</td>\n",
       "      <td>0</td>\n",
       "      <td>0</td>\n",
       "      <td>0</td>\n",
       "    </tr>\n",
       "    <tr>\n",
       "      <th>...</th>\n",
       "      <td>...</td>\n",
       "      <td>...</td>\n",
       "      <td>...</td>\n",
       "      <td>...</td>\n",
       "      <td>...</td>\n",
       "      <td>...</td>\n",
       "      <td>...</td>\n",
       "      <td>...</td>\n",
       "      <td>...</td>\n",
       "      <td>...</td>\n",
       "      <td>...</td>\n",
       "      <td>...</td>\n",
       "      <td>...</td>\n",
       "      <td>...</td>\n",
       "      <td>...</td>\n",
       "      <td>...</td>\n",
       "      <td>...</td>\n",
       "      <td>...</td>\n",
       "      <td>...</td>\n",
       "      <td>...</td>\n",
       "      <td>...</td>\n",
       "    </tr>\n",
       "    <tr>\n",
       "      <th>2925</th>\n",
       "      <td>37.0</td>\n",
       "      <td>7937.0</td>\n",
       "      <td>0.0</td>\n",
       "      <td>3.0</td>\n",
       "      <td>0.0</td>\n",
       "      <td>184.0</td>\n",
       "      <td>1003.0</td>\n",
       "      <td>1003.0</td>\n",
       "      <td>0.0</td>\n",
       "      <td>1003.0</td>\n",
       "      <td>...</td>\n",
       "      <td>1</td>\n",
       "      <td>0</td>\n",
       "      <td>0</td>\n",
       "      <td>0</td>\n",
       "      <td>0</td>\n",
       "      <td>0</td>\n",
       "      <td>0</td>\n",
       "      <td>0</td>\n",
       "      <td>0</td>\n",
       "      <td>0</td>\n",
       "    </tr>\n",
       "    <tr>\n",
       "      <th>2926</th>\n",
       "      <td>0.0</td>\n",
       "      <td>8885.0</td>\n",
       "      <td>0.0</td>\n",
       "      <td>2.0</td>\n",
       "      <td>324.0</td>\n",
       "      <td>239.0</td>\n",
       "      <td>864.0</td>\n",
       "      <td>902.0</td>\n",
       "      <td>0.0</td>\n",
       "      <td>902.0</td>\n",
       "      <td>...</td>\n",
       "      <td>0</td>\n",
       "      <td>0</td>\n",
       "      <td>0</td>\n",
       "      <td>1</td>\n",
       "      <td>0</td>\n",
       "      <td>0</td>\n",
       "      <td>0</td>\n",
       "      <td>0</td>\n",
       "      <td>0</td>\n",
       "      <td>0</td>\n",
       "    </tr>\n",
       "    <tr>\n",
       "      <th>2927</th>\n",
       "      <td>62.0</td>\n",
       "      <td>10441.0</td>\n",
       "      <td>0.0</td>\n",
       "      <td>3.0</td>\n",
       "      <td>0.0</td>\n",
       "      <td>575.0</td>\n",
       "      <td>912.0</td>\n",
       "      <td>970.0</td>\n",
       "      <td>0.0</td>\n",
       "      <td>970.0</td>\n",
       "      <td>...</td>\n",
       "      <td>0</td>\n",
       "      <td>0</td>\n",
       "      <td>0</td>\n",
       "      <td>0</td>\n",
       "      <td>1</td>\n",
       "      <td>0</td>\n",
       "      <td>0</td>\n",
       "      <td>0</td>\n",
       "      <td>0</td>\n",
       "      <td>0</td>\n",
       "    </tr>\n",
       "    <tr>\n",
       "      <th>2928</th>\n",
       "      <td>77.0</td>\n",
       "      <td>10010.0</td>\n",
       "      <td>0.0</td>\n",
       "      <td>1.0</td>\n",
       "      <td>123.0</td>\n",
       "      <td>195.0</td>\n",
       "      <td>1389.0</td>\n",
       "      <td>1389.0</td>\n",
       "      <td>0.0</td>\n",
       "      <td>1389.0</td>\n",
       "      <td>...</td>\n",
       "      <td>0</td>\n",
       "      <td>1</td>\n",
       "      <td>0</td>\n",
       "      <td>0</td>\n",
       "      <td>0</td>\n",
       "      <td>0</td>\n",
       "      <td>0</td>\n",
       "      <td>0</td>\n",
       "      <td>0</td>\n",
       "      <td>0</td>\n",
       "    </tr>\n",
       "    <tr>\n",
       "      <th>2929</th>\n",
       "      <td>74.0</td>\n",
       "      <td>9627.0</td>\n",
       "      <td>94.0</td>\n",
       "      <td>4.0</td>\n",
       "      <td>0.0</td>\n",
       "      <td>238.0</td>\n",
       "      <td>996.0</td>\n",
       "      <td>996.0</td>\n",
       "      <td>1004.0</td>\n",
       "      <td>2000.0</td>\n",
       "      <td>...</td>\n",
       "      <td>0</td>\n",
       "      <td>0</td>\n",
       "      <td>0</td>\n",
       "      <td>0</td>\n",
       "      <td>0</td>\n",
       "      <td>0</td>\n",
       "      <td>0</td>\n",
       "      <td>0</td>\n",
       "      <td>1</td>\n",
       "      <td>0</td>\n",
       "    </tr>\n",
       "  </tbody>\n",
       "</table>\n",
       "<p>2923 rows × 43 columns</p>\n",
       "</div>"
      ],
      "text/plain": [
       "      Lot_Frontage  Lot_Area  Mas_Vnr_Area  BsmtFin_SF_1  BsmtFin_SF_2  \\\n",
       "0            141.0   31770.0         112.0           2.0           0.0   \n",
       "1             80.0   11622.0           0.0           6.0         144.0   \n",
       "2             81.0   14267.0         108.0           1.0           0.0   \n",
       "3             93.0   11160.0           0.0           1.0           0.0   \n",
       "4             74.0   13830.0           0.0           3.0           0.0   \n",
       "...            ...       ...           ...           ...           ...   \n",
       "2925          37.0    7937.0           0.0           3.0           0.0   \n",
       "2926           0.0    8885.0           0.0           2.0         324.0   \n",
       "2927          62.0   10441.0           0.0           3.0           0.0   \n",
       "2928          77.0   10010.0           0.0           1.0         123.0   \n",
       "2929          74.0    9627.0          94.0           4.0           0.0   \n",
       "\n",
       "      Bsmt_Unf_SF  Total_Bsmt_SF  First_Flr_SF  Second_Flr_SF  Gr_Liv_Area  \\\n",
       "0           441.0         1080.0        1656.0            0.0       1656.0   \n",
       "1           270.0          882.0         896.0            0.0        896.0   \n",
       "2           406.0         1329.0        1329.0            0.0       1329.0   \n",
       "3          1045.0         2110.0        2110.0            0.0       2110.0   \n",
       "4           137.0          928.0         928.0          701.0       1629.0   \n",
       "...           ...            ...           ...            ...          ...   \n",
       "2925        184.0         1003.0        1003.0            0.0       1003.0   \n",
       "2926        239.0          864.0         902.0            0.0        902.0   \n",
       "2927        575.0          912.0         970.0            0.0        970.0   \n",
       "2928        195.0         1389.0        1389.0            0.0       1389.0   \n",
       "2929        238.0          996.0         996.0         1004.0       2000.0   \n",
       "\n",
       "      ...  sales_mo_3.0  sales_mo_4.0  sales_mo_5.0  sales_mo_6.0  \\\n",
       "0     ...             0             0             1             0   \n",
       "1     ...             0             0             0             1   \n",
       "2     ...             0             0             0             1   \n",
       "3     ...             0             1             0             0   \n",
       "4     ...             1             0             0             0   \n",
       "...   ...           ...           ...           ...           ...   \n",
       "2925  ...             1             0             0             0   \n",
       "2926  ...             0             0             0             1   \n",
       "2927  ...             0             0             0             0   \n",
       "2928  ...             0             1             0             0   \n",
       "2929  ...             0             0             0             0   \n",
       "\n",
       "      sales_mo_7.0  sales_mo_8.0  sales_mo_9.0  sales_mo_10.0  sales_mo_11.0  \\\n",
       "0                0             0             0              0              0   \n",
       "1                0             0             0              0              0   \n",
       "2                0             0             0              0              0   \n",
       "3                0             0             0              0              0   \n",
       "4                0             0             0              0              0   \n",
       "...            ...           ...           ...            ...            ...   \n",
       "2925             0             0             0              0              0   \n",
       "2926             0             0             0              0              0   \n",
       "2927             1             0             0              0              0   \n",
       "2928             0             0             0              0              0   \n",
       "2929             0             0             0              0              1   \n",
       "\n",
       "      sales_mo_12.0  \n",
       "0                 0  \n",
       "1                 0  \n",
       "2                 0  \n",
       "3                 0  \n",
       "4                 0  \n",
       "...             ...  \n",
       "2925              0  \n",
       "2926              0  \n",
       "2927              0  \n",
       "2928              0  \n",
       "2929              0  \n",
       "\n",
       "[2923 rows x 43 columns]"
      ]
     },
     "execution_count": 18,
     "metadata": {},
     "output_type": "execute_result"
    }
   ],
   "source": [
    "aDF7"
   ]
  },
  {
   "cell_type": "code",
   "execution_count": 19,
   "metadata": {},
   "outputs": [
    {
     "data": {
      "text/html": [
       "<div>\n",
       "<style scoped>\n",
       "    .dataframe tbody tr th:only-of-type {\n",
       "        vertical-align: middle;\n",
       "    }\n",
       "\n",
       "    .dataframe tbody tr th {\n",
       "        vertical-align: top;\n",
       "    }\n",
       "\n",
       "    .dataframe thead th {\n",
       "        text-align: right;\n",
       "    }\n",
       "</style>\n",
       "<table border=\"1\" class=\"dataframe\">\n",
       "  <thead>\n",
       "    <tr style=\"text-align: right;\">\n",
       "      <th></th>\n",
       "      <th>Year_Built</th>\n",
       "      <th>Year_Remod_Add</th>\n",
       "      <th>Year_Sold</th>\n",
       "    </tr>\n",
       "  </thead>\n",
       "  <tbody>\n",
       "    <tr>\n",
       "      <th>0</th>\n",
       "      <td>50.0</td>\n",
       "      <td>50.0</td>\n",
       "      <td>0.0</td>\n",
       "    </tr>\n",
       "    <tr>\n",
       "      <th>1</th>\n",
       "      <td>49.0</td>\n",
       "      <td>49.0</td>\n",
       "      <td>0.0</td>\n",
       "    </tr>\n",
       "    <tr>\n",
       "      <th>2</th>\n",
       "      <td>52.0</td>\n",
       "      <td>52.0</td>\n",
       "      <td>0.0</td>\n",
       "    </tr>\n",
       "    <tr>\n",
       "      <th>3</th>\n",
       "      <td>42.0</td>\n",
       "      <td>42.0</td>\n",
       "      <td>0.0</td>\n",
       "    </tr>\n",
       "    <tr>\n",
       "      <th>4</th>\n",
       "      <td>13.0</td>\n",
       "      <td>12.0</td>\n",
       "      <td>0.0</td>\n",
       "    </tr>\n",
       "  </tbody>\n",
       "</table>\n",
       "</div>"
      ],
      "text/plain": [
       "   Year_Built  Year_Remod_Add  Year_Sold\n",
       "0        50.0            50.0        0.0\n",
       "1        49.0            49.0        0.0\n",
       "2        52.0            52.0        0.0\n",
       "3        42.0            42.0        0.0\n",
       "4        13.0            12.0        0.0"
      ]
     },
     "execution_count": 19,
     "metadata": {},
     "output_type": "execute_result"
    }
   ],
   "source": [
    "yearsDF=yearsDF.transform(lambda x: 2010-x)\n",
    "yearsDF.head()"
   ]
  },
  {
   "cell_type": "code",
   "execution_count": 20,
   "metadata": {},
   "outputs": [
    {
     "data": {
      "text/plain": [
       "Index(['Lot_Frontage', 'Lot_Area', 'Mas_Vnr_Area', 'BsmtFin_SF_1',\n",
       "       'BsmtFin_SF_2', 'Bsmt_Unf_SF', 'Total_Bsmt_SF', 'First_Flr_SF',\n",
       "       'Second_Flr_SF', 'Gr_Liv_Area', 'Bsmt_Full_Bath', 'Bsmt_Half_Bath',\n",
       "       'Full_Bath', 'Half_Bath', 'Bedroom_AbvGr', 'Kitchen_AbvGr',\n",
       "       'TotRms_AbvGrd', 'Fireplaces', 'Garage_Cars', 'Garage_Area',\n",
       "       'Wood_Deck_SF', 'Open_Porch_SF', 'Enclosed_Porch', 'Three_season_porch',\n",
       "       'Screen_Porch', 'Pool_Area', 'Misc_Val', 'Mo_Sold', 'Sale_Price',\n",
       "       'Longitude', 'Latitude', 'sales_mo_1.0', 'sales_mo_2.0', 'sales_mo_3.0',\n",
       "       'sales_mo_4.0', 'sales_mo_5.0', 'sales_mo_6.0', 'sales_mo_7.0',\n",
       "       'sales_mo_8.0', 'sales_mo_9.0', 'sales_mo_10.0', 'sales_mo_11.0',\n",
       "       'sales_mo_12.0', 'Year_Built', 'Year_Remod_Add', 'Year_Sold'],\n",
       "      dtype='object')"
      ]
     },
     "execution_count": 20,
     "metadata": {},
     "output_type": "execute_result"
    }
   ],
   "source": [
    "aDF8=pd.concat([aDF7,yearsDF],axis=1)\n",
    "aDF8.columns"
   ]
  },
  {
   "cell_type": "markdown",
   "metadata": {},
   "source": [
    "## Training and Test Data\n",
    "\n",
    "We'll set aside a randomly selected 20% of of the data in aDF8 to use as final test data.  We'll first separate our y target, _Sale_Price_ from the other variables, and we'll select some features to use in training our RF model.  "
   ]
  },
  {
   "cell_type": "code",
   "execution_count": 21,
   "metadata": {},
   "outputs": [
    {
     "data": {
      "text/plain": [
       "(2923,)"
      ]
     },
     "execution_count": 21,
     "metadata": {},
     "output_type": "execute_result"
    }
   ],
   "source": [
    "y=aDF8.Sale_Price.to_numpy(copy=True)  # extract np array from the DataFrame\n",
    "SFfeats=aDF8.columns.to_list()[:10]   #SFfeatures\n",
    "salesFeats=list(filter(lambda s: s.startswith('sales_'),\n",
    "                       aDF8.columns.to_list()))   # sales month feature\n",
    "\n",
    "RFfeatures=SFfeats+salesFeats\n",
    "X=aDF8.loc[:,RFfeatures].to_numpy(copy=True)    # saving the names\n",
    "X.shape\n",
    "y.shape"
   ]
  },
  {
   "cell_type": "code",
   "execution_count": 22,
   "metadata": {},
   "outputs": [
    {
     "data": {
      "text/plain": [
       "(2923, 22)"
      ]
     },
     "execution_count": 22,
     "metadata": {},
     "output_type": "execute_result"
    }
   ],
   "source": [
    "len(RFfeatures)\n",
    "X.shape"
   ]
  },
  {
   "cell_type": "code",
   "execution_count": 23,
   "metadata": {},
   "outputs": [],
   "source": [
    "# RFfeatures   # list to scrutinize"
   ]
  },
  {
   "cell_type": "code",
   "execution_count": 24,
   "metadata": {},
   "outputs": [
    {
     "data": {
      "text/plain": [
       "((2192, 22), (731, 22))"
      ]
     },
     "execution_count": 24,
     "metadata": {},
     "output_type": "execute_result"
    }
   ],
   "source": [
    "XTrain, XTest, yTrain, yTest = train_test_split(X,y, random_state=11)\n",
    "trainTestData=[XTrain,XTest, yTrain, yTest]\n",
    "XTrain.shape, XTest.shape"
   ]
  },
  {
   "cell_type": "code",
   "execution_count": 26,
   "metadata": {},
   "outputs": [
    {
     "data": {
      "text/plain": [
       "array([ 68400., 212000., 229000., ..., 122250., 350000., 148000.])"
      ]
     },
     "execution_count": 26,
     "metadata": {},
     "output_type": "execute_result"
    }
   ],
   "source": [
    "yTrain"
   ]
  },
  {
   "cell_type": "markdown",
   "metadata": {},
   "source": [
    "## Do Your Features Vary?\n",
    "\n",
    "A feature that does not vary, i.e., that has a constant value across all data observations, can't predict anything.  This would be a good place to check all selected features and the target for insufficient variation. Training and test data should be examined."
   ]
  },
  {
   "cell_type": "markdown",
   "metadata": {},
   "source": [
    "#### Save Da Data"
   ]
  },
  {
   "cell_type": "code",
   "execution_count": null,
   "metadata": {},
   "outputs": [],
   "source": [
    "RFdb=PickleShareDB('RF.pickleDB')\n",
    "RFdb.clear()"
   ]
  },
  {
   "cell_type": "code",
   "execution_count": null,
   "metadata": {},
   "outputs": [],
   "source": [
    "RFdb['trainTestData']=trainTestData"
   ]
  },
  {
   "cell_type": "markdown",
   "metadata": {},
   "source": [
    "## RF Training\n",
    "\n",
    "Let's train an RF ensemble model using the hyperparameter settings suggested in the Assignment Guide:\n",
    "\n",
    "* Number of trees = 100\n",
    "* Maximum number of features = none\n",
    "* Out of bag (OOB) observations used for validation = True"
   ]
  },
  {
   "cell_type": "code",
   "execution_count": null,
   "metadata": {},
   "outputs": [],
   "source": [
    "RFregr=RandomForestRegressor(max_features=None,oob_score=True,n_jobs=-1,\n",
    "                            random_state=11)\n",
    "RFregr.fit(XTrain,yTrain)"
   ]
  },
  {
   "cell_type": "code",
   "execution_count": null,
   "metadata": {},
   "outputs": [],
   "source": [
    "print(f'RF R Squared, Training: {RFregr.score(XTrain,yTrain):5.3f}')\n",
    "print(f'RF R Squared, OOB: {RFregr.oob_score_:5.3f}')"
   ]
  },
  {
   "cell_type": "markdown",
   "metadata": {},
   "source": [
    "Let's take a look the $R^2$ based on the test data:"
   ]
  },
  {
   "cell_type": "code",
   "execution_count": null,
   "metadata": {},
   "outputs": [],
   "source": [
    "predTesty=RFregr.predict(XTest)\n",
    "print(f'Test Data R Squared: {r2_score(yTest,predTesty):4.3f}')"
   ]
  },
  {
   "cell_type": "markdown",
   "metadata": {},
   "source": [
    "This model definitely needs an intervention.  But just for the sake of demo'ing, let's look at the _importance measures_ for the features."
   ]
  },
  {
   "cell_type": "code",
   "execution_count": null,
   "metadata": {},
   "outputs": [],
   "source": [
    "RFregr.feature_importances_"
   ]
  },
  {
   "cell_type": "markdown",
   "metadata": {},
   "source": [
    "We can stick them in a DataFrame, plot them, whatever."
   ]
  },
  {
   "cell_type": "code",
   "execution_count": null,
   "metadata": {},
   "outputs": [],
   "source": [
    "RFFeatImpDF=pd.DataFrame({'feature':RFfeatures,\n",
    "                          'importance':RFregr.feature_importances_})"
   ]
  },
  {
   "cell_type": "code",
   "execution_count": null,
   "metadata": {},
   "outputs": [],
   "source": [
    "print('Feature importances')\n",
    "RFFeatImpDF.sort_values('importance',ascending=False)"
   ]
  },
  {
   "cell_type": "markdown",
   "metadata": {},
   "source": [
    "See also [permutation feature importance on scikit-learn.org](https://scikit-learn.org/stable/modules/permutation_importance.html#permutation-importance)."
   ]
  },
  {
   "cell_type": "markdown",
   "metadata": {},
   "source": [
    "## Overfit?\n",
    "\n",
    "It appears that this model is overfitting the training data.  You could do a grid search to tune various hyperparameters.  Not required for this assignment, but you can do, if you're so inclined.\n",
    "\n",
    "Here, let's try changing just the maximum number of features used to _log2_, which is a common recommendation when training a RF regressor."
   ]
  },
  {
   "cell_type": "code",
   "execution_count": null,
   "metadata": {},
   "outputs": [],
   "source": [
    "RFregr2=RandomForestRegressor(max_features='log2',oob_score=True,n_jobs=-1,\n",
    "                            random_state=11)\n",
    "RFregr2.fit(XTrain,yTrain)"
   ]
  },
  {
   "cell_type": "code",
   "execution_count": null,
   "metadata": {},
   "outputs": [],
   "source": [
    "print(f'RF R Squared, Training: {RFregr2.score(XTrain,yTrain):4.3f}')\n",
    "print(f'RF R Squared, OOB: {RFregr2.oob_score_:4.3f}')"
   ]
  },
  {
   "cell_type": "code",
   "execution_count": null,
   "metadata": {},
   "outputs": [],
   "source": [
    "predTesty=RFregr2.predict(XTest)\n",
    "print(f'Test Data R Squared: {r2_score(yTest,predTesty):4.3f}')"
   ]
  },
  {
   "cell_type": "markdown",
   "metadata": {},
   "source": [
    "Next, you could try reducing the tree depth, or reducing max_features.  You might also look into increasing the number of trees. What effects do you think each of these changes would have on model fit and generalization?"
   ]
  }
 ],
 "metadata": {
  "hide_input": false,
  "kernelspec": {
   "display_name": "Python 3",
   "language": "python",
   "name": "python3"
  },
  "language_info": {
   "codemirror_mode": {
    "name": "ipython",
    "version": 3
   },
   "file_extension": ".py",
   "mimetype": "text/x-python",
   "name": "python",
   "nbconvert_exporter": "python",
   "pygments_lexer": "ipython3",
   "version": "3.7.6"
  },
  "latex_envs": {
   "LaTeX_envs_menu_present": true,
   "autoclose": false,
   "autocomplete": true,
   "bibliofile": "biblio.bib",
   "cite_by": "apalike",
   "current_citInitial": 1,
   "eqLabelWithNumbers": true,
   "eqNumInitial": 1,
   "hotkeys": {
    "equation": "Ctrl-E",
    "itemize": "Ctrl-I"
   },
   "labels_anchors": false,
   "latex_user_defs": false,
   "report_style_numbering": false,
   "user_envs_cfg": false
  },
  "toc": {
   "base_numbering": 1,
   "nav_menu": {},
   "number_sections": false,
   "sideBar": true,
   "skip_h1_title": false,
   "title_cell": "Table of Contents",
   "title_sidebar": "Contents",
   "toc_cell": false,
   "toc_position": {
    "height": "calc(100% - 180px)",
    "left": "10px",
    "top": "150px",
    "width": "305.267px"
   },
   "toc_section_display": true,
   "toc_window_display": false
  }
 },
 "nbformat": 4,
 "nbformat_minor": 4
}
