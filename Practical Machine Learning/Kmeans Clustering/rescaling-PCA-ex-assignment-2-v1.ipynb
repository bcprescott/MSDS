{
 "cells": [
  {
   "cell_type": "markdown",
   "metadata": {},
   "source": [
    "Creative Commons CC BY 4.0 Lynd Bacon & Associates, Ltd. Not warranted to be suitable for any particular purpose. (You're on your own!)"
   ]
  },
  {
   "cell_type": "code",
   "execution_count": null,
   "metadata": {},
   "outputs": [],
   "source": [
    "from IPython.core.interactiveshell import InteractiveShell\n",
    "InteractiveShell.ast_node_interactivity = \"all\""
   ]
  },
  {
   "cell_type": "markdown",
   "metadata": {},
   "source": [
    "<h1 align='center'>Assignment 2 Rescaling and PCA Examples v1</h1>\n",
    "\n",
    "Assignment 2 includes objectives involving the rescaling of features, and extracting principal components from features.  What follows are some examples using a subset of the Assignment 2 data."
   ]
  },
  {
   "cell_type": "code",
   "execution_count": 1,
   "metadata": {},
   "outputs": [],
   "source": [
    "import numpy as np\n",
    "import pandas as pd\n",
    "import os\n",
    "import joblib\n",
    "import pickle\n",
    "import pickleshare\n",
    "%matplotlib inline\n",
    "import matplotlib.pyplot as plt\n",
    "import seaborn as sns\n",
    "import math"
   ]
  },
  {
   "cell_type": "markdown",
   "metadata": {},
   "source": [
    "## Loading Some Example Data\n",
    "\n",
    "These are a subset of the numerical features used in the assignment."
   ]
  },
  {
   "cell_type": "code",
   "execution_count": 2,
   "metadata": {},
   "outputs": [
    {
     "data": {
      "text/plain": [
       "['.ipynb_checkpoints',\n",
       " '2-Assignment-2-Guide-v1.ipynb',\n",
       " 'ames-data-info.zip',\n",
       " 'amesDF.pickle',\n",
       " 'amesNumDFclean.pickle',\n",
       " 'amesSelDF.pickle',\n",
       " 'BenPrescott_Assignment2.ipynb',\n",
       " 'data-input-select-ex-assignment-2-v1.ipynb',\n",
       " 'DataDocumentation.txt',\n",
       " 'decock.pdf',\n",
       " 'kmeans-assignment-2-ex-v2.ipynb',\n",
       " 'NAME.docx',\n",
       " 'rescaling-PCA-ex-assignment-2-v1.ipynb',\n",
       " 'RF-example-v1.ipynb',\n",
       " 'saved_notebook.db']"
      ]
     },
     "execution_count": 2,
     "metadata": {},
     "output_type": "execute_result"
    }
   ],
   "source": [
    "os.listdir()   #what's in the current working directory (cwd)"
   ]
  },
  {
   "cell_type": "code",
   "execution_count": 3,
   "metadata": {},
   "outputs": [
    {
     "data": {
      "text/plain": [
       "Lot_Frontage     int64\n",
       "Lot_Area         int64\n",
       "Mas_Vnr_Area     int64\n",
       "Bsmt_Unf_SF      int64\n",
       "Total_Bsmt_SF    int64\n",
       "First_Flr_SF     int64\n",
       "Second_Flr_SF    int64\n",
       "Gr_Liv_Area      int64\n",
       "Bedroom_AbvGr    int64\n",
       "Kitchen_AbvGr    int64\n",
       "TotRms_AbvGrd    int64\n",
       "Fireplaces       int64\n",
       "Garage_Area      int64\n",
       "Wood_Deck_SF     int64\n",
       "Open_Porch_SF    int64\n",
       "Sale_Price       int64\n",
       "dtype: object"
      ]
     },
     "execution_count": 3,
     "metadata": {},
     "output_type": "execute_result"
    }
   ],
   "source": [
    "amesDF=pd.read_pickle('amesSelDF.pickle')  # assumes the file is in the cwd\n",
    "amesDF.dtypes"
   ]
  },
  {
   "cell_type": "markdown",
   "metadata": {},
   "source": [
    "We can cast all these measures to type \"float:\""
   ]
  },
  {
   "cell_type": "code",
   "execution_count": 4,
   "metadata": {},
   "outputs": [
    {
     "data": {
      "text/plain": [
       "Lot_Frontage     float32\n",
       "Lot_Area         float32\n",
       "Mas_Vnr_Area     float32\n",
       "Bsmt_Unf_SF      float32\n",
       "Total_Bsmt_SF    float32\n",
       "First_Flr_SF     float32\n",
       "Second_Flr_SF    float32\n",
       "Gr_Liv_Area      float32\n",
       "Bedroom_AbvGr    float32\n",
       "Kitchen_AbvGr    float32\n",
       "TotRms_AbvGrd    float32\n",
       "Fireplaces       float32\n",
       "Garage_Area      float32\n",
       "Wood_Deck_SF     float32\n",
       "Open_Porch_SF    float32\n",
       "Sale_Price       float32\n",
       "dtype: object"
      ]
     },
     "execution_count": 4,
     "metadata": {},
     "output_type": "execute_result"
    }
   ],
   "source": [
    "amesDF2=amesDF.astype('float32')\n",
    "amesDF2.dtypes"
   ]
  },
  {
   "cell_type": "markdown",
   "metadata": {},
   "source": [
    "## Splitting for training and test data\n",
    "\n",
    "In Assignment 2 you'll be using data to train and validate two different kinds of ensemble learners, a RandomForest (RF) regression model, and an AdaBoost regression model.  RF can be validated using \"out of bag\" (OOB) data points.  AdaBoost doesn't have this characteristic.  In Assignment 2 you'll be training both kind of ensemble learners using different versions of the features you'll use.  You'll be rescaling your features data using one of two methods, either \"minmax\" or standardization rescaling.  The effect of both of these is to make all features have the same range of values.  It's the opinion of many that doing this sort of rescaling before training many ML models will improve a model's performance.\n",
    "\n",
    "You'll want to rescale your training and your test data separately, using the training data to \"learn\" the rescaling transformation, and then applying the learned transformation to the training data, and to the test data.  The learning consists of quantities computed from the data that are used in the rescaling performed.  The minimum and maximum data values are used in minmax training.  The mean and the standard deviation of the data values are used in standardization rescaling. "
   ]
  },
  {
   "cell_type": "code",
   "execution_count": 5,
   "metadata": {},
   "outputs": [
    {
     "data": {
      "text/plain": [
       "(2930,)"
      ]
     },
     "execution_count": 5,
     "metadata": {},
     "output_type": "execute_result"
    }
   ],
   "source": [
    "from sklearn.model_selection import train_test_split\n",
    "X=amesDF.loc[:,~(amesDF.columns.isin(['Sale_Price']))].to_numpy(copy=True)\n",
    "y=amesDF.Sale_Price.to_numpy(copy=True)\n",
    "X.shape\n",
    "y.shape"
   ]
  },
  {
   "cell_type": "code",
   "execution_count": 6,
   "metadata": {},
   "outputs": [],
   "source": [
    "trainX,testX,trainy, testy = train_test_split(X,y,test_size=0.15,\n",
    "                                              random_state=33)"
   ]
  },
  {
   "cell_type": "markdown",
   "metadata": {},
   "source": [
    "## Rescaling\n",
    "\n",
    "There are several different ways to rescale features.   You are asked to use one of minmax and standardizing. Here we'll apply the former. You can use either one when doing the assignment.\n",
    "\n",
    "_scikit-learn_ includes many different ways of rescaling and transforming data values.  The are summarized at [scikit-learn preprocessing](https://scikit-learn.org/stable/modules/classes.html?highlight=preprocessing#module-sklearn.preprocessing)."
   ]
  },
  {
   "cell_type": "code",
   "execution_count": 7,
   "metadata": {},
   "outputs": [],
   "source": [
    "from sklearn.preprocessing import MinMaxScaler\n",
    "scaler=MinMaxScaler()\n",
    "scaler.fit(trainX)\n",
    "trainXS=scaler.transform(trainX)\n",
    "testXS=scaler.transform(testX)"
   ]
  },
  {
   "cell_type": "markdown",
   "metadata": {},
   "source": [
    "Examine the summary statistics that follow to be sure they make sense to you.  Note that we didn't rescale y, the target variable we're going to predict with some ensemble models."
   ]
  },
  {
   "cell_type": "code",
   "execution_count": 8,
   "metadata": {},
   "outputs": [
    {
     "data": {
      "text/html": [
       "<div>\n",
       "<style scoped>\n",
       "    .dataframe tbody tr th:only-of-type {\n",
       "        vertical-align: middle;\n",
       "    }\n",
       "\n",
       "    .dataframe tbody tr th {\n",
       "        vertical-align: top;\n",
       "    }\n",
       "\n",
       "    .dataframe thead th {\n",
       "        text-align: right;\n",
       "    }\n",
       "</style>\n",
       "<table border=\"1\" class=\"dataframe\">\n",
       "  <thead>\n",
       "    <tr style=\"text-align: right;\">\n",
       "      <th></th>\n",
       "      <th>0</th>\n",
       "      <th>1</th>\n",
       "      <th>2</th>\n",
       "      <th>3</th>\n",
       "      <th>4</th>\n",
       "      <th>5</th>\n",
       "      <th>6</th>\n",
       "      <th>7</th>\n",
       "      <th>8</th>\n",
       "      <th>9</th>\n",
       "      <th>10</th>\n",
       "      <th>11</th>\n",
       "      <th>12</th>\n",
       "      <th>13</th>\n",
       "      <th>14</th>\n",
       "    </tr>\n",
       "  </thead>\n",
       "  <tbody>\n",
       "    <tr>\n",
       "      <th>count</th>\n",
       "      <td>440.000000</td>\n",
       "      <td>440.000000</td>\n",
       "      <td>440.000000</td>\n",
       "      <td>440.000000</td>\n",
       "      <td>440.000000</td>\n",
       "      <td>440.000000</td>\n",
       "      <td>440.000000</td>\n",
       "      <td>440.000000</td>\n",
       "      <td>440.000000</td>\n",
       "      <td>440.000000</td>\n",
       "      <td>440.000000</td>\n",
       "      <td>440.000000</td>\n",
       "      <td>440.000000</td>\n",
       "      <td>440.000000</td>\n",
       "      <td>440.000000</td>\n",
       "    </tr>\n",
       "    <tr>\n",
       "      <th>mean</th>\n",
       "      <td>0.189893</td>\n",
       "      <td>0.054373</td>\n",
       "      <td>0.079664</td>\n",
       "      <td>0.248216</td>\n",
       "      <td>0.178356</td>\n",
       "      <td>0.175322</td>\n",
       "      <td>0.193005</td>\n",
       "      <td>0.225935</td>\n",
       "      <td>0.362500</td>\n",
       "      <td>0.343182</td>\n",
       "      <td>0.349650</td>\n",
       "      <td>0.157955</td>\n",
       "      <td>0.337104</td>\n",
       "      <td>0.065267</td>\n",
       "      <td>0.068840</td>\n",
       "    </tr>\n",
       "    <tr>\n",
       "      <th>std</th>\n",
       "      <td>0.106842</td>\n",
       "      <td>0.067295</td>\n",
       "      <td>0.143081</td>\n",
       "      <td>0.188616</td>\n",
       "      <td>0.068090</td>\n",
       "      <td>0.081179</td>\n",
       "      <td>0.240741</td>\n",
       "      <td>0.101725</td>\n",
       "      <td>0.103264</td>\n",
       "      <td>0.060822</td>\n",
       "      <td>0.122377</td>\n",
       "      <td>0.173055</td>\n",
       "      <td>0.156356</td>\n",
       "      <td>0.087935</td>\n",
       "      <td>0.091116</td>\n",
       "    </tr>\n",
       "    <tr>\n",
       "      <th>min</th>\n",
       "      <td>0.000000</td>\n",
       "      <td>0.001077</td>\n",
       "      <td>0.000000</td>\n",
       "      <td>0.000000</td>\n",
       "      <td>0.000000</td>\n",
       "      <td>0.021844</td>\n",
       "      <td>0.000000</td>\n",
       "      <td>0.019593</td>\n",
       "      <td>0.000000</td>\n",
       "      <td>0.000000</td>\n",
       "      <td>0.076923</td>\n",
       "      <td>0.000000</td>\n",
       "      <td>0.000000</td>\n",
       "      <td>0.000000</td>\n",
       "      <td>0.000000</td>\n",
       "    </tr>\n",
       "    <tr>\n",
       "      <th>25%</th>\n",
       "      <td>0.140575</td>\n",
       "      <td>0.036609</td>\n",
       "      <td>0.000000</td>\n",
       "      <td>0.105415</td>\n",
       "      <td>0.136170</td>\n",
       "      <td>0.115522</td>\n",
       "      <td>0.000000</td>\n",
       "      <td>0.152176</td>\n",
       "      <td>0.250000</td>\n",
       "      <td>0.333333</td>\n",
       "      <td>0.230769</td>\n",
       "      <td>0.000000</td>\n",
       "      <td>0.236953</td>\n",
       "      <td>0.000000</td>\n",
       "      <td>0.000000</td>\n",
       "    </tr>\n",
       "    <tr>\n",
       "      <th>50%</th>\n",
       "      <td>0.202875</td>\n",
       "      <td>0.048641</td>\n",
       "      <td>0.000000</td>\n",
       "      <td>0.197132</td>\n",
       "      <td>0.163666</td>\n",
       "      <td>0.156585</td>\n",
       "      <td>0.000000</td>\n",
       "      <td>0.212980</td>\n",
       "      <td>0.375000</td>\n",
       "      <td>0.333333</td>\n",
       "      <td>0.307692</td>\n",
       "      <td>0.250000</td>\n",
       "      <td>0.337800</td>\n",
       "      <td>0.000000</td>\n",
       "      <td>0.043127</td>\n",
       "    </tr>\n",
       "    <tr>\n",
       "      <th>75%</th>\n",
       "      <td>0.249201</td>\n",
       "      <td>0.061485</td>\n",
       "      <td>0.125181</td>\n",
       "      <td>0.355522</td>\n",
       "      <td>0.217594</td>\n",
       "      <td>0.224375</td>\n",
       "      <td>0.391960</td>\n",
       "      <td>0.273267</td>\n",
       "      <td>0.375000</td>\n",
       "      <td>0.333333</td>\n",
       "      <td>0.384615</td>\n",
       "      <td>0.250000</td>\n",
       "      <td>0.407793</td>\n",
       "      <td>0.117978</td>\n",
       "      <td>0.107817</td>\n",
       "    </tr>\n",
       "    <tr>\n",
       "      <th>max</th>\n",
       "      <td>0.581470</td>\n",
       "      <td>1.309654</td>\n",
       "      <td>1.161103</td>\n",
       "      <td>0.907962</td>\n",
       "      <td>0.513584</td>\n",
       "      <td>0.588952</td>\n",
       "      <td>1.103098</td>\n",
       "      <td>0.818011</td>\n",
       "      <td>0.750000</td>\n",
       "      <td>0.666667</td>\n",
       "      <td>0.769231</td>\n",
       "      <td>0.750000</td>\n",
       "      <td>1.049365</td>\n",
       "      <td>0.511236</td>\n",
       "      <td>0.676550</td>\n",
       "    </tr>\n",
       "  </tbody>\n",
       "</table>\n",
       "</div>"
      ],
      "text/plain": [
       "               0           1           2           3           4           5   \\\n",
       "count  440.000000  440.000000  440.000000  440.000000  440.000000  440.000000   \n",
       "mean     0.189893    0.054373    0.079664    0.248216    0.178356    0.175322   \n",
       "std      0.106842    0.067295    0.143081    0.188616    0.068090    0.081179   \n",
       "min      0.000000    0.001077    0.000000    0.000000    0.000000    0.021844   \n",
       "25%      0.140575    0.036609    0.000000    0.105415    0.136170    0.115522   \n",
       "50%      0.202875    0.048641    0.000000    0.197132    0.163666    0.156585   \n",
       "75%      0.249201    0.061485    0.125181    0.355522    0.217594    0.224375   \n",
       "max      0.581470    1.309654    1.161103    0.907962    0.513584    0.588952   \n",
       "\n",
       "               6           7           8           9           10          11  \\\n",
       "count  440.000000  440.000000  440.000000  440.000000  440.000000  440.000000   \n",
       "mean     0.193005    0.225935    0.362500    0.343182    0.349650    0.157955   \n",
       "std      0.240741    0.101725    0.103264    0.060822    0.122377    0.173055   \n",
       "min      0.000000    0.019593    0.000000    0.000000    0.076923    0.000000   \n",
       "25%      0.000000    0.152176    0.250000    0.333333    0.230769    0.000000   \n",
       "50%      0.000000    0.212980    0.375000    0.333333    0.307692    0.250000   \n",
       "75%      0.391960    0.273267    0.375000    0.333333    0.384615    0.250000   \n",
       "max      1.103098    0.818011    0.750000    0.666667    0.769231    0.750000   \n",
       "\n",
       "               12          13          14  \n",
       "count  440.000000  440.000000  440.000000  \n",
       "mean     0.337104    0.065267    0.068840  \n",
       "std      0.156356    0.087935    0.091116  \n",
       "min      0.000000    0.000000    0.000000  \n",
       "25%      0.236953    0.000000    0.000000  \n",
       "50%      0.337800    0.000000    0.043127  \n",
       "75%      0.407793    0.117978    0.107817  \n",
       "max      1.049365    0.511236    0.676550  "
      ]
     },
     "execution_count": 8,
     "metadata": {},
     "output_type": "execute_result"
    }
   ],
   "source": [
    "# check the stats; easiest using Pandas\n",
    "pd.DataFrame(trainXS).describe()\n",
    "pd.DataFrame(testXS).describe()"
   ]
  },
  {
   "cell_type": "markdown",
   "metadata": {},
   "source": [
    "## PCA\n",
    "\n",
    "Here we follow a process similar to what we did above when we rescaled the training and test data.  We \"train\" our PCA using our training data, and we apply it to our training data and to our test/validation data."
   ]
  },
  {
   "cell_type": "code",
   "execution_count": 9,
   "metadata": {},
   "outputs": [],
   "source": [
    "from sklearn.decomposition import PCA"
   ]
  },
  {
   "cell_type": "markdown",
   "metadata": {},
   "source": [
    "As an example, here we'll identify the components that account for 90% of the total variation in the training data.  We'll exract these for the training data, and for the test data."
   ]
  },
  {
   "cell_type": "code",
   "execution_count": 10,
   "metadata": {},
   "outputs": [],
   "source": [
    "pca90=PCA(n_components=0.90,svd_solver='full')\n",
    "pca90.fit(trainX)\n",
    "trainXPCA=pca90.transform(trainX)\n",
    "testXPCA=pca90.transform(testX)"
   ]
  },
  {
   "cell_type": "code",
   "execution_count": 11,
   "metadata": {},
   "outputs": [
    {
     "data": {
      "text/plain": [
       "(2490, 1)"
      ]
     },
     "execution_count": 11,
     "metadata": {},
     "output_type": "execute_result"
    }
   ],
   "source": [
    "trainXPCA.shape"
   ]
  },
  {
   "cell_type": "markdown",
   "metadata": {},
   "source": [
    "Here are the proportions of total variance the extracted components account for.  There will be one proportion for each component extracted."
   ]
  },
  {
   "cell_type": "code",
   "execution_count": null,
   "metadata": {},
   "outputs": [],
   "source": [
    "print(f'prop. of variance explained: {pca90.explained_variance_ratio_}')\n"
   ]
  },
  {
   "cell_type": "markdown",
   "metadata": {},
   "source": [
    "The _scikit-plot_ package provides a graphical way of describing the variance accounted for by the components.  See \n",
    "https://scikit-plot.readthedocs.io/en/stable/decomposition.html"
   ]
  }
 ],
 "metadata": {
  "hide_input": false,
  "kernelspec": {
   "display_name": "Python 3",
   "language": "python",
   "name": "python3"
  },
  "language_info": {
   "codemirror_mode": {
    "name": "ipython",
    "version": 3
   },
   "file_extension": ".py",
   "mimetype": "text/x-python",
   "name": "python",
   "nbconvert_exporter": "python",
   "pygments_lexer": "ipython3",
   "version": "3.7.6"
  },
  "latex_envs": {
   "LaTeX_envs_menu_present": true,
   "autoclose": false,
   "autocomplete": true,
   "bibliofile": "biblio.bib",
   "cite_by": "apalike",
   "current_citInitial": 1,
   "eqLabelWithNumbers": true,
   "eqNumInitial": 1,
   "hotkeys": {
    "equation": "Ctrl-E",
    "itemize": "Ctrl-I"
   },
   "labels_anchors": false,
   "latex_user_defs": false,
   "report_style_numbering": false,
   "user_envs_cfg": false
  },
  "toc": {
   "base_numbering": 1,
   "nav_menu": {},
   "number_sections": false,
   "sideBar": true,
   "skip_h1_title": false,
   "title_cell": "Table of Contents",
   "title_sidebar": "Contents",
   "toc_cell": false,
   "toc_position": {},
   "toc_section_display": true,
   "toc_window_display": false
  }
 },
 "nbformat": 4,
 "nbformat_minor": 4
}
