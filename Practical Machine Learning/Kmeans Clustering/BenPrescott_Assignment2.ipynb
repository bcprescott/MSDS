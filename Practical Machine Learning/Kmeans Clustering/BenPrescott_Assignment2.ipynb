{
 "cells": [
  {
   "cell_type": "code",
   "execution_count": 1,
   "metadata": {},
   "outputs": [],
   "source": [
    "from IPython.core.interactiveshell import InteractiveShell\n",
    "InteractiveShell.ast_node_interactivity = \"all\""
   ]
  },
  {
   "cell_type": "markdown",
   "metadata": {},
   "source": [
    "<h1 align='center'>Ben Prescott, Assignment 2, MSDS422, WI2021</h1>\n"
   ]
  },
  {
   "cell_type": "code",
   "execution_count": null,
   "metadata": {},
   "outputs": [],
   "source": [
    "!pip install pandas seaborn matplotlib sklearn pickleshare pandas_profiling scipy numpy"
   ]
  },
  {
   "cell_type": "code",
   "execution_count": 5,
   "metadata": {},
   "outputs": [
    {
     "ename": "ModuleNotFoundError",
     "evalue": "No module named 'pandas'",
     "output_type": "error",
     "traceback": [
      "\u001b[1;31m---------------------------------------------------------------------------\u001b[0m",
      "\u001b[1;31mModuleNotFoundError\u001b[0m                       Traceback (most recent call last)",
      "\u001b[1;32m<ipython-input-5-936463f57785>\u001b[0m in \u001b[0;36m<module>\u001b[1;34m\u001b[0m\n\u001b[0;32m      3\u001b[0m \u001b[1;32mimport\u001b[0m \u001b[0mdill\u001b[0m\u001b[1;33m\u001b[0m\u001b[1;33m\u001b[0m\u001b[0m\n\u001b[0;32m      4\u001b[0m \u001b[1;32mimport\u001b[0m \u001b[0mnumpy\u001b[0m \u001b[1;32mas\u001b[0m \u001b[0mnp\u001b[0m\u001b[1;33m\u001b[0m\u001b[1;33m\u001b[0m\u001b[0m\n\u001b[1;32m----> 5\u001b[1;33m \u001b[1;32mimport\u001b[0m \u001b[0mpandas\u001b[0m \u001b[1;32mas\u001b[0m \u001b[0mpd\u001b[0m\u001b[1;33m\u001b[0m\u001b[1;33m\u001b[0m\u001b[0m\n\u001b[0m\u001b[0;32m      6\u001b[0m \u001b[1;32mimport\u001b[0m \u001b[0mmatplotlib\u001b[0m\u001b[1;33m.\u001b[0m\u001b[0mpyplot\u001b[0m \u001b[1;32mas\u001b[0m \u001b[0mplt\u001b[0m\u001b[1;33m\u001b[0m\u001b[1;33m\u001b[0m\u001b[0m\n\u001b[0;32m      7\u001b[0m \u001b[1;32mfrom\u001b[0m \u001b[0mmatplotlib\u001b[0m\u001b[1;33m.\u001b[0m\u001b[0mpyplot\u001b[0m \u001b[1;32mimport\u001b[0m \u001b[0mfigure\u001b[0m\u001b[1;33m\u001b[0m\u001b[1;33m\u001b[0m\u001b[0m\n",
      "\u001b[1;31mModuleNotFoundError\u001b[0m: No module named 'pandas'"
     ]
    }
   ],
   "source": [
    "import os\n",
    "import re\n",
    "import dill\n",
    "import numpy as np\n",
    "import pandas as pd\n",
    "import matplotlib.pyplot as plt\n",
    "from matplotlib.pyplot import figure\n",
    "import matplotlib.cm as cm\n",
    "import seaborn as sns\n",
    "from pandas_profiling import ProfileReport\n",
    "from pickleshare import *\n",
    "from sklearn.base import clone\n",
    "from sklearn.ensemble import RandomForestRegressor, AdaBoostRegressor\n",
    "from sklearn.model_selection import train_test_split,GridSearchCV, cross_validate\n",
    "from sklearn.metrics import silhouette_samples, silhouette_score, davies_bouldin_score, calinski_harabasz_score, r2_score, mean_squared_error\n",
    "from sklearn.preprocessing import StandardScaler\n",
    "from sklearn.cluster import KMeans\n",
    "from sklearn.decomposition import PCA\n",
    "from scipy.stats import skew \n",
    "\n",
    "%matplotlib inline\n",
    "pd.set_option('display.max_columns', None) #Displays all columns for pandas output\n",
    "sns.set(rc={'figure.figsize':(12,6)}) #Setting seaborn plot size standard"
   ]
  },
  {
   "cell_type": "code",
   "execution_count": 3,
   "metadata": {},
   "outputs": [],
   "source": [
    "dill.load_session('saved_notebook.db')"
   ]
  },
  {
   "cell_type": "markdown",
   "metadata": {},
   "source": [
    "# Objective 0 - Data Load, EDA, Transformations"
   ]
  },
  {
   "cell_type": "markdown",
   "metadata": {},
   "source": [
    "Importing the pickle file into a Pandas dataframe for mild EDA. Mostly using to get a \"lay of the land\", to explore the data a bit to see what I'm working with, determine the data types and which columns have null values."
   ]
  },
  {
   "cell_type": "code",
   "execution_count": 200,
   "metadata": {},
   "outputs": [
    {
     "data": {
      "text/html": [
       "<div>\n",
       "<style scoped>\n",
       "    .dataframe tbody tr th:only-of-type {\n",
       "        vertical-align: middle;\n",
       "    }\n",
       "\n",
       "    .dataframe tbody tr th {\n",
       "        vertical-align: top;\n",
       "    }\n",
       "\n",
       "    .dataframe thead th {\n",
       "        text-align: right;\n",
       "    }\n",
       "</style>\n",
       "<table border=\"1\" class=\"dataframe\">\n",
       "  <thead>\n",
       "    <tr style=\"text-align: right;\">\n",
       "      <th></th>\n",
       "      <th>MS_SubClass</th>\n",
       "      <th>MS_Zoning</th>\n",
       "      <th>Lot_Frontage</th>\n",
       "      <th>Lot_Area</th>\n",
       "      <th>Street</th>\n",
       "      <th>Alley</th>\n",
       "      <th>Lot_Shape</th>\n",
       "      <th>Land_Contour</th>\n",
       "      <th>Utilities</th>\n",
       "      <th>Lot_Config</th>\n",
       "      <th>Land_Slope</th>\n",
       "      <th>Neighborhood</th>\n",
       "      <th>Condition_1</th>\n",
       "      <th>Condition_2</th>\n",
       "      <th>Bldg_Type</th>\n",
       "      <th>House_Style</th>\n",
       "      <th>Overall_Cond</th>\n",
       "      <th>Year_Built</th>\n",
       "      <th>Year_Remod_Add</th>\n",
       "      <th>Roof_Style</th>\n",
       "      <th>Roof_Matl</th>\n",
       "      <th>Exterior_1st</th>\n",
       "      <th>Exterior_2nd</th>\n",
       "      <th>Mas_Vnr_Type</th>\n",
       "      <th>Mas_Vnr_Area</th>\n",
       "      <th>Exter_Cond</th>\n",
       "      <th>Foundation</th>\n",
       "      <th>Bsmt_Cond</th>\n",
       "      <th>Bsmt_Exposure</th>\n",
       "      <th>BsmtFin_Type_1</th>\n",
       "      <th>BsmtFin_SF_1</th>\n",
       "      <th>BsmtFin_Type_2</th>\n",
       "      <th>BsmtFin_SF_2</th>\n",
       "      <th>Bsmt_Unf_SF</th>\n",
       "      <th>Total_Bsmt_SF</th>\n",
       "      <th>Heating</th>\n",
       "      <th>Heating_QC</th>\n",
       "      <th>Central_Air</th>\n",
       "      <th>Electrical</th>\n",
       "      <th>First_Flr_SF</th>\n",
       "      <th>Second_Flr_SF</th>\n",
       "      <th>Gr_Liv_Area</th>\n",
       "      <th>Bsmt_Full_Bath</th>\n",
       "      <th>Bsmt_Half_Bath</th>\n",
       "      <th>Full_Bath</th>\n",
       "      <th>Half_Bath</th>\n",
       "      <th>Bedroom_AbvGr</th>\n",
       "      <th>Kitchen_AbvGr</th>\n",
       "      <th>TotRms_AbvGrd</th>\n",
       "      <th>Functional</th>\n",
       "      <th>Fireplaces</th>\n",
       "      <th>Garage_Type</th>\n",
       "      <th>Garage_Finish</th>\n",
       "      <th>Garage_Cars</th>\n",
       "      <th>Garage_Area</th>\n",
       "      <th>Garage_Cond</th>\n",
       "      <th>Paved_Drive</th>\n",
       "      <th>Wood_Deck_SF</th>\n",
       "      <th>Open_Porch_SF</th>\n",
       "      <th>Enclosed_Porch</th>\n",
       "      <th>Three_season_porch</th>\n",
       "      <th>Screen_Porch</th>\n",
       "      <th>Pool_Area</th>\n",
       "      <th>Pool_QC</th>\n",
       "      <th>Fence</th>\n",
       "      <th>Misc_Feature</th>\n",
       "      <th>Misc_Val</th>\n",
       "      <th>Mo_Sold</th>\n",
       "      <th>Year_Sold</th>\n",
       "      <th>Sale_Type</th>\n",
       "      <th>Sale_Condition</th>\n",
       "      <th>Sale_Price</th>\n",
       "      <th>Longitude</th>\n",
       "      <th>Latitude</th>\n",
       "    </tr>\n",
       "  </thead>\n",
       "  <tbody>\n",
       "    <tr>\n",
       "      <th>0</th>\n",
       "      <td>One_Story_1946_and_Newer_All_Styles</td>\n",
       "      <td>Residential_Low_Density</td>\n",
       "      <td>141</td>\n",
       "      <td>31770</td>\n",
       "      <td>Pave</td>\n",
       "      <td>No_Alley_Access</td>\n",
       "      <td>Slightly_Irregular</td>\n",
       "      <td>Lvl</td>\n",
       "      <td>AllPub</td>\n",
       "      <td>Corner</td>\n",
       "      <td>Gtl</td>\n",
       "      <td>North_Ames</td>\n",
       "      <td>Norm</td>\n",
       "      <td>Norm</td>\n",
       "      <td>OneFam</td>\n",
       "      <td>One_Story</td>\n",
       "      <td>Average</td>\n",
       "      <td>1960</td>\n",
       "      <td>1960</td>\n",
       "      <td>Hip</td>\n",
       "      <td>CompShg</td>\n",
       "      <td>BrkFace</td>\n",
       "      <td>Plywood</td>\n",
       "      <td>Stone</td>\n",
       "      <td>112</td>\n",
       "      <td>Typical</td>\n",
       "      <td>CBlock</td>\n",
       "      <td>Good</td>\n",
       "      <td>Gd</td>\n",
       "      <td>BLQ</td>\n",
       "      <td>2</td>\n",
       "      <td>Unf</td>\n",
       "      <td>0</td>\n",
       "      <td>441</td>\n",
       "      <td>1080</td>\n",
       "      <td>GasA</td>\n",
       "      <td>Fair</td>\n",
       "      <td>Y</td>\n",
       "      <td>SBrkr</td>\n",
       "      <td>1656</td>\n",
       "      <td>0</td>\n",
       "      <td>1656</td>\n",
       "      <td>1</td>\n",
       "      <td>0</td>\n",
       "      <td>1</td>\n",
       "      <td>0</td>\n",
       "      <td>3</td>\n",
       "      <td>1</td>\n",
       "      <td>7</td>\n",
       "      <td>Typ</td>\n",
       "      <td>2</td>\n",
       "      <td>Attchd</td>\n",
       "      <td>Fin</td>\n",
       "      <td>2</td>\n",
       "      <td>528</td>\n",
       "      <td>Typical</td>\n",
       "      <td>Partial_Pavement</td>\n",
       "      <td>210</td>\n",
       "      <td>62</td>\n",
       "      <td>0</td>\n",
       "      <td>0</td>\n",
       "      <td>0</td>\n",
       "      <td>0</td>\n",
       "      <td>No_Pool</td>\n",
       "      <td>No_Fence</td>\n",
       "      <td>None</td>\n",
       "      <td>0</td>\n",
       "      <td>5</td>\n",
       "      <td>2010</td>\n",
       "      <td>WD</td>\n",
       "      <td>Normal</td>\n",
       "      <td>215000</td>\n",
       "      <td>-93.619754</td>\n",
       "      <td>42.054035</td>\n",
       "    </tr>\n",
       "    <tr>\n",
       "      <th>1</th>\n",
       "      <td>One_Story_1946_and_Newer_All_Styles</td>\n",
       "      <td>Residential_High_Density</td>\n",
       "      <td>80</td>\n",
       "      <td>11622</td>\n",
       "      <td>Pave</td>\n",
       "      <td>No_Alley_Access</td>\n",
       "      <td>Regular</td>\n",
       "      <td>Lvl</td>\n",
       "      <td>AllPub</td>\n",
       "      <td>Inside</td>\n",
       "      <td>Gtl</td>\n",
       "      <td>North_Ames</td>\n",
       "      <td>Feedr</td>\n",
       "      <td>Norm</td>\n",
       "      <td>OneFam</td>\n",
       "      <td>One_Story</td>\n",
       "      <td>Above_Average</td>\n",
       "      <td>1961</td>\n",
       "      <td>1961</td>\n",
       "      <td>Gable</td>\n",
       "      <td>CompShg</td>\n",
       "      <td>VinylSd</td>\n",
       "      <td>VinylSd</td>\n",
       "      <td>None</td>\n",
       "      <td>0</td>\n",
       "      <td>Typical</td>\n",
       "      <td>CBlock</td>\n",
       "      <td>Typical</td>\n",
       "      <td>No</td>\n",
       "      <td>Rec</td>\n",
       "      <td>6</td>\n",
       "      <td>LwQ</td>\n",
       "      <td>144</td>\n",
       "      <td>270</td>\n",
       "      <td>882</td>\n",
       "      <td>GasA</td>\n",
       "      <td>Typical</td>\n",
       "      <td>Y</td>\n",
       "      <td>SBrkr</td>\n",
       "      <td>896</td>\n",
       "      <td>0</td>\n",
       "      <td>896</td>\n",
       "      <td>0</td>\n",
       "      <td>0</td>\n",
       "      <td>1</td>\n",
       "      <td>0</td>\n",
       "      <td>2</td>\n",
       "      <td>1</td>\n",
       "      <td>5</td>\n",
       "      <td>Typ</td>\n",
       "      <td>0</td>\n",
       "      <td>Attchd</td>\n",
       "      <td>Unf</td>\n",
       "      <td>1</td>\n",
       "      <td>730</td>\n",
       "      <td>Typical</td>\n",
       "      <td>Paved</td>\n",
       "      <td>140</td>\n",
       "      <td>0</td>\n",
       "      <td>0</td>\n",
       "      <td>0</td>\n",
       "      <td>120</td>\n",
       "      <td>0</td>\n",
       "      <td>No_Pool</td>\n",
       "      <td>Minimum_Privacy</td>\n",
       "      <td>None</td>\n",
       "      <td>0</td>\n",
       "      <td>6</td>\n",
       "      <td>2010</td>\n",
       "      <td>WD</td>\n",
       "      <td>Normal</td>\n",
       "      <td>105000</td>\n",
       "      <td>-93.619756</td>\n",
       "      <td>42.053014</td>\n",
       "    </tr>\n",
       "    <tr>\n",
       "      <th>2</th>\n",
       "      <td>One_Story_1946_and_Newer_All_Styles</td>\n",
       "      <td>Residential_Low_Density</td>\n",
       "      <td>81</td>\n",
       "      <td>14267</td>\n",
       "      <td>Pave</td>\n",
       "      <td>No_Alley_Access</td>\n",
       "      <td>Slightly_Irregular</td>\n",
       "      <td>Lvl</td>\n",
       "      <td>AllPub</td>\n",
       "      <td>Corner</td>\n",
       "      <td>Gtl</td>\n",
       "      <td>North_Ames</td>\n",
       "      <td>Norm</td>\n",
       "      <td>Norm</td>\n",
       "      <td>OneFam</td>\n",
       "      <td>One_Story</td>\n",
       "      <td>Above_Average</td>\n",
       "      <td>1958</td>\n",
       "      <td>1958</td>\n",
       "      <td>Hip</td>\n",
       "      <td>CompShg</td>\n",
       "      <td>Wd Sdng</td>\n",
       "      <td>Wd Sdng</td>\n",
       "      <td>BrkFace</td>\n",
       "      <td>108</td>\n",
       "      <td>Typical</td>\n",
       "      <td>CBlock</td>\n",
       "      <td>Typical</td>\n",
       "      <td>No</td>\n",
       "      <td>ALQ</td>\n",
       "      <td>1</td>\n",
       "      <td>Unf</td>\n",
       "      <td>0</td>\n",
       "      <td>406</td>\n",
       "      <td>1329</td>\n",
       "      <td>GasA</td>\n",
       "      <td>Typical</td>\n",
       "      <td>Y</td>\n",
       "      <td>SBrkr</td>\n",
       "      <td>1329</td>\n",
       "      <td>0</td>\n",
       "      <td>1329</td>\n",
       "      <td>0</td>\n",
       "      <td>0</td>\n",
       "      <td>1</td>\n",
       "      <td>1</td>\n",
       "      <td>3</td>\n",
       "      <td>1</td>\n",
       "      <td>6</td>\n",
       "      <td>Typ</td>\n",
       "      <td>0</td>\n",
       "      <td>Attchd</td>\n",
       "      <td>Unf</td>\n",
       "      <td>1</td>\n",
       "      <td>312</td>\n",
       "      <td>Typical</td>\n",
       "      <td>Paved</td>\n",
       "      <td>393</td>\n",
       "      <td>36</td>\n",
       "      <td>0</td>\n",
       "      <td>0</td>\n",
       "      <td>0</td>\n",
       "      <td>0</td>\n",
       "      <td>No_Pool</td>\n",
       "      <td>No_Fence</td>\n",
       "      <td>Gar2</td>\n",
       "      <td>12500</td>\n",
       "      <td>6</td>\n",
       "      <td>2010</td>\n",
       "      <td>WD</td>\n",
       "      <td>Normal</td>\n",
       "      <td>172000</td>\n",
       "      <td>-93.619387</td>\n",
       "      <td>42.052659</td>\n",
       "    </tr>\n",
       "    <tr>\n",
       "      <th>3</th>\n",
       "      <td>One_Story_1946_and_Newer_All_Styles</td>\n",
       "      <td>Residential_Low_Density</td>\n",
       "      <td>93</td>\n",
       "      <td>11160</td>\n",
       "      <td>Pave</td>\n",
       "      <td>No_Alley_Access</td>\n",
       "      <td>Regular</td>\n",
       "      <td>Lvl</td>\n",
       "      <td>AllPub</td>\n",
       "      <td>Corner</td>\n",
       "      <td>Gtl</td>\n",
       "      <td>North_Ames</td>\n",
       "      <td>Norm</td>\n",
       "      <td>Norm</td>\n",
       "      <td>OneFam</td>\n",
       "      <td>One_Story</td>\n",
       "      <td>Average</td>\n",
       "      <td>1968</td>\n",
       "      <td>1968</td>\n",
       "      <td>Hip</td>\n",
       "      <td>CompShg</td>\n",
       "      <td>BrkFace</td>\n",
       "      <td>BrkFace</td>\n",
       "      <td>None</td>\n",
       "      <td>0</td>\n",
       "      <td>Typical</td>\n",
       "      <td>CBlock</td>\n",
       "      <td>Typical</td>\n",
       "      <td>No</td>\n",
       "      <td>ALQ</td>\n",
       "      <td>1</td>\n",
       "      <td>Unf</td>\n",
       "      <td>0</td>\n",
       "      <td>1045</td>\n",
       "      <td>2110</td>\n",
       "      <td>GasA</td>\n",
       "      <td>Excellent</td>\n",
       "      <td>Y</td>\n",
       "      <td>SBrkr</td>\n",
       "      <td>2110</td>\n",
       "      <td>0</td>\n",
       "      <td>2110</td>\n",
       "      <td>1</td>\n",
       "      <td>0</td>\n",
       "      <td>2</td>\n",
       "      <td>1</td>\n",
       "      <td>3</td>\n",
       "      <td>1</td>\n",
       "      <td>8</td>\n",
       "      <td>Typ</td>\n",
       "      <td>2</td>\n",
       "      <td>Attchd</td>\n",
       "      <td>Fin</td>\n",
       "      <td>2</td>\n",
       "      <td>522</td>\n",
       "      <td>Typical</td>\n",
       "      <td>Paved</td>\n",
       "      <td>0</td>\n",
       "      <td>0</td>\n",
       "      <td>0</td>\n",
       "      <td>0</td>\n",
       "      <td>0</td>\n",
       "      <td>0</td>\n",
       "      <td>No_Pool</td>\n",
       "      <td>No_Fence</td>\n",
       "      <td>None</td>\n",
       "      <td>0</td>\n",
       "      <td>4</td>\n",
       "      <td>2010</td>\n",
       "      <td>WD</td>\n",
       "      <td>Normal</td>\n",
       "      <td>244000</td>\n",
       "      <td>-93.617320</td>\n",
       "      <td>42.051245</td>\n",
       "    </tr>\n",
       "    <tr>\n",
       "      <th>4</th>\n",
       "      <td>Two_Story_1946_and_Newer</td>\n",
       "      <td>Residential_Low_Density</td>\n",
       "      <td>74</td>\n",
       "      <td>13830</td>\n",
       "      <td>Pave</td>\n",
       "      <td>No_Alley_Access</td>\n",
       "      <td>Slightly_Irregular</td>\n",
       "      <td>Lvl</td>\n",
       "      <td>AllPub</td>\n",
       "      <td>Inside</td>\n",
       "      <td>Gtl</td>\n",
       "      <td>Gilbert</td>\n",
       "      <td>Norm</td>\n",
       "      <td>Norm</td>\n",
       "      <td>OneFam</td>\n",
       "      <td>Two_Story</td>\n",
       "      <td>Average</td>\n",
       "      <td>1997</td>\n",
       "      <td>1998</td>\n",
       "      <td>Gable</td>\n",
       "      <td>CompShg</td>\n",
       "      <td>VinylSd</td>\n",
       "      <td>VinylSd</td>\n",
       "      <td>None</td>\n",
       "      <td>0</td>\n",
       "      <td>Typical</td>\n",
       "      <td>PConc</td>\n",
       "      <td>Typical</td>\n",
       "      <td>No</td>\n",
       "      <td>GLQ</td>\n",
       "      <td>3</td>\n",
       "      <td>Unf</td>\n",
       "      <td>0</td>\n",
       "      <td>137</td>\n",
       "      <td>928</td>\n",
       "      <td>GasA</td>\n",
       "      <td>Good</td>\n",
       "      <td>Y</td>\n",
       "      <td>SBrkr</td>\n",
       "      <td>928</td>\n",
       "      <td>701</td>\n",
       "      <td>1629</td>\n",
       "      <td>0</td>\n",
       "      <td>0</td>\n",
       "      <td>2</td>\n",
       "      <td>1</td>\n",
       "      <td>3</td>\n",
       "      <td>1</td>\n",
       "      <td>6</td>\n",
       "      <td>Typ</td>\n",
       "      <td>1</td>\n",
       "      <td>Attchd</td>\n",
       "      <td>Fin</td>\n",
       "      <td>2</td>\n",
       "      <td>482</td>\n",
       "      <td>Typical</td>\n",
       "      <td>Paved</td>\n",
       "      <td>212</td>\n",
       "      <td>34</td>\n",
       "      <td>0</td>\n",
       "      <td>0</td>\n",
       "      <td>0</td>\n",
       "      <td>0</td>\n",
       "      <td>No_Pool</td>\n",
       "      <td>Minimum_Privacy</td>\n",
       "      <td>None</td>\n",
       "      <td>0</td>\n",
       "      <td>3</td>\n",
       "      <td>2010</td>\n",
       "      <td>WD</td>\n",
       "      <td>Normal</td>\n",
       "      <td>189900</td>\n",
       "      <td>-93.638933</td>\n",
       "      <td>42.060899</td>\n",
       "    </tr>\n",
       "  </tbody>\n",
       "</table>\n",
       "</div>"
      ],
      "text/plain": [
       "                           MS_SubClass                 MS_Zoning  \\\n",
       "0  One_Story_1946_and_Newer_All_Styles   Residential_Low_Density   \n",
       "1  One_Story_1946_and_Newer_All_Styles  Residential_High_Density   \n",
       "2  One_Story_1946_and_Newer_All_Styles   Residential_Low_Density   \n",
       "3  One_Story_1946_and_Newer_All_Styles   Residential_Low_Density   \n",
       "4             Two_Story_1946_and_Newer   Residential_Low_Density   \n",
       "\n",
       "   Lot_Frontage  Lot_Area Street            Alley           Lot_Shape  \\\n",
       "0           141     31770   Pave  No_Alley_Access  Slightly_Irregular   \n",
       "1            80     11622   Pave  No_Alley_Access             Regular   \n",
       "2            81     14267   Pave  No_Alley_Access  Slightly_Irregular   \n",
       "3            93     11160   Pave  No_Alley_Access             Regular   \n",
       "4            74     13830   Pave  No_Alley_Access  Slightly_Irregular   \n",
       "\n",
       "  Land_Contour Utilities Lot_Config Land_Slope Neighborhood Condition_1  \\\n",
       "0          Lvl    AllPub     Corner        Gtl   North_Ames        Norm   \n",
       "1          Lvl    AllPub     Inside        Gtl   North_Ames       Feedr   \n",
       "2          Lvl    AllPub     Corner        Gtl   North_Ames        Norm   \n",
       "3          Lvl    AllPub     Corner        Gtl   North_Ames        Norm   \n",
       "4          Lvl    AllPub     Inside        Gtl      Gilbert        Norm   \n",
       "\n",
       "  Condition_2 Bldg_Type House_Style   Overall_Cond  Year_Built  \\\n",
       "0        Norm    OneFam   One_Story        Average        1960   \n",
       "1        Norm    OneFam   One_Story  Above_Average        1961   \n",
       "2        Norm    OneFam   One_Story  Above_Average        1958   \n",
       "3        Norm    OneFam   One_Story        Average        1968   \n",
       "4        Norm    OneFam   Two_Story        Average        1997   \n",
       "\n",
       "   Year_Remod_Add Roof_Style Roof_Matl Exterior_1st Exterior_2nd Mas_Vnr_Type  \\\n",
       "0            1960        Hip   CompShg      BrkFace      Plywood        Stone   \n",
       "1            1961      Gable   CompShg      VinylSd      VinylSd         None   \n",
       "2            1958        Hip   CompShg      Wd Sdng      Wd Sdng      BrkFace   \n",
       "3            1968        Hip   CompShg      BrkFace      BrkFace         None   \n",
       "4            1998      Gable   CompShg      VinylSd      VinylSd         None   \n",
       "\n",
       "   Mas_Vnr_Area Exter_Cond Foundation Bsmt_Cond Bsmt_Exposure BsmtFin_Type_1  \\\n",
       "0           112    Typical     CBlock      Good            Gd            BLQ   \n",
       "1             0    Typical     CBlock   Typical            No            Rec   \n",
       "2           108    Typical     CBlock   Typical            No            ALQ   \n",
       "3             0    Typical     CBlock   Typical            No            ALQ   \n",
       "4             0    Typical      PConc   Typical            No            GLQ   \n",
       "\n",
       "   BsmtFin_SF_1 BsmtFin_Type_2  BsmtFin_SF_2  Bsmt_Unf_SF  Total_Bsmt_SF  \\\n",
       "0             2            Unf             0          441           1080   \n",
       "1             6            LwQ           144          270            882   \n",
       "2             1            Unf             0          406           1329   \n",
       "3             1            Unf             0         1045           2110   \n",
       "4             3            Unf             0          137            928   \n",
       "\n",
       "  Heating Heating_QC Central_Air Electrical  First_Flr_SF  Second_Flr_SF  \\\n",
       "0    GasA       Fair           Y      SBrkr          1656              0   \n",
       "1    GasA    Typical           Y      SBrkr           896              0   \n",
       "2    GasA    Typical           Y      SBrkr          1329              0   \n",
       "3    GasA  Excellent           Y      SBrkr          2110              0   \n",
       "4    GasA       Good           Y      SBrkr           928            701   \n",
       "\n",
       "   Gr_Liv_Area  Bsmt_Full_Bath  Bsmt_Half_Bath  Full_Bath  Half_Bath  \\\n",
       "0         1656               1               0          1          0   \n",
       "1          896               0               0          1          0   \n",
       "2         1329               0               0          1          1   \n",
       "3         2110               1               0          2          1   \n",
       "4         1629               0               0          2          1   \n",
       "\n",
       "   Bedroom_AbvGr  Kitchen_AbvGr  TotRms_AbvGrd Functional  Fireplaces  \\\n",
       "0              3              1              7        Typ           2   \n",
       "1              2              1              5        Typ           0   \n",
       "2              3              1              6        Typ           0   \n",
       "3              3              1              8        Typ           2   \n",
       "4              3              1              6        Typ           1   \n",
       "\n",
       "  Garage_Type Garage_Finish  Garage_Cars  Garage_Area Garage_Cond  \\\n",
       "0      Attchd           Fin            2          528     Typical   \n",
       "1      Attchd           Unf            1          730     Typical   \n",
       "2      Attchd           Unf            1          312     Typical   \n",
       "3      Attchd           Fin            2          522     Typical   \n",
       "4      Attchd           Fin            2          482     Typical   \n",
       "\n",
       "        Paved_Drive  Wood_Deck_SF  Open_Porch_SF  Enclosed_Porch  \\\n",
       "0  Partial_Pavement           210             62               0   \n",
       "1             Paved           140              0               0   \n",
       "2             Paved           393             36               0   \n",
       "3             Paved             0              0               0   \n",
       "4             Paved           212             34               0   \n",
       "\n",
       "   Three_season_porch  Screen_Porch  Pool_Area  Pool_QC            Fence  \\\n",
       "0                   0             0          0  No_Pool         No_Fence   \n",
       "1                   0           120          0  No_Pool  Minimum_Privacy   \n",
       "2                   0             0          0  No_Pool         No_Fence   \n",
       "3                   0             0          0  No_Pool         No_Fence   \n",
       "4                   0             0          0  No_Pool  Minimum_Privacy   \n",
       "\n",
       "  Misc_Feature  Misc_Val  Mo_Sold  Year_Sold Sale_Type Sale_Condition  \\\n",
       "0         None         0        5       2010       WD          Normal   \n",
       "1         None         0        6       2010       WD          Normal   \n",
       "2         Gar2     12500        6       2010       WD          Normal   \n",
       "3         None         0        4       2010       WD          Normal   \n",
       "4         None         0        3       2010       WD          Normal   \n",
       "\n",
       "   Sale_Price  Longitude   Latitude  \n",
       "0      215000 -93.619754  42.054035  \n",
       "1      105000 -93.619756  42.053014  \n",
       "2      172000 -93.619387  42.052659  \n",
       "3      244000 -93.617320  42.051245  \n",
       "4      189900 -93.638933  42.060899  "
      ]
     },
     "execution_count": 200,
     "metadata": {},
     "output_type": "execute_result"
    },
    {
     "data": {
      "text/plain": [
       "object     40\n",
       "int64      32\n",
       "float64     2\n",
       "dtype: int64"
      ]
     },
     "execution_count": 200,
     "metadata": {},
     "output_type": "execute_result"
    }
   ],
   "source": [
    "#Read pickle file into dataframe.\n",
    "df = pd.read_pickle('amesDF.pickle')\n",
    "#Review first 5 rows and data type counts for features.\n",
    "df.head()\n",
    "df.dtypes.value_counts()"
   ]
  },
  {
   "cell_type": "code",
   "execution_count": 201,
   "metadata": {},
   "outputs": [
    {
     "name": "stdout",
     "output_type": "stream",
     "text": [
      "<class 'pandas.core.frame.DataFrame'>\n",
      "RangeIndex: 2930 entries, 0 to 2929\n",
      "Data columns (total 74 columns):\n",
      " #   Column              Non-Null Count  Dtype  \n",
      "---  ------              --------------  -----  \n",
      " 0   MS_SubClass         2930 non-null   object \n",
      " 1   MS_Zoning           2930 non-null   object \n",
      " 2   Lot_Frontage        2930 non-null   int64  \n",
      " 3   Lot_Area            2930 non-null   int64  \n",
      " 4   Street              2930 non-null   object \n",
      " 5   Alley               2930 non-null   object \n",
      " 6   Lot_Shape           2930 non-null   object \n",
      " 7   Land_Contour        2930 non-null   object \n",
      " 8   Utilities           2930 non-null   object \n",
      " 9   Lot_Config          2930 non-null   object \n",
      " 10  Land_Slope          2930 non-null   object \n",
      " 11  Neighborhood        2930 non-null   object \n",
      " 12  Condition_1         2930 non-null   object \n",
      " 13  Condition_2         2930 non-null   object \n",
      " 14  Bldg_Type           2930 non-null   object \n",
      " 15  House_Style         2930 non-null   object \n",
      " 16  Overall_Cond        2930 non-null   object \n",
      " 17  Year_Built          2930 non-null   int64  \n",
      " 18  Year_Remod_Add      2930 non-null   int64  \n",
      " 19  Roof_Style          2930 non-null   object \n",
      " 20  Roof_Matl           2930 non-null   object \n",
      " 21  Exterior_1st        2930 non-null   object \n",
      " 22  Exterior_2nd        2930 non-null   object \n",
      " 23  Mas_Vnr_Type        2930 non-null   object \n",
      " 24  Mas_Vnr_Area        2930 non-null   int64  \n",
      " 25  Exter_Cond          2930 non-null   object \n",
      " 26  Foundation          2930 non-null   object \n",
      " 27  Bsmt_Cond           2930 non-null   object \n",
      " 28  Bsmt_Exposure       2930 non-null   object \n",
      " 29  BsmtFin_Type_1      2930 non-null   object \n",
      " 30  BsmtFin_SF_1        2930 non-null   int64  \n",
      " 31  BsmtFin_Type_2      2930 non-null   object \n",
      " 32  BsmtFin_SF_2        2930 non-null   int64  \n",
      " 33  Bsmt_Unf_SF         2930 non-null   int64  \n",
      " 34  Total_Bsmt_SF       2930 non-null   int64  \n",
      " 35  Heating             2930 non-null   object \n",
      " 36  Heating_QC          2930 non-null   object \n",
      " 37  Central_Air         2930 non-null   object \n",
      " 38  Electrical          2930 non-null   object \n",
      " 39  First_Flr_SF        2930 non-null   int64  \n",
      " 40  Second_Flr_SF       2930 non-null   int64  \n",
      " 41  Gr_Liv_Area         2930 non-null   int64  \n",
      " 42  Bsmt_Full_Bath      2930 non-null   int64  \n",
      " 43  Bsmt_Half_Bath      2930 non-null   int64  \n",
      " 44  Full_Bath           2930 non-null   int64  \n",
      " 45  Half_Bath           2930 non-null   int64  \n",
      " 46  Bedroom_AbvGr       2930 non-null   int64  \n",
      " 47  Kitchen_AbvGr       2930 non-null   int64  \n",
      " 48  TotRms_AbvGrd       2930 non-null   int64  \n",
      " 49  Functional          2930 non-null   object \n",
      " 50  Fireplaces          2930 non-null   int64  \n",
      " 51  Garage_Type         2930 non-null   object \n",
      " 52  Garage_Finish       2930 non-null   object \n",
      " 53  Garage_Cars         2930 non-null   int64  \n",
      " 54  Garage_Area         2930 non-null   int64  \n",
      " 55  Garage_Cond         2930 non-null   object \n",
      " 56  Paved_Drive         2930 non-null   object \n",
      " 57  Wood_Deck_SF        2930 non-null   int64  \n",
      " 58  Open_Porch_SF       2930 non-null   int64  \n",
      " 59  Enclosed_Porch      2930 non-null   int64  \n",
      " 60  Three_season_porch  2930 non-null   int64  \n",
      " 61  Screen_Porch        2930 non-null   int64  \n",
      " 62  Pool_Area           2930 non-null   int64  \n",
      " 63  Pool_QC             2930 non-null   object \n",
      " 64  Fence               2930 non-null   object \n",
      " 65  Misc_Feature        2930 non-null   object \n",
      " 66  Misc_Val            2930 non-null   int64  \n",
      " 67  Mo_Sold             2930 non-null   int64  \n",
      " 68  Year_Sold           2930 non-null   int64  \n",
      " 69  Sale_Type           2930 non-null   object \n",
      " 70  Sale_Condition      2930 non-null   object \n",
      " 71  Sale_Price          2930 non-null   int64  \n",
      " 72  Longitude           2930 non-null   float64\n",
      " 73  Latitude            2930 non-null   float64\n",
      "dtypes: float64(2), int64(32), object(40)\n",
      "memory usage: 1.7+ MB\n"
     ]
    }
   ],
   "source": [
    "df.info(verbose=True)"
   ]
  },
  {
   "cell_type": "markdown",
   "metadata": {},
   "source": [
    "One of the tasks of this objective was to remove all records for houses with > 4000 Sq Ft. Prior to doing that I've decided to visualize my target feature (Sale Price) against the main square footage feature. Based on the scatterplot it looks as though there might be 5 records that may be outliers, which will cause issues with later algorithms due to outlier sensitivity. My goal is to also remove those outliers.\n",
    "\n",
    "I'll also be separating features of 'object' type into a new dataframe, and every other non-object type feature into a separate dataframe. We'll be focusing on the usage of the numeric data moving forward."
   ]
  },
  {
   "cell_type": "code",
   "execution_count": 9,
   "metadata": {},
   "outputs": [
    {
     "data": {
      "text/plain": [
       "<matplotlib.collections.PathCollection at 0x211a3fba408>"
      ]
     },
     "execution_count": 9,
     "metadata": {},
     "output_type": "execute_result"
    },
    {
     "data": {
      "image/png": "[encoded data removed]",
      "text/plain": [
       "<Figure size 864x432 with 1 Axes>"
      ]
     },
     "metadata": {},
     "output_type": "display_data"
    }
   ],
   "source": [
    "#Visualizing target feature (sale price) vs living area sq footage. Initial view shows 5 potential outliers to remove.\n",
    "plt.scatter(df['Sale_Price'],df['Gr_Liv_Area'])"
   ]
  },
  {
   "cell_type": "code",
   "execution_count": 10,
   "metadata": {},
   "outputs": [
    {
     "name": "stdout",
     "output_type": "stream",
     "text": [
      "Observation count of less than 4000 sq ft living area: 2925\n"
     ]
    }
   ],
   "source": [
    "#Copying all records with less than or equal to 4000 sq ft (objective states more than 4000) to a new dataframe for later use.\n",
    "df2 = df[df['Gr_Liv_Area'] <= 4000].copy(deep=True)\n",
    "#Total count of new records, showing we've removed 5 \n",
    "print(\"Observation count of less than 4000 sq ft living area:\", len(df2))\n",
    "\n",
    "#Separating features of 'object' type into new dataframe, as well as every other data type into a separate dataframe.\n",
    "dfchar, dfnum = df2.select_dtypes(include=['object']).copy(deep=True), df2.select_dtypes(exclude=['object']).copy(deep=True)"
   ]
  },
  {
   "cell_type": "code",
   "execution_count": 11,
   "metadata": {},
   "outputs": [
    {
     "data": {
      "text/plain": [
       "<matplotlib.collections.PathCollection at 0x211a4117588>"
      ]
     },
     "execution_count": 11,
     "metadata": {},
     "output_type": "execute_result"
    },
    {
     "data": {
      "image/png": "[encoded data removed]",
      "text/plain": [
       "<Figure size 864x432 with 1 Axes>"
      ]
     },
     "metadata": {},
     "output_type": "display_data"
    }
   ],
   "source": [
    "#Reviewing scatterplot of target feature vs sq footage to show outliers were removed.\n",
    "plt.scatter(df2['Sale_Price'],df2['Gr_Liv_Area'])"
   ]
  },
  {
   "cell_type": "code",
   "execution_count": 204,
   "metadata": {},
   "outputs": [
    {
     "data": {
      "text/plain": [
       "object    40\n",
       "dtype: int64"
      ]
     },
     "execution_count": 204,
     "metadata": {},
     "output_type": "execute_result"
    },
    {
     "data": {
      "text/plain": [
       "int64      32\n",
       "float64     2\n",
       "dtype: int64"
      ]
     },
     "execution_count": 204,
     "metadata": {},
     "output_type": "execute_result"
    }
   ],
   "source": [
    "#Reviewing new dataframe dtypes/counts to show object type was split out.\n",
    "dfchar.dtypes.value_counts()\n",
    "dfnum.dtypes.value_counts()"
   ]
  },
  {
   "cell_type": "markdown",
   "metadata": {},
   "source": [
    "Here I'll be using Pandas Profiling to generate a nice graphical report to aid in EDA. This will help in minimizing the amount of code needed and provide many common tasks in a single report that can be easily exported.\n",
    "\n",
    "There were no missing values found, but many with a heavy skew due to zeros. After reviewing the dataset, zeros are a very real entry and are not made in error, so further action (such as replacing with mean etc.) will not be taken. It may be worth exploring removal of these features in the future."
   ]
  },
  {
   "cell_type": "code",
   "execution_count": null,
   "metadata": {},
   "outputs": [],
   "source": [
    "profile = ProfileReport(dfnum, title=\"Ames Housing Dataset Profile\")\n",
    "profile.to_notebook_iframe()"
   ]
  },
  {
   "cell_type": "markdown",
   "metadata": {},
   "source": [
    "Using other example notebooks for reference/suggestions, it was determined there is a record that shows a house being remodeled before the listed build date. I'll be removing this record from the dataframe to help reduce inaccurate data."
   ]
  },
  {
   "cell_type": "code",
   "execution_count": 12,
   "metadata": {},
   "outputs": [
    {
     "data": {
      "text/plain": [
       "(2925, 34)"
      ]
     },
     "execution_count": 12,
     "metadata": {},
     "output_type": "execute_result"
    },
    {
     "data": {
      "text/plain": [
       "False    2924\n",
       "True        1\n",
       "dtype: int64"
      ]
     },
     "execution_count": 12,
     "metadata": {},
     "output_type": "execute_result"
    },
    {
     "data": {
      "text/plain": [
       "(2924, 34)"
      ]
     },
     "execution_count": 12,
     "metadata": {},
     "output_type": "execute_result"
    }
   ],
   "source": [
    "#View initial shape of dataframe.\n",
    "dfnum.shape\n",
    "#Finding if any houses are listed as built after being remodeled.\n",
    "((dfnum.Year_Built-dfnum.Year_Remod_Add)>0.00).value_counts()\n",
    "#Copying all rows to a new dataframe, excluding the above found row.\n",
    "dfnum2=dfnum.loc[~((dfnum.Year_Built-dfnum.Year_Remod_Add)>0.00),:].copy(deep=True)\n",
    "#Reviewing new dataframe shape to validate record was removed.\n",
    "dfnum2.shape"
   ]
  },
  {
   "cell_type": "markdown",
   "metadata": {},
   "source": [
    "As mentioned earlier, the output of the Pandas Profiling report alluded to many features with a heavy positive skew. Many are due to things such as many houses not having a three season porch, but Lot_Area seems suspicious due to a few extreme outliers above the 100k mark. Considering K-means is sensitive to outliers I'll be removing these observations."
   ]
  },
  {
   "cell_type": "code",
   "execution_count": 13,
   "metadata": {},
   "outputs": [
    {
     "data": {
      "text/plain": [
       "Text(0.5, 0.98, 'Lot Area Extreme Outliers')"
      ]
     },
     "execution_count": 13,
     "metadata": {},
     "output_type": "execute_result"
    },
    {
     "data": {
      "text/plain": [
       "<matplotlib.axes._subplots.AxesSubplot at 0x211a422e648>"
      ]
     },
     "execution_count": 13,
     "metadata": {},
     "output_type": "execute_result"
    },
    {
     "data": {
      "text/plain": [
       "<matplotlib.axes._subplots.AxesSubplot at 0x211a5279f88>"
      ]
     },
     "execution_count": 13,
     "metadata": {},
     "output_type": "execute_result"
    },
    {
     "data": {
      "image/png": "[encoded data removed]",
      "text/plain": [
       "<Figure size 864x432 with 2 Axes>"
      ]
     },
     "metadata": {},
     "output_type": "display_data"
    }
   ],
   "source": [
    "#Create a 1x2 plot\n",
    "fig, axs = plt.subplots(ncols=2)\n",
    "#Adding a main title for the subplots\n",
    "plt.suptitle(\"Lot Area Extreme Outliers\", fontsize=20)\n",
    "#Plot the target feature (Sale Price) against Lot Area to see if we have additional outliers\n",
    "sns.scatterplot(x='Sale_Price', y='Lot_Area', data=dfnum2, ax=axs[0])\n",
    "#Also creating a boxplot to visualize potential outliers of the Lot Area feature\n",
    "sns.boxplot(x='Lot_Area', data=dfnum2, ax=axs[1])"
   ]
  },
  {
   "cell_type": "markdown",
   "metadata": {},
   "source": [
    "As mentioned and seen above, there are 4 records that that could be seen as outliers in the Lot Area feature. I'll be removing those and replotting to ensure they are removed. "
   ]
  },
  {
   "cell_type": "code",
   "execution_count": 14,
   "metadata": {},
   "outputs": [
    {
     "data": {
      "text/plain": [
       "(2924, 34)"
      ]
     },
     "execution_count": 14,
     "metadata": {},
     "output_type": "execute_result"
    },
    {
     "data": {
      "text/plain": [
       "(2920, 34)"
      ]
     },
     "execution_count": 14,
     "metadata": {},
     "output_type": "execute_result"
    },
    {
     "data": {
      "text/plain": [
       "Text(0.5, 0.98, 'Lot Area Extreme Outliers Removed')"
      ]
     },
     "execution_count": 14,
     "metadata": {},
     "output_type": "execute_result"
    },
    {
     "data": {
      "text/plain": [
       "<matplotlib.axes._subplots.AxesSubplot at 0x211a414f208>"
      ]
     },
     "execution_count": 14,
     "metadata": {},
     "output_type": "execute_result"
    },
    {
     "data": {
      "text/plain": [
       "<matplotlib.axes._subplots.AxesSubplot at 0x211a5354788>"
      ]
     },
     "execution_count": 14,
     "metadata": {},
     "output_type": "execute_result"
    },
    {
     "data": {
      "image/png": "[encoded data removed]",
      "text/plain": [
       "<Figure size 864x432 with 2 Axes>"
      ]
     },
     "metadata": {},
     "output_type": "display_data"
    }
   ],
   "source": [
    "#Review dataframe shape prior to removal\n",
    "dfnum2.shape\n",
    "#Remove records with lot area > 100000\n",
    "dfnum3 = dfnum2[dfnum2['Lot_Area'] <= 100000].copy(deep=True)\n",
    "#Review new dataframe shape to determine rows removed\n",
    "dfnum3.shape\n",
    "\n",
    "#Replotting Sale Price vs Lot Area to visualize removal\n",
    "fig, axs = plt.subplots(ncols=2)\n",
    "plt.suptitle(\"Lot Area Extreme Outliers Removed\", fontsize=20)\n",
    "sns.scatterplot(x='Sale_Price', y='Lot_Area', data=dfnum3, ax=axs[0])\n",
    "sns.boxplot(x='Lot_Area', data=dfnum3, ax=axs[1])"
   ]
  },
  {
   "cell_type": "markdown",
   "metadata": {},
   "source": [
    "Referring to the mention of \"questionably numeric\" features, and some examples in provided notebooks, I'll be adjusting the features with years or months. I'll be doing this as to keep from having the single Month Sold feature with numbers 1-12 and instead have each month represent a binary feature."
   ]
  },
  {
   "cell_type": "code",
   "execution_count": 16,
   "metadata": {},
   "outputs": [
    {
     "data": {
      "text/plain": [
       "Index(['Sales_Mo_1', 'Sales_Mo_2', 'Sales_Mo_3', 'Sales_Mo_4', 'Sales_Mo_5',\n",
       "       'Sales_Mo_6', 'Sales_Mo_7', 'Sales_Mo_8', 'Sales_Mo_9', 'Sales_Mo_10',\n",
       "       'Sales_Mo_11', 'Sales_Mo_12'],\n",
       "      dtype='object')"
      ]
     },
     "execution_count": 16,
     "metadata": {},
     "output_type": "execute_result"
    }
   ],
   "source": [
    "#Using the native Pandas get_dummies to convert the feature for month sold into separate columns of 0s and 1s\n",
    "smodummies = pd.get_dummies(dfnum3['Mo_Sold'],prefix=\"Sales_Mo\").astype(int)\n",
    "#Reviewing the dummy columns\n",
    "smodummies.columns\n",
    "#Adding all features/rows excluding the Month Sold column to a new dataframe\n",
    "dfnum4 = dfnum3.loc[:,~(dfnum3.columns.isin(['Mo_Sold']))]\n",
    "#Concatenating the two dataframes together (dfnum4 without Month Sold and the new dummy columns)\n",
    "dfnum5 = pd.concat([dfnum4,smodummies],axis=1,ignore_index=False)\n",
    "dfnum5.head()"
   ]
  },
  {
   "cell_type": "markdown",
   "metadata": {},
   "source": [
    "Converting the Year-related feature values to how many years prior to 2010 they occurred. This will help with minimizng the range of values when standardizing later."
   ]
  },
  {
   "cell_type": "code",
   "execution_count": 19,
   "metadata": {},
   "outputs": [],
   "source": [
    "#Subtracting 2010 from each value in the three year-related feature\n",
    "dfnum5years = dfnum5.loc[:,['Year_Built','Year_Remod_Add','Year_Sold']].transform(lambda x: 2010-x)\n",
    "#Grabbing all rows/features excluding the year-related ones and separated to a new dataframe\n",
    "dfnum6 = dfnum5.loc[:,~(dfnum5.columns.isin(['Year_Built','Year_Remod_Add','Year_Sold']))]\n",
    "#Concatenating the two dataframes back together\n",
    "dfnum7 = pd.concat([dfnum6,dfnum5years],axis=1)"
   ]
  },
  {
   "cell_type": "markdown",
   "metadata": {},
   "source": [
    "# Objective 1 - K-Means Clusterings"
   ]
  },
  {
   "cell_type": "markdown",
   "metadata": {},
   "source": [
    "In this section I'll be performing K-means Clustering to determine which houses, based on their features, can be considered \"like records\" and grouped together into clusters. I'll be evaluating different metrics like the Silhouette Score, Davies Bouldin Score, and Calinski Harabasz Score. The Silhouette Score represents distance between other points and its nearest cluster, the Davies Bouldin Score measures the distance between each the clusters' centroids, and the Calinski Harabasz Score compares the variance between clusters to that of each clusters internal variance."
   ]
  },
  {
   "cell_type": "code",
   "execution_count": 20,
   "metadata": {},
   "outputs": [],
   "source": [
    "#Splitting Sale Price into a new dataframe and all other features excluding Sale Price into new dataframe\n",
    "saledata, clusdata = dfnum7.loc[:,(dfnum7.columns.isin(['Sale_Price']))].copy(deep=True), dfnum7.loc[:,~(dfnum7.columns.isin(['Sale_Price']))].copy(deep=True)\n",
    "#Defining X and y for training. Converting to NumPy arrays.\n",
    "X = clusdata.to_numpy(copy=True) \n",
    "y = saledata.Sale_Price.to_numpy(copy=True)"
   ]
  },
  {
   "cell_type": "code",
   "execution_count": 21,
   "metadata": {},
   "outputs": [
    {
     "name": "stdout",
     "output_type": "stream",
     "text": [
      "Cluster # = 2 Silhouette Score: 0.7596890425207573 Davies Bouldin Score: 0.6135060409995381 CH Score: 2137.7652707642414\n",
      "Cluster # = 3 Silhouette Score: 0.44068092140725773 Davies Bouldin Score: 0.6810153295064377 CH Score: 3095.83369436093\n",
      "Cluster # = 4 Silhouette Score: 0.43898709713257017 Davies Bouldin Score: 0.6609269910067859 CH Score: 3766.0838919190173\n",
      "Cluster # = 5 Silhouette Score: 0.4261086495071589 Davies Bouldin Score: 0.6715196323838235 CH Score: 4171.011762159904\n",
      "Cluster # = 6 Silhouette Score: 0.38434911330844795 Davies Bouldin Score: 0.7089775898854423 CH Score: 4398.412016066107\n",
      "Cluster # = 7 Silhouette Score: 0.37285486505761395 Davies Bouldin Score: 0.7075606866901936 CH Score: 4467.637553967823\n",
      "Cluster # = 8 Silhouette Score: 0.34489017665400656 Davies Bouldin Score: 0.7612934296933396 CH Score: 4542.201364377202\n",
      "Cluster # = 9 Silhouette Score: 0.30902785493284374 Davies Bouldin Score: 0.8300642080091515 CH Score: 4463.575069416142\n",
      "Cluster # = 10 Silhouette Score: 0.28134695326443954 Davies Bouldin Score: 0.9067347054514396 CH Score: 4294.972845370392\n",
      "Cluster # = 11 Silhouette Score: 0.281296978854271 Davies Bouldin Score: 0.83909371356187 CH Score: 4163.462372764986\n",
      "Cluster # = 12 Silhouette Score: 0.25523085153617997 Davies Bouldin Score: 0.9557223514839208 CH Score: 4023.4061540449716\n"
     ]
    }
   ],
   "source": [
    "#Creating a for loop to train, fit and predict a K-Means model for cluster sizes from 2 - 13\n",
    "for i in range(2,13):\n",
    "    #Defining the clusters and random state for repeatability\n",
    "    clusters = KMeans(n_clusters=i, random_state=44)\n",
    "    #Fitting the model and predicting labels from X\n",
    "    labels = clusters.fit_predict(X)\n",
    "    #Printing the results of each iteration for mentioned metrics\n",
    "    print(\"Cluster # =\", i,\n",
    "          f\"Silhouette Score: {silhouette_score(X, labels)}\",\n",
    "          f\"Davies Bouldin Score: {davies_bouldin_score(X, labels)}\",\n",
    "          f'CH Score: {calinski_harabasz_score(X, labels)}')"
   ]
  },
  {
   "cell_type": "markdown",
   "metadata": {},
   "source": [
    "Based on the output of the for loop I'll be using 4 clusters. My reasoning is that while 2 clusters has a much higher silhouette score, I feel that the CH score was also the lowest and did not provide enough distinction for the number of features. Anything above two clusters had a sharp drop in Silhouette Score, with 4 having a lower DB Score than 3 and a higher CH score than 3."
   ]
  },
  {
   "cell_type": "code",
   "execution_count": 25,
   "metadata": {},
   "outputs": [],
   "source": [
    "#Creating Kmeans with 4 clusters\n",
    "clusters = KMeans(n_clusters=4, random_state=40)\n",
    "#Fitting and predicting labels\n",
    "labels = clusters.fit_predict(X)\n",
    "#Determining the clusters' centers\n",
    "centers = clusters.cluster_centers_\n",
    "#Outputting the Silhouette Score\n",
    "silhouette_avg = silhouette_score(X, labels)\n",
    "#Creating silhouette values to plot in the next section\n",
    "sample_silhouette_values = silhouette_samples(X, cluster_labels)"
   ]
  },
  {
   "cell_type": "markdown",
   "metadata": {},
   "source": [
    "I'll be using some snippets of code from the SKlearn documentation to generate a Silhouette Plot and scatter plot distinguishing the different clusters and their respective centroids. The silhouette plot also verifies that 4 clusters is a good option."
   ]
  },
  {
   "cell_type": "code",
   "execution_count": 26,
   "metadata": {},
   "outputs": [
    {
     "data": {
      "image/png": "[encoded data removed]",
      "text/plain": [
       "<Figure size 1296x504 with 2 Axes>"
      ]
     },
     "metadata": {},
     "output_type": "display_data"
    }
   ],
   "source": [
    "#Setting up a 1x2 subplot \n",
    "fig, (ax1, ax2) = plt.subplots(1, 2)\n",
    "fig.set_size_inches(18, 7)\n",
    "ax1.set_title(\"Silhouette plot for cluster size 4.\")\n",
    "ax1.set_xlabel(\"Silhouette coefficient values\")\n",
    "ax1.set_ylabel(\"Cluster label\")\n",
    "#Creating a horizontal line to draw where the silhouette score lands\n",
    "ax1.axvline(x=silhouette_avg, color=\"red\", linestyle=\"--\")\n",
    "ax1.set_yticks([])  # Clear the yaxis labels / ticks\n",
    "ax1.set_xticks([-0.1, 0, 0.2, 0.4, 0.6, 0.8, 1])\n",
    "y_lower = 10\n",
    "\n",
    "#Creating a for loop to generate the Silhouette Plot\n",
    "for i in range(clusters.n_clusters):\n",
    "    # Aggregate the silhouette scores for samples belonging to\n",
    "    # cluster i, and sort them\n",
    "    ith_cluster_silhouette_values = \\\n",
    "        sample_silhouette_values[cluster_labels == i]\n",
    "\n",
    "    ith_cluster_silhouette_values.sort()\n",
    "\n",
    "    size_cluster_i = ith_cluster_silhouette_values.shape[0]\n",
    "    y_upper = y_lower + size_cluster_i\n",
    "\n",
    "    color = cm.gist_stern(float(i) / n_clusters)\n",
    "    ax1.fill_betweenx(np.arange(y_lower, y_upper),\n",
    "                      0, ith_cluster_silhouette_values,\n",
    "                      facecolor=color, edgecolor=color, alpha=0.7)\n",
    "\n",
    "    # Label the silhouette plots with their cluster numbers at the middle\n",
    "    ax1.text(-0.05, y_lower + 0.5 * size_cluster_i, str(i))\n",
    "\n",
    "    # Compute the new y_lower for next plot\n",
    "    y_lower = y_upper + 10  # 10 for the 0 samples\n",
    "\n",
    "colors = cm.gist_stern(labels.astype(float) / 6)\n",
    "\n",
    "#creating scatter plots to find the clusters and their centers\n",
    "ax2.scatter(X[:, 0], X[:, 1], marker='.', s=30, lw=0, alpha=0.7, c=colors, edgecolor='k')\n",
    "ax2.scatter(centers[:, 0], centers[:, 1], marker='o', c=\"white\", alpha=1, s=50, edgecolor='k')\n",
    "plt.show();"
   ]
  },
  {
   "cell_type": "markdown",
   "metadata": {
    "jupyter": {
     "outputs_hidden": true
    }
   },
   "source": [
    "# Objective 2: Rescaling Feature Data"
   ]
  },
  {
   "cell_type": "markdown",
   "metadata": {},
   "source": [
    "In this objective I'll be rescaling the data. I chose to go with standardization and not min-max scaling. I'll split both X and y into train/test splits using the training size of 85% and test size of 15%."
   ]
  },
  {
   "cell_type": "code",
   "execution_count": 32,
   "metadata": {},
   "outputs": [
    {
     "data": {
      "text/plain": [
       "(2920, 44)"
      ]
     },
     "execution_count": 32,
     "metadata": {},
     "output_type": "execute_result"
    },
    {
     "data": {
      "text/plain": [
       "(2920,)"
      ]
     },
     "execution_count": 32,
     "metadata": {},
     "output_type": "execute_result"
    }
   ],
   "source": [
    "#Determining X and y shape to ensure it can be split\n",
    "X.shape\n",
    "y.shape\n",
    "\n",
    "#Train/test split with 85% training and 15% test/validation\n",
    "trainX , testX , trainy , testy = train_test_split(X, y, train_size = 0.85, test_size=0.15, random_state=33)"
   ]
  },
  {
   "cell_type": "code",
   "execution_count": 33,
   "metadata": {},
   "outputs": [
    {
     "data": {
      "text/plain": [
       "StandardScaler()"
      ]
     },
     "execution_count": 33,
     "metadata": {},
     "output_type": "execute_result"
    },
    {
     "data": {
      "text/plain": [
       "array([[-1.7328052 , -0.47054304,  0.21738288, ..., -0.02735038,\n",
       "        -0.95617686,  0.6015238 ],\n",
       "       [ 0.22773525, -0.66803529, -0.57066485, ...,  1.06594404,\n",
       "         1.64151383,  1.35899821],\n",
       "       [ 0.46903254, -0.22524891, -0.57066485, ..., -1.15377494,\n",
       "        -1.05238763,  1.35899821],\n",
       "       ...,\n",
       "       [-1.7328052 ,  0.00918981, -0.57066485, ..., -0.15987092,\n",
       "        -0.42701765, -0.91342502],\n",
       "       [ 0.55951902,  0.00461912, -0.57066485, ..., -0.95499413,\n",
       "        -0.76375533,  0.6015238 ],\n",
       "       [ 0.77065415,  0.01452229,  1.6964    , ..., -0.78934346,\n",
       "        -0.52322842,  1.35899821]])"
      ]
     },
     "execution_count": 33,
     "metadata": {},
     "output_type": "execute_result"
    },
    {
     "data": {
      "text/plain": [
       "array([[ 0.61984334,  1.07740005,  1.8848462 , ...,  0.70151257,\n",
       "        -0.33080688, -1.67089943],\n",
       "       [-0.22469716, -0.52101117, -0.57066485, ...,  0.4364715 ,\n",
       "        -1.1485984 , -1.67089943],\n",
       "       [ 0.89130279,  0.01090383,  0.91977325, ...,  0.30395096,\n",
       "         1.06424923, -1.67089943],\n",
       "       ...,\n",
       "       [-1.7328052 , -0.66536905, -0.57066485, ...,  2.12610833,\n",
       "         1.64151383, -1.67089943],\n",
       "       [ 0.07692445, -0.52234429, -0.57066485, ...,  0.66838243,\n",
       "         1.59340845, -0.15595061],\n",
       "       [ 0.13724877, -0.32351892, -0.57066485, ..., -1.08751467,\n",
       "        -0.95617686,  0.6015238 ]])"
      ]
     },
     "execution_count": 33,
     "metadata": {},
     "output_type": "execute_result"
    }
   ],
   "source": [
    "#Loading standardization algorithm\n",
    "scaler = StandardScaler()\n",
    "#Fitting the training data to the algorithm\n",
    "scaler.fit(trainX)\n",
    "#Assigning the scaled trainX to a new variable named trainXS\n",
    "trainXS = scaler.transform(trainX)\n",
    "trainXS\n",
    "#Assigning the scaled testX to a new variable named testXS\n",
    "testXS = scaler.transform(testX)\n",
    "testXS"
   ]
  },
  {
   "cell_type": "markdown",
   "metadata": {},
   "source": [
    "# Objective 3: PCA"
   ]
  },
  {
   "cell_type": "raw",
   "metadata": {},
   "source": [
    "In this objective I'll be performing Principal Component Analysis to help reduce the number of dimensions in the dataset. The PCA documentation states that using the n_components as a float will represent the percentage of total variation in the data. In this case we'll be using 75%. The results show that 44 components were required to make up 75% of the total variation."
   ]
  },
  {
   "cell_type": "code",
   "execution_count": 34,
   "metadata": {},
   "outputs": [
    {
     "data": {
      "text/plain": [
       "PCA(n_components=0.75, svd_solver='full')"
      ]
     },
     "execution_count": 34,
     "metadata": {},
     "output_type": "execute_result"
    },
    {
     "name": "stdout",
     "output_type": "stream",
     "text": [
      "Number of components required for 75% of total variation: 44\n"
     ]
    }
   ],
   "source": [
    "#Loading PCA algorithm and assigning 75% of total variance\n",
    "pca75 = PCA(n_components=0.75, svd_solver='full')\n",
    "#Fitting the training data\n",
    "pca75.fit(trainX)\n",
    "print(\"Number of components required for 75% of total variation:\", pca75.components_.size)"
   ]
  },
  {
   "cell_type": "code",
   "execution_count": 35,
   "metadata": {},
   "outputs": [
    {
     "data": {
      "text/plain": [
       "(2482, 1)"
      ]
     },
     "execution_count": 35,
     "metadata": {},
     "output_type": "execute_result"
    }
   ],
   "source": [
    "#Assigning the PCA-transformed training data to new variable trainXPCA\n",
    "trainXPCA=pca75.transform(trainX)\n",
    "#Assigning the PCA-transformed test data to new variable testXPCA\n",
    "testXPCA=pca75.transform(testX)\n",
    "trainXPCA.shape"
   ]
  },
  {
   "cell_type": "markdown",
   "metadata": {},
   "source": [
    "# Objective 4: Training RF Regressors"
   ]
  },
  {
   "cell_type": "markdown",
   "metadata": {},
   "source": [
    "Now that I have ran PCA for dimensionality reduction I'll be using Random Forest Regressors to predict Sale Price. I'll also be looking at what the regressor's feature importance scores are. The higher the feature importance the more important the feature in predicting the Sale Price."
   ]
  },
  {
   "cell_type": "code",
   "execution_count": 46,
   "metadata": {},
   "outputs": [
    {
     "data": {
      "text/plain": [
       "RandomForestRegressor(oob_score=True)"
      ]
     },
     "execution_count": 46,
     "metadata": {},
     "output_type": "execute_result"
    }
   ],
   "source": [
    "#Load RF Regressor. Set # of estimators to 100 and including out of bag data\n",
    "rfreg = RandomForestRegressor(n_estimators=100, max_features=\"auto\", oob_score=True)\n",
    "#Fit training data\n",
    "rfreg.fit(trainX, trainy)\n",
    "#Predict Sale Price using testX\n",
    "ypred = rfreg.predict(testX)"
   ]
  },
  {
   "cell_type": "markdown",
   "metadata": {},
   "source": [
    "Feature importances, with the higher the score the more important. All values add up to 1. \n",
    "\n",
    "We can see that the main living area sq footage, how many cars the garage can fit, and the year built are all very important features."
   ]
  },
  {
   "cell_type": "code",
   "execution_count": 47,
   "metadata": {},
   "outputs": [
    {
     "data": {
      "text/html": [
       "<div>\n",
       "<style scoped>\n",
       "    .dataframe tbody tr th:only-of-type {\n",
       "        vertical-align: middle;\n",
       "    }\n",
       "\n",
       "    .dataframe tbody tr th {\n",
       "        vertical-align: top;\n",
       "    }\n",
       "\n",
       "    .dataframe thead th {\n",
       "        text-align: right;\n",
       "    }\n",
       "</style>\n",
       "<table border=\"1\" class=\"dataframe\">\n",
       "  <thead>\n",
       "    <tr style=\"text-align: right;\">\n",
       "      <th></th>\n",
       "      <th>Lot_Frontage</th>\n",
       "      <th>Lot_Area</th>\n",
       "      <th>Mas_Vnr_Area</th>\n",
       "      <th>BsmtFin_SF_1</th>\n",
       "      <th>BsmtFin_SF_2</th>\n",
       "      <th>Bsmt_Unf_SF</th>\n",
       "      <th>Total_Bsmt_SF</th>\n",
       "      <th>First_Flr_SF</th>\n",
       "      <th>Second_Flr_SF</th>\n",
       "      <th>Gr_Liv_Area</th>\n",
       "      <th>Bsmt_Full_Bath</th>\n",
       "      <th>Bsmt_Half_Bath</th>\n",
       "      <th>Full_Bath</th>\n",
       "      <th>Half_Bath</th>\n",
       "      <th>Bedroom_AbvGr</th>\n",
       "      <th>Kitchen_AbvGr</th>\n",
       "      <th>TotRms_AbvGrd</th>\n",
       "      <th>Fireplaces</th>\n",
       "      <th>Garage_Cars</th>\n",
       "      <th>Garage_Area</th>\n",
       "      <th>Wood_Deck_SF</th>\n",
       "      <th>Open_Porch_SF</th>\n",
       "      <th>Enclosed_Porch</th>\n",
       "      <th>Three_season_porch</th>\n",
       "      <th>Screen_Porch</th>\n",
       "      <th>Pool_Area</th>\n",
       "      <th>Misc_Val</th>\n",
       "      <th>Longitude</th>\n",
       "      <th>Latitude</th>\n",
       "      <th>Sales_Mo_1</th>\n",
       "      <th>Sales_Mo_2</th>\n",
       "      <th>Sales_Mo_3</th>\n",
       "      <th>Sales_Mo_4</th>\n",
       "      <th>Sales_Mo_5</th>\n",
       "      <th>Sales_Mo_6</th>\n",
       "      <th>Sales_Mo_7</th>\n",
       "      <th>Sales_Mo_8</th>\n",
       "      <th>Sales_Mo_9</th>\n",
       "      <th>Sales_Mo_10</th>\n",
       "      <th>Sales_Mo_11</th>\n",
       "      <th>Sales_Mo_12</th>\n",
       "      <th>Year_Built</th>\n",
       "      <th>Year_Remod_Add</th>\n",
       "      <th>Year_Sold</th>\n",
       "    </tr>\n",
       "  </thead>\n",
       "  <tbody>\n",
       "    <tr>\n",
       "      <th>0</th>\n",
       "      <td>0.005182</td>\n",
       "      <td>0.019594</td>\n",
       "      <td>0.024637</td>\n",
       "      <td>0.003464</td>\n",
       "      <td>0.000629</td>\n",
       "      <td>0.010017</td>\n",
       "      <td>0.071212</td>\n",
       "      <td>0.0591</td>\n",
       "      <td>0.006122</td>\n",
       "      <td>0.162003</td>\n",
       "      <td>0.003656</td>\n",
       "      <td>0.000239</td>\n",
       "      <td>0.003272</td>\n",
       "      <td>0.001299</td>\n",
       "      <td>0.004662</td>\n",
       "      <td>0.002072</td>\n",
       "      <td>0.00444</td>\n",
       "      <td>0.026665</td>\n",
       "      <td>0.267141</td>\n",
       "      <td>0.025617</td>\n",
       "      <td>0.005323</td>\n",
       "      <td>0.005702</td>\n",
       "      <td>0.001197</td>\n",
       "      <td>0.000083</td>\n",
       "      <td>0.002909</td>\n",
       "      <td>0.000069</td>\n",
       "      <td>0.000266</td>\n",
       "      <td>0.009531</td>\n",
       "      <td>0.010687</td>\n",
       "      <td>0.000371</td>\n",
       "      <td>0.001395</td>\n",
       "      <td>0.000475</td>\n",
       "      <td>0.000285</td>\n",
       "      <td>0.000356</td>\n",
       "      <td>0.000643</td>\n",
       "      <td>0.00045</td>\n",
       "      <td>0.000266</td>\n",
       "      <td>0.000482</td>\n",
       "      <td>0.000788</td>\n",
       "      <td>0.000482</td>\n",
       "      <td>0.000365</td>\n",
       "      <td>0.226115</td>\n",
       "      <td>0.028397</td>\n",
       "      <td>0.002339</td>\n",
       "    </tr>\n",
       "  </tbody>\n",
       "</table>\n",
       "</div>"
      ],
      "text/plain": [
       "   Lot_Frontage  Lot_Area  Mas_Vnr_Area  BsmtFin_SF_1  BsmtFin_SF_2  \\\n",
       "0      0.005182  0.019594      0.024637      0.003464      0.000629   \n",
       "\n",
       "   Bsmt_Unf_SF  Total_Bsmt_SF  First_Flr_SF  Second_Flr_SF  Gr_Liv_Area  \\\n",
       "0     0.010017       0.071212        0.0591       0.006122     0.162003   \n",
       "\n",
       "   Bsmt_Full_Bath  Bsmt_Half_Bath  Full_Bath  Half_Bath  Bedroom_AbvGr  \\\n",
       "0        0.003656        0.000239   0.003272   0.001299       0.004662   \n",
       "\n",
       "   Kitchen_AbvGr  TotRms_AbvGrd  Fireplaces  Garage_Cars  Garage_Area  \\\n",
       "0       0.002072        0.00444    0.026665     0.267141     0.025617   \n",
       "\n",
       "   Wood_Deck_SF  Open_Porch_SF  Enclosed_Porch  Three_season_porch  \\\n",
       "0      0.005323       0.005702        0.001197            0.000083   \n",
       "\n",
       "   Screen_Porch  Pool_Area  Misc_Val  Longitude  Latitude  Sales_Mo_1  \\\n",
       "0      0.002909   0.000069  0.000266   0.009531  0.010687    0.000371   \n",
       "\n",
       "   Sales_Mo_2  Sales_Mo_3  Sales_Mo_4  Sales_Mo_5  Sales_Mo_6  Sales_Mo_7  \\\n",
       "0    0.001395    0.000475    0.000285    0.000356    0.000643     0.00045   \n",
       "\n",
       "   Sales_Mo_8  Sales_Mo_9  Sales_Mo_10  Sales_Mo_11  Sales_Mo_12  Year_Built  \\\n",
       "0    0.000266    0.000482     0.000788     0.000482     0.000365    0.226115   \n",
       "\n",
       "   Year_Remod_Add  Year_Sold  \n",
       "0        0.028397   0.002339  "
      ]
     },
     "execution_count": 47,
     "metadata": {},
     "output_type": "execute_result"
    }
   ],
   "source": [
    "#Reviewing feature importances\n",
    "pd.DataFrame([rfreg.feature_importances_], columns=clusdata.columns)"
   ]
  },
  {
   "cell_type": "code",
   "execution_count": 48,
   "metadata": {},
   "outputs": [
    {
     "data": {
      "text/html": [
       "<div>\n",
       "<style scoped>\n",
       "    .dataframe tbody tr th:only-of-type {\n",
       "        vertical-align: middle;\n",
       "    }\n",
       "\n",
       "    .dataframe tbody tr th {\n",
       "        vertical-align: top;\n",
       "    }\n",
       "\n",
       "    .dataframe thead th {\n",
       "        text-align: right;\n",
       "    }\n",
       "</style>\n",
       "<table border=\"1\" class=\"dataframe\">\n",
       "  <thead>\n",
       "    <tr style=\"text-align: right;\">\n",
       "      <th></th>\n",
       "      <th>Pred</th>\n",
       "      <th>Actual</th>\n",
       "    </tr>\n",
       "  </thead>\n",
       "  <tbody>\n",
       "    <tr>\n",
       "      <th>0</th>\n",
       "      <td>175964.17</td>\n",
       "      <td>215000</td>\n",
       "    </tr>\n",
       "    <tr>\n",
       "      <th>1</th>\n",
       "      <td>116833.32</td>\n",
       "      <td>116500</td>\n",
       "    </tr>\n",
       "    <tr>\n",
       "      <th>2</th>\n",
       "      <td>144653.35</td>\n",
       "      <td>160000</td>\n",
       "    </tr>\n",
       "    <tr>\n",
       "      <th>3</th>\n",
       "      <td>232433.93</td>\n",
       "      <td>239500</td>\n",
       "    </tr>\n",
       "    <tr>\n",
       "      <th>4</th>\n",
       "      <td>241282.17</td>\n",
       "      <td>218836</td>\n",
       "    </tr>\n",
       "    <tr>\n",
       "      <th>...</th>\n",
       "      <td>...</td>\n",
       "      <td>...</td>\n",
       "    </tr>\n",
       "    <tr>\n",
       "      <th>433</th>\n",
       "      <td>141746.50</td>\n",
       "      <td>133000</td>\n",
       "    </tr>\n",
       "    <tr>\n",
       "      <th>434</th>\n",
       "      <td>445938.81</td>\n",
       "      <td>342000</td>\n",
       "    </tr>\n",
       "    <tr>\n",
       "      <th>435</th>\n",
       "      <td>125666.93</td>\n",
       "      <td>93369</td>\n",
       "    </tr>\n",
       "    <tr>\n",
       "      <th>436</th>\n",
       "      <td>118254.15</td>\n",
       "      <td>94000</td>\n",
       "    </tr>\n",
       "    <tr>\n",
       "      <th>437</th>\n",
       "      <td>188443.10</td>\n",
       "      <td>183500</td>\n",
       "    </tr>\n",
       "  </tbody>\n",
       "</table>\n",
       "<p>438 rows × 2 columns</p>\n",
       "</div>"
      ],
      "text/plain": [
       "          Pred  Actual\n",
       "0    175964.17  215000\n",
       "1    116833.32  116500\n",
       "2    144653.35  160000\n",
       "3    232433.93  239500\n",
       "4    241282.17  218836\n",
       "..         ...     ...\n",
       "433  141746.50  133000\n",
       "434  445938.81  342000\n",
       "435  125666.93   93369\n",
       "436  118254.15   94000\n",
       "437  188443.10  183500\n",
       "\n",
       "[438 rows x 2 columns]"
      ]
     },
     "execution_count": 48,
     "metadata": {},
     "output_type": "execute_result"
    }
   ],
   "source": [
    "#Viewing a dataframe of predicted values to actual Sale Price values\n",
    "pd.DataFrame({'Pred':ypred, 'Actual':testy}, columns=['Pred','Actual'])"
   ]
  },
  {
   "cell_type": "code",
   "execution_count": 49,
   "metadata": {},
   "outputs": [
    {
     "data": {
      "text/plain": [
       "23720.704943738805"
      ]
     },
     "execution_count": 49,
     "metadata": {},
     "output_type": "execute_result"
    }
   ],
   "source": [
    "#Reviewing the RMSE for the predicted values against actuals. RMSE is about $23,720\n",
    "mse = mean_squared_error(testy,ypred)\n",
    "rmse = np.sqrt(mse)\n",
    "rmse"
   ]
  },
  {
   "cell_type": "markdown",
   "metadata": {},
   "source": [
    "Training using trainXS and predicting using testXS."
   ]
  },
  {
   "cell_type": "code",
   "execution_count": 50,
   "metadata": {},
   "outputs": [
    {
     "data": {
      "text/plain": [
       "RandomForestRegressor(oob_score=True)"
      ]
     },
     "execution_count": 50,
     "metadata": {},
     "output_type": "execute_result"
    }
   ],
   "source": [
    "rfreg = RandomForestRegressor(n_estimators=100, max_features=\"auto\", oob_score=True)\n",
    "rfreg.fit(trainXS, trainy)\n",
    "ypred = rfreg.predict(testXS)"
   ]
  },
  {
   "cell_type": "code",
   "execution_count": 51,
   "metadata": {},
   "outputs": [
    {
     "data": {
      "text/html": [
       "<div>\n",
       "<style scoped>\n",
       "    .dataframe tbody tr th:only-of-type {\n",
       "        vertical-align: middle;\n",
       "    }\n",
       "\n",
       "    .dataframe tbody tr th {\n",
       "        vertical-align: top;\n",
       "    }\n",
       "\n",
       "    .dataframe thead th {\n",
       "        text-align: right;\n",
       "    }\n",
       "</style>\n",
       "<table border=\"1\" class=\"dataframe\">\n",
       "  <thead>\n",
       "    <tr style=\"text-align: right;\">\n",
       "      <th></th>\n",
       "      <th>Lot_Frontage</th>\n",
       "      <th>Lot_Area</th>\n",
       "      <th>Mas_Vnr_Area</th>\n",
       "      <th>BsmtFin_SF_1</th>\n",
       "      <th>BsmtFin_SF_2</th>\n",
       "      <th>Bsmt_Unf_SF</th>\n",
       "      <th>Total_Bsmt_SF</th>\n",
       "      <th>First_Flr_SF</th>\n",
       "      <th>Second_Flr_SF</th>\n",
       "      <th>Gr_Liv_Area</th>\n",
       "      <th>Bsmt_Full_Bath</th>\n",
       "      <th>Bsmt_Half_Bath</th>\n",
       "      <th>Full_Bath</th>\n",
       "      <th>Half_Bath</th>\n",
       "      <th>Bedroom_AbvGr</th>\n",
       "      <th>Kitchen_AbvGr</th>\n",
       "      <th>TotRms_AbvGrd</th>\n",
       "      <th>Fireplaces</th>\n",
       "      <th>Garage_Cars</th>\n",
       "      <th>Garage_Area</th>\n",
       "      <th>Wood_Deck_SF</th>\n",
       "      <th>Open_Porch_SF</th>\n",
       "      <th>Enclosed_Porch</th>\n",
       "      <th>Three_season_porch</th>\n",
       "      <th>Screen_Porch</th>\n",
       "      <th>Pool_Area</th>\n",
       "      <th>Misc_Val</th>\n",
       "      <th>Longitude</th>\n",
       "      <th>Latitude</th>\n",
       "      <th>Sales_Mo_1</th>\n",
       "      <th>Sales_Mo_2</th>\n",
       "      <th>Sales_Mo_3</th>\n",
       "      <th>Sales_Mo_4</th>\n",
       "      <th>Sales_Mo_5</th>\n",
       "      <th>Sales_Mo_6</th>\n",
       "      <th>Sales_Mo_7</th>\n",
       "      <th>Sales_Mo_8</th>\n",
       "      <th>Sales_Mo_9</th>\n",
       "      <th>Sales_Mo_10</th>\n",
       "      <th>Sales_Mo_11</th>\n",
       "      <th>Sales_Mo_12</th>\n",
       "      <th>Year_Built</th>\n",
       "      <th>Year_Remod_Add</th>\n",
       "      <th>Year_Sold</th>\n",
       "    </tr>\n",
       "  </thead>\n",
       "  <tbody>\n",
       "    <tr>\n",
       "      <th>0</th>\n",
       "      <td>0.00484</td>\n",
       "      <td>0.021024</td>\n",
       "      <td>0.024218</td>\n",
       "      <td>0.003159</td>\n",
       "      <td>0.000738</td>\n",
       "      <td>0.010086</td>\n",
       "      <td>0.076655</td>\n",
       "      <td>0.06266</td>\n",
       "      <td>0.007316</td>\n",
       "      <td>0.163951</td>\n",
       "      <td>0.003201</td>\n",
       "      <td>0.000359</td>\n",
       "      <td>0.002023</td>\n",
       "      <td>0.001209</td>\n",
       "      <td>0.004852</td>\n",
       "      <td>0.001879</td>\n",
       "      <td>0.005427</td>\n",
       "      <td>0.027383</td>\n",
       "      <td>0.265153</td>\n",
       "      <td>0.021126</td>\n",
       "      <td>0.005713</td>\n",
       "      <td>0.005775</td>\n",
       "      <td>0.000925</td>\n",
       "      <td>0.000068</td>\n",
       "      <td>0.002309</td>\n",
       "      <td>0.000102</td>\n",
       "      <td>0.000303</td>\n",
       "      <td>0.008966</td>\n",
       "      <td>0.010794</td>\n",
       "      <td>0.000306</td>\n",
       "      <td>0.001008</td>\n",
       "      <td>0.0004</td>\n",
       "      <td>0.000277</td>\n",
       "      <td>0.000357</td>\n",
       "      <td>0.000638</td>\n",
       "      <td>0.00058</td>\n",
       "      <td>0.000376</td>\n",
       "      <td>0.000513</td>\n",
       "      <td>0.000711</td>\n",
       "      <td>0.000684</td>\n",
       "      <td>0.000372</td>\n",
       "      <td>0.220519</td>\n",
       "      <td>0.0287</td>\n",
       "      <td>0.002344</td>\n",
       "    </tr>\n",
       "  </tbody>\n",
       "</table>\n",
       "</div>"
      ],
      "text/plain": [
       "   Lot_Frontage  Lot_Area  Mas_Vnr_Area  BsmtFin_SF_1  BsmtFin_SF_2  \\\n",
       "0       0.00484  0.021024      0.024218      0.003159      0.000738   \n",
       "\n",
       "   Bsmt_Unf_SF  Total_Bsmt_SF  First_Flr_SF  Second_Flr_SF  Gr_Liv_Area  \\\n",
       "0     0.010086       0.076655       0.06266       0.007316     0.163951   \n",
       "\n",
       "   Bsmt_Full_Bath  Bsmt_Half_Bath  Full_Bath  Half_Bath  Bedroom_AbvGr  \\\n",
       "0        0.003201        0.000359   0.002023   0.001209       0.004852   \n",
       "\n",
       "   Kitchen_AbvGr  TotRms_AbvGrd  Fireplaces  Garage_Cars  Garage_Area  \\\n",
       "0       0.001879       0.005427    0.027383     0.265153     0.021126   \n",
       "\n",
       "   Wood_Deck_SF  Open_Porch_SF  Enclosed_Porch  Three_season_porch  \\\n",
       "0      0.005713       0.005775        0.000925            0.000068   \n",
       "\n",
       "   Screen_Porch  Pool_Area  Misc_Val  Longitude  Latitude  Sales_Mo_1  \\\n",
       "0      0.002309   0.000102  0.000303   0.008966  0.010794    0.000306   \n",
       "\n",
       "   Sales_Mo_2  Sales_Mo_3  Sales_Mo_4  Sales_Mo_5  Sales_Mo_6  Sales_Mo_7  \\\n",
       "0    0.001008      0.0004    0.000277    0.000357    0.000638     0.00058   \n",
       "\n",
       "   Sales_Mo_8  Sales_Mo_9  Sales_Mo_10  Sales_Mo_11  Sales_Mo_12  Year_Built  \\\n",
       "0    0.000376    0.000513     0.000711     0.000684     0.000372    0.220519   \n",
       "\n",
       "   Year_Remod_Add  Year_Sold  \n",
       "0          0.0287   0.002344  "
      ]
     },
     "execution_count": 51,
     "metadata": {},
     "output_type": "execute_result"
    }
   ],
   "source": [
    "pd.DataFrame([rfreg.feature_importances_], columns=clusdata.columns)"
   ]
  },
  {
   "cell_type": "code",
   "execution_count": 52,
   "metadata": {},
   "outputs": [
    {
     "data": {
      "text/html": [
       "<div>\n",
       "<style scoped>\n",
       "    .dataframe tbody tr th:only-of-type {\n",
       "        vertical-align: middle;\n",
       "    }\n",
       "\n",
       "    .dataframe tbody tr th {\n",
       "        vertical-align: top;\n",
       "    }\n",
       "\n",
       "    .dataframe thead th {\n",
       "        text-align: right;\n",
       "    }\n",
       "</style>\n",
       "<table border=\"1\" class=\"dataframe\">\n",
       "  <thead>\n",
       "    <tr style=\"text-align: right;\">\n",
       "      <th></th>\n",
       "      <th>Pred</th>\n",
       "      <th>Actual</th>\n",
       "    </tr>\n",
       "  </thead>\n",
       "  <tbody>\n",
       "    <tr>\n",
       "      <th>0</th>\n",
       "      <td>186175.04</td>\n",
       "      <td>215000</td>\n",
       "    </tr>\n",
       "    <tr>\n",
       "      <th>1</th>\n",
       "      <td>113686.16</td>\n",
       "      <td>116500</td>\n",
       "    </tr>\n",
       "    <tr>\n",
       "      <th>2</th>\n",
       "      <td>142613.68</td>\n",
       "      <td>160000</td>\n",
       "    </tr>\n",
       "    <tr>\n",
       "      <th>3</th>\n",
       "      <td>229300.80</td>\n",
       "      <td>239500</td>\n",
       "    </tr>\n",
       "    <tr>\n",
       "      <th>4</th>\n",
       "      <td>240405.15</td>\n",
       "      <td>218836</td>\n",
       "    </tr>\n",
       "    <tr>\n",
       "      <th>...</th>\n",
       "      <td>...</td>\n",
       "      <td>...</td>\n",
       "    </tr>\n",
       "    <tr>\n",
       "      <th>433</th>\n",
       "      <td>141074.57</td>\n",
       "      <td>133000</td>\n",
       "    </tr>\n",
       "    <tr>\n",
       "      <th>434</th>\n",
       "      <td>436125.10</td>\n",
       "      <td>342000</td>\n",
       "    </tr>\n",
       "    <tr>\n",
       "      <th>435</th>\n",
       "      <td>126485.43</td>\n",
       "      <td>93369</td>\n",
       "    </tr>\n",
       "    <tr>\n",
       "      <th>436</th>\n",
       "      <td>117401.92</td>\n",
       "      <td>94000</td>\n",
       "    </tr>\n",
       "    <tr>\n",
       "      <th>437</th>\n",
       "      <td>188345.64</td>\n",
       "      <td>183500</td>\n",
       "    </tr>\n",
       "  </tbody>\n",
       "</table>\n",
       "<p>438 rows × 2 columns</p>\n",
       "</div>"
      ],
      "text/plain": [
       "          Pred  Actual\n",
       "0    186175.04  215000\n",
       "1    113686.16  116500\n",
       "2    142613.68  160000\n",
       "3    229300.80  239500\n",
       "4    240405.15  218836\n",
       "..         ...     ...\n",
       "433  141074.57  133000\n",
       "434  436125.10  342000\n",
       "435  126485.43   93369\n",
       "436  117401.92   94000\n",
       "437  188345.64  183500\n",
       "\n",
       "[438 rows x 2 columns]"
      ]
     },
     "execution_count": 52,
     "metadata": {},
     "output_type": "execute_result"
    }
   ],
   "source": [
    "pd.DataFrame({'Pred':ypred, 'Actual':testy}, columns=['Pred','Actual'])"
   ]
  },
  {
   "cell_type": "code",
   "execution_count": 54,
   "metadata": {},
   "outputs": [
    {
     "data": {
      "text/plain": [
       "23779.720216458638"
      ]
     },
     "execution_count": 54,
     "metadata": {},
     "output_type": "execute_result"
    }
   ],
   "source": [
    "#Noticing a RMSE of $23,779. Very similar to original train/test data.\n",
    "mse = mean_squared_error(testy,ypred)\n",
    "rmse = np.sqrt(mse)\n",
    "rmse"
   ]
  },
  {
   "cell_type": "markdown",
   "metadata": {},
   "source": [
    "Changing number of trees to 200 and max features to log2. RMSE continues to drop with refinement."
   ]
  },
  {
   "cell_type": "code",
   "execution_count": 55,
   "metadata": {},
   "outputs": [
    {
     "data": {
      "text/plain": [
       "RandomForestRegressor(max_features='log2', n_estimators=200, oob_score=True)"
      ]
     },
     "execution_count": 55,
     "metadata": {},
     "output_type": "execute_result"
    }
   ],
   "source": [
    "#Using more estimators and using the max features of log2, still using out of bag. \n",
    "rfreg = RandomForestRegressor(n_estimators=200, max_features=\"log2\", oob_score=True)\n",
    "rfreg.fit(trainXS, trainy)\n",
    "ypred = rfreg.predict(testXS)"
   ]
  },
  {
   "cell_type": "code",
   "execution_count": 56,
   "metadata": {},
   "outputs": [],
   "source": [
    "out = pd.DataFrame({'Pred':ypred, 'Actual':testy}, columns=['Pred','Actual'])"
   ]
  },
  {
   "cell_type": "code",
   "execution_count": 59,
   "metadata": {},
   "outputs": [
    {
     "data": {
      "text/html": [
       "<div>\n",
       "<style scoped>\n",
       "    .dataframe tbody tr th:only-of-type {\n",
       "        vertical-align: middle;\n",
       "    }\n",
       "\n",
       "    .dataframe tbody tr th {\n",
       "        vertical-align: top;\n",
       "    }\n",
       "\n",
       "    .dataframe thead th {\n",
       "        text-align: right;\n",
       "    }\n",
       "</style>\n",
       "<table border=\"1\" class=\"dataframe\">\n",
       "  <thead>\n",
       "    <tr style=\"text-align: right;\">\n",
       "      <th></th>\n",
       "      <th>Pred</th>\n",
       "      <th>Actual</th>\n",
       "    </tr>\n",
       "  </thead>\n",
       "  <tbody>\n",
       "    <tr>\n",
       "      <th>count</th>\n",
       "      <td>438.000000</td>\n",
       "      <td>438.000000</td>\n",
       "    </tr>\n",
       "    <tr>\n",
       "      <th>mean</th>\n",
       "      <td>180327.270765</td>\n",
       "      <td>179918.945205</td>\n",
       "    </tr>\n",
       "    <tr>\n",
       "      <th>std</th>\n",
       "      <td>70871.418534</td>\n",
       "      <td>79048.640115</td>\n",
       "    </tr>\n",
       "    <tr>\n",
       "      <th>min</th>\n",
       "      <td>66654.175000</td>\n",
       "      <td>34900.000000</td>\n",
       "    </tr>\n",
       "    <tr>\n",
       "      <th>25%</th>\n",
       "      <td>130881.661250</td>\n",
       "      <td>129000.000000</td>\n",
       "    </tr>\n",
       "    <tr>\n",
       "      <th>50%</th>\n",
       "      <td>160413.527500</td>\n",
       "      <td>159450.000000</td>\n",
       "    </tr>\n",
       "    <tr>\n",
       "      <th>75%</th>\n",
       "      <td>211439.476250</td>\n",
       "      <td>213750.000000</td>\n",
       "    </tr>\n",
       "    <tr>\n",
       "      <th>max</th>\n",
       "      <td>470928.320000</td>\n",
       "      <td>591587.000000</td>\n",
       "    </tr>\n",
       "  </tbody>\n",
       "</table>\n",
       "</div>"
      ],
      "text/plain": [
       "                Pred         Actual\n",
       "count     438.000000     438.000000\n",
       "mean   180327.270765  179918.945205\n",
       "std     70871.418534   79048.640115\n",
       "min     66654.175000   34900.000000\n",
       "25%    130881.661250  129000.000000\n",
       "50%    160413.527500  159450.000000\n",
       "75%    211439.476250  213750.000000\n",
       "max    470928.320000  591587.000000"
      ]
     },
     "execution_count": 59,
     "metadata": {},
     "output_type": "execute_result"
    }
   ],
   "source": [
    "#Viewing summary stats for predicted and actuals\n",
    "out.describe()"
   ]
  },
  {
   "cell_type": "code",
   "execution_count": 60,
   "metadata": {},
   "outputs": [
    {
     "data": {
      "text/plain": [
       "23396.08608433703"
      ]
     },
     "execution_count": 60,
     "metadata": {},
     "output_type": "execute_result"
    }
   ],
   "source": [
    "#RMSE for more estimators still using trainXS and testXS decreases \n",
    "mse = mean_squared_error(testy,ypred)\n",
    "rmse = np.sqrt(mse)\n",
    "rmse"
   ]
  },
  {
   "cell_type": "markdown",
   "metadata": {},
   "source": [
    "# Objective 5: Boosted Regression Models"
   ]
  },
  {
   "cell_type": "markdown",
   "metadata": {},
   "source": [
    "In this section I'll be using AdaBoost to create an iterative, sequential model to refine the output as much as possible. I'll be running a quick GridSearch to determine the best number of learners and the learning rate based on my given range in parameters.  "
   ]
  },
  {
   "cell_type": "code",
   "execution_count": 61,
   "metadata": {},
   "outputs": [
    {
     "data": {
      "text/plain": [
       "GridSearchCV(estimator=AdaBoostRegressor(),\n",
       "             param_grid={'learning_rate': [0.25, 0.5, 0.75, 1],\n",
       "                         'n_estimators': [50, 100, 150, 200]})"
      ]
     },
     "execution_count": 61,
     "metadata": {},
     "output_type": "execute_result"
    }
   ],
   "source": [
    "#Hyperparameters to test in grid search\n",
    "parms = {'n_estimators': [50,100,150,200],'learning_rate':[.25,.50,.75,1]}\n",
    "#Loading AdaBoost algorithm\n",
    "adaregr = AdaBoostRegressor()\n",
    "#Running GridSearchCV against adaboost using parameters\n",
    "adaParmCV = GridSearchCV(adaregr,parms)\n",
    "adaParmCV"
   ]
  },
  {
   "cell_type": "code",
   "execution_count": 62,
   "metadata": {},
   "outputs": [
    {
     "data": {
      "text/plain": [
       "{'learning_rate': 0.25, 'n_estimators': 100}"
      ]
     },
     "execution_count": 62,
     "metadata": {},
     "output_type": "execute_result"
    }
   ],
   "source": [
    "#Fitting my trainX and trainy data to the GridSearch algorithm\n",
    "adaParmFit = adaParmCV.fit(trainX,trainy)\n",
    "#Determining the best learning rate and number of estimators for the given data\n",
    "adaParmFit.best_params_"
   ]
  },
  {
   "cell_type": "markdown",
   "metadata": {},
   "source": [
    "GridSearchCV determined the best number of estimators is 100 and the learning rate should be .25. I'll be using these values for the AdaBoost Regressor hyperparameters."
   ]
  },
  {
   "cell_type": "code",
   "execution_count": 72,
   "metadata": {},
   "outputs": [],
   "source": [
    "#Load the AdaBoost algorithm with the GridSearchCV recommended values\n",
    "adaregr = AdaBoostRegressor(n_estimators=100,learning_rate=.25)\n",
    "#Cross validation of the algorithm using trainX and trainy. 10 cross validation iterations and returning r2 and RMSE\n",
    "adakfold = cross_validate(clone(adaregr),trainX, trainy, cv=10, return_train_score=True,\n",
    "                       scoring=('r2', 'neg_root_mean_squared_error'))"
   ]
  },
  {
   "cell_type": "code",
   "execution_count": 73,
   "metadata": {},
   "outputs": [
    {
     "name": "stdout",
     "output_type": "stream",
     "text": [
      "Fold summary stats:\n"
     ]
    },
    {
     "data": {
      "text/html": [
       "<div>\n",
       "<style scoped>\n",
       "    .dataframe tbody tr th:only-of-type {\n",
       "        vertical-align: middle;\n",
       "    }\n",
       "\n",
       "    .dataframe tbody tr th {\n",
       "        vertical-align: top;\n",
       "    }\n",
       "\n",
       "    .dataframe thead th {\n",
       "        text-align: right;\n",
       "    }\n",
       "</style>\n",
       "<table border=\"1\" class=\"dataframe\">\n",
       "  <thead>\n",
       "    <tr style=\"text-align: right;\">\n",
       "      <th></th>\n",
       "      <th>test_r2</th>\n",
       "      <th>train_r2</th>\n",
       "      <th>test_neg_root_mean_squared_error</th>\n",
       "      <th>train_neg_root_mean_squared_error</th>\n",
       "    </tr>\n",
       "  </thead>\n",
       "  <tbody>\n",
       "    <tr>\n",
       "      <th>count</th>\n",
       "      <td>10.000000</td>\n",
       "      <td>10.000000</td>\n",
       "      <td>10.000000</td>\n",
       "      <td>10.000000</td>\n",
       "    </tr>\n",
       "    <tr>\n",
       "      <th>mean</th>\n",
       "      <td>0.810973</td>\n",
       "      <td>0.852484</td>\n",
       "      <td>-33624.739851</td>\n",
       "      <td>-30101.807793</td>\n",
       "    </tr>\n",
       "    <tr>\n",
       "      <th>std</th>\n",
       "      <td>0.038534</td>\n",
       "      <td>0.002237</td>\n",
       "      <td>2352.203909</td>\n",
       "      <td>366.113941</td>\n",
       "    </tr>\n",
       "    <tr>\n",
       "      <th>min</th>\n",
       "      <td>0.747460</td>\n",
       "      <td>0.847418</td>\n",
       "      <td>-38017.476092</td>\n",
       "      <td>-30711.020415</td>\n",
       "    </tr>\n",
       "    <tr>\n",
       "      <th>25%</th>\n",
       "      <td>0.795085</td>\n",
       "      <td>0.851954</td>\n",
       "      <td>-34614.504395</td>\n",
       "      <td>-30375.387373</td>\n",
       "    </tr>\n",
       "    <tr>\n",
       "      <th>50%</th>\n",
       "      <td>0.817322</td>\n",
       "      <td>0.852972</td>\n",
       "      <td>-33817.072756</td>\n",
       "      <td>-29993.324249</td>\n",
       "    </tr>\n",
       "    <tr>\n",
       "      <th>75%</th>\n",
       "      <td>0.835465</td>\n",
       "      <td>0.854033</td>\n",
       "      <td>-32730.375912</td>\n",
       "      <td>-29913.085240</td>\n",
       "    </tr>\n",
       "    <tr>\n",
       "      <th>max</th>\n",
       "      <td>0.857454</td>\n",
       "      <td>0.854876</td>\n",
       "      <td>-28753.418266</td>\n",
       "      <td>-29443.755759</td>\n",
       "    </tr>\n",
       "  </tbody>\n",
       "</table>\n",
       "</div>"
      ],
      "text/plain": [
       "         test_r2   train_r2  test_neg_root_mean_squared_error  \\\n",
       "count  10.000000  10.000000                         10.000000   \n",
       "mean    0.810973   0.852484                     -33624.739851   \n",
       "std     0.038534   0.002237                       2352.203909   \n",
       "min     0.747460   0.847418                     -38017.476092   \n",
       "25%     0.795085   0.851954                     -34614.504395   \n",
       "50%     0.817322   0.852972                     -33817.072756   \n",
       "75%     0.835465   0.854033                     -32730.375912   \n",
       "max     0.857454   0.854876                     -28753.418266   \n",
       "\n",
       "       train_neg_root_mean_squared_error  \n",
       "count                          10.000000  \n",
       "mean                       -30101.807793  \n",
       "std                           366.113941  \n",
       "min                        -30711.020415  \n",
       "25%                        -30375.387373  \n",
       "50%                        -29993.324249  \n",
       "75%                        -29913.085240  \n",
       "max                        -29443.755759  "
      ]
     },
     "execution_count": 73,
     "metadata": {},
     "output_type": "execute_result"
    }
   ],
   "source": [
    "#Printing summary stats for the cross validation output \n",
    "print('Fold summary stats:')\n",
    "pd.DataFrame(adakfold).iloc[:,2:].describe()"
   ]
  },
  {
   "cell_type": "markdown",
   "metadata": {},
   "source": [
    "Fitting and training the initial adaregr model."
   ]
  },
  {
   "cell_type": "code",
   "execution_count": 76,
   "metadata": {},
   "outputs": [
    {
     "data": {
      "text/plain": [
       "AdaBoostRegressor(learning_rate=0.25, n_estimators=100)"
      ]
     },
     "execution_count": 76,
     "metadata": {},
     "output_type": "execute_result"
    }
   ],
   "source": [
    "#Loading AdaBoost Regressor with recommended hyperparameter values\n",
    "adaregr = AdaBoostRegressor(n_estimators=100,learning_rate=.25)\n",
    "#Fit using trainX and trainy\n",
    "adaregr.fit(trainX,trainy)\n",
    "#Predict Sale Price using testX\n",
    "ypred = adaregr.predict(testX)"
   ]
  },
  {
   "cell_type": "code",
   "execution_count": 77,
   "metadata": {},
   "outputs": [
    {
     "data": {
      "text/plain": [
       "0.8486621661330779"
      ]
     },
     "execution_count": 77,
     "metadata": {},
     "output_type": "execute_result"
    }
   ],
   "source": [
    "#AdaBoost score\n",
    "adaregr.score(trainX,trainy)"
   ]
  },
  {
   "cell_type": "markdown",
   "metadata": {},
   "source": [
    "The feature importances also show that the basement sq footage is important as well as living area sq footage, garage car stalls and year built."
   ]
  },
  {
   "cell_type": "code",
   "execution_count": 78,
   "metadata": {},
   "outputs": [
    {
     "data": {
      "text/html": [
       "<div>\n",
       "<style scoped>\n",
       "    .dataframe tbody tr th:only-of-type {\n",
       "        vertical-align: middle;\n",
       "    }\n",
       "\n",
       "    .dataframe tbody tr th {\n",
       "        vertical-align: top;\n",
       "    }\n",
       "\n",
       "    .dataframe thead th {\n",
       "        text-align: right;\n",
       "    }\n",
       "</style>\n",
       "<table border=\"1\" class=\"dataframe\">\n",
       "  <thead>\n",
       "    <tr style=\"text-align: right;\">\n",
       "      <th></th>\n",
       "      <th>Lot_Frontage</th>\n",
       "      <th>Lot_Area</th>\n",
       "      <th>Mas_Vnr_Area</th>\n",
       "      <th>BsmtFin_SF_1</th>\n",
       "      <th>BsmtFin_SF_2</th>\n",
       "      <th>Bsmt_Unf_SF</th>\n",
       "      <th>Total_Bsmt_SF</th>\n",
       "      <th>First_Flr_SF</th>\n",
       "      <th>Second_Flr_SF</th>\n",
       "      <th>Gr_Liv_Area</th>\n",
       "      <th>Bsmt_Full_Bath</th>\n",
       "      <th>Bsmt_Half_Bath</th>\n",
       "      <th>Full_Bath</th>\n",
       "      <th>Half_Bath</th>\n",
       "      <th>Bedroom_AbvGr</th>\n",
       "      <th>Kitchen_AbvGr</th>\n",
       "      <th>TotRms_AbvGrd</th>\n",
       "      <th>Fireplaces</th>\n",
       "      <th>Garage_Cars</th>\n",
       "      <th>Garage_Area</th>\n",
       "      <th>Wood_Deck_SF</th>\n",
       "      <th>Open_Porch_SF</th>\n",
       "      <th>Enclosed_Porch</th>\n",
       "      <th>Three_season_porch</th>\n",
       "      <th>Screen_Porch</th>\n",
       "      <th>Pool_Area</th>\n",
       "      <th>Misc_Val</th>\n",
       "      <th>Longitude</th>\n",
       "      <th>Latitude</th>\n",
       "      <th>Sales_Mo_1</th>\n",
       "      <th>Sales_Mo_2</th>\n",
       "      <th>Sales_Mo_3</th>\n",
       "      <th>Sales_Mo_4</th>\n",
       "      <th>Sales_Mo_5</th>\n",
       "      <th>Sales_Mo_6</th>\n",
       "      <th>Sales_Mo_7</th>\n",
       "      <th>Sales_Mo_8</th>\n",
       "      <th>Sales_Mo_9</th>\n",
       "      <th>Sales_Mo_10</th>\n",
       "      <th>Sales_Mo_11</th>\n",
       "      <th>Sales_Mo_12</th>\n",
       "      <th>Year_Built</th>\n",
       "      <th>Year_Remod_Add</th>\n",
       "      <th>Year_Sold</th>\n",
       "    </tr>\n",
       "  </thead>\n",
       "  <tbody>\n",
       "    <tr>\n",
       "      <th>0</th>\n",
       "      <td>0.014194</td>\n",
       "      <td>0.021682</td>\n",
       "      <td>0.035817</td>\n",
       "      <td>0.001644</td>\n",
       "      <td>0.0</td>\n",
       "      <td>0.010549</td>\n",
       "      <td>0.135548</td>\n",
       "      <td>0.083876</td>\n",
       "      <td>0.00879</td>\n",
       "      <td>0.298027</td>\n",
       "      <td>0.002436</td>\n",
       "      <td>0.0</td>\n",
       "      <td>0.0</td>\n",
       "      <td>0.003281</td>\n",
       "      <td>0.0</td>\n",
       "      <td>0.0</td>\n",
       "      <td>0.005068</td>\n",
       "      <td>0.016547</td>\n",
       "      <td>0.136643</td>\n",
       "      <td>0.004454</td>\n",
       "      <td>0.009059</td>\n",
       "      <td>0.002598</td>\n",
       "      <td>0.0</td>\n",
       "      <td>0.0</td>\n",
       "      <td>0.001489</td>\n",
       "      <td>0.0</td>\n",
       "      <td>0.0</td>\n",
       "      <td>0.012379</td>\n",
       "      <td>0.025868</td>\n",
       "      <td>0.0</td>\n",
       "      <td>0.000899</td>\n",
       "      <td>0.0</td>\n",
       "      <td>0.0</td>\n",
       "      <td>0.0</td>\n",
       "      <td>0.001047</td>\n",
       "      <td>0.0</td>\n",
       "      <td>0.0</td>\n",
       "      <td>0.0</td>\n",
       "      <td>0.0</td>\n",
       "      <td>0.0</td>\n",
       "      <td>0.0</td>\n",
       "      <td>0.131271</td>\n",
       "      <td>0.036729</td>\n",
       "      <td>0.000106</td>\n",
       "    </tr>\n",
       "  </tbody>\n",
       "</table>\n",
       "</div>"
      ],
      "text/plain": [
       "   Lot_Frontage  Lot_Area  Mas_Vnr_Area  BsmtFin_SF_1  BsmtFin_SF_2  \\\n",
       "0      0.014194  0.021682      0.035817      0.001644           0.0   \n",
       "\n",
       "   Bsmt_Unf_SF  Total_Bsmt_SF  First_Flr_SF  Second_Flr_SF  Gr_Liv_Area  \\\n",
       "0     0.010549       0.135548      0.083876        0.00879     0.298027   \n",
       "\n",
       "   Bsmt_Full_Bath  Bsmt_Half_Bath  Full_Bath  Half_Bath  Bedroom_AbvGr  \\\n",
       "0        0.002436             0.0        0.0   0.003281            0.0   \n",
       "\n",
       "   Kitchen_AbvGr  TotRms_AbvGrd  Fireplaces  Garage_Cars  Garage_Area  \\\n",
       "0            0.0       0.005068    0.016547     0.136643     0.004454   \n",
       "\n",
       "   Wood_Deck_SF  Open_Porch_SF  Enclosed_Porch  Three_season_porch  \\\n",
       "0      0.009059       0.002598             0.0                 0.0   \n",
       "\n",
       "   Screen_Porch  Pool_Area  Misc_Val  Longitude  Latitude  Sales_Mo_1  \\\n",
       "0      0.001489        0.0       0.0   0.012379  0.025868         0.0   \n",
       "\n",
       "   Sales_Mo_2  Sales_Mo_3  Sales_Mo_4  Sales_Mo_5  Sales_Mo_6  Sales_Mo_7  \\\n",
       "0    0.000899         0.0         0.0         0.0    0.001047         0.0   \n",
       "\n",
       "   Sales_Mo_8  Sales_Mo_9  Sales_Mo_10  Sales_Mo_11  Sales_Mo_12  Year_Built  \\\n",
       "0         0.0         0.0          0.0          0.0          0.0    0.131271   \n",
       "\n",
       "   Year_Remod_Add  Year_Sold  \n",
       "0        0.036729   0.000106  "
      ]
     },
     "execution_count": 78,
     "metadata": {},
     "output_type": "execute_result"
    }
   ],
   "source": [
    "#Loading feature importances into a dataframe\n",
    "pd.DataFrame([adaregr.feature_importances_], columns=clusdata.columns)"
   ]
  },
  {
   "cell_type": "code",
   "execution_count": 79,
   "metadata": {},
   "outputs": [
    {
     "data": {
      "text/html": [
       "<div>\n",
       "<style scoped>\n",
       "    .dataframe tbody tr th:only-of-type {\n",
       "        vertical-align: middle;\n",
       "    }\n",
       "\n",
       "    .dataframe tbody tr th {\n",
       "        vertical-align: top;\n",
       "    }\n",
       "\n",
       "    .dataframe thead th {\n",
       "        text-align: right;\n",
       "    }\n",
       "</style>\n",
       "<table border=\"1\" class=\"dataframe\">\n",
       "  <thead>\n",
       "    <tr style=\"text-align: right;\">\n",
       "      <th></th>\n",
       "      <th>Pred</th>\n",
       "      <th>Actual</th>\n",
       "    </tr>\n",
       "  </thead>\n",
       "  <tbody>\n",
       "    <tr>\n",
       "      <th>0</th>\n",
       "      <td>187916.708464</td>\n",
       "      <td>215000</td>\n",
       "    </tr>\n",
       "    <tr>\n",
       "      <th>1</th>\n",
       "      <td>120660.867081</td>\n",
       "      <td>116500</td>\n",
       "    </tr>\n",
       "    <tr>\n",
       "      <th>2</th>\n",
       "      <td>120971.784797</td>\n",
       "      <td>160000</td>\n",
       "    </tr>\n",
       "    <tr>\n",
       "      <th>3</th>\n",
       "      <td>223912.257919</td>\n",
       "      <td>239500</td>\n",
       "    </tr>\n",
       "    <tr>\n",
       "      <th>4</th>\n",
       "      <td>240821.320823</td>\n",
       "      <td>218836</td>\n",
       "    </tr>\n",
       "    <tr>\n",
       "      <th>...</th>\n",
       "      <td>...</td>\n",
       "      <td>...</td>\n",
       "    </tr>\n",
       "    <tr>\n",
       "      <th>433</th>\n",
       "      <td>138558.669951</td>\n",
       "      <td>133000</td>\n",
       "    </tr>\n",
       "    <tr>\n",
       "      <th>434</th>\n",
       "      <td>462580.080000</td>\n",
       "      <td>342000</td>\n",
       "    </tr>\n",
       "    <tr>\n",
       "      <th>435</th>\n",
       "      <td>164516.624214</td>\n",
       "      <td>93369</td>\n",
       "    </tr>\n",
       "    <tr>\n",
       "      <th>436</th>\n",
       "      <td>116878.669903</td>\n",
       "      <td>94000</td>\n",
       "    </tr>\n",
       "    <tr>\n",
       "      <th>437</th>\n",
       "      <td>205378.474286</td>\n",
       "      <td>183500</td>\n",
       "    </tr>\n",
       "  </tbody>\n",
       "</table>\n",
       "<p>438 rows × 2 columns</p>\n",
       "</div>"
      ],
      "text/plain": [
       "              Pred  Actual\n",
       "0    187916.708464  215000\n",
       "1    120660.867081  116500\n",
       "2    120971.784797  160000\n",
       "3    223912.257919  239500\n",
       "4    240821.320823  218836\n",
       "..             ...     ...\n",
       "433  138558.669951  133000\n",
       "434  462580.080000  342000\n",
       "435  164516.624214   93369\n",
       "436  116878.669903   94000\n",
       "437  205378.474286  183500\n",
       "\n",
       "[438 rows x 2 columns]"
      ]
     },
     "execution_count": 79,
     "metadata": {},
     "output_type": "execute_result"
    }
   ],
   "source": [
    "#Reviewing actuals vs predicted\n",
    "pd.DataFrame({'Pred':ypred, 'Actual':testy}, columns=['Pred','Actual'])"
   ]
  },
  {
   "cell_type": "markdown",
   "metadata": {},
   "source": [
    "I'll now be fitting the AdaBoost regressor using the PCA data."
   ]
  },
  {
   "cell_type": "code",
   "execution_count": 80,
   "metadata": {},
   "outputs": [
    {
     "data": {
      "text/plain": [
       "AdaBoostRegressor(learning_rate=0.25, n_estimators=100)"
      ]
     },
     "execution_count": 80,
     "metadata": {},
     "output_type": "execute_result"
    }
   ],
   "source": [
    "adaregr = AdaBoostRegressor(n_estimators=100,learning_rate=.25)\n",
    "adaregr.fit(trainXPCA,trainy)\n",
    "ypred = adaregr.predict(testXPCA)"
   ]
  },
  {
   "cell_type": "markdown",
   "metadata": {},
   "source": [
    "Reviewing the score using the PCA data seems to have a sharp decrease in mean accuracy in comparison to the regular trainX and trainy data."
   ]
  },
  {
   "cell_type": "code",
   "execution_count": 81,
   "metadata": {},
   "outputs": [
    {
     "data": {
      "text/plain": [
       "0.1162536069599186"
      ]
     },
     "execution_count": 81,
     "metadata": {},
     "output_type": "execute_result"
    }
   ],
   "source": [
    "adaregr.score(trainXPCA,trainy)"
   ]
  },
  {
   "cell_type": "code",
   "execution_count": 83,
   "metadata": {},
   "outputs": [
    {
     "data": {
      "text/html": [
       "<div>\n",
       "<style scoped>\n",
       "    .dataframe tbody tr th:only-of-type {\n",
       "        vertical-align: middle;\n",
       "    }\n",
       "\n",
       "    .dataframe tbody tr th {\n",
       "        vertical-align: top;\n",
       "    }\n",
       "\n",
       "    .dataframe thead th {\n",
       "        text-align: right;\n",
       "    }\n",
       "</style>\n",
       "<table border=\"1\" class=\"dataframe\">\n",
       "  <thead>\n",
       "    <tr style=\"text-align: right;\">\n",
       "      <th></th>\n",
       "      <th>Pred</th>\n",
       "      <th>Actual</th>\n",
       "    </tr>\n",
       "  </thead>\n",
       "  <tbody>\n",
       "    <tr>\n",
       "      <th>0</th>\n",
       "      <td>307013.791246</td>\n",
       "      <td>215000</td>\n",
       "    </tr>\n",
       "    <tr>\n",
       "      <th>1</th>\n",
       "      <td>161504.105906</td>\n",
       "      <td>116500</td>\n",
       "    </tr>\n",
       "    <tr>\n",
       "      <th>2</th>\n",
       "      <td>196427.472316</td>\n",
       "      <td>160000</td>\n",
       "    </tr>\n",
       "    <tr>\n",
       "      <th>3</th>\n",
       "      <td>188634.984300</td>\n",
       "      <td>239500</td>\n",
       "    </tr>\n",
       "    <tr>\n",
       "      <th>4</th>\n",
       "      <td>204023.507645</td>\n",
       "      <td>218836</td>\n",
       "    </tr>\n",
       "    <tr>\n",
       "      <th>...</th>\n",
       "      <td>...</td>\n",
       "      <td>...</td>\n",
       "    </tr>\n",
       "    <tr>\n",
       "      <th>433</th>\n",
       "      <td>161504.105906</td>\n",
       "      <td>133000</td>\n",
       "    </tr>\n",
       "    <tr>\n",
       "      <th>434</th>\n",
       "      <td>274897.803670</td>\n",
       "      <td>342000</td>\n",
       "    </tr>\n",
       "    <tr>\n",
       "      <th>435</th>\n",
       "      <td>161504.105906</td>\n",
       "      <td>93369</td>\n",
       "    </tr>\n",
       "    <tr>\n",
       "      <th>436</th>\n",
       "      <td>161504.105906</td>\n",
       "      <td>94000</td>\n",
       "    </tr>\n",
       "    <tr>\n",
       "      <th>437</th>\n",
       "      <td>174211.713386</td>\n",
       "      <td>183500</td>\n",
       "    </tr>\n",
       "  </tbody>\n",
       "</table>\n",
       "<p>438 rows × 2 columns</p>\n",
       "</div>"
      ],
      "text/plain": [
       "              Pred  Actual\n",
       "0    307013.791246  215000\n",
       "1    161504.105906  116500\n",
       "2    196427.472316  160000\n",
       "3    188634.984300  239500\n",
       "4    204023.507645  218836\n",
       "..             ...     ...\n",
       "433  161504.105906  133000\n",
       "434  274897.803670  342000\n",
       "435  161504.105906   93369\n",
       "436  161504.105906   94000\n",
       "437  174211.713386  183500\n",
       "\n",
       "[438 rows x 2 columns]"
      ]
     },
     "execution_count": 83,
     "metadata": {},
     "output_type": "execute_result"
    }
   ],
   "source": [
    "pd.DataFrame({'Pred':ypred, 'Actual':testy}, columns=['Pred','Actual'])"
   ]
  },
  {
   "cell_type": "code",
   "execution_count": 84,
   "metadata": {},
   "outputs": [],
   "source": [
    "#Dumping all variables and session information using Dill\n",
    "dill.dump_session('saved_notebook.db')"
   ]
  }
 ],
 "metadata": {
  "kernelspec": {
   "display_name": "Python 3",
   "language": "python",
   "name": "python3"
  },
  "language_info": {
   "codemirror_mode": {
    "name": "ipython",
    "version": 3
   },
   "file_extension": ".py",
   "mimetype": "text/x-python",
   "name": "python",
   "nbconvert_exporter": "python",
   "pygments_lexer": "ipython3",
   "version": "3.7.9"
  }
 },
 "nbformat": 4,
 "nbformat_minor": 4
}
