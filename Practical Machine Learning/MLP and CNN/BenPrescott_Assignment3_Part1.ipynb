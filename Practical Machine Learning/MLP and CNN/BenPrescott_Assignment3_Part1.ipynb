{
  "nbformat": 4,
  "nbformat_minor": 0,
  "metadata": {
    "kernelspec": {
      "display_name": "Python 3",
      "language": "python",
      "name": "python3"
    },
    "language_info": {
      "codemirror_mode": {
        "name": "ipython",
        "version": 3
      },
      "file_extension": ".py",
      "mimetype": "text/x-python",
      "name": "python",
      "nbconvert_exporter": "python",
      "pygments_lexer": "ipython3",
      "version": "3.7.9"
    },
    "colab": {
      "name": "BenPrescott_Assignment3_Part1.ipynb",
      "provenance": [],
      "collapsed_sections": [],
      "toc_visible": true
    },
    "accelerator": "GPU"
  },
  "cells": [
    {
      "cell_type": "markdown",
      "metadata": {
        "id": "6D5XLItFp8WW"
      },
      "source": [
        "<h1 align='center'>Ben Prescott, Assignment 3 - Part 1, MSDS422, WI2021</h1>\n"
      ]
    },
    {
      "cell_type": "markdown",
      "metadata": {
        "id": "8hCrJB5DueD6"
      },
      "source": [
        "Importing libraries "
      ]
    },
    {
      "cell_type": "code",
      "metadata": {
        "colab": {
          "base_uri": "https://localhost:8080/"
        },
        "id": "nxRNUoYXp8WX",
        "outputId": "a6913876-0ab5-4887-bed6-95d4c246154b"
      },
      "source": [
        "import os\n",
        "import re\n",
        "import dill\n",
        "import numpy as np\n",
        "import pandas as pd\n",
        "import matplotlib.pyplot as plt\n",
        "from matplotlib.pyplot import figure\n",
        "import matplotlib.cm as cm\n",
        "import seaborn as sns\n",
        "import tensorflow as tf\n",
        "from tensorflow import keras\n",
        "import tensorboard\n",
        "from pickleshare import *\n",
        "from sklearn.model_selection import train_test_split\n",
        "from sklearn.preprocessing import MinMaxScaler\n",
        "from timeit import default_timer as timer\n",
        "from IPython.core.interactiveshell import InteractiveShell\n",
        "InteractiveShell.ast_node_interactivity = \"all\"\n",
        "\n",
        "%matplotlib inline\n",
        "%load_ext tensorboard\n",
        "pd.set_option('display.max_columns', None) #Displays all columns for pandas output\n",
        "sns.set(rc={'figure.figsize':(10,4)}) #Setting seaborn plot size standard\n",
        "InteractiveShell.ast_node_interactivity = \"all\"\n"
      ],
      "execution_count": 10,
      "outputs": [
        {
          "output_type": "stream",
          "text": [
            "The tensorboard extension is already loaded. To reload it, use:\n",
            "  %reload_ext tensorboard\n"
          ],
          "name": "stdout"
        }
      ]
    },
    {
      "cell_type": "markdown",
      "metadata": {
        "id": "DaX8dM0op8WZ"
      },
      "source": [
        "## Objective 0: Data Input, Verification, Transformation"
      ]
    },
    {
      "cell_type": "markdown",
      "metadata": {
        "id": "WFvyC9IVwp9H"
      },
      "source": [
        "In this section I'll be importing the data from the Pickle file, reviewing shape, reviewing frequency of labels, rescaling the data using MinMaxScaler, separated the labels and features into new arrays, then creating a 60/20/20 train/test/validation split. "
      ]
    },
    {
      "cell_type": "markdown",
      "metadata": {
        "id": "4TuIvry86D_Q"
      },
      "source": [
        "### Importing, Reviewing & Verifying"
      ]
    },
    {
      "cell_type": "code",
      "metadata": {
        "colab": {
          "base_uri": "https://localhost:8080/"
        },
        "id": "Ji9Vufi4p8Wb",
        "outputId": "fc359796-1ba5-419c-da89-0c76f74ed682"
      },
      "source": [
        "#Read pickle files into dataframe.\n",
        "df = pd.read_pickle('/content/drive/MyDrive/MSDS422/Assignment3/assign-3-part-1-train.pickle')\n",
        "#Verifying shape\n",
        "print('Data Shape:',df.shape)"
      ],
      "execution_count": 11,
      "outputs": [
        {
          "output_type": "stream",
          "text": [
            "Data Shape: (40320, 786)\n"
          ],
          "name": "stdout"
        }
      ]
    },
    {
      "cell_type": "code",
      "metadata": {
        "id": "bMLJh_gxwddl"
      },
      "source": [
        "df.head #excluding output due to PDF export issues/length requirements"
      ],
      "execution_count": null,
      "outputs": []
    },
    {
      "cell_type": "markdown",
      "metadata": {
        "id": "8MQVSWnZw8rm"
      },
      "source": [
        "Visually reviewing the different label values and their counts. Also helps to ensure there aren't any weird values out there."
      ]
    },
    {
      "cell_type": "code",
      "metadata": {
        "colab": {
          "base_uri": "https://localhost:8080/",
          "height": 336
        },
        "id": "o-JNq-lnp8Wc",
        "outputId": "e46066ec-5bbb-431d-8c2a-6e0b54cf8cb9"
      },
      "source": [
        "#Verifying image label values to ensure none are incorrect values\n",
        "df['label'].unique()\n",
        "#Histogram to visually verify\n",
        "plt.hist(df['label'])"
      ],
      "execution_count": 13,
      "outputs": [
        {
          "output_type": "execute_result",
          "data": {
            "text/plain": [
              "array([2, 1, 0, 4, 6, 3, 9, 7, 5, 8])"
            ]
          },
          "metadata": {
            "tags": []
          },
          "execution_count": 13
        },
        {
          "output_type": "execute_result",
          "data": {
            "text/plain": [
              "(array([3976., 4489., 3998., 4181., 3918., 3636., 3981., 4236., 3888.,\n",
              "        4017.]),\n",
              " array([0. , 0.9, 1.8, 2.7, 3.6, 4.5, 5.4, 6.3, 7.2, 8.1, 9. ]),\n",
              " <a list of 10 Patch objects>)"
            ]
          },
          "metadata": {
            "tags": []
          },
          "execution_count": 13
        },
        {
          "output_type": "display_data",
          "data": {
            "image/png": "[encoded data removed]",
            "text/plain": [
              "<Figure size 720x288 with 1 Axes>"
            ]
          },
          "metadata": {
            "tags": []
          }
        }
      ]
    },
    {
      "cell_type": "markdown",
      "metadata": {
        "id": "MuohX-i0xGjC"
      },
      "source": [
        "Creating a quick loop to check the Pixel features for incorrect values. Nothing is returned which shows there are no pixel values above 255 or below 0, which is accurate."
      ]
    },
    {
      "cell_type": "code",
      "metadata": {
        "id": "k-i2vueVp8Wd"
      },
      "source": [
        "#Determine which columns have minimum values below 0 or maximum values above 255 \n",
        "for col in df:\n",
        "    if (col.startswith('pixel')) & (df[col].max() > 255):\n",
        "        print('Columns with values above 255:',col)\n",
        "    if (col.startswith('pixel')) & (df[col].min() < 0):\n",
        "        print('Columns with values below 0:',col)        "
      ],
      "execution_count": 14,
      "outputs": []
    },
    {
      "cell_type": "markdown",
      "metadata": {
        "id": "th92ETpa6JyI"
      },
      "source": [
        "### Rescaling Data w/ MinMaxScaler"
      ]
    },
    {
      "cell_type": "markdown",
      "metadata": {
        "id": "WyuuDGvsxY1C"
      },
      "source": [
        "Next I'll be rescaling the pixel features only with the MinMaxScaler. This can also be done by dividing each value by 255 (the max pixel value), but using the SKlearn algo for practice/familiarity."
      ]
    },
    {
      "cell_type": "code",
      "metadata": {
        "colab": {
          "base_uri": "https://localhost:8080/",
          "height": 128
        },
        "id": "ozXLR0b1p8Wd",
        "outputId": "626385db-de2f-4113-ddfe-9500521b9a3a"
      },
      "source": [
        "#Loading MinMaxScaler algorithm\n",
        "scaler = MinMaxScaler()\n",
        "#Fitting the data to the algorithm\n",
        "scaler.fit(df.iloc[:,1:785])\n",
        "#Assigning the scaled data to a new variable named scaled_data\n",
        "scaled_data = scaler.transform(df.iloc[:,1:785])\n",
        "#Generating a new dataframe with the transformed pixels\n",
        "dfscaled = pd.DataFrame(scaled_data, columns = df.iloc[:,1:785].columns)\n",
        "dfscaled.iloc[0:2,153:157].head() #Reducing returned subset for PDF output"
      ],
      "execution_count": 23,
      "outputs": [
        {
          "output_type": "execute_result",
          "data": {
            "text/plain": [
              "MinMaxScaler(copy=True, feature_range=(0, 1))"
            ]
          },
          "metadata": {
            "tags": []
          },
          "execution_count": 23
        },
        {
          "output_type": "execute_result",
          "data": {
            "text/html": [
              "<div>\n",
              "<style scoped>\n",
              "    .dataframe tbody tr th:only-of-type {\n",
              "        vertical-align: middle;\n",
              "    }\n",
              "\n",
              "    .dataframe tbody tr th {\n",
              "        vertical-align: top;\n",
              "    }\n",
              "\n",
              "    .dataframe thead th {\n",
              "        text-align: right;\n",
              "    }\n",
              "</style>\n",
              "<table border=\"1\" class=\"dataframe\">\n",
              "  <thead>\n",
              "    <tr style=\"text-align: right;\">\n",
              "      <th></th>\n",
              "      <th>pixel153</th>\n",
              "      <th>pixel154</th>\n",
              "      <th>pixel155</th>\n",
              "      <th>pixel156</th>\n",
              "    </tr>\n",
              "  </thead>\n",
              "  <tbody>\n",
              "    <tr>\n",
              "      <th>0</th>\n",
              "      <td>0.988235</td>\n",
              "      <td>0.988235</td>\n",
              "      <td>0.580392</td>\n",
              "      <td>0.043137</td>\n",
              "    </tr>\n",
              "    <tr>\n",
              "      <th>1</th>\n",
              "      <td>0.529412</td>\n",
              "      <td>0.968627</td>\n",
              "      <td>0.988235</td>\n",
              "      <td>0.909804</td>\n",
              "    </tr>\n",
              "  </tbody>\n",
              "</table>\n",
              "</div>"
            ],
            "text/plain": [
              "   pixel153  pixel154  pixel155  pixel156\n",
              "0  0.988235  0.988235  0.580392  0.043137\n",
              "1  0.529412  0.968627  0.988235  0.909804"
            ]
          },
          "metadata": {
            "tags": []
          },
          "execution_count": 23
        }
      ]
    },
    {
      "cell_type": "markdown",
      "metadata": {
        "id": "FgBLKOUm6RJP"
      },
      "source": [
        "### Separating Features & Labels"
      ]
    },
    {
      "cell_type": "markdown",
      "metadata": {
        "id": "5M5C-Uqfy0GF"
      },
      "source": [
        "Now I'll be separating the features and original dataframe labels into two separate variables to prepare for train/test/validation split. I've also set the features dtype to float32 and labels to integer per the instructions. "
      ]
    },
    {
      "cell_type": "code",
      "metadata": {
        "colab": {
          "base_uri": "https://localhost:8080/"
        },
        "id": "jqKtXduNp8We",
        "outputId": "7954d985-53a7-46da-fd25-4feec9beb95b"
      },
      "source": [
        "features = dfscaled\n",
        "labels = df['label']\n",
        "X = features.to_numpy(copy=True, dtype = 'float32') \n",
        "y = labels.to_numpy(copy=True, dtype = 'int')\n",
        "X.shape\n",
        "y.shape"
      ],
      "execution_count": 24,
      "outputs": [
        {
          "output_type": "execute_result",
          "data": {
            "text/plain": [
              "(40320, 784)"
            ]
          },
          "metadata": {
            "tags": []
          },
          "execution_count": 24
        },
        {
          "output_type": "execute_result",
          "data": {
            "text/plain": [
              "(40320,)"
            ]
          },
          "metadata": {
            "tags": []
          },
          "execution_count": 24
        }
      ]
    },
    {
      "cell_type": "markdown",
      "metadata": {
        "id": "9pEMo_i86eQG"
      },
      "source": [
        "### Train/Test/Validation Split (60/20/20)"
      ]
    },
    {
      "cell_type": "markdown",
      "metadata": {
        "id": "B69PqM1-zAoM"
      },
      "source": [
        "Train/test/validation split. The goal is 60/20/20 train/test/validation. First train_test_split splits into a donor train pair and the test pair, with an initial 80/20 split. We now use the donor training set in the second train_test_split to create our validation set. We also decrease the ratio to 75/25 to provide us with the original 60/20/20 need."
      ]
    },
    {
      "cell_type": "code",
      "metadata": {
        "colab": {
          "base_uri": "https://localhost:8080/"
        },
        "id": "gXtL-QZnp8Wf",
        "outputId": "4004f76c-74d6-442f-9ac5-2ea4d27b11d3"
      },
      "source": [
        "#Creating train & test split\n",
        "X_train_f , X_test , y_train_f , y_test = train_test_split(X, y, train_size = 0.80, test_size = 0.20,  random_state=33)\n",
        "#Creating validation set\n",
        "X_train, X_valid, y_train, y_valid = train_test_split(X_train_f, y_train_f, train_size = 0.75, test_size = .25, random_state=34)\n",
        "#Reviewing shapes of different objects\n",
        "print(' X_train:',X_train.shape,'\\n','y_train:',y_train.shape,'\\n','X_test:',X_test.shape,'\\n','y_test:',y_test.shape,'\\n','X_valid:',X_valid.shape,'\\n','y_valid:',y_valid.shape)"
      ],
      "execution_count": 25,
      "outputs": [
        {
          "output_type": "stream",
          "text": [
            " X_train: (24192, 784) \n",
            " y_train: (24192,) \n",
            " X_test: (8064, 784) \n",
            " y_test: (8064,) \n",
            " X_valid: (8064, 784) \n",
            " y_valid: (8064,)\n"
          ],
          "name": "stdout"
        }
      ]
    },
    {
      "cell_type": "markdown",
      "metadata": {
        "id": "YrTAJlonp8Wg"
      },
      "source": [
        "## Objective 1: Train & Evaluate Four Version of a MLP That Predicts Digit Labels"
      ]
    },
    {
      "cell_type": "markdown",
      "metadata": {
        "id": "tQARdwo-zb81"
      },
      "source": [
        "In this section I'll be creating four different versions of MLPs. The goal is to predict the labels of different input digits.\r\n",
        "\r\n",
        "To start I'm going to be creating the model checkpoint save location, as well as a callback for timing the model runtime. These will be used for each model moving forward.\r\n",
        "\r\n",
        "Common hyperparameters that will be used are the callbacks, the optimizer (Adam), the loss function (sparse_categorical_crossentropy), the metric returned (accuracy), the number of epochs (10), batch size (32) and the activation types (selu / softmax).\r\n",
        "\r\n",
        "The hyperparameters that will be varied are the number of hidden layers, the number of nodes in each layer, and the kernel initializer."
      ]
    },
    {
      "cell_type": "code",
      "metadata": {
        "id": "ioRR5gwTpvRN"
      },
      "source": [
        "#Model Checkpoint location\r\n",
        "cploc = '/content/drive/MyDrive/MSDS422/Assignment3/'\r\n",
        "class TimingCallback(keras.callbacks.Callback):\r\n",
        "    def __init__(self, logs={}):\r\n",
        "        self.logs=[]\r\n",
        "    def on_epoch_begin(self, epoch, logs={}):\r\n",
        "        self.starttime = timer()\r\n",
        "    def on_epoch_end(self, epoch, logs={}):\r\n",
        "        self.logs.append(timer()-self.starttime)"
      ],
      "execution_count": 28,
      "outputs": []
    },
    {
      "cell_type": "markdown",
      "metadata": {
        "id": "1cjY2CEbXEG3"
      },
      "source": [
        "### Model 1"
      ]
    },
    {
      "cell_type": "markdown",
      "metadata": {
        "id": "B4ZKR92Sztb2"
      },
      "source": [
        "Training the first MLP. Providing comments to help provide context, but will remove comments to save space for future models, as they will follow the same format."
      ]
    },
    {
      "cell_type": "code",
      "metadata": {
        "id": "WrRfUNlsp8Wg"
      },
      "source": [
        "#Adding checkpoint to save the best model based on validation accuracy\n",
        "model_cp_save = keras.callbacks.ModelCheckpoint(cploc + 'model1.hdf5', save_best_only=True, monitor='val_accuracy')\n",
        "model_stop = keras.callbacks.EarlyStopping(monitor='loss', patience=3)\n",
        "model_time = TimingCallback()\n",
        "optimizer = keras.optimizers.Adam()\n",
        "#Creating the sequential model with 1 input layer, 2 hiden layers and 1 output layer\n",
        "#Leveraging SeLU to provide a layer of internal normalization\n",
        "model1 = keras.models.Sequential([\n",
        "    keras.layers.Flatten(input_shape = X_train.shape[1:], name = 'InputLayer'),\n",
        "    keras.layers.Dense(30, activation=\"selu\", name = 'Layer1', kernel_initializer='lecun_normal'),\n",
        "    keras.layers.Dense(20, activation=\"selu\", name = 'Layer2', kernel_initializer='lecun_normal'),\n",
        "    keras.layers.Dense(10, activation=\"softmax\", name = 'OutputLayer')\n",
        "])\n",
        "#Compiling the model. Using sparse categorical crossentropy due to digits being from 0 - 9.\n",
        "model1.compile(loss=\"sparse_categorical_crossentropy\",\n",
        "              optimizer=optimizer,\n",
        "              metrics=[\"accuracy\"])\n",
        "#Generating model summary\n",
        "model1.summary()\n",
        "#Fitting the model. Sticking with 20 epochs and a batch size of 32.\n",
        "model1output = model1.fit(X_train, y_train, epochs=10, validation_data = (X_valid, y_valid), callbacks=[model_cp_save, model_time, model_stop], batch_size=32)\n",
        "#Saving model training duration for later use\n",
        "model1time = round(sum(model_time.logs),2)"
      ],
      "execution_count": null,
      "outputs": []
    },
    {
      "cell_type": "code",
      "metadata": {
        "colab": {
          "base_uri": "https://localhost:8080/",
          "height": 204
        },
        "id": "LeXAoLQmHECT",
        "outputId": "e4d38363-5b18-4c02-cbf1-299213c1ad7a"
      },
      "source": [
        "#Predicting the first 5 rows of the test data using the newly trained model\r\n",
        "y_proba = model1.predict(X_test[:5])\r\n",
        "predicted = pd.DataFrame(y_proba.round(2))\r\n",
        "actuals = pd.DataFrame(y_test[:5])\r\n",
        "predicted['predicted_label'] = predicted.idxmax(axis=1)\r\n",
        "predicted['actual_label'] = actuals\r\n",
        "predicted"
      ],
      "execution_count": 30,
      "outputs": [
        {
          "output_type": "execute_result",
          "data": {
            "text/html": [
              "<div>\n",
              "<style scoped>\n",
              "    .dataframe tbody tr th:only-of-type {\n",
              "        vertical-align: middle;\n",
              "    }\n",
              "\n",
              "    .dataframe tbody tr th {\n",
              "        vertical-align: top;\n",
              "    }\n",
              "\n",
              "    .dataframe thead th {\n",
              "        text-align: right;\n",
              "    }\n",
              "</style>\n",
              "<table border=\"1\" class=\"dataframe\">\n",
              "  <thead>\n",
              "    <tr style=\"text-align: right;\">\n",
              "      <th></th>\n",
              "      <th>0</th>\n",
              "      <th>1</th>\n",
              "      <th>2</th>\n",
              "      <th>3</th>\n",
              "      <th>4</th>\n",
              "      <th>5</th>\n",
              "      <th>6</th>\n",
              "      <th>7</th>\n",
              "      <th>8</th>\n",
              "      <th>9</th>\n",
              "      <th>predicted_label</th>\n",
              "      <th>actual_label</th>\n",
              "    </tr>\n",
              "  </thead>\n",
              "  <tbody>\n",
              "    <tr>\n",
              "      <th>0</th>\n",
              "      <td>0.0</td>\n",
              "      <td>0.00</td>\n",
              "      <td>0.00</td>\n",
              "      <td>0.00</td>\n",
              "      <td>0.0</td>\n",
              "      <td>0.0</td>\n",
              "      <td>1.00</td>\n",
              "      <td>0.0</td>\n",
              "      <td>0.00</td>\n",
              "      <td>0.0</td>\n",
              "      <td>6</td>\n",
              "      <td>6</td>\n",
              "    </tr>\n",
              "    <tr>\n",
              "      <th>1</th>\n",
              "      <td>0.0</td>\n",
              "      <td>0.01</td>\n",
              "      <td>0.15</td>\n",
              "      <td>0.01</td>\n",
              "      <td>0.0</td>\n",
              "      <td>0.0</td>\n",
              "      <td>0.82</td>\n",
              "      <td>0.0</td>\n",
              "      <td>0.00</td>\n",
              "      <td>0.0</td>\n",
              "      <td>6</td>\n",
              "      <td>6</td>\n",
              "    </tr>\n",
              "    <tr>\n",
              "      <th>2</th>\n",
              "      <td>0.0</td>\n",
              "      <td>0.00</td>\n",
              "      <td>0.00</td>\n",
              "      <td>0.55</td>\n",
              "      <td>0.0</td>\n",
              "      <td>0.0</td>\n",
              "      <td>0.00</td>\n",
              "      <td>0.0</td>\n",
              "      <td>0.45</td>\n",
              "      <td>0.0</td>\n",
              "      <td>3</td>\n",
              "      <td>3</td>\n",
              "    </tr>\n",
              "    <tr>\n",
              "      <th>3</th>\n",
              "      <td>1.0</td>\n",
              "      <td>0.00</td>\n",
              "      <td>0.00</td>\n",
              "      <td>0.00</td>\n",
              "      <td>0.0</td>\n",
              "      <td>0.0</td>\n",
              "      <td>0.00</td>\n",
              "      <td>0.0</td>\n",
              "      <td>0.00</td>\n",
              "      <td>0.0</td>\n",
              "      <td>0</td>\n",
              "      <td>0</td>\n",
              "    </tr>\n",
              "    <tr>\n",
              "      <th>4</th>\n",
              "      <td>0.0</td>\n",
              "      <td>0.00</td>\n",
              "      <td>0.00</td>\n",
              "      <td>0.00</td>\n",
              "      <td>0.0</td>\n",
              "      <td>1.0</td>\n",
              "      <td>0.00</td>\n",
              "      <td>0.0</td>\n",
              "      <td>0.00</td>\n",
              "      <td>0.0</td>\n",
              "      <td>5</td>\n",
              "      <td>5</td>\n",
              "    </tr>\n",
              "  </tbody>\n",
              "</table>\n",
              "</div>"
            ],
            "text/plain": [
              "     0     1     2     3    4    5     6    7     8    9  predicted_label  \\\n",
              "0  0.0  0.00  0.00  0.00  0.0  0.0  1.00  0.0  0.00  0.0                6   \n",
              "1  0.0  0.01  0.15  0.01  0.0  0.0  0.82  0.0  0.00  0.0                6   \n",
              "2  0.0  0.00  0.00  0.55  0.0  0.0  0.00  0.0  0.45  0.0                3   \n",
              "3  1.0  0.00  0.00  0.00  0.0  0.0  0.00  0.0  0.00  0.0                0   \n",
              "4  0.0  0.00  0.00  0.00  0.0  1.0  0.00  0.0  0.00  0.0                5   \n",
              "\n",
              "   actual_label  \n",
              "0             6  \n",
              "1             6  \n",
              "2             3  \n",
              "3             0  \n",
              "4             5  "
            ]
          },
          "metadata": {
            "tags": []
          },
          "execution_count": 30
        }
      ]
    },
    {
      "cell_type": "code",
      "metadata": {
        "id": "tiIrb1ED6Ww-"
      },
      "source": [
        "#Creating a dataframe from the output history. Will be displaying a combined dataframe later.\r\n",
        "t1 = pd.DataFrame(model1output.history)\r\n",
        "t1 = t1.loc[t1['val_accuracy'][::-1].idxmax()]"
      ],
      "execution_count": 68,
      "outputs": []
    },
    {
      "cell_type": "markdown",
      "metadata": {
        "id": "YBNs5We_Yxf5"
      },
      "source": [
        "### Model 2"
      ]
    },
    {
      "cell_type": "markdown",
      "metadata": {
        "id": "jo3xxCUa3NRM"
      },
      "source": [
        "Added an additional 2 hidden layers and modified the number of nodes per layer. All other hyperparameters remain the same."
      ]
    },
    {
      "cell_type": "code",
      "metadata": {
        "id": "JOLxAhmhxPus",
        "cellView": "code"
      },
      "source": [
        "model_cp_save = keras.callbacks.ModelCheckpoint(cploc + 'model2.hdf5', save_best_only=True, monitor='val_accuracy')\n",
        "model_stop = keras.callbacks.EarlyStopping(monitor='loss', patience=3)\n",
        "model_time = TimingCallback()\n",
        "optimizer = keras.optimizers.Adam()\n",
        "model2 = keras.models.Sequential([\n",
        "    keras.layers.Flatten(input_shape = X_train.shape[1:], name = 'InputLayer'),\n",
        "    keras.layers.Dense(60,activation=\"selu\", name = 'Layer1', kernel_initializer='lecun_normal'),\n",
        "    keras.layers.Dense(50,activation=\"selu\", name = 'Layer2', kernel_initializer='lecun_normal'),\n",
        "    keras.layers.Dense(40,activation=\"selu\", name = 'Layer3', kernel_initializer='lecun_normal'),\n",
        "    keras.layers.Dense(30, activation=\"selu\", name = 'Layer4', kernel_initializer='lecun_normal'),\n",
        "    keras.layers.Dense(10, activation=\"softmax\", name = 'OutputLayer')\n",
        "])\n",
        "model2.compile(loss=\"sparse_categorical_crossentropy\",\n",
        "              optimizer=optimizer,\n",
        "              metrics=[\"accuracy\"])\n",
        "model2.summary()\n",
        "model2output = model2.fit(X_train, y_train, epochs=10, validation_data = (X_valid, y_valid), callbacks = [model_cp_save, model_time, model_stop], batch_size = 32)\n",
        "model2time = round(sum(model_time.logs),2)"
      ],
      "execution_count": null,
      "outputs": []
    },
    {
      "cell_type": "code",
      "metadata": {
        "colab": {
          "base_uri": "https://localhost:8080/",
          "height": 204
        },
        "id": "lF70wVKmHtaf",
        "outputId": "a75741ee-d200-4528-cf31-46694bf59e6f"
      },
      "source": [
        "y_proba = model2.predict(X_test[:5])\r\n",
        "predicted = pd.DataFrame(y_proba.round(2))\r\n",
        "actuals = pd.DataFrame(y_test[:5])\r\n",
        "predicted['predicted_label'] = predicted.idxmax(axis=1)\r\n",
        "predicted['actual_label'] = actuals\r\n",
        "predicted"
      ],
      "execution_count": 65,
      "outputs": [
        {
          "output_type": "execute_result",
          "data": {
            "text/html": [
              "<div>\n",
              "<style scoped>\n",
              "    .dataframe tbody tr th:only-of-type {\n",
              "        vertical-align: middle;\n",
              "    }\n",
              "\n",
              "    .dataframe tbody tr th {\n",
              "        vertical-align: top;\n",
              "    }\n",
              "\n",
              "    .dataframe thead th {\n",
              "        text-align: right;\n",
              "    }\n",
              "</style>\n",
              "<table border=\"1\" class=\"dataframe\">\n",
              "  <thead>\n",
              "    <tr style=\"text-align: right;\">\n",
              "      <th></th>\n",
              "      <th>0</th>\n",
              "      <th>1</th>\n",
              "      <th>2</th>\n",
              "      <th>3</th>\n",
              "      <th>4</th>\n",
              "      <th>5</th>\n",
              "      <th>6</th>\n",
              "      <th>7</th>\n",
              "      <th>8</th>\n",
              "      <th>9</th>\n",
              "      <th>predicted_label</th>\n",
              "      <th>actual_label</th>\n",
              "    </tr>\n",
              "  </thead>\n",
              "  <tbody>\n",
              "    <tr>\n",
              "      <th>0</th>\n",
              "      <td>0.0</td>\n",
              "      <td>0.0</td>\n",
              "      <td>0.00</td>\n",
              "      <td>0.0</td>\n",
              "      <td>0.03</td>\n",
              "      <td>0.0</td>\n",
              "      <td>0.97</td>\n",
              "      <td>0.0</td>\n",
              "      <td>0.0</td>\n",
              "      <td>0.0</td>\n",
              "      <td>6</td>\n",
              "      <td>6</td>\n",
              "    </tr>\n",
              "    <tr>\n",
              "      <th>1</th>\n",
              "      <td>0.0</td>\n",
              "      <td>0.0</td>\n",
              "      <td>0.02</td>\n",
              "      <td>0.0</td>\n",
              "      <td>0.00</td>\n",
              "      <td>0.0</td>\n",
              "      <td>0.97</td>\n",
              "      <td>0.0</td>\n",
              "      <td>0.0</td>\n",
              "      <td>0.0</td>\n",
              "      <td>6</td>\n",
              "      <td>6</td>\n",
              "    </tr>\n",
              "    <tr>\n",
              "      <th>2</th>\n",
              "      <td>0.0</td>\n",
              "      <td>0.0</td>\n",
              "      <td>0.00</td>\n",
              "      <td>1.0</td>\n",
              "      <td>0.00</td>\n",
              "      <td>0.0</td>\n",
              "      <td>0.00</td>\n",
              "      <td>0.0</td>\n",
              "      <td>0.0</td>\n",
              "      <td>0.0</td>\n",
              "      <td>3</td>\n",
              "      <td>3</td>\n",
              "    </tr>\n",
              "    <tr>\n",
              "      <th>3</th>\n",
              "      <td>1.0</td>\n",
              "      <td>0.0</td>\n",
              "      <td>0.00</td>\n",
              "      <td>0.0</td>\n",
              "      <td>0.00</td>\n",
              "      <td>0.0</td>\n",
              "      <td>0.00</td>\n",
              "      <td>0.0</td>\n",
              "      <td>0.0</td>\n",
              "      <td>0.0</td>\n",
              "      <td>0</td>\n",
              "      <td>0</td>\n",
              "    </tr>\n",
              "    <tr>\n",
              "      <th>4</th>\n",
              "      <td>0.0</td>\n",
              "      <td>0.0</td>\n",
              "      <td>0.00</td>\n",
              "      <td>0.0</td>\n",
              "      <td>0.00</td>\n",
              "      <td>1.0</td>\n",
              "      <td>0.00</td>\n",
              "      <td>0.0</td>\n",
              "      <td>0.0</td>\n",
              "      <td>0.0</td>\n",
              "      <td>5</td>\n",
              "      <td>5</td>\n",
              "    </tr>\n",
              "  </tbody>\n",
              "</table>\n",
              "</div>"
            ],
            "text/plain": [
              "     0    1     2    3     4    5     6    7    8    9  predicted_label  \\\n",
              "0  0.0  0.0  0.00  0.0  0.03  0.0  0.97  0.0  0.0  0.0                6   \n",
              "1  0.0  0.0  0.02  0.0  0.00  0.0  0.97  0.0  0.0  0.0                6   \n",
              "2  0.0  0.0  0.00  1.0  0.00  0.0  0.00  0.0  0.0  0.0                3   \n",
              "3  1.0  0.0  0.00  0.0  0.00  0.0  0.00  0.0  0.0  0.0                0   \n",
              "4  0.0  0.0  0.00  0.0  0.00  1.0  0.00  0.0  0.0  0.0                5   \n",
              "\n",
              "   actual_label  \n",
              "0             6  \n",
              "1             6  \n",
              "2             3  \n",
              "3             0  \n",
              "4             5  "
            ]
          },
          "metadata": {
            "tags": []
          },
          "execution_count": 65
        }
      ]
    },
    {
      "cell_type": "code",
      "metadata": {
        "id": "Ew2xvpgaxOuu"
      },
      "source": [
        "#Creating a dataframe from the output history\r\n",
        "t2 = pd.DataFrame(model2output.history)\r\n",
        "t2 = t2.loc[t2['val_accuracy'][::-1].idxmax()]"
      ],
      "execution_count": 67,
      "outputs": []
    },
    {
      "cell_type": "markdown",
      "metadata": {
        "id": "Jjk9RRiJu7kZ"
      },
      "source": [
        "### Model 3"
      ]
    },
    {
      "cell_type": "markdown",
      "metadata": {
        "id": "6D62mKnT3uHy"
      },
      "source": [
        "Keeping the number of hidden layers the same but adjusting the number of nodes per layer to examine the change."
      ]
    },
    {
      "cell_type": "code",
      "metadata": {
        "id": "sLx8UsCTvhdS"
      },
      "source": [
        "model_cp_save = keras.callbacks.ModelCheckpoint(cploc + 'model3.hdf5', save_best_only=True, monitor='val_accuracy')\r\n",
        "model_stop = keras.callbacks.EarlyStopping(monitor='loss', patience=3)\r\n",
        "model_time = TimingCallback()\r\n",
        "optimizer = keras.optimizers.Adam()\r\n",
        "\r\n",
        "model3 = keras.models.Sequential([\r\n",
        "    keras.layers.Flatten(input_shape = X_train.shape[1:], name = 'InputLayer'),\r\n",
        "    keras.layers.Dense(500,activation=\"selu\", name = 'Layer1', kernel_initializer='lecun_normal'),\r\n",
        "    keras.layers.Dense(200,activation=\"selu\", name = 'Layer2', kernel_initializer='lecun_normal'),\r\n",
        "    keras.layers.Dense(200,activation=\"selu\", name = 'Layer3', kernel_initializer='lecun_normal'),\r\n",
        "    keras.layers.Dense(50, activation=\"selu\", name = 'Layer4', kernel_initializer='lecun_normal'),\r\n",
        "    keras.layers.Dense(10, activation=\"softmax\", name = 'OutputLayer')\r\n",
        "])\r\n",
        "\r\n",
        "model3.compile(loss=\"sparse_categorical_crossentropy\",\r\n",
        "              optimizer=optimizer,\r\n",
        "              metrics=[\"accuracy\"])\r\n",
        "\r\n",
        "model3.summary()\r\n",
        "model3output = model3.fit(X_train, y_train, epochs=10, validation_data = (X_valid, y_valid), callbacks = [model_cp_save, model_time, model_stop], batch_size = 32)\r\n",
        "model3time = round(sum(model_time.logs),2)"
      ],
      "execution_count": null,
      "outputs": []
    },
    {
      "cell_type": "code",
      "metadata": {
        "colab": {
          "base_uri": "https://localhost:8080/",
          "height": 204
        },
        "id": "t_7UoCOWH8K0",
        "outputId": "63b81a22-7bd5-407e-dedc-2b00d9bb3a42"
      },
      "source": [
        "X_new = X_test[:5]\r\n",
        "y_proba = model3.predict(X_new)\r\n",
        "predicted = pd.DataFrame(y_proba.round(2))\r\n",
        "actuals = pd.DataFrame(y_test[:5])\r\n",
        "predicted['predicted_label'] = predicted.idxmax(axis=1)\r\n",
        "predicted['actual_label'] = actuals\r\n",
        "predicted"
      ],
      "execution_count": 69,
      "outputs": [
        {
          "output_type": "execute_result",
          "data": {
            "text/html": [
              "<div>\n",
              "<style scoped>\n",
              "    .dataframe tbody tr th:only-of-type {\n",
              "        vertical-align: middle;\n",
              "    }\n",
              "\n",
              "    .dataframe tbody tr th {\n",
              "        vertical-align: top;\n",
              "    }\n",
              "\n",
              "    .dataframe thead th {\n",
              "        text-align: right;\n",
              "    }\n",
              "</style>\n",
              "<table border=\"1\" class=\"dataframe\">\n",
              "  <thead>\n",
              "    <tr style=\"text-align: right;\">\n",
              "      <th></th>\n",
              "      <th>0</th>\n",
              "      <th>1</th>\n",
              "      <th>2</th>\n",
              "      <th>3</th>\n",
              "      <th>4</th>\n",
              "      <th>5</th>\n",
              "      <th>6</th>\n",
              "      <th>7</th>\n",
              "      <th>8</th>\n",
              "      <th>9</th>\n",
              "      <th>predicted_label</th>\n",
              "      <th>actual_label</th>\n",
              "    </tr>\n",
              "  </thead>\n",
              "  <tbody>\n",
              "    <tr>\n",
              "      <th>0</th>\n",
              "      <td>0.0</td>\n",
              "      <td>0.0</td>\n",
              "      <td>0.0</td>\n",
              "      <td>0.00</td>\n",
              "      <td>0.0</td>\n",
              "      <td>0.0</td>\n",
              "      <td>1.0</td>\n",
              "      <td>0.0</td>\n",
              "      <td>0.0</td>\n",
              "      <td>0.0</td>\n",
              "      <td>6</td>\n",
              "      <td>6</td>\n",
              "    </tr>\n",
              "    <tr>\n",
              "      <th>1</th>\n",
              "      <td>0.0</td>\n",
              "      <td>0.0</td>\n",
              "      <td>0.0</td>\n",
              "      <td>0.00</td>\n",
              "      <td>0.0</td>\n",
              "      <td>0.0</td>\n",
              "      <td>1.0</td>\n",
              "      <td>0.0</td>\n",
              "      <td>0.0</td>\n",
              "      <td>0.0</td>\n",
              "      <td>6</td>\n",
              "      <td>6</td>\n",
              "    </tr>\n",
              "    <tr>\n",
              "      <th>2</th>\n",
              "      <td>0.0</td>\n",
              "      <td>0.0</td>\n",
              "      <td>0.0</td>\n",
              "      <td>0.89</td>\n",
              "      <td>0.0</td>\n",
              "      <td>0.0</td>\n",
              "      <td>0.0</td>\n",
              "      <td>0.0</td>\n",
              "      <td>0.1</td>\n",
              "      <td>0.0</td>\n",
              "      <td>3</td>\n",
              "      <td>3</td>\n",
              "    </tr>\n",
              "    <tr>\n",
              "      <th>3</th>\n",
              "      <td>1.0</td>\n",
              "      <td>0.0</td>\n",
              "      <td>0.0</td>\n",
              "      <td>0.00</td>\n",
              "      <td>0.0</td>\n",
              "      <td>0.0</td>\n",
              "      <td>0.0</td>\n",
              "      <td>0.0</td>\n",
              "      <td>0.0</td>\n",
              "      <td>0.0</td>\n",
              "      <td>0</td>\n",
              "      <td>0</td>\n",
              "    </tr>\n",
              "    <tr>\n",
              "      <th>4</th>\n",
              "      <td>0.0</td>\n",
              "      <td>0.0</td>\n",
              "      <td>0.0</td>\n",
              "      <td>0.00</td>\n",
              "      <td>0.0</td>\n",
              "      <td>1.0</td>\n",
              "      <td>0.0</td>\n",
              "      <td>0.0</td>\n",
              "      <td>0.0</td>\n",
              "      <td>0.0</td>\n",
              "      <td>5</td>\n",
              "      <td>5</td>\n",
              "    </tr>\n",
              "  </tbody>\n",
              "</table>\n",
              "</div>"
            ],
            "text/plain": [
              "     0    1    2     3    4    5    6    7    8    9  predicted_label  \\\n",
              "0  0.0  0.0  0.0  0.00  0.0  0.0  1.0  0.0  0.0  0.0                6   \n",
              "1  0.0  0.0  0.0  0.00  0.0  0.0  1.0  0.0  0.0  0.0                6   \n",
              "2  0.0  0.0  0.0  0.89  0.0  0.0  0.0  0.0  0.1  0.0                3   \n",
              "3  1.0  0.0  0.0  0.00  0.0  0.0  0.0  0.0  0.0  0.0                0   \n",
              "4  0.0  0.0  0.0  0.00  0.0  1.0  0.0  0.0  0.0  0.0                5   \n",
              "\n",
              "   actual_label  \n",
              "0             6  \n",
              "1             6  \n",
              "2             3  \n",
              "3             0  \n",
              "4             5  "
            ]
          },
          "metadata": {
            "tags": []
          },
          "execution_count": 69
        }
      ]
    },
    {
      "cell_type": "code",
      "metadata": {
        "id": "_sMc_Zmd9iLU"
      },
      "source": [
        "#Creating a dataframe from the output history\r\n",
        "t3 = pd.DataFrame(model3output.history)\r\n",
        "t3 = t3.loc[t3['val_accuracy'][::-1].idxmax()]"
      ],
      "execution_count": 70,
      "outputs": []
    },
    {
      "cell_type": "markdown",
      "metadata": {
        "id": "cNrPZE94-LkZ"
      },
      "source": [
        "### Model 4"
      ]
    },
    {
      "cell_type": "markdown",
      "metadata": {
        "id": "mBFaGVzs4fiz"
      },
      "source": [
        "Adding an additional 4 hidden layers to total 1 input layer, 8 hidden layers and 1 output layer. Varying the number of nodes per layer as well. Keeping all other settings the same."
      ]
    },
    {
      "cell_type": "code",
      "metadata": {
        "id": "1-VWt5Is-Kvu"
      },
      "source": [
        "model_cp_save = keras.callbacks.ModelCheckpoint(cploc + 'model4.hdf5', save_best_only=True, monitor='val_accuracy')\r\n",
        "model_stop = keras.callbacks.EarlyStopping(monitor='loss', patience=3)\r\n",
        "model_time = TimingCallback()\r\n",
        "optimizer = keras.optimizers.Adam()\r\n",
        "\r\n",
        "model4 = keras.models.Sequential([\r\n",
        "    keras.layers.Flatten(input_shape = X_train.shape[1:], name = 'InputLayer'),\r\n",
        "    keras.layers.Dense(600,activation=\"selu\", name = 'Layer1', kernel_initializer='lecun_normal'),\r\n",
        "    keras.layers.Dense(200,activation=\"selu\", name = 'Layer2', kernel_initializer='lecun_normal'),\r\n",
        "    keras.layers.Dense(500,activation=\"selu\", name = 'Layer3', kernel_initializer='lecun_normal'),\r\n",
        "    keras.layers.Dense(300,activation=\"selu\", name = 'Layer4', kernel_initializer='lecun_normal'),\r\n",
        "    keras.layers.Dense(400,activation=\"selu\", name = 'Layer5', kernel_initializer='lecun_normal'),\r\n",
        "    keras.layers.Dense(400,activation=\"selu\", name = 'Layer6', kernel_initializer='lecun_normal'),\r\n",
        "    keras.layers.Dense(100,activation=\"selu\", name = 'Layer7', kernel_initializer='lecun_normal'),\r\n",
        "    keras.layers.Dense(50, activation=\"selu\", name = 'Layer8', kernel_initializer='lecun_normal'),\r\n",
        "    keras.layers.Dense(10, activation=\"softmax\", name = 'OutputLayer')\r\n",
        "])\r\n",
        "\r\n",
        "model4.compile(loss=\"sparse_categorical_crossentropy\",\r\n",
        "              optimizer=optimizer,\r\n",
        "              metrics=[\"accuracy\"])\r\n",
        "\r\n",
        "model4.summary()\r\n",
        "\r\n",
        "model4output = model4.fit(X_train, y_train, epochs=20, validation_data = (X_valid, y_valid), callbacks = [model_cp_save, model_time, model_stop], batch_size = 32)\r\n",
        "\r\n",
        "model4time = round(sum(model_time.logs),2)"
      ],
      "execution_count": null,
      "outputs": []
    },
    {
      "cell_type": "code",
      "metadata": {
        "colab": {
          "base_uri": "https://localhost:8080/",
          "height": 204
        },
        "id": "Z0suj7MaINiO",
        "outputId": "1493f7b0-340b-4965-881b-3b8c3d9e2e3d"
      },
      "source": [
        "X_new = X_test[:5]\r\n",
        "y_proba = model4.predict(X_new)\r\n",
        "predicted = pd.DataFrame(y_proba.round(2))\r\n",
        "actuals = pd.DataFrame(y_test[:5])\r\n",
        "predicted['predicted_label'] = predicted.idxmax(axis=1)\r\n",
        "predicted['actual_label'] = actuals\r\n",
        "predicted"
      ],
      "execution_count": 72,
      "outputs": [
        {
          "output_type": "execute_result",
          "data": {
            "text/html": [
              "<div>\n",
              "<style scoped>\n",
              "    .dataframe tbody tr th:only-of-type {\n",
              "        vertical-align: middle;\n",
              "    }\n",
              "\n",
              "    .dataframe tbody tr th {\n",
              "        vertical-align: top;\n",
              "    }\n",
              "\n",
              "    .dataframe thead th {\n",
              "        text-align: right;\n",
              "    }\n",
              "</style>\n",
              "<table border=\"1\" class=\"dataframe\">\n",
              "  <thead>\n",
              "    <tr style=\"text-align: right;\">\n",
              "      <th></th>\n",
              "      <th>0</th>\n",
              "      <th>1</th>\n",
              "      <th>2</th>\n",
              "      <th>3</th>\n",
              "      <th>4</th>\n",
              "      <th>5</th>\n",
              "      <th>6</th>\n",
              "      <th>7</th>\n",
              "      <th>8</th>\n",
              "      <th>9</th>\n",
              "      <th>predicted_label</th>\n",
              "      <th>actual_label</th>\n",
              "    </tr>\n",
              "  </thead>\n",
              "  <tbody>\n",
              "    <tr>\n",
              "      <th>0</th>\n",
              "      <td>0.0</td>\n",
              "      <td>0.0</td>\n",
              "      <td>0.0</td>\n",
              "      <td>0.0</td>\n",
              "      <td>0.0</td>\n",
              "      <td>0.0</td>\n",
              "      <td>1.00</td>\n",
              "      <td>0.0</td>\n",
              "      <td>0.00</td>\n",
              "      <td>0.0</td>\n",
              "      <td>6</td>\n",
              "      <td>6</td>\n",
              "    </tr>\n",
              "    <tr>\n",
              "      <th>1</th>\n",
              "      <td>0.0</td>\n",
              "      <td>0.0</td>\n",
              "      <td>0.0</td>\n",
              "      <td>0.0</td>\n",
              "      <td>0.0</td>\n",
              "      <td>0.0</td>\n",
              "      <td>0.99</td>\n",
              "      <td>0.0</td>\n",
              "      <td>0.01</td>\n",
              "      <td>0.0</td>\n",
              "      <td>6</td>\n",
              "      <td>6</td>\n",
              "    </tr>\n",
              "    <tr>\n",
              "      <th>2</th>\n",
              "      <td>0.0</td>\n",
              "      <td>0.0</td>\n",
              "      <td>0.0</td>\n",
              "      <td>1.0</td>\n",
              "      <td>0.0</td>\n",
              "      <td>0.0</td>\n",
              "      <td>0.00</td>\n",
              "      <td>0.0</td>\n",
              "      <td>0.00</td>\n",
              "      <td>0.0</td>\n",
              "      <td>3</td>\n",
              "      <td>3</td>\n",
              "    </tr>\n",
              "    <tr>\n",
              "      <th>3</th>\n",
              "      <td>1.0</td>\n",
              "      <td>0.0</td>\n",
              "      <td>0.0</td>\n",
              "      <td>0.0</td>\n",
              "      <td>0.0</td>\n",
              "      <td>0.0</td>\n",
              "      <td>0.00</td>\n",
              "      <td>0.0</td>\n",
              "      <td>0.00</td>\n",
              "      <td>0.0</td>\n",
              "      <td>0</td>\n",
              "      <td>0</td>\n",
              "    </tr>\n",
              "    <tr>\n",
              "      <th>4</th>\n",
              "      <td>0.0</td>\n",
              "      <td>0.0</td>\n",
              "      <td>0.0</td>\n",
              "      <td>0.0</td>\n",
              "      <td>0.0</td>\n",
              "      <td>1.0</td>\n",
              "      <td>0.00</td>\n",
              "      <td>0.0</td>\n",
              "      <td>0.00</td>\n",
              "      <td>0.0</td>\n",
              "      <td>5</td>\n",
              "      <td>5</td>\n",
              "    </tr>\n",
              "  </tbody>\n",
              "</table>\n",
              "</div>"
            ],
            "text/plain": [
              "     0    1    2    3    4    5     6    7     8    9  predicted_label  \\\n",
              "0  0.0  0.0  0.0  0.0  0.0  0.0  1.00  0.0  0.00  0.0                6   \n",
              "1  0.0  0.0  0.0  0.0  0.0  0.0  0.99  0.0  0.01  0.0                6   \n",
              "2  0.0  0.0  0.0  1.0  0.0  0.0  0.00  0.0  0.00  0.0                3   \n",
              "3  1.0  0.0  0.0  0.0  0.0  0.0  0.00  0.0  0.00  0.0                0   \n",
              "4  0.0  0.0  0.0  0.0  0.0  1.0  0.00  0.0  0.00  0.0                5   \n",
              "\n",
              "   actual_label  \n",
              "0             6  \n",
              "1             6  \n",
              "2             3  \n",
              "3             0  \n",
              "4             5  "
            ]
          },
          "metadata": {
            "tags": []
          },
          "execution_count": 72
        }
      ]
    },
    {
      "cell_type": "code",
      "metadata": {
        "colab": {
          "base_uri": "https://localhost:8080/"
        },
        "id": "fjB4Um84-e5L",
        "outputId": "ba8bb85e-0bc0-448a-dc4f-35694db839de"
      },
      "source": [
        "#Creating a dataframe from the output history\r\n",
        "t4 = pd.DataFrame(model3output.history)\r\n",
        "t4 = t4.loc[t4['val_accuracy'][::-1].idxmax()]"
      ],
      "execution_count": 75,
      "outputs": [
        {
          "output_type": "execute_result",
          "data": {
            "text/plain": [
              "loss            0.060591\n",
              "accuracy        0.981605\n",
              "val_loss        0.147407\n",
              "val_accuracy    0.968626\n",
              "Name: 9, dtype: float64"
            ]
          },
          "metadata": {
            "tags": []
          },
          "execution_count": 75
        }
      ]
    },
    {
      "cell_type": "markdown",
      "metadata": {
        "id": "gHexd82H4EJ_"
      },
      "source": [
        "#### Evaluating Model Results"
      ]
    },
    {
      "cell_type": "markdown",
      "metadata": {
        "id": "xd78kmvI5sm8"
      },
      "source": [
        "Now that I have trained the four models I'll take each model's best epoch and combine them into a dataframe. I'll then decide which model to use to predict my test values. "
      ]
    },
    {
      "cell_type": "markdown",
      "metadata": {
        "id": "v5SKinam5_5Y"
      },
      "source": [
        "Based on the output of the model history's best epoch (based on validation accuracy) the best model looks to be Model 3. Both Model 3 and 4 have exactly the same metric values. However, Model 4 is more complex/resource intensive and may result in a risk of overfitting with a greater number of epochs, so I'll be going with Model 3 to provide my predictions"
      ]
    },
    {
      "cell_type": "code",
      "metadata": {
        "colab": {
          "base_uri": "https://localhost:8080/",
          "height": 297
        },
        "id": "W9yamuzB44wA",
        "outputId": "14a82f2b-427e-44b9-c315-8524d1e142c4"
      },
      "source": [
        "tout = pd.concat([t1,t2,t3,t4], axis=1)\r\n",
        "tout.columns = ['Model 1','Model 2','Model 3', 'Model 4']\r\n",
        "tout.loc['training_time'] = np.array([model1time,model2time,model3time,model4time])\r\n",
        "tout.loc['num_epochs'] = [len(model1output.history['loss']),len(model2output.history['loss']),len(model3output.history['loss']),len(model4output.history['loss'])]\r\n",
        "tout.loc['num_layers'] = [len(model1.layers),len(model2.layers),len(model3.layers),len(model4.layers)]\r\n",
        "tout.loc['num_params'] = [model1.count_params(), model2.count_params(), model3.count_params(), model4.count_params()]\r\n",
        "tout"
      ],
      "execution_count": 87,
      "outputs": [
        {
          "output_type": "execute_result",
          "data": {
            "text/html": [
              "<div>\n",
              "<style scoped>\n",
              "    .dataframe tbody tr th:only-of-type {\n",
              "        vertical-align: middle;\n",
              "    }\n",
              "\n",
              "    .dataframe tbody tr th {\n",
              "        vertical-align: top;\n",
              "    }\n",
              "\n",
              "    .dataframe thead th {\n",
              "        text-align: right;\n",
              "    }\n",
              "</style>\n",
              "<table border=\"1\" class=\"dataframe\">\n",
              "  <thead>\n",
              "    <tr style=\"text-align: right;\">\n",
              "      <th></th>\n",
              "      <th>Model 1</th>\n",
              "      <th>Model 2</th>\n",
              "      <th>Model 3</th>\n",
              "      <th>Model 4</th>\n",
              "    </tr>\n",
              "  </thead>\n",
              "  <tbody>\n",
              "    <tr>\n",
              "      <th>loss</th>\n",
              "      <td>0.082856</td>\n",
              "      <td>0.077477</td>\n",
              "      <td>0.060591</td>\n",
              "      <td>6.059139e-02</td>\n",
              "    </tr>\n",
              "    <tr>\n",
              "      <th>accuracy</th>\n",
              "      <td>0.974578</td>\n",
              "      <td>0.974165</td>\n",
              "      <td>0.981605</td>\n",
              "      <td>9.816055e-01</td>\n",
              "    </tr>\n",
              "    <tr>\n",
              "      <th>val_loss</th>\n",
              "      <td>0.143516</td>\n",
              "      <td>0.129277</td>\n",
              "      <td>0.147407</td>\n",
              "      <td>1.474069e-01</td>\n",
              "    </tr>\n",
              "    <tr>\n",
              "      <th>val_accuracy</th>\n",
              "      <td>0.958953</td>\n",
              "      <td>0.960938</td>\n",
              "      <td>0.968626</td>\n",
              "      <td>9.686260e-01</td>\n",
              "    </tr>\n",
              "    <tr>\n",
              "      <th>training_time</th>\n",
              "      <td>18.660000</td>\n",
              "      <td>19.460000</td>\n",
              "      <td>19.650000</td>\n",
              "      <td>3.581000e+01</td>\n",
              "    </tr>\n",
              "    <tr>\n",
              "      <th>num_epochs</th>\n",
              "      <td>10.000000</td>\n",
              "      <td>10.000000</td>\n",
              "      <td>10.000000</td>\n",
              "      <td>1.600000e+01</td>\n",
              "    </tr>\n",
              "    <tr>\n",
              "      <th>num_layers</th>\n",
              "      <td>4.000000</td>\n",
              "      <td>6.000000</td>\n",
              "      <td>6.000000</td>\n",
              "      <td>1.000000e+01</td>\n",
              "    </tr>\n",
              "    <tr>\n",
              "      <th>num_params</th>\n",
              "      <td>24380.000000</td>\n",
              "      <td>53730.000000</td>\n",
              "      <td>543460.000000</td>\n",
              "      <td>1.168460e+06</td>\n",
              "    </tr>\n",
              "  </tbody>\n",
              "</table>\n",
              "</div>"
            ],
            "text/plain": [
              "                    Model 1       Model 2        Model 3       Model 4\n",
              "loss               0.082856      0.077477       0.060591  6.059139e-02\n",
              "accuracy           0.974578      0.974165       0.981605  9.816055e-01\n",
              "val_loss           0.143516      0.129277       0.147407  1.474069e-01\n",
              "val_accuracy       0.958953      0.960938       0.968626  9.686260e-01\n",
              "training_time     18.660000     19.460000      19.650000  3.581000e+01\n",
              "num_epochs        10.000000     10.000000      10.000000  1.600000e+01\n",
              "num_layers         4.000000      6.000000       6.000000  1.000000e+01\n",
              "num_params     24380.000000  53730.000000  543460.000000  1.168460e+06"
            ]
          },
          "metadata": {
            "tags": []
          },
          "execution_count": 87
        }
      ]
    },
    {
      "cell_type": "markdown",
      "metadata": {
        "id": "OBGiIn4j6UmR"
      },
      "source": [
        "Plotting each model's metrics history to further validate the decision for model 3. Model 4 looks to be potentially increasing the loss/decreasing accuracy past epoch #9 - another reason not to use it."
      ]
    },
    {
      "cell_type": "code",
      "metadata": {
        "colab": {
          "base_uri": "https://localhost:8080/",
          "height": 666
        },
        "id": "X0RMSM4U1AXf",
        "outputId": "4e0e9055-5647-4862-df0f-92d51bd85798"
      },
      "source": [
        "fig, ((ax1, ax2), (ax3 ,ax4)) = plt.subplots(2, 2,  figsize=(20,10))\r\n",
        "fig.suptitle('Sequential MLP Results By Epoch', fontsize = 20)\r\n",
        "ax1.plot(pd.DataFrame(model1output.history))\r\n",
        "ax1.set_title('Model 1 Results')\r\n",
        "ax1.set_ylim(0,1)\r\n",
        "ax1.set_xticks(np.arange(0,10))\r\n",
        "ax1.legend(pd.DataFrame(model1output.history), loc=\"center right\")\r\n",
        "ax2.plot(pd.DataFrame(model2output.history))\r\n",
        "ax2.set_title('Model 2 Results')\r\n",
        "ax2.set_ylim(0,1)\r\n",
        "ax2.set_xticks(np.arange(0,10))\r\n",
        "ax2.legend(pd.DataFrame(model1output.history), loc=\"center right\")\r\n",
        "ax3.plot(pd.DataFrame(model3output.history))\r\n",
        "ax3.set_title('Model 3 Results')\r\n",
        "ax3.set_ylim(0,1)\r\n",
        "ax3.set_xticks(np.arange(0,10))\r\n",
        "ax3.legend(pd.DataFrame(model1output.history), loc=\"center right\")\r\n",
        "ax4.plot(pd.DataFrame(model4output.history))\r\n",
        "ax4.set_title('Model 4 Results')\r\n",
        "ax4.set_ylim(0,1)\r\n",
        "ax4.set_xticks(np.arange(0,10))\r\n",
        "ax4.legend(pd.DataFrame(model1output.history), loc=\"center right\")\r\n",
        "plt.show;"
      ],
      "execution_count": 84,
      "outputs": [
        {
          "output_type": "display_data",
          "data": {
            "image/png": "[encoded data removed]",
            "text/plain": [
              "<Figure size 1440x720 with 4 Axes>"
            ]
          },
          "metadata": {
            "tags": []
          }
        }
      ]
    },
    {
      "cell_type": "markdown",
      "metadata": {
        "id": "TpHBg8MT-nuS"
      },
      "source": [
        "#### Predicting Test Values w/ Model 3"
      ]
    },
    {
      "cell_type": "markdown",
      "metadata": {
        "id": "bgSL2p7J-va_"
      },
      "source": [
        "Now that I've chosen Model 3 I'll be predicting labels using the X_test data. I'll then take the information and add it to a dataframe so that we can see the probability of each number, as well as the overall predicted value vs the true label.\r\n",
        "\r\n",
        "I chose a mostly random subset of data to show from the dataframe, with the intention of finding one predicted label that was incorrect. Row 215 shows that it was 100% confident it was a 5, but the actual label from the y_test data was a 9.\r\n",
        "\r\n",
        "Overall, the model does a pretty good job of predicting the values and having a usually high confidence "
      ]
    },
    {
      "cell_type": "code",
      "metadata": {
        "colab": {
          "base_uri": "https://localhost:8080/",
          "height": 669
        },
        "id": "kE2e2hi1-uD8",
        "outputId": "deff2a2a-0b62-40e1-8000-98ef96aa0d4b"
      },
      "source": [
        "y_proba = model3.predict(X_test)\r\n",
        "predicted = pd.DataFrame(y_proba.round(2))\r\n",
        "actuals = pd.DataFrame(y_test)\r\n",
        "predicted['predicted_label'] = predicted.idxmax(axis=1)\r\n",
        "predicted['actual_label'] = actuals\r\n",
        "predicted[200:220]"
      ],
      "execution_count": 94,
      "outputs": [
        {
          "output_type": "execute_result",
          "data": {
            "text/html": [
              "<div>\n",
              "<style scoped>\n",
              "    .dataframe tbody tr th:only-of-type {\n",
              "        vertical-align: middle;\n",
              "    }\n",
              "\n",
              "    .dataframe tbody tr th {\n",
              "        vertical-align: top;\n",
              "    }\n",
              "\n",
              "    .dataframe thead th {\n",
              "        text-align: right;\n",
              "    }\n",
              "</style>\n",
              "<table border=\"1\" class=\"dataframe\">\n",
              "  <thead>\n",
              "    <tr style=\"text-align: right;\">\n",
              "      <th></th>\n",
              "      <th>0</th>\n",
              "      <th>1</th>\n",
              "      <th>2</th>\n",
              "      <th>3</th>\n",
              "      <th>4</th>\n",
              "      <th>5</th>\n",
              "      <th>6</th>\n",
              "      <th>7</th>\n",
              "      <th>8</th>\n",
              "      <th>9</th>\n",
              "      <th>predicted_label</th>\n",
              "      <th>actual_label</th>\n",
              "    </tr>\n",
              "  </thead>\n",
              "  <tbody>\n",
              "    <tr>\n",
              "      <th>200</th>\n",
              "      <td>0.00</td>\n",
              "      <td>0.00</td>\n",
              "      <td>0.00</td>\n",
              "      <td>0.00</td>\n",
              "      <td>0.00</td>\n",
              "      <td>0.00</td>\n",
              "      <td>0.00</td>\n",
              "      <td>0.0</td>\n",
              "      <td>1.0</td>\n",
              "      <td>0.00</td>\n",
              "      <td>8</td>\n",
              "      <td>8</td>\n",
              "    </tr>\n",
              "    <tr>\n",
              "      <th>201</th>\n",
              "      <td>0.00</td>\n",
              "      <td>0.00</td>\n",
              "      <td>0.00</td>\n",
              "      <td>1.00</td>\n",
              "      <td>0.00</td>\n",
              "      <td>0.00</td>\n",
              "      <td>0.00</td>\n",
              "      <td>0.0</td>\n",
              "      <td>0.0</td>\n",
              "      <td>0.00</td>\n",
              "      <td>3</td>\n",
              "      <td>3</td>\n",
              "    </tr>\n",
              "    <tr>\n",
              "      <th>202</th>\n",
              "      <td>0.00</td>\n",
              "      <td>0.00</td>\n",
              "      <td>0.00</td>\n",
              "      <td>0.00</td>\n",
              "      <td>0.00</td>\n",
              "      <td>0.00</td>\n",
              "      <td>0.00</td>\n",
              "      <td>0.0</td>\n",
              "      <td>0.0</td>\n",
              "      <td>1.00</td>\n",
              "      <td>9</td>\n",
              "      <td>9</td>\n",
              "    </tr>\n",
              "    <tr>\n",
              "      <th>203</th>\n",
              "      <td>0.00</td>\n",
              "      <td>1.00</td>\n",
              "      <td>0.00</td>\n",
              "      <td>0.00</td>\n",
              "      <td>0.00</td>\n",
              "      <td>0.00</td>\n",
              "      <td>0.00</td>\n",
              "      <td>0.0</td>\n",
              "      <td>0.0</td>\n",
              "      <td>0.00</td>\n",
              "      <td>1</td>\n",
              "      <td>1</td>\n",
              "    </tr>\n",
              "    <tr>\n",
              "      <th>204</th>\n",
              "      <td>0.00</td>\n",
              "      <td>0.00</td>\n",
              "      <td>0.00</td>\n",
              "      <td>0.00</td>\n",
              "      <td>0.00</td>\n",
              "      <td>0.00</td>\n",
              "      <td>1.00</td>\n",
              "      <td>0.0</td>\n",
              "      <td>0.0</td>\n",
              "      <td>0.00</td>\n",
              "      <td>6</td>\n",
              "      <td>6</td>\n",
              "    </tr>\n",
              "    <tr>\n",
              "      <th>205</th>\n",
              "      <td>0.00</td>\n",
              "      <td>0.00</td>\n",
              "      <td>0.00</td>\n",
              "      <td>0.00</td>\n",
              "      <td>1.00</td>\n",
              "      <td>0.00</td>\n",
              "      <td>0.00</td>\n",
              "      <td>0.0</td>\n",
              "      <td>0.0</td>\n",
              "      <td>0.00</td>\n",
              "      <td>4</td>\n",
              "      <td>4</td>\n",
              "    </tr>\n",
              "    <tr>\n",
              "      <th>206</th>\n",
              "      <td>0.00</td>\n",
              "      <td>1.00</td>\n",
              "      <td>0.00</td>\n",
              "      <td>0.00</td>\n",
              "      <td>0.00</td>\n",
              "      <td>0.00</td>\n",
              "      <td>0.00</td>\n",
              "      <td>0.0</td>\n",
              "      <td>0.0</td>\n",
              "      <td>0.00</td>\n",
              "      <td>1</td>\n",
              "      <td>1</td>\n",
              "    </tr>\n",
              "    <tr>\n",
              "      <th>207</th>\n",
              "      <td>0.00</td>\n",
              "      <td>0.00</td>\n",
              "      <td>0.00</td>\n",
              "      <td>0.00</td>\n",
              "      <td>0.00</td>\n",
              "      <td>0.00</td>\n",
              "      <td>0.00</td>\n",
              "      <td>1.0</td>\n",
              "      <td>0.0</td>\n",
              "      <td>0.00</td>\n",
              "      <td>7</td>\n",
              "      <td>7</td>\n",
              "    </tr>\n",
              "    <tr>\n",
              "      <th>208</th>\n",
              "      <td>0.00</td>\n",
              "      <td>0.00</td>\n",
              "      <td>0.00</td>\n",
              "      <td>0.00</td>\n",
              "      <td>1.00</td>\n",
              "      <td>0.00</td>\n",
              "      <td>0.00</td>\n",
              "      <td>0.0</td>\n",
              "      <td>0.0</td>\n",
              "      <td>0.00</td>\n",
              "      <td>4</td>\n",
              "      <td>4</td>\n",
              "    </tr>\n",
              "    <tr>\n",
              "      <th>209</th>\n",
              "      <td>0.00</td>\n",
              "      <td>0.00</td>\n",
              "      <td>0.00</td>\n",
              "      <td>0.00</td>\n",
              "      <td>0.84</td>\n",
              "      <td>0.00</td>\n",
              "      <td>0.00</td>\n",
              "      <td>0.0</td>\n",
              "      <td>0.0</td>\n",
              "      <td>0.16</td>\n",
              "      <td>4</td>\n",
              "      <td>4</td>\n",
              "    </tr>\n",
              "    <tr>\n",
              "      <th>210</th>\n",
              "      <td>0.02</td>\n",
              "      <td>0.01</td>\n",
              "      <td>0.14</td>\n",
              "      <td>0.54</td>\n",
              "      <td>0.00</td>\n",
              "      <td>0.05</td>\n",
              "      <td>0.14</td>\n",
              "      <td>0.0</td>\n",
              "      <td>0.1</td>\n",
              "      <td>0.00</td>\n",
              "      <td>3</td>\n",
              "      <td>3</td>\n",
              "    </tr>\n",
              "    <tr>\n",
              "      <th>211</th>\n",
              "      <td>0.00</td>\n",
              "      <td>0.00</td>\n",
              "      <td>0.00</td>\n",
              "      <td>1.00</td>\n",
              "      <td>0.00</td>\n",
              "      <td>0.00</td>\n",
              "      <td>0.00</td>\n",
              "      <td>0.0</td>\n",
              "      <td>0.0</td>\n",
              "      <td>0.00</td>\n",
              "      <td>3</td>\n",
              "      <td>3</td>\n",
              "    </tr>\n",
              "    <tr>\n",
              "      <th>212</th>\n",
              "      <td>0.00</td>\n",
              "      <td>0.00</td>\n",
              "      <td>0.00</td>\n",
              "      <td>0.00</td>\n",
              "      <td>0.00</td>\n",
              "      <td>0.00</td>\n",
              "      <td>0.00</td>\n",
              "      <td>1.0</td>\n",
              "      <td>0.0</td>\n",
              "      <td>0.00</td>\n",
              "      <td>7</td>\n",
              "      <td>7</td>\n",
              "    </tr>\n",
              "    <tr>\n",
              "      <th>213</th>\n",
              "      <td>0.00</td>\n",
              "      <td>0.00</td>\n",
              "      <td>1.00</td>\n",
              "      <td>0.00</td>\n",
              "      <td>0.00</td>\n",
              "      <td>0.00</td>\n",
              "      <td>0.00</td>\n",
              "      <td>0.0</td>\n",
              "      <td>0.0</td>\n",
              "      <td>0.00</td>\n",
              "      <td>2</td>\n",
              "      <td>2</td>\n",
              "    </tr>\n",
              "    <tr>\n",
              "      <th>214</th>\n",
              "      <td>0.00</td>\n",
              "      <td>0.00</td>\n",
              "      <td>0.00</td>\n",
              "      <td>0.00</td>\n",
              "      <td>0.00</td>\n",
              "      <td>1.00</td>\n",
              "      <td>0.00</td>\n",
              "      <td>0.0</td>\n",
              "      <td>0.0</td>\n",
              "      <td>0.00</td>\n",
              "      <td>5</td>\n",
              "      <td>5</td>\n",
              "    </tr>\n",
              "    <tr>\n",
              "      <th>215</th>\n",
              "      <td>0.00</td>\n",
              "      <td>0.00</td>\n",
              "      <td>0.00</td>\n",
              "      <td>0.00</td>\n",
              "      <td>0.00</td>\n",
              "      <td>1.00</td>\n",
              "      <td>0.00</td>\n",
              "      <td>0.0</td>\n",
              "      <td>0.0</td>\n",
              "      <td>0.00</td>\n",
              "      <td>5</td>\n",
              "      <td>9</td>\n",
              "    </tr>\n",
              "    <tr>\n",
              "      <th>216</th>\n",
              "      <td>1.00</td>\n",
              "      <td>0.00</td>\n",
              "      <td>0.00</td>\n",
              "      <td>0.00</td>\n",
              "      <td>0.00</td>\n",
              "      <td>0.00</td>\n",
              "      <td>0.00</td>\n",
              "      <td>0.0</td>\n",
              "      <td>0.0</td>\n",
              "      <td>0.00</td>\n",
              "      <td>0</td>\n",
              "      <td>0</td>\n",
              "    </tr>\n",
              "    <tr>\n",
              "      <th>217</th>\n",
              "      <td>0.00</td>\n",
              "      <td>1.00</td>\n",
              "      <td>0.00</td>\n",
              "      <td>0.00</td>\n",
              "      <td>0.00</td>\n",
              "      <td>0.00</td>\n",
              "      <td>0.00</td>\n",
              "      <td>0.0</td>\n",
              "      <td>0.0</td>\n",
              "      <td>0.00</td>\n",
              "      <td>1</td>\n",
              "      <td>1</td>\n",
              "    </tr>\n",
              "    <tr>\n",
              "      <th>218</th>\n",
              "      <td>0.00</td>\n",
              "      <td>0.00</td>\n",
              "      <td>0.00</td>\n",
              "      <td>0.00</td>\n",
              "      <td>0.00</td>\n",
              "      <td>1.00</td>\n",
              "      <td>0.00</td>\n",
              "      <td>0.0</td>\n",
              "      <td>0.0</td>\n",
              "      <td>0.00</td>\n",
              "      <td>5</td>\n",
              "      <td>5</td>\n",
              "    </tr>\n",
              "    <tr>\n",
              "      <th>219</th>\n",
              "      <td>0.00</td>\n",
              "      <td>1.00</td>\n",
              "      <td>0.00</td>\n",
              "      <td>0.00</td>\n",
              "      <td>0.00</td>\n",
              "      <td>0.00</td>\n",
              "      <td>0.00</td>\n",
              "      <td>0.0</td>\n",
              "      <td>0.0</td>\n",
              "      <td>0.00</td>\n",
              "      <td>1</td>\n",
              "      <td>1</td>\n",
              "    </tr>\n",
              "  </tbody>\n",
              "</table>\n",
              "</div>"
            ],
            "text/plain": [
              "        0     1     2     3     4     5     6    7    8     9  \\\n",
              "200  0.00  0.00  0.00  0.00  0.00  0.00  0.00  0.0  1.0  0.00   \n",
              "201  0.00  0.00  0.00  1.00  0.00  0.00  0.00  0.0  0.0  0.00   \n",
              "202  0.00  0.00  0.00  0.00  0.00  0.00  0.00  0.0  0.0  1.00   \n",
              "203  0.00  1.00  0.00  0.00  0.00  0.00  0.00  0.0  0.0  0.00   \n",
              "204  0.00  0.00  0.00  0.00  0.00  0.00  1.00  0.0  0.0  0.00   \n",
              "205  0.00  0.00  0.00  0.00  1.00  0.00  0.00  0.0  0.0  0.00   \n",
              "206  0.00  1.00  0.00  0.00  0.00  0.00  0.00  0.0  0.0  0.00   \n",
              "207  0.00  0.00  0.00  0.00  0.00  0.00  0.00  1.0  0.0  0.00   \n",
              "208  0.00  0.00  0.00  0.00  1.00  0.00  0.00  0.0  0.0  0.00   \n",
              "209  0.00  0.00  0.00  0.00  0.84  0.00  0.00  0.0  0.0  0.16   \n",
              "210  0.02  0.01  0.14  0.54  0.00  0.05  0.14  0.0  0.1  0.00   \n",
              "211  0.00  0.00  0.00  1.00  0.00  0.00  0.00  0.0  0.0  0.00   \n",
              "212  0.00  0.00  0.00  0.00  0.00  0.00  0.00  1.0  0.0  0.00   \n",
              "213  0.00  0.00  1.00  0.00  0.00  0.00  0.00  0.0  0.0  0.00   \n",
              "214  0.00  0.00  0.00  0.00  0.00  1.00  0.00  0.0  0.0  0.00   \n",
              "215  0.00  0.00  0.00  0.00  0.00  1.00  0.00  0.0  0.0  0.00   \n",
              "216  1.00  0.00  0.00  0.00  0.00  0.00  0.00  0.0  0.0  0.00   \n",
              "217  0.00  1.00  0.00  0.00  0.00  0.00  0.00  0.0  0.0  0.00   \n",
              "218  0.00  0.00  0.00  0.00  0.00  1.00  0.00  0.0  0.0  0.00   \n",
              "219  0.00  1.00  0.00  0.00  0.00  0.00  0.00  0.0  0.0  0.00   \n",
              "\n",
              "     predicted_label  actual_label  \n",
              "200                8             8  \n",
              "201                3             3  \n",
              "202                9             9  \n",
              "203                1             1  \n",
              "204                6             6  \n",
              "205                4             4  \n",
              "206                1             1  \n",
              "207                7             7  \n",
              "208                4             4  \n",
              "209                4             4  \n",
              "210                3             3  \n",
              "211                3             3  \n",
              "212                7             7  \n",
              "213                2             2  \n",
              "214                5             5  \n",
              "215                5             9  \n",
              "216                0             0  \n",
              "217                1             1  \n",
              "218                5             5  \n",
              "219                1             1  "
            ]
          },
          "metadata": {
            "tags": []
          },
          "execution_count": 94
        }
      ]
    }
  ]
}