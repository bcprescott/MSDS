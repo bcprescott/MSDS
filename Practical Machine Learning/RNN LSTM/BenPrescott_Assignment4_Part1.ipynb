{
 "cells": [
  {
   "cell_type": "markdown",
   "metadata": {},
   "source": [
    "<h1 align='center'>Ben Prescott - Assignment 4 Part 1</h1>"
   ]
  },
  {
   "cell_type": "markdown",
   "metadata": {},
   "source": [
    "The activities in this notebook focus on implementing an autoencoder to generate word embeddings. The autoencoder hyperparameters will be tweaked to achieve the best performance, then used to create the embeddings for the XTrain, XVal and XTest data. "
   ]
  },
  {
   "cell_type": "code",
   "execution_count": 3,
   "metadata": {},
   "outputs": [],
   "source": [
    "#Creating an interactive shell so that every output is visible, not just the last\n",
    "from IPython.core.interactiveshell import InteractiveShell\n",
    "InteractiveShell.ast_node_interactivity = \"all\""
   ]
  },
  {
   "cell_type": "markdown",
   "metadata": {},
   "source": [
    "## Importing Required Libraries"
   ]
  },
  {
   "cell_type": "code",
   "execution_count": 38,
   "metadata": {},
   "outputs": [
    {
     "name": "stdout",
     "output_type": "stream",
     "text": [
      "The tensorboard extension is already loaded. To reload it, use:\n",
      "  %reload_ext tensorboard\n"
     ]
    }
   ],
   "source": [
    "import gc\n",
    "import numpy as np\n",
    "import tensorboard #including TensorBoard just for my own sake of visualization\n",
    "import tensorflow as tf\n",
    "from tensorflow.keras.backend import clear_session\n",
    "from tensorflow.keras.callbacks import EarlyStopping, TensorBoard\n",
    "from tensorflow.keras import Input, Model\n",
    "from tensorflow.keras.layers import Embedding, Bidirectional, LSTM, RepeatVector, Dense, LeakyReLU\n",
    "from tensorflow.keras.optimizers import Nadam\n",
    "from tensorflow.keras.regularizers import l2\n",
    "from pickleshare import PickleShareDB\n",
    "from plot_keras_history import plot_history \n",
    "%load_ext tensorboard"
   ]
  },
  {
   "cell_type": "code",
   "execution_count": 5,
   "metadata": {},
   "outputs": [],
   "source": [
    "#Defining the root directory for easier use late\n",
    "root = 'C:/Users/bprescott/Documents/assignment-4/'    "
   ]
  },
  {
   "cell_type": "markdown",
   "metadata": {},
   "source": [
    "## Loading \"X Data\" From Part 0 "
   ]
  },
  {
   "cell_type": "code",
   "execution_count": 6,
   "metadata": {},
   "outputs": [
    {
     "data": {
      "text/plain": [
       "['emMat10000X100',\n",
       " 'wordIndx',\n",
       " 'XTest',\n",
       " 'XTestEm',\n",
       " 'XTrain',\n",
       " 'XTrainEm',\n",
       " 'XVal',\n",
       " 'XValEm',\n",
       " 'yTest',\n",
       " 'yTrain',\n",
       " 'yVal']"
      ]
     },
     "execution_count": 6,
     "metadata": {},
     "output_type": "execute_result"
    }
   ],
   "source": [
    "db=PickleShareDB(root+'assign4.pshare')   #Defining the directory for my pickle databases\n",
    "db.keys() #Grabbing the available ones in the folder"
   ]
  },
  {
   "cell_type": "code",
   "execution_count": 50,
   "metadata": {},
   "outputs": [
    {
     "data": {
      "text/plain": [
       "(2000, 80)"
      ]
     },
     "execution_count": 50,
     "metadata": {},
     "output_type": "execute_result"
    },
    {
     "data": {
      "text/plain": [
       "(6000, 80)"
      ]
     },
     "execution_count": 50,
     "metadata": {},
     "output_type": "execute_result"
    },
    {
     "data": {
      "text/plain": [
       "(6000, 80)"
      ]
     },
     "execution_count": 50,
     "metadata": {},
     "output_type": "execute_result"
    }
   ],
   "source": [
    "#Assigning the pickled files to active Python objects & reviewing shape\n",
    "XTrain=db['XTrain']\n",
    "XVal=db['XVal']\n",
    "XTest=db['XTest']\n",
    "XTrain.shape\n",
    "XVal.shape\n",
    "XTest.shape"
   ]
  },
  {
   "cell_type": "markdown",
   "metadata": {},
   "source": [
    "## Building The Autoencoder Model"
   ]
  },
  {
   "cell_type": "markdown",
   "metadata": {},
   "source": [
    "In this section I'll be building the autoencoder model using the Keras Functional API. The functional API allows us to be a bit more \"fluid\" in defining how the layers connect to others, in comparison to operating in order using the Sequential API. "
   ]
  },
  {
   "cell_type": "code",
   "execution_count": 8,
   "metadata": {},
   "outputs": [],
   "source": [
    "#Keeping standard hyperparameter values\n",
    "maxLen=80 #Max character length of a review\n",
    "maxWords=10000 #Max number of words\n",
    "batch_size=32 #Batches from the training data. \"chunks\"\n",
    "emDim=100 #Dimensions of the word embeddings. 100 in this case"
   ]
  },
  {
   "cell_type": "code",
   "execution_count": 63,
   "metadata": {},
   "outputs": [
    {
     "data": {
      "text/plain": [
       "4774"
      ]
     },
     "execution_count": 63,
     "metadata": {},
     "output_type": "execute_result"
    }
   ],
   "source": [
    "clear_session() #clearing all previous model information\n",
    "gc.collect() #freeing up memory"
   ]
  },
  {
   "cell_type": "markdown",
   "metadata": {},
   "source": [
    "The following section is defining the encoder and decoder portions of the autoencoder. As mentioned earlier, this method is using the Functional API, which is why it isn't as clean as a sequential \"stacked\" model. However, this provides more flexibility for model connections. "
   ]
  },
  {
   "cell_type": "markdown",
   "metadata": {},
   "source": [
    "#### Creating The Encoder Model"
   ]
  },
  {
   "cell_type": "code",
   "execution_count": 64,
   "metadata": {},
   "outputs": [],
   "source": [
    "#Creating the input with shape of (None,80)\n",
    "inputPadded=Input(shape=(maxLen,))\n",
    "#creating the Embedding layer object using the earlier defined hyperparameters \n",
    "embedLayer=Embedding(maxWords,output_dim=emDim,input_length=maxLen) \n",
    "#creating the 3D tensor with shape (none,80,100)\n",
    "x = embedLayer(inputPadded)\n",
    "#Creating the a bidirectional LSTM layer with an output dimension of 32\n",
    "#Also adding L2 regularization to aid in avoiding overfitting\n",
    "#Adding the embedding layer as an input\n",
    "state_hidden1=Bidirectional(LSTM(32, kernel_regularizer=l2(0.01)))(x)\n",
    "#Creating a single LeakyReLU layer to replace the dense ReLU layer\n",
    "#Helping to avoid exploding gradients, which was noticed with ReLU\n",
    "#Connecting the LSTM layer as input\n",
    "state_hidden2=LeakyReLU(alpha=0.2)(state_hidden1)\n",
    "#Grouping the input and output layers to define the encoder\n",
    "encodeM=Model(inputs=inputPadded,outputs=state_hidden2)\n",
    "#Adding the encoder with input as the intended decoder output\n",
    "decoderOut=encodeM(inputPadded)"
   ]
  },
  {
   "cell_type": "code",
   "execution_count": 75,
   "metadata": {},
   "outputs": [
    {
     "name": "stdout",
     "output_type": "stream",
     "text": [
      "Model: \"model\"\n",
      "_________________________________________________________________\n",
      "Layer (type)                 Output Shape              Param #   \n",
      "=================================================================\n",
      "input_1 (InputLayer)         [(None, 80)]              0         \n",
      "_________________________________________________________________\n",
      "embedding (Embedding)        (None, 80, 100)           1000000   \n",
      "_________________________________________________________________\n",
      "bidirectional (Bidirectional (None, 64)                34048     \n",
      "_________________________________________________________________\n",
      "leaky_re_lu (LeakyReLU)      (None, 64)                0         \n",
      "=================================================================\n",
      "Total params: 1,034,048\n",
      "Trainable params: 1,034,048\n",
      "Non-trainable params: 0\n",
      "_________________________________________________________________\n"
     ]
    }
   ],
   "source": [
    "#Viewing the encoder model\n",
    "encodeM.summary()"
   ]
  },
  {
   "cell_type": "markdown",
   "metadata": {},
   "source": [
    "#### Creating The Decoder Model"
   ]
  },
  {
   "cell_type": "code",
   "execution_count": 65,
   "metadata": {},
   "outputs": [],
   "source": [
    "#Creating a RepeatVector layer that will repeat the input 80 times. Example: (None, 80, 64)\n",
    "decoded=RepeatVector(maxLen)(decoderOut)\n",
    "#Creating a bidirectional LSTM layer, returning the sequences, not just the last output\n",
    "#Also including L2 regularization\n",
    "dec_lstm=Bidirectional(LSTM(32,return_sequences=True,kernel_regularizer=l2(0.01)))\n",
    "#Adding the 'decoded' 3D tensor to the bidirectional LSTM layer to create a new 3D tensor\n",
    "decoded_lstm_output=dec_lstm(decoded)\n",
    "#creating a fully connected Dense layer with softmax activation to provide probabilities\n",
    "dec_dense=Dense(maxWords,activation='softmax')\n",
    "#adding the 3D tensor to the Dense layer\n",
    "decoder_outputs=dec_dense(decoded_lstm_output)"
   ]
  },
  {
   "cell_type": "code",
   "execution_count": 66,
   "metadata": {},
   "outputs": [],
   "source": [
    "#Creating the autoencoder using the encoder inputs through decoder outputs\n",
    "autoEnc_Model=Model(inputPadded,decoder_outputs)"
   ]
  },
  {
   "cell_type": "code",
   "execution_count": 67,
   "metadata": {},
   "outputs": [
    {
     "name": "stdout",
     "output_type": "stream",
     "text": [
      "Model: \"model_1\"\n",
      "_________________________________________________________________\n",
      "Layer (type)                 Output Shape              Param #   \n",
      "=================================================================\n",
      "input_1 (InputLayer)         [(None, 80)]              0         \n",
      "_________________________________________________________________\n",
      "model (Functional)           (None, 64)                1034048   \n",
      "_________________________________________________________________\n",
      "repeat_vector (RepeatVector) (None, 80, 64)            0         \n",
      "_________________________________________________________________\n",
      "bidirectional_1 (Bidirection (None, 80, 64)            24832     \n",
      "_________________________________________________________________\n",
      "dense (Dense)                (None, 80, 10000)         650000    \n",
      "=================================================================\n",
      "Total params: 1,708,880\n",
      "Trainable params: 1,708,880\n",
      "Non-trainable params: 0\n",
      "_________________________________________________________________\n"
     ]
    }
   ],
   "source": [
    "#Viewing the architecture of the autoencoder\n",
    "autoEnc_Model.summary()"
   ]
  },
  {
   "cell_type": "markdown",
   "metadata": {},
   "source": [
    "## Training The Autoencoder"
   ]
  },
  {
   "cell_type": "markdown",
   "metadata": {},
   "source": [
    "Now that the autoencoder architecture is defined I'll compile the model using the Nadam optimizer, a learning rate of 0.0001, and computing sparse_categorial_crossentropy loss. I'm also including callbacks to include logging for TensorBoard, as I am using TensorBoard to visualize the model. "
   ]
  },
  {
   "cell_type": "code",
   "execution_count": 68,
   "metadata": {},
   "outputs": [],
   "source": [
    "#Compiling the model w/ Nadam algorithm and initial learning rate of 0.0001\n",
    "autoEnc_Model.compile(optimizer=Nadam(lr=0.0001),\n",
    "                      loss='sparse_categorical_crossentropy'\n",
    "                     )"
   ]
  },
  {
   "cell_type": "code",
   "execution_count": 69,
   "metadata": {},
   "outputs": [],
   "source": [
    "#Creating some callbacks for use in the model training\n",
    "callback=EarlyStopping(monitor='val_loss',patience=2) #stop if no change in loss over two epochs\n",
    "logdir=\"C:/Users/bprescott/Documents/logs\" + 'model2' #directory to store TensorBoard logs\n",
    "tensorboard_callback = TensorBoard(log_dir=logdir) #Used to save TensorBoard logs"
   ]
  },
  {
   "cell_type": "markdown",
   "metadata": {},
   "source": [
    "Training the model showed what looked to be pretty good results. Test loss remained lower than training loss due to the regularization not being applied to the test/validation data, only training. I'll stick with 30 epochs and a batch size of 32, but training may stop earlier if no additional improvement in validation loss is found. "
   ]
  },
  {
   "cell_type": "code",
   "execution_count": 70,
   "metadata": {},
   "outputs": [],
   "source": [
    "#Training the autoencoder\n",
    "history=autoEnc_Model.fit(XTrain,np.expand_dims(XTrain,-1),\n",
    "                         batch_size=batch_size,\n",
    "                         epochs=30,\n",
    "                         validation_data=(XVal,XVal),\n",
    "                         verbose=0,\n",
    "                         callbacks=[callback, tensorboard_callback])"
   ]
  },
  {
   "cell_type": "markdown",
   "metadata": {},
   "source": [
    "Using the `plot_history` function we can see the `EarlyStopping` callback stopped the model shy of the 30th epoch, as no additional improvement in validation loss was found. The best validation loss obtained is 6.6 and 6.5 for training loss. "
   ]
  },
  {
   "cell_type": "code",
   "execution_count": 71,
   "metadata": {},
   "outputs": [
    {
     "data": {
      "image/png": "[encoded data removed]",
      "text/plain": [
       "<Figure size 360x360 with 1 Axes>"
      ]
     },
     "metadata": {
      "needs_background": "light"
     },
     "output_type": "display_data"
    }
   ],
   "source": [
    "plot_history(history.history)"
   ]
  },
  {
   "cell_type": "markdown",
   "metadata": {},
   "source": [
    "## Embedding Vector Generation"
   ]
  },
  {
   "cell_type": "markdown",
   "metadata": {},
   "source": [
    "Now that I have a model that seems to have acceptable performance, I'll generate my X training embeddings using my trained autoencoder. "
   ]
  },
  {
   "cell_type": "code",
   "execution_count": 158,
   "metadata": {},
   "outputs": [],
   "source": [
    "#Predicting the XTrain embeddings\n",
    "XTrainEm = encodeM.predict(XTrain)"
   ]
  },
  {
   "cell_type": "code",
   "execution_count": 164,
   "metadata": {},
   "outputs": [
    {
     "name": "stdout",
     "output_type": "stream",
     "text": [
      "Embedded train shape: (2000, 64)\n"
     ]
    }
   ],
   "source": [
    "#Reviewing the shape of the XTrain embeddings\n",
    "print('Embedded train shape:',XTrainEm.shape)"
   ]
  },
  {
   "cell_type": "markdown",
   "metadata": {},
   "source": [
    "## Generating Vectors for Validation and Test Data"
   ]
  },
  {
   "cell_type": "markdown",
   "metadata": {},
   "source": [
    "I'll also be generating the embeddings for the X validation and X test data."
   ]
  },
  {
   "cell_type": "code",
   "execution_count": 162,
   "metadata": {},
   "outputs": [],
   "source": [
    "#Predicting the embeddings for XVal and XTest\n",
    "XValEm = encodeM.predict(XVal)\n",
    "XTestEm = encodeM.predict(XTest)"
   ]
  },
  {
   "cell_type": "code",
   "execution_count": 163,
   "metadata": {},
   "outputs": [
    {
     "name": "stdout",
     "output_type": "stream",
     "text": [
      "Embedded validation shape: (6000, 64)\n",
      "Embedded test shape: (6000, 64)\n"
     ]
    }
   ],
   "source": [
    "#Reviewing shape\n",
    "print('Embedded validation shape:',XValEm.shape)\n",
    "print('Embedded test shape:',XTestEm.shape)"
   ]
  },
  {
   "cell_type": "markdown",
   "metadata": {},
   "source": [
    "## Saving Embedded Data"
   ]
  },
  {
   "cell_type": "markdown",
   "metadata": {},
   "source": [
    "Now that I have my embeddings I'll be saving them as pickled files to import into the next part of the assignment. "
   ]
  },
  {
   "cell_type": "code",
   "execution_count": 166,
   "metadata": {},
   "outputs": [
    {
     "data": {
      "text/plain": [
       "['wordIndx', 'XTest', 'XTrain', 'XVal', 'yTest', 'yTrain', 'yVal']"
      ]
     },
     "execution_count": 166,
     "metadata": {},
     "output_type": "execute_result"
    }
   ],
   "source": [
    "#Reassigning the location for the saved files  \n",
    "db4 = PickleShareDB(root+'/assign4.pshare')"
   ]
  },
  {
   "cell_type": "code",
   "execution_count": 167,
   "metadata": {},
   "outputs": [],
   "source": [
    "#Saving the X data embeddings as files.\n",
    "db4['XTrainEm']=XTrainEm\n",
    "db4['XValEm']=XValEm\n",
    "db4['XTestEm']=XTestEm"
   ]
  }
 ],
 "metadata": {
  "kernelspec": {
   "display_name": "Python 3",
   "language": "python",
   "name": "python3"
  },
  "language_info": {
   "codemirror_mode": {
    "name": "ipython",
    "version": 3
   },
   "file_extension": ".py",
   "mimetype": "text/x-python",
   "name": "python",
   "nbconvert_exporter": "python",
   "pygments_lexer": "ipython3",
   "version": "3.7.9"
  }
 },
 "nbformat": 4,
 "nbformat_minor": 4
}
