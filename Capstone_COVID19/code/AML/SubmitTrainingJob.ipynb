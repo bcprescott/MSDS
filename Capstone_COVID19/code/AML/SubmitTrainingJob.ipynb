{
  "cells": [
    {
      "cell_type": "markdown",
      "source": [
        "# Submit Training Jobs to Azure ML Compute Cluster"
      ],
      "metadata": {
        "nteract": {
          "transient": {
            "deleting": false
          }
        }
      }
    },
    {
      "cell_type": "markdown",
      "source": [
        "## Load Libraries"
      ],
      "metadata": {
        "nteract": {
          "transient": {
            "deleting": false
          }
        }
      }
    },
    {
      "cell_type": "code",
      "source": [
        "# Libraries are only necessary for what you see in this notebook\r\n",
        "# The Azure ML Environment in the configuration later defines libraries needed for training\r\n",
        "import azureml.core\r\n",
        "from azureml.core import Workspace, Experiment, Environment\r\n",
        "from azureml.core.conda_dependencies import CondaDependencies\r\n",
        "from azureml.core.compute import ComputeTarget, AmlCompute\r\n",
        "from azureml.core import ScriptRunConfig\r\n",
        "from azureml.core.model import Model\r\n",
        "import os "
      ],
      "outputs": [],
      "execution_count": 2,
      "metadata": {
        "collapsed": false,
        "gather": {
          "logged": 1638904702695
        },
        "jupyter": {
          "outputs_hidden": false,
          "source_hidden": false
        },
        "nteract": {
          "transient": {
            "deleting": false
          }
        }
      }
    },
    {
      "cell_type": "markdown",
      "source": [
        "## Define Training Functions "
      ],
      "metadata": {
        "nteract": {
          "transient": {
            "deleting": false
          }
        }
      }
    },
    {
      "cell_type": "code",
      "source": [
        "# Loads the current Azure ML Workspace configurations\r\n",
        "def load_workspace():\r\n",
        "    ws = Workspace.from_config()\r\n",
        "    print(ws.name, ws.location, ws.resource_group, ws.location, sep='\\t')\r\n",
        "    return ws\r\n",
        "\r\n",
        "# Sets the model's architecture parameters\r\n",
        "def model_params(name, filters, densenodes):\r\n",
        "    name = name\r\n",
        "    filters = filters\r\n",
        "    densenodes = densenodes\r\n",
        "    modelname = \"{}-{}-{}\".format(name,filters,densenodes)\r\n",
        "    return filters, densenodes, modelname   \r\n",
        "\r\n",
        "# Sets the computer cluster's training environment configuration\r\n",
        "def environment_params(ws, exp_name, cluster_name, env_name, script_directory, script, filters, densenodes, modelname):\r\n",
        "    exp = Experiment(workspace=ws, name=exp_name)\r\n",
        "    gpu_cluster = ComputeTarget(workspace=ws, name=cluster_name)\r\n",
        "    env = Environment(env_name)\r\n",
        "    cd = CondaDependencies.create(\r\n",
        "                                    pip_packages=['azureml-dataset-runtime[pandas,fuse]', \r\n",
        "                                                  'azureml-defaults', \r\n",
        "                                                  'packaging', \r\n",
        "                                                  'tensorflow',\r\n",
        "                                                  'matplotlib',\r\n",
        "                                                  'numpy',\r\n",
        "                                                  'pandas',\r\n",
        "                                                  'seaborn',\r\n",
        "                                                  'scikit-learn',\r\n",
        "                                                  'argparse',\r\n",
        "                                                  'azureml-core'], \r\n",
        "\r\n",
        "                                    conda_packages=['scikit-learn==0.22.1']\r\n",
        "                                )\r\n",
        "    env.python.conda_dependencies = cd\r\n",
        "    env.register(workspace=ws)\r\n",
        "    config = ScriptRunConfig(\r\n",
        "                                source_directory=script_directory,\r\n",
        "                                script=script,\r\n",
        "                                arguments = ['--filters',filters,\r\n",
        "                                             '--densenodes',densenodes,\r\n",
        "                                             '--modelname',modelname],\r\n",
        "                                compute_target=gpu_cluster.name,\r\n",
        "                                environment=env\r\n",
        "                            )\r\n",
        "    return exp, config\r\n",
        "\r\n",
        "# Submits model configuration to computer cluster for training. Monitors run.\r\n",
        "def train_model(experiment, configvariable, modelname):\r\n",
        "    config = configvariable\r\n",
        "    run = exp.submit(config)\r\n",
        "    print(run.get_portal_url())\r\n",
        "    run.wait_for_completion(show_output=True)\r\n",
        "    run.register_model(model_name=modelname, \r\n",
        "                       model_path='outputs/{}.h5'.format(modelname),\r\n",
        "                       model_framework=Model.Framework.TENSORFLOW,\r\n",
        "                       model_framework_version='2.0')\r\n",
        "    return \r\n"
      ],
      "outputs": [],
      "execution_count": 21,
      "metadata": {
        "collapsed": false,
        "gather": {
          "logged": 1638906741298
        },
        "jupyter": {
          "outputs_hidden": false,
          "source_hidden": false
        },
        "nteract": {
          "transient": {
            "deleting": false
          }
        }
      }
    },
    {
      "cell_type": "markdown",
      "source": [
        "## Define Parameters and Submit Training Run"
      ],
      "metadata": {
        "nteract": {
          "transient": {
            "deleting": false
          }
        }
      }
    },
    {
      "cell_type": "code",
      "source": [
        "# Load the Azure ML Workspace settings\r\n",
        "ws = load_workspace()\r\n",
        "\r\n",
        "# Prompt for model architecture hyperparameters\r\n",
        "mname = input(\"Enter a model name:\")\r\n",
        "fcount, dcount = int(input('How many convolutional filters?')), int(input(\"How many dense layer nodes?\")) \r\n",
        "exp_name, cluster_name, env_name, script_directory, script = (input(\"Enter an Experiment name:\"), \r\n",
        "                                                              input(\"Enter the Compute Cluster's name:\"),\r\n",
        "                                                              input(\"Enter the Azure ML Environment's name:\"),\r\n",
        "                                                              input(\"Enter the Compute Instance's script directory:\"),\r\n",
        "                                                              input(\"Enter the training script name with .py extension:\"))\r\n",
        "\r\n",
        "\r\n",
        "# Set the convolutional filter count, fully connected (dense) layer node count, and the name you want for the model\r\n",
        "filters, densenodes, modelname = model_params(name = mname, filters = fcount, densenodes = dcount)\r\n",
        "\r\n",
        "# Set a config variables for the Azure ML training run \r\n",
        "exp, config = environment_params(ws = ws,                        # AML Workspace\r\n",
        "                      exp_name = exp_name,                  # Azure ML Experiment name to log metrics into\r\n",
        "                      cluster_name = cluster_name,          # Azure ML Compute Cluster's name\r\n",
        "                      env_name = env_name,                  # Which Azure ML Environment set to use during training\r\n",
        "                      script_directory = script_directory,  # Directory in Azure ML Compute Instance where training script lives\r\n",
        "                      script = script,                      # Main training script with convolutional network architecture\r\n",
        "                      filters = filters,                    # Convolutional filter count from model_params\r\n",
        "                      densenodes = densenodes,              # Dense (FC) node count from model_params \r\n",
        "                      modelname = modelname )               # Future model's name after training from model_params\r\n",
        "\r\n",
        "# Submit the training run experiment and configuration to the compute cluster for training and model saving\r\n",
        "train_model(exp, config, modelname)\r\n"
      ],
      "outputs": [],
      "execution_count": null,
      "metadata": {
        "collapsed": false,
        "gather": {
          "logged": 1638907631662
        },
        "jupyter": {
          "outputs_hidden": false,
          "source_hidden": false
        },
        "nteract": {
          "transient": {
            "deleting": false
          }
        }
      }
    }
  ],
  "metadata": {
    "kernel_info": {
      "name": "python3-azureml"
    },
    "kernelspec": {
      "name": "python3-azureml",
      "language": "python",
      "display_name": "Python 3.6 - AzureML"
    },
    "language_info": {
      "name": "python",
      "version": "3.6.9",
      "mimetype": "text/x-python",
      "codemirror_mode": {
        "name": "ipython",
        "version": 3
      },
      "pygments_lexer": "ipython3",
      "nbconvert_exporter": "python",
      "file_extension": ".py"
    },
    "microsoft": {
      "host": {
        "AzureML": {
          "notebookHasBeenCompleted": true
        }
      }
    },
    "nteract": {
      "version": "nteract-front-end@1.0.0"
    }
  },
  "nbformat": 4,
  "nbformat_minor": 4
}